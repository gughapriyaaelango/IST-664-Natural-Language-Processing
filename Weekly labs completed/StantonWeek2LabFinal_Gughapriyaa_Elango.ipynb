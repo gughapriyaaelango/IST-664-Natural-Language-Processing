{
  "nbformat": 4,
  "nbformat_minor": 0,
  "metadata": {
    "kernelspec": {
      "display_name": "Python 3",
      "language": "python",
      "name": "python3"
    },
    "language_info": {
      "codemirror_mode": {
        "name": "ipython",
        "version": 3
      },
      "file_extension": ".py",
      "mimetype": "text/x-python",
      "name": "python",
      "nbconvert_exporter": "python",
      "pygments_lexer": "ipython3",
      "version": "3.6.3"
    },
    "colab": {
      "provenance": []
    }
  },
  "cells": [
    {
      "cell_type": "markdown",
      "metadata": {
        "id": "nS9PgCum8rto"
      },
      "source": [
        "**IST664 - Lab for Week 2 - Morphology, Tokenization, Stemming, Corpus Linguistics**\n",
        "\n",
        "In today’s class we examined the next level up from phonology: morphology, AKA the structure of words. NLP processes use morphology to assist with tokenization, stemming, lemmatization, and part of speech tagging. \n",
        "\n",
        "Corpus linguistics pertains to describing overviews of tokens derived from a corpus. As a reminder, a corpus (plural: corpora) is simply a  body of text. Corpus-linguistic analyses are often based on the evaluation of word occurrence frequencies within a corpus or across corpora. Conducting corpus-linguistic analyses usually begins with pre-processing and tokenizing the texts. \n",
        "\n",
        "In this lab session, we will use NLTK to do some of these tasks. Similarly to last week, we will use some text from Project Gutenberg texts. This time, however, we are going to work with \"raw\" text rather than the pre-processed data structures that NLTK also provides, so that we can do some more detailed work. In particular, we are going to make our own token lists, filter them, and use some tools that calculate ocurrence frequencies. Note that documentation on how to create and manipulate corpora appears in this chapter of the NLTK book: http://www.nltk.org/book/ch02.html "
      ]
    },
    {
      "cell_type": "markdown",
      "source": [
        "###Part 1 - Tokenization Tricks from NLPIA\n",
        "In Chapter 2, NLPIA begins to dig into the details of how tokenization allows us to create data representations of documents that can be used for downstream analysis. In the following code, make sure to pay attention to the data structures used to represent sentences."
      ],
      "metadata": {
        "id": "CPYnPkStoKYq"
      }
    },
    {
      "cell_type": "code",
      "source": [
        "# Here's a reminder of some tokenization code from NLPIA:\n",
        "sentence = \"\"\"Thomas Jefferson began building Monticello at the \n",
        "age of 26.\"\"\"\n",
        "\n",
        "sentence.split()"
      ],
      "metadata": {
        "id": "oW6TxV0MUw2Q",
        "colab": {
          "base_uri": "https://localhost:8080/"
        },
        "outputId": "a42318ef-7514-4d5b-9528-77ce985623aa"
      },
      "execution_count": 1,
      "outputs": [
        {
          "output_type": "execute_result",
          "data": {
            "text/plain": [
              "['Thomas',\n",
              " 'Jefferson',\n",
              " 'began',\n",
              " 'building',\n",
              " 'Monticello',\n",
              " 'at',\n",
              " 'the',\n",
              " 'age',\n",
              " 'of',\n",
              " '26.']"
            ]
          },
          "metadata": {},
          "execution_count": 1
        }
      ]
    },
    {
      "cell_type": "code",
      "source": [
        "# split() is a bound method for any Python string and it defaults to splitting\n",
        "# on spaces. This is an equivalent function call:\n",
        "str.split(sentence)"
      ],
      "metadata": {
        "id": "i2e3pHQFVDqb",
        "colab": {
          "base_uri": "https://localhost:8080/"
        },
        "outputId": "b26c31ac-f8a6-42c5-de9b-ddaf34d34539"
      },
      "execution_count": 2,
      "outputs": [
        {
          "output_type": "execute_result",
          "data": {
            "text/plain": [
              "['Thomas',\n",
              " 'Jefferson',\n",
              " 'began',\n",
              " 'building',\n",
              " 'Monticello',\n",
              " 'at',\n",
              " 'the',\n",
              " 'age',\n",
              " 'of',\n",
              " '26.']"
            ]
          },
          "metadata": {},
          "execution_count": 2
        }
      ]
    },
    {
      "cell_type": "code",
      "source": [
        "# Now let's start to build an array of \"one hot encoded\" tokens. One hot encoding\n",
        "# will become very important later in the course.\n",
        "import numpy as np\n",
        "token_sequence = str.split(sentence) # Split at spaces, save the result\n",
        "vocab = sorted(set(token_sequence)) # Get a sorted list of the unique tokens\n",
        "', '.join(vocab) # Show them as a comma-separated sequence"
      ],
      "metadata": {
        "id": "rBhWaVcaVW6T",
        "colab": {
          "base_uri": "https://localhost:8080/",
          "height": 35
        },
        "outputId": "6a5478e4-1f6b-4341-f333-296c195b88e1"
      },
      "execution_count": 3,
      "outputs": [
        {
          "output_type": "execute_result",
          "data": {
            "text/plain": [
              "'26., Jefferson, Monticello, Thomas, age, at, began, building, of, the'"
            ],
            "application/vnd.google.colaboratory.intrinsic+json": {
              "type": "string"
            }
          },
          "metadata": {},
          "execution_count": 3
        }
      ]
    },
    {
      "cell_type": "code",
      "source": [
        "num_tokens = len(token_sequence) # Count the total number of tokens\n",
        "vocab_size = len(vocab) # And the size of the vocabulary\n",
        "onehot_vectors = np.zeros((num_tokens, vocab_size), int) # Fill an array with zeroes\n",
        "\n",
        "# Now build a list of num_tokens vectors, where just a single value of 1 is \n",
        "# filled in for each one. Note: enumerate() is a powerful Python construct that \n",
        "# steps through the elements of an object, returning an index and the corresponding \n",
        "# element. The index can be helpful for manipulating other data structures.\n",
        "for i, word in enumerate(token_sequence):\n",
        "  onehot_vectors[i, vocab.index(word)] = 1\n",
        "\n",
        "onehot_vectors # Show the results"
      ],
      "metadata": {
        "id": "Zio8MCvXVm2c",
        "colab": {
          "base_uri": "https://localhost:8080/"
        },
        "outputId": "30e4cbcc-da65-4d87-c0d8-078a28869b08"
      },
      "execution_count": 4,
      "outputs": [
        {
          "output_type": "execute_result",
          "data": {
            "text/plain": [
              "array([[0, 0, 0, 1, 0, 0, 0, 0, 0, 0],\n",
              "       [0, 1, 0, 0, 0, 0, 0, 0, 0, 0],\n",
              "       [0, 0, 0, 0, 0, 0, 1, 0, 0, 0],\n",
              "       [0, 0, 0, 0, 0, 0, 0, 1, 0, 0],\n",
              "       [0, 0, 1, 0, 0, 0, 0, 0, 0, 0],\n",
              "       [0, 0, 0, 0, 0, 1, 0, 0, 0, 0],\n",
              "       [0, 0, 0, 0, 0, 0, 0, 0, 0, 1],\n",
              "       [0, 0, 0, 0, 1, 0, 0, 0, 0, 0],\n",
              "       [0, 0, 0, 0, 0, 0, 0, 0, 1, 0],\n",
              "       [1, 0, 0, 0, 0, 0, 0, 0, 0, 0]])"
            ]
          },
          "metadata": {},
          "execution_count": 4
        }
      ]
    },
    {
      "cell_type": "markdown",
      "source": [
        "Note how a \"one hot\" vector lives up to its name. In each row of this matrix, there is one and only one entry that is set to one. In this matrix, each column therefore represents one type of token - i.e., one element of our vocabulary (in alphabetical order as it turns out). The rows in the case indicate the individual entries in this particular sentence. The displays below present the same data but with some better labeling and in the second display a suppresion of displaying the zeroes."
      ],
      "metadata": {
        "id": "VVlJlM8d0wru"
      }
    },
    {
      "cell_type": "code",
      "source": [
        "# Finally, stick the result in a Pandas dataframe\n",
        "import pandas as pd\n",
        "df1 = pd.DataFrame(onehot_vectors, columns=vocab) # Create the dataframe\n",
        "df2 = df1.copy() # Make a copy\n",
        "df2[df2 == 0] = '' # Fill in with blanks to show the idea of a sparse matrix\n",
        "print(df1) # This is the full version with zeroes\n",
        "print(df2) # This is the sparse version with blanks"
      ],
      "metadata": {
        "id": "bYgDycbWW8HH",
        "colab": {
          "base_uri": "https://localhost:8080/"
        },
        "outputId": "b3f0dfb5-fb70-4785-efe6-acb48b431f01"
      },
      "execution_count": 5,
      "outputs": [
        {
          "output_type": "stream",
          "name": "stdout",
          "text": [
            "   26.  Jefferson  Monticello  Thomas  age  at  began  building  of  the\n",
            "0    0          0           0       1    0   0      0         0   0    0\n",
            "1    0          1           0       0    0   0      0         0   0    0\n",
            "2    0          0           0       0    0   0      1         0   0    0\n",
            "3    0          0           0       0    0   0      0         1   0    0\n",
            "4    0          0           1       0    0   0      0         0   0    0\n",
            "5    0          0           0       0    0   1      0         0   0    0\n",
            "6    0          0           0       0    0   0      0         0   0    1\n",
            "7    0          0           0       0    1   0      0         0   0    0\n",
            "8    0          0           0       0    0   0      0         0   1    0\n",
            "9    1          0           0       0    0   0      0         0   0    0\n",
            "  26. Jefferson Monticello Thomas age at began building of the\n",
            "0                               1                             \n",
            "1             1                                               \n",
            "2                                            1                \n",
            "3                                                     1       \n",
            "4                        1                                    \n",
            "5                                      1                      \n",
            "6                                                            1\n",
            "7                                   1                         \n",
            "8                                                        1    \n",
            "9   1                                                         \n"
          ]
        }
      ]
    },
    {
      "cell_type": "markdown",
      "source": [
        "Notice in the displays above how the original word order is represented in the data structure. For example, the first row (row 0) has a \"1\" in the Thomas column, because Thomas was the first token in the original string."
      ],
      "metadata": {
        "id": "UUQRN-ctnZMr"
      }
    },
    {
      "cell_type": "code",
      "source": [
        "# Next we will extend the idea of one hot encoding so that we can represent \n",
        "# the tokens that appear in multiple sentences. Here we treat each sentence as\n",
        "# a document.\n",
        "#\n",
        "# Let's make a list of two sentences:\n",
        "sentences = \"\"\"Thomas Jefferson began building Monticello at the age of 26.\\n\"\"\"\n",
        "sentences += \"\"\"Local masons and carpenters began constructing the building.\"\"\"\n",
        "\n",
        "# This time we will construct a term document matrix using the tokens from\n",
        "# both sentences. We will use a Python dictionary to help with this process.\n",
        "corpus = {} # Start an empty dictionary\n",
        "for i, sent in enumerate(sentences.split('\\n')): \n",
        "  corpus['sent{}'.format(i)] = dict((tok, 1) for tok in sent.split())\n",
        "\n",
        "corpus"
      ],
      "metadata": {
        "id": "_BUqoDiZYcWE",
        "colab": {
          "base_uri": "https://localhost:8080/"
        },
        "outputId": "b9e95cc3-e605-4b0d-906e-e0d6822cdc3d"
      },
      "execution_count": 6,
      "outputs": [
        {
          "output_type": "execute_result",
          "data": {
            "text/plain": [
              "{'sent0': {'Thomas': 1,\n",
              "  'Jefferson': 1,\n",
              "  'began': 1,\n",
              "  'building': 1,\n",
              "  'Monticello': 1,\n",
              "  'at': 1,\n",
              "  'the': 1,\n",
              "  'age': 1,\n",
              "  'of': 1,\n",
              "  '26.': 1},\n",
              " 'sent1': {'Local': 1,\n",
              "  'masons': 1,\n",
              "  'and': 1,\n",
              "  'carpenters': 1,\n",
              "  'began': 1,\n",
              "  'constructing': 1,\n",
              "  'the': 1,\n",
              "  'building.': 1}}"
            ]
          },
          "metadata": {},
          "execution_count": 6
        }
      ]
    },
    {
      "cell_type": "code",
      "source": [
        "# Next we can create a pandas data frame from the dict\n",
        "df3 = pd.DataFrame.from_records(corpus).fillna(0).astype(int).T\n",
        "\n",
        "df3"
      ],
      "metadata": {
        "id": "twhIBzUzbJmS",
        "colab": {
          "base_uri": "https://localhost:8080/",
          "height": 112
        },
        "outputId": "a3fd886d-fe41-46df-bea8-08841c89a9f9"
      },
      "execution_count": 7,
      "outputs": [
        {
          "output_type": "execute_result",
          "data": {
            "text/plain": [
              "       Thomas  Jefferson  began  building  Monticello  at  the  age  of  26.  \\\n",
              "sent0       1          1      1         1           1   1    1    1   1    1   \n",
              "sent1       0          0      1         0           0   0    1    0   0    0   \n",
              "\n",
              "       Local  masons  and  carpenters  constructing  building.  \n",
              "sent0      0       0    0           0             0          0  \n",
              "sent1      1       1    1           1             1          1  "
            ],
            "text/html": [
              "\n",
              "  <div id=\"df-bb37c5c6-45a7-4fca-acc9-e134143bbad6\">\n",
              "    <div class=\"colab-df-container\">\n",
              "      <div>\n",
              "<style scoped>\n",
              "    .dataframe tbody tr th:only-of-type {\n",
              "        vertical-align: middle;\n",
              "    }\n",
              "\n",
              "    .dataframe tbody tr th {\n",
              "        vertical-align: top;\n",
              "    }\n",
              "\n",
              "    .dataframe thead th {\n",
              "        text-align: right;\n",
              "    }\n",
              "</style>\n",
              "<table border=\"1\" class=\"dataframe\">\n",
              "  <thead>\n",
              "    <tr style=\"text-align: right;\">\n",
              "      <th></th>\n",
              "      <th>Thomas</th>\n",
              "      <th>Jefferson</th>\n",
              "      <th>began</th>\n",
              "      <th>building</th>\n",
              "      <th>Monticello</th>\n",
              "      <th>at</th>\n",
              "      <th>the</th>\n",
              "      <th>age</th>\n",
              "      <th>of</th>\n",
              "      <th>26.</th>\n",
              "      <th>Local</th>\n",
              "      <th>masons</th>\n",
              "      <th>and</th>\n",
              "      <th>carpenters</th>\n",
              "      <th>constructing</th>\n",
              "      <th>building.</th>\n",
              "    </tr>\n",
              "  </thead>\n",
              "  <tbody>\n",
              "    <tr>\n",
              "      <th>sent0</th>\n",
              "      <td>1</td>\n",
              "      <td>1</td>\n",
              "      <td>1</td>\n",
              "      <td>1</td>\n",
              "      <td>1</td>\n",
              "      <td>1</td>\n",
              "      <td>1</td>\n",
              "      <td>1</td>\n",
              "      <td>1</td>\n",
              "      <td>1</td>\n",
              "      <td>0</td>\n",
              "      <td>0</td>\n",
              "      <td>0</td>\n",
              "      <td>0</td>\n",
              "      <td>0</td>\n",
              "      <td>0</td>\n",
              "    </tr>\n",
              "    <tr>\n",
              "      <th>sent1</th>\n",
              "      <td>0</td>\n",
              "      <td>0</td>\n",
              "      <td>1</td>\n",
              "      <td>0</td>\n",
              "      <td>0</td>\n",
              "      <td>0</td>\n",
              "      <td>1</td>\n",
              "      <td>0</td>\n",
              "      <td>0</td>\n",
              "      <td>0</td>\n",
              "      <td>1</td>\n",
              "      <td>1</td>\n",
              "      <td>1</td>\n",
              "      <td>1</td>\n",
              "      <td>1</td>\n",
              "      <td>1</td>\n",
              "    </tr>\n",
              "  </tbody>\n",
              "</table>\n",
              "</div>\n",
              "      <button class=\"colab-df-convert\" onclick=\"convertToInteractive('df-bb37c5c6-45a7-4fca-acc9-e134143bbad6')\"\n",
              "              title=\"Convert this dataframe to an interactive table.\"\n",
              "              style=\"display:none;\">\n",
              "        \n",
              "  <svg xmlns=\"http://www.w3.org/2000/svg\" height=\"24px\"viewBox=\"0 0 24 24\"\n",
              "       width=\"24px\">\n",
              "    <path d=\"M0 0h24v24H0V0z\" fill=\"none\"/>\n",
              "    <path d=\"M18.56 5.44l.94 2.06.94-2.06 2.06-.94-2.06-.94-.94-2.06-.94 2.06-2.06.94zm-11 1L8.5 8.5l.94-2.06 2.06-.94-2.06-.94L8.5 2.5l-.94 2.06-2.06.94zm10 10l.94 2.06.94-2.06 2.06-.94-2.06-.94-.94-2.06-.94 2.06-2.06.94z\"/><path d=\"M17.41 7.96l-1.37-1.37c-.4-.4-.92-.59-1.43-.59-.52 0-1.04.2-1.43.59L10.3 9.45l-7.72 7.72c-.78.78-.78 2.05 0 2.83L4 21.41c.39.39.9.59 1.41.59.51 0 1.02-.2 1.41-.59l7.78-7.78 2.81-2.81c.8-.78.8-2.07 0-2.86zM5.41 20L4 18.59l7.72-7.72 1.47 1.35L5.41 20z\"/>\n",
              "  </svg>\n",
              "      </button>\n",
              "      \n",
              "  <style>\n",
              "    .colab-df-container {\n",
              "      display:flex;\n",
              "      flex-wrap:wrap;\n",
              "      gap: 12px;\n",
              "    }\n",
              "\n",
              "    .colab-df-convert {\n",
              "      background-color: #E8F0FE;\n",
              "      border: none;\n",
              "      border-radius: 50%;\n",
              "      cursor: pointer;\n",
              "      display: none;\n",
              "      fill: #1967D2;\n",
              "      height: 32px;\n",
              "      padding: 0 0 0 0;\n",
              "      width: 32px;\n",
              "    }\n",
              "\n",
              "    .colab-df-convert:hover {\n",
              "      background-color: #E2EBFA;\n",
              "      box-shadow: 0px 1px 2px rgba(60, 64, 67, 0.3), 0px 1px 3px 1px rgba(60, 64, 67, 0.15);\n",
              "      fill: #174EA6;\n",
              "    }\n",
              "\n",
              "    [theme=dark] .colab-df-convert {\n",
              "      background-color: #3B4455;\n",
              "      fill: #D2E3FC;\n",
              "    }\n",
              "\n",
              "    [theme=dark] .colab-df-convert:hover {\n",
              "      background-color: #434B5C;\n",
              "      box-shadow: 0px 1px 3px 1px rgba(0, 0, 0, 0.15);\n",
              "      filter: drop-shadow(0px 1px 2px rgba(0, 0, 0, 0.3));\n",
              "      fill: #FFFFFF;\n",
              "    }\n",
              "  </style>\n",
              "\n",
              "      <script>\n",
              "        const buttonEl =\n",
              "          document.querySelector('#df-bb37c5c6-45a7-4fca-acc9-e134143bbad6 button.colab-df-convert');\n",
              "        buttonEl.style.display =\n",
              "          google.colab.kernel.accessAllowed ? 'block' : 'none';\n",
              "\n",
              "        async function convertToInteractive(key) {\n",
              "          const element = document.querySelector('#df-bb37c5c6-45a7-4fca-acc9-e134143bbad6');\n",
              "          const dataTable =\n",
              "            await google.colab.kernel.invokeFunction('convertToInteractive',\n",
              "                                                     [key], {});\n",
              "          if (!dataTable) return;\n",
              "\n",
              "          const docLinkHtml = 'Like what you see? Visit the ' +\n",
              "            '<a target=\"_blank\" href=https://colab.research.google.com/notebooks/data_table.ipynb>data table notebook</a>'\n",
              "            + ' to learn more about interactive tables.';\n",
              "          element.innerHTML = '';\n",
              "          dataTable['output_type'] = 'display_data';\n",
              "          await google.colab.output.renderOutput(dataTable, element);\n",
              "          const docLink = document.createElement('div');\n",
              "          docLink.innerHTML = docLinkHtml;\n",
              "          element.appendChild(docLink);\n",
              "        }\n",
              "      </script>\n",
              "    </div>\n",
              "  </div>\n",
              "  "
            ]
          },
          "metadata": {},
          "execution_count": 7
        }
      ]
    },
    {
      "cell_type": "markdown",
      "source": [
        "This dataframe contains the \"classic\" form of a term-document matrix, with terms arrayed as columns and documents as rows. Each cell therefore represents a count of occurrences of a particular token within one document. For these two sentences, only two of the tokens appear more than once, so it is pretty boring. We do have prepackaged functions for making DTMs, so in the future we will not have to program this kind of loop ourselves."
      ],
      "metadata": {
        "id": "UjR2jU7V1yxi"
      }
    },
    {
      "cell_type": "code",
      "source": [
        "# We can measure overlap between sentences with the dot product\n",
        "df4 = df3.T # Transpose the df3 matrix for the calculation\n",
        "df4.sent0.dot(df4.sent1) # How much overlap?"
      ],
      "metadata": {
        "id": "HrgH3bDxb4o7",
        "colab": {
          "base_uri": "https://localhost:8080/"
        },
        "outputId": "c0398474-19f6-4692-834e-d998926a0aeb"
      },
      "execution_count": 9,
      "outputs": [
        {
          "output_type": "execute_result",
          "data": {
            "text/plain": [
              "2"
            ]
          },
          "metadata": {},
          "execution_count": 9
        }
      ]
    },
    {
      "cell_type": "code",
      "source": [
        "#\n",
        "# Exercise 2.1: Add a third sentence to the list of sentences just above.\n",
        "# Write a new sentence that has some overlap in words with the first two.\n",
        "# Re-process the last few code blocks to recreate the data frame. Calculate\n",
        "# all three of the pairwise dot products.\n",
        "#\n",
        "sentences = \"\"\"Thomas Jefferson began building Monticello at the age of 26.\\n\"\"\"\n",
        "sentences += \"\"\"Local masons and carpenters began constructing the building.\\n\"\"\"\n",
        "sentences += \"\"\"The building was constructed using Local materials.\"\"\" #Since we haven't done lower I'm using \"L\"ocal\n",
        "corpus = {} # Start an empty dictionary\n",
        "for i, sent in enumerate(sentences.split('\\n')): \n",
        "  corpus['sent{}'.format(i)] = dict((tok, 1) for tok in sent.split())\n",
        "\n",
        "dfT = pd.DataFrame.from_records(corpus).fillna(0).astype(int).T\n",
        "dfOverlap = dfT.T # Transpose the df3 matrix for the calculation\n",
        "# How much overlap?\n",
        "print(\"Sent0 and Sent 1 : \",dfOverlap.sent0.dot(dfOverlap.sent1))\n",
        "print(\"Sent0 and Sent 2 : \",dfOverlap.sent0.dot(dfOverlap.sent2))\n",
        "print(\"Sent1 and Sent 2 : \",dfOverlap.sent1.dot(dfOverlap.sent2))\n",
        " "
      ],
      "metadata": {
        "id": "EHwejO4bcfGz",
        "colab": {
          "base_uri": "https://localhost:8080/"
        },
        "outputId": "19fb1388-8fbf-4df6-8bcb-19b708b922f2"
      },
      "execution_count": 59,
      "outputs": [
        {
          "output_type": "stream",
          "name": "stdout",
          "text": [
            "Sent0 and Sent 1 :  2\n",
            "Sent0 and Sent 2 :  1\n",
            "Sent1 and Sent 2 :  1\n"
          ]
        }
      ]
    },
    {
      "cell_type": "markdown",
      "source": [
        "### Part 2\n",
        "The code blocks above demonstrate several important concepts from Chapter 2 of NLPIA on a very small data set of short sentences. Let's move on now to getting a large dataset of sentences from the Jane Austen novel, \"Emma.\" We can tokenize and describe Emma using some similar techniques."
      ],
      "metadata": {
        "id": "kyufYEIPdFZD"
      }
    },
    {
      "cell_type": "code",
      "metadata": {
        "id": "fkSqzelnaIJc",
        "colab": {
          "base_uri": "https://localhost:8080/"
        },
        "outputId": "62c7f532-d232-48ba-b37e-7c569566bd79"
      },
      "source": [
        "# In this code, we import the NLTK, download the Gutenberg texts, extract a \n",
        "# list of file identifiers from the downloaded material and show the filename\n",
        "# for the first file in the list, Emma, by Jane Austen.\n",
        "\n",
        "import nltk # Bring in the NLP toolkit\n",
        "nltk.download('gutenberg') # Then import the Gutenberg library, which has books\n",
        "print(nltk.corpus.gutenberg.fileids())\n",
        "file0 = nltk.corpus.gutenberg.fileids()[0] # Extract the book names\n",
        "print(file0)"
      ],
      "execution_count": 20,
      "outputs": [
        {
          "output_type": "stream",
          "name": "stderr",
          "text": [
            "[nltk_data] Downloading package gutenberg to /root/nltk_data...\n"
          ]
        },
        {
          "output_type": "stream",
          "name": "stdout",
          "text": [
            "['austen-emma.txt', 'austen-persuasion.txt', 'austen-sense.txt', 'bible-kjv.txt', 'blake-poems.txt', 'bryant-stories.txt', 'burgess-busterbrown.txt', 'carroll-alice.txt', 'chesterton-ball.txt', 'chesterton-brown.txt', 'chesterton-thursday.txt', 'edgeworth-parents.txt', 'melville-moby_dick.txt', 'milton-paradise.txt', 'shakespeare-caesar.txt', 'shakespeare-hamlet.txt', 'shakespeare-macbeth.txt', 'whitman-leaves.txt']\n",
            "austen-emma.txt\n"
          ]
        },
        {
          "output_type": "stream",
          "name": "stderr",
          "text": [
            "[nltk_data]   Unzipping corpora/gutenberg.zip.\n"
          ]
        }
      ]
    },
    {
      "cell_type": "code",
      "metadata": {
        "id": "Ma5yfWkI9zeq",
        "colab": {
          "base_uri": "https://localhost:8080/"
        },
        "outputId": "66fef169-1603-4c68-fd61-15be08360b75"
      },
      "source": [
        "emmatext = nltk.corpus.gutenberg.raw(file0) # Get the raw text of the book\n",
        "print (len(emmatext)) # This tells the length of the string in characters\n",
        "print(type(emmatext)) # And this shows the type of the emmatext object.\n",
        "\n",
        "# What function call could we add to get a \"directory\" of all of the attributes\n",
        "# of emmatext, including the bound methods?\n",
        "\n",
        "#\n",
        "# Exercise 2.2: Add the requested function call and then rerun this cell.\n",
        "#dir() will display all the attributes and bound methods\n",
        "dir(emmatext)"
      ],
      "execution_count": 52,
      "outputs": [
        {
          "output_type": "stream",
          "name": "stdout",
          "text": [
            "887071\n",
            "<class 'str'>\n"
          ]
        },
        {
          "output_type": "execute_result",
          "data": {
            "text/plain": [
              "['__add__',\n",
              " '__class__',\n",
              " '__contains__',\n",
              " '__delattr__',\n",
              " '__dir__',\n",
              " '__doc__',\n",
              " '__eq__',\n",
              " '__format__',\n",
              " '__ge__',\n",
              " '__getattribute__',\n",
              " '__getitem__',\n",
              " '__getnewargs__',\n",
              " '__gt__',\n",
              " '__hash__',\n",
              " '__init__',\n",
              " '__init_subclass__',\n",
              " '__iter__',\n",
              " '__le__',\n",
              " '__len__',\n",
              " '__lt__',\n",
              " '__mod__',\n",
              " '__mul__',\n",
              " '__ne__',\n",
              " '__new__',\n",
              " '__reduce__',\n",
              " '__reduce_ex__',\n",
              " '__repr__',\n",
              " '__rmod__',\n",
              " '__rmul__',\n",
              " '__setattr__',\n",
              " '__sizeof__',\n",
              " '__str__',\n",
              " '__subclasshook__',\n",
              " 'capitalize',\n",
              " 'casefold',\n",
              " 'center',\n",
              " 'count',\n",
              " 'encode',\n",
              " 'endswith',\n",
              " 'expandtabs',\n",
              " 'find',\n",
              " 'format',\n",
              " 'format_map',\n",
              " 'index',\n",
              " 'isalnum',\n",
              " 'isalpha',\n",
              " 'isascii',\n",
              " 'isdecimal',\n",
              " 'isdigit',\n",
              " 'isidentifier',\n",
              " 'islower',\n",
              " 'isnumeric',\n",
              " 'isprintable',\n",
              " 'isspace',\n",
              " 'istitle',\n",
              " 'isupper',\n",
              " 'join',\n",
              " 'ljust',\n",
              " 'lower',\n",
              " 'lstrip',\n",
              " 'maketrans',\n",
              " 'partition',\n",
              " 'replace',\n",
              " 'rfind',\n",
              " 'rindex',\n",
              " 'rjust',\n",
              " 'rpartition',\n",
              " 'rsplit',\n",
              " 'rstrip',\n",
              " 'split',\n",
              " 'splitlines',\n",
              " 'startswith',\n",
              " 'strip',\n",
              " 'swapcase',\n",
              " 'title',\n",
              " 'translate',\n",
              " 'upper',\n",
              " 'zfill']"
            ]
          },
          "metadata": {},
          "execution_count": 52
        }
      ]
    },
    {
      "cell_type": "markdown",
      "metadata": {
        "id": "vR7v8dGo-CcP"
      },
      "source": [
        "We now have the text as a string of characters, and the len() function has told us how many characters are in that text. The type() function has shown us that the data type is \"str\" for string. Remember that in Python a string is an immutable type that we can \"slice\" using the square brackets slicing technique."
      ]
    },
    {
      "cell_type": "code",
      "metadata": {
        "id": "Z5hmrNQaaIJi",
        "colab": {
          "base_uri": "https://localhost:8080/",
          "height": 35
        },
        "outputId": "a9bef74e-8a7d-4560-d027-ef1aeac3963f"
      },
      "source": [
        "emmatext[:120] # Show the first 120 characters"
      ],
      "execution_count": 22,
      "outputs": [
        {
          "output_type": "execute_result",
          "data": {
            "text/plain": [
              "'[Emma by Jane Austen 1816]\\n\\nVOLUME I\\n\\nCHAPTER I\\n\\n\\nEmma Woodhouse, handsome, clever, and rich, with a comfortable home\\nan'"
            ],
            "application/vnd.google.colaboratory.intrinsic+json": {
              "type": "string"
            }
          },
          "metadata": {},
          "execution_count": 22
        }
      ]
    },
    {
      "cell_type": "markdown",
      "metadata": {
        "id": "MnySamjD_H4R"
      },
      "source": [
        "As you know from the readings, tokenizing seems easy but has many complications. There are many code implementations of tokenization (in a variety of programming languages). Let's retest the ones we tried during class."
      ]
    },
    {
      "cell_type": "code",
      "source": [
        "# Each of these print statements shows the number of tokens yielded by different\n",
        "# tokenization techniques.\n",
        "print(len(emmatext.split())) # The builtin Python split function\n",
        "\n",
        "import re\n",
        "print(len(re.findall(\"[\\w]+\", emmatext))) # A simple regex that splits on words\n",
        "\n",
        "import nltk\n",
        "nltk.download('punkt')\n",
        "from nltk.tokenize import word_tokenize\n",
        "\n",
        "#\n",
        "# Exercise 2.3: Use the word_tokenize() function that we just imported to \n",
        "# find out how many tokens are yielded by that method. Print the result.\n",
        "#\n",
        "wor_tokens = word_tokenize(emmatext)\n",
        "print(len(wor_tokens))\n",
        "#191776 number of tokens"
      ],
      "metadata": {
        "id": "okvkj12LWu-q",
        "colab": {
          "base_uri": "https://localhost:8080/"
        },
        "outputId": "41ea8444-4134-4e7e-df64-5ea2302d7a42"
      },
      "execution_count": 60,
      "outputs": [
        {
          "output_type": "stream",
          "name": "stdout",
          "text": [
            "158167\n",
            "161983\n"
          ]
        },
        {
          "output_type": "stream",
          "name": "stderr",
          "text": [
            "[nltk_data] Downloading package punkt to /root/nltk_data...\n",
            "[nltk_data]   Package punkt is already up-to-date!\n"
          ]
        },
        {
          "output_type": "stream",
          "name": "stdout",
          "text": [
            "191776\n"
          ]
        }
      ]
    },
    {
      "cell_type": "markdown",
      "source": [
        "As the numbers above show, the tokenizer you choose has a substantial effect on the number of tokens that are yielded. NLTK has several tokenizers available. We will next use a sentence tokenizer to divide the Emma text into about 7500 separate sentences, then we will create a DTM to represent those sentences."
      ],
      "metadata": {
        "id": "MycCNjPvWtuJ"
      }
    },
    {
      "cell_type": "code",
      "source": [
        "from sklearn.feature_extraction.text import CountVectorizer\n",
        "\n",
        "emmasentences = nltk.sent_tokenize(emmatext)\n",
        "\n",
        "vectorizer = CountVectorizer()\n",
        "emma_dtf = vectorizer.fit_transform(emmasentences)\n",
        "\n",
        "emma_dtf.shape"
      ],
      "metadata": {
        "id": "D_LM49l43qE3",
        "colab": {
          "base_uri": "https://localhost:8080/"
        },
        "outputId": "480ae12b-24db-4c1d-e7d8-999cb8c00093"
      },
      "execution_count": 27,
      "outputs": [
        {
          "output_type": "execute_result",
          "data": {
            "text/plain": [
              "(7456, 7239)"
            ]
          },
          "metadata": {},
          "execution_count": 27
        }
      ]
    },
    {
      "cell_type": "markdown",
      "source": [
        "Make sure you understand the two numbers just presented. The shape attribute shows the number of rows and the number of columns. The rows of this emma_dft data structure contain the sentences and the columns the tokens/terms. "
      ],
      "metadata": {
        "id": "Bd4GUCR3YQN9"
      }
    },
    {
      "cell_type": "code",
      "source": [
        "# Let's examine some of our tokens in the DTM\n",
        "token_names = vectorizer.get_feature_names_out()\n",
        "print(len(token_names)) # Total number of terms in our DTM\n",
        "token_names[0:20] # The first 20 elements of the DTM"
      ],
      "metadata": {
        "id": "1uPYkcXP4zKT",
        "colab": {
          "base_uri": "https://localhost:8080/"
        },
        "outputId": "e2018ccb-7910-440e-baf8-885d4d9b1700"
      },
      "execution_count": 28,
      "outputs": [
        {
          "output_type": "stream",
          "name": "stdout",
          "text": [
            "7239\n"
          ]
        },
        {
          "output_type": "execute_result",
          "data": {
            "text/plain": [
              "array(['000', '10', '1816', '23rd', '24th', '26th', '28th', '7th', '8th',\n",
              "       '_______', '_a_', '_accepted_', '_adair_', '_addition_', '_all_',\n",
              "       '_almost_', '_alone_', '_amor_', '_and_', '_answer_'], dtype=object)"
            ]
          },
          "metadata": {},
          "execution_count": 28
        }
      ]
    },
    {
      "cell_type": "code",
      "source": [
        "# Let's find a few sentences that we can compare using dot products\n",
        "print(emmasentences[50])\n",
        "print()\n",
        "print(emmasentences[56])\n",
        "print()\n",
        "print(emmasentences[100])"
      ],
      "metadata": {
        "id": "ENTyGWhP6DF2",
        "colab": {
          "base_uri": "https://localhost:8080/"
        },
        "outputId": "19664c4c-e78c-4eb5-8b34-f6184845f61c"
      },
      "execution_count": 29,
      "outputs": [
        {
          "output_type": "stream",
          "name": "stdout",
          "text": [
            "And as for James, you may be very sure he will always like\n",
            "going to Randalls, because of his daughter's being housemaid there.\n",
            "\n",
            "It was very lucky, for I would\n",
            "not have had poor James think himself slighted upon any account;\n",
            "and I am sure she will make a very good servant: she is a civil,\n",
            "pretty-spoken girl; I have a great opinion of her.\n",
            "\n",
            "Mr. Knightley loves to find fault with me, you know--\n",
            "in a joke--it is all a joke.\n"
          ]
        }
      ]
    },
    {
      "cell_type": "markdown",
      "source": [
        "Which two of these three sentences do you expect will have the most in common? Remember that a dot product takes two vectors of equal length and sums the products of each pair of entries. The sum is therefore a scalar and can be interpreted as a measure of similarity."
      ],
      "metadata": {
        "id": "2ucUc4HJcjqF"
      }
    },
    {
      "cell_type": "code",
      "source": [
        "sent50 = emma_dtf[50]\n",
        "sent50"
      ],
      "metadata": {
        "id": "BzHIOGHQ6u8c",
        "colab": {
          "base_uri": "https://localhost:8080/"
        },
        "outputId": "5f5f05bf-55cc-4889-bd02-21a7c922b25a"
      },
      "execution_count": 30,
      "outputs": [
        {
          "output_type": "execute_result",
          "data": {
            "text/plain": [
              "<1x7239 sparse matrix of type '<class 'numpy.int64'>'\n",
              "\twith 23 stored elements in Compressed Sparse Row format>"
            ]
          },
          "metadata": {},
          "execution_count": 30
        }
      ]
    },
    {
      "cell_type": "code",
      "source": [
        "sent56 = emma_dtf[56]\n",
        "sent56"
      ],
      "metadata": {
        "id": "I2WNkHe67MCE",
        "colab": {
          "base_uri": "https://localhost:8080/"
        },
        "outputId": "29a8e6d2-d404-41d3-d75b-13ddc85c9849"
      },
      "execution_count": 31,
      "outputs": [
        {
          "output_type": "execute_result",
          "data": {
            "text/plain": [
              "<1x7239 sparse matrix of type '<class 'numpy.int64'>'\n",
              "\twith 34 stored elements in Compressed Sparse Row format>"
            ]
          },
          "metadata": {},
          "execution_count": 31
        }
      ]
    },
    {
      "cell_type": "code",
      "source": [
        "sent50.dot(sent56.T).toarray() # We take the transpose of sent56"
      ],
      "metadata": {
        "id": "E7wOqLpZdQ-g",
        "colab": {
          "base_uri": "https://localhost:8080/"
        },
        "outputId": "b65ecd1e-4528-45ad-8437-9e0e7feb172c"
      },
      "execution_count": 32,
      "outputs": [
        {
          "output_type": "execute_result",
          "data": {
            "text/plain": [
              "array([[8]])"
            ]
          },
          "metadata": {},
          "execution_count": 32
        }
      ]
    },
    {
      "cell_type": "code",
      "source": [
        "sent100 = emma_dtf[100]\n",
        "sent100"
      ],
      "metadata": {
        "id": "_oT0jBcR-VDm",
        "colab": {
          "base_uri": "https://localhost:8080/"
        },
        "outputId": "11041efc-0afb-4c33-b9ed-60c01cd19bd6"
      },
      "execution_count": 33,
      "outputs": [
        {
          "output_type": "execute_result",
          "data": {
            "text/plain": [
              "<1x7239 sparse matrix of type '<class 'numpy.int64'>'\n",
              "\twith 15 stored elements in Compressed Sparse Row format>"
            ]
          },
          "metadata": {},
          "execution_count": 33
        }
      ]
    },
    {
      "cell_type": "code",
      "source": [
        "sent50.dot(sent100.T).toarray()"
      ],
      "metadata": {
        "id": "UXuzYOqp-bkV",
        "colab": {
          "base_uri": "https://localhost:8080/"
        },
        "outputId": "a86c2e50-56cf-45b4-946a-a3b31ad7d779"
      },
      "execution_count": 34,
      "outputs": [
        {
          "output_type": "execute_result",
          "data": {
            "text/plain": [
              "array([[2]])"
            ]
          },
          "metadata": {},
          "execution_count": 34
        }
      ]
    },
    {
      "cell_type": "code",
      "source": [
        "#\n",
        "# Exercise 2.4: Interpret the results of the two dot products by writing\n",
        "# a comment saying which pair of sentences is more similar. Compute and\n",
        "# interpret the third possible dot product (between sent56 and sent100).\n",
        "\n",
        "#Sentences 50 and 56 are more similar, as they have 8 words in common, compared to other two dot products which have 2 words in common\n",
        "#Sentences 50 and 56 talk about \"daughter\" and her being a housemaid/servant. Other pairs dont have much in common\n",
        "sent56.dot(sent100.T).toarray()"
      ],
      "metadata": {
        "id": "nbjXGdqmd7TX",
        "colab": {
          "base_uri": "https://localhost:8080/"
        },
        "outputId": "fee8213e-53fb-4da8-8740-7f5681b0e64a"
      },
      "execution_count": 35,
      "outputs": [
        {
          "output_type": "execute_result",
          "data": {
            "text/plain": [
              "array([[2]])"
            ]
          },
          "metadata": {},
          "execution_count": 35
        }
      ]
    },
    {
      "cell_type": "markdown",
      "source": [
        "Let's switch back to looking at the whole book and examine some of the implications of filtering the token stream."
      ],
      "metadata": {
        "id": "SsqqouIYmQoX"
      }
    },
    {
      "cell_type": "code",
      "source": [
        "emmatokens = nltk.word_tokenize(emmatext) # Break the string into tokens\n",
        "# Next, we will use a list comprehension to process each token into lowercase.\n",
        "emmawords = [w.lower() for w in emmatokens]\n",
        "print(len(emmawords)) # How many tokens before filtering?\n",
        "\n",
        "alphaemmawords = [w for w in emmawords if w.isalpha()] # Only keep alpha tokens\n",
        "print(len(alphaemmawords)) # How many tokens after filtering?\n",
        "\n",
        "nltk.download('stopwords') # Let's try taking out the stopwords beforehand\n",
        "nltk_stops = nltk.corpus.stopwords.words('english')\n",
        "# Use a list comprehension to remove stop words\n",
        "emmanostops = [w for w in alphaemmawords if w not in nltk_stops]\n",
        "\n",
        "# Compare the lengths of the token lists before and after stop word removal\n",
        "print(len(emmanostops))\n",
        "#There are many words before filtering punctuations - 191776\n",
        "#After removing punctuations we have 157035 words\n",
        "#After we remove stop words we have only about 70000 words"
      ],
      "metadata": {
        "id": "L6jhg9bymarS",
        "colab": {
          "base_uri": "https://localhost:8080/"
        },
        "outputId": "b20fbfd7-2c25-4bdf-fde3-5a30709b3387"
      },
      "execution_count": 61,
      "outputs": [
        {
          "output_type": "stream",
          "name": "stdout",
          "text": [
            "191776\n",
            "157035\n"
          ]
        },
        {
          "output_type": "stream",
          "name": "stderr",
          "text": [
            "[nltk_data] Downloading package stopwords to /root/nltk_data...\n",
            "[nltk_data]   Package stopwords is already up-to-date!\n"
          ]
        },
        {
          "output_type": "stream",
          "name": "stdout",
          "text": [
            "69617\n"
          ]
        }
      ]
    },
    {
      "cell_type": "code",
      "source": [
        "#\n",
        "# Exercise 2.5: Examine the first 20 entries in alphaemmawords. Also examine\n",
        "# the first 20 entries in emmanostops. Write a comment on what you see.\n",
        "#\n",
        "print(\"Alphaemmawords : \",alphaemmawords[:20])\n",
        "print(\"emmanostops : \",emmanostops[:20])"
      ],
      "metadata": {
        "id": "fcP43DCpnNdO",
        "colab": {
          "base_uri": "https://localhost:8080/"
        },
        "outputId": "0d63510e-abb7-4c50-8d90-90e98999cf8e"
      },
      "execution_count": 38,
      "outputs": [
        {
          "output_type": "stream",
          "name": "stdout",
          "text": [
            "Alphaemmawords :  ['emma', 'by', 'jane', 'austen', 'volume', 'i', 'chapter', 'i', 'emma', 'woodhouse', 'handsome', 'clever', 'and', 'rich', 'with', 'a', 'comfortable', 'home', 'and', 'happy']\n",
            "emmanostops :  ['emma', 'jane', 'austen', 'volume', 'chapter', 'emma', 'woodhouse', 'handsome', 'clever', 'rich', 'comfortable', 'home', 'happy', 'disposition', 'seemed', 'unite', 'best', 'blessings', 'existence', 'lived']\n"
          ]
        }
      ]
    },
    {
      "cell_type": "markdown",
      "metadata": {
        "id": "AJT5SYBNFAom"
      },
      "source": [
        "NLTK offers a set of functions that create and manipulate a data structure called a Frequency Distribution or FreqDist. This structure is a specialized class that is an extension of the powerful Python dictionary data type.  We can import it from the nltk probability module. This class allows you to make a Frequency Distribution just by initializing it with a list of words.  It will do all the counting for you and create a distribution in which the set of keys are all the words, and the set of values are the frequency (count) of each word. See Table 2.1 in this chapter of the NLTK book:\n",
        "http://www.nltk.org/book_1ed/ch01.html\n"
      ]
    },
    {
      "cell_type": "code",
      "source": [
        "# First, create our frequency distribution dictionary\n",
        "from nltk import FreqDist\n",
        "fdist = FreqDist(alphaemmawords) # This creates a list of frequencies for words\n",
        "\n",
        "# Note that the list of bound methods for fdist includes \"keys().\" In Python\n",
        "# a dictionary has \"key-value\" pairs. Python uses highly efficient \n",
        "# methods to help you find a \"key\" and return the associated \"value.\"\n",
        "fdistkeys = list(fdist.keys()) # The keys are the words/tokens\n",
        "fdistkeys[:20] # Look at the first 20 keys/words"
      ],
      "metadata": {
        "id": "oynkHiRxnjh6",
        "colab": {
          "base_uri": "https://localhost:8080/"
        },
        "outputId": "d6ca29be-4239-4bd9-8c27-e20459e552f1"
      },
      "execution_count": 39,
      "outputs": [
        {
          "output_type": "execute_result",
          "data": {
            "text/plain": [
              "['emma',\n",
              " 'by',\n",
              " 'jane',\n",
              " 'austen',\n",
              " 'volume',\n",
              " 'i',\n",
              " 'chapter',\n",
              " 'woodhouse',\n",
              " 'handsome',\n",
              " 'clever',\n",
              " 'and',\n",
              " 'rich',\n",
              " 'with',\n",
              " 'a',\n",
              " 'comfortable',\n",
              " 'home',\n",
              " 'happy',\n",
              " 'disposition',\n",
              " 'seemed',\n",
              " 'to']"
            ]
          },
          "metadata": {},
          "execution_count": 39
        }
      ]
    },
    {
      "cell_type": "code",
      "metadata": {
        "id": "112UxUFHaIJj",
        "colab": {
          "base_uri": "https://localhost:8080/"
        },
        "outputId": "d0a2c437-1d11-4fff-f81b-fb9a369271c3"
      },
      "source": [
        "# Because this class behaves like a dictionary, we can supply the\n",
        "# name of a key and Python will return the associated value.\n",
        "\n",
        "fdist['the'] # Look at the frequency of one word"
      ],
      "execution_count": 40,
      "outputs": [
        {
          "output_type": "execute_result",
          "data": {
            "text/plain": [
              "5201"
            ]
          },
          "metadata": {},
          "execution_count": 40
        }
      ]
    },
    {
      "cell_type": "code",
      "metadata": {
        "id": "y5sx2E3gaIJk",
        "colab": {
          "base_uri": "https://localhost:8080/"
        },
        "outputId": "d7e53478-4d2a-48d9-cb16-912f9fa637f6"
      },
      "source": [
        "# The most_common() method will give us a list of the key-value pairs with \n",
        "# the highest frequencies.\n",
        "topkeys = fdist.most_common(20)\n",
        "\n",
        "# In this for loop, \"pair\" refers to the word together with its frequency value\n",
        "for pair in topkeys: \n",
        "    print (pair)"
      ],
      "execution_count": 41,
      "outputs": [
        {
          "output_type": "stream",
          "name": "stdout",
          "text": [
            "('the', 5201)\n",
            "('to', 5181)\n",
            "('and', 4877)\n",
            "('of', 4284)\n",
            "('i', 3177)\n",
            "('a', 3124)\n",
            "('it', 2503)\n",
            "('her', 2448)\n",
            "('was', 2396)\n",
            "('she', 2336)\n",
            "('not', 2281)\n",
            "('in', 2173)\n",
            "('be', 1970)\n",
            "('you', 1967)\n",
            "('he', 1806)\n",
            "('that', 1805)\n",
            "('had', 1623)\n",
            "('but', 1441)\n",
            "('as', 1436)\n",
            "('for', 1346)\n"
          ]
        }
      ]
    },
    {
      "cell_type": "code",
      "metadata": {
        "id": "u6ioOIu_aIJk",
        "colab": {
          "base_uri": "https://localhost:8080/"
        },
        "outputId": "4871b9b8-c2b3-443b-99ea-9e39b0a4a42e"
      },
      "source": [
        "# You can tell by the parentheses above that each entry in topkeys is a tuple.\n",
        "# Remember that tuples are immutable, so each key is \"glued\" to its\n",
        "# corresponding frequency value, which can't be changed.\n",
        "type(topkeys[0])"
      ],
      "execution_count": 42,
      "outputs": [
        {
          "output_type": "execute_result",
          "data": {
            "text/plain": [
              "tuple"
            ]
          },
          "metadata": {},
          "execution_count": 42
        }
      ]
    },
    {
      "cell_type": "code",
      "metadata": {
        "id": "l_IDNul2JVjF",
        "colab": {
          "base_uri": "https://localhost:8080/"
        },
        "outputId": "f08e9fa2-e2f4-4d0f-8a54-5408a27fef0c"
      },
      "source": [
        "# We can use slicing to get at the individual elements in this list of tuples\n",
        "# but it is often more convenient to use the bound methods to analyze\n",
        "# our frequency data.\n",
        "for item in topkeys:\n",
        "  print(\"The word\", item[0], \"occurs\", item[1], \"times.\")"
      ],
      "execution_count": 43,
      "outputs": [
        {
          "output_type": "stream",
          "name": "stdout",
          "text": [
            "The word the occurs 5201 times.\n",
            "The word to occurs 5181 times.\n",
            "The word and occurs 4877 times.\n",
            "The word of occurs 4284 times.\n",
            "The word i occurs 3177 times.\n",
            "The word a occurs 3124 times.\n",
            "The word it occurs 2503 times.\n",
            "The word her occurs 2448 times.\n",
            "The word was occurs 2396 times.\n",
            "The word she occurs 2336 times.\n",
            "The word not occurs 2281 times.\n",
            "The word in occurs 2173 times.\n",
            "The word be occurs 1970 times.\n",
            "The word you occurs 1967 times.\n",
            "The word he occurs 1806 times.\n",
            "The word that occurs 1805 times.\n",
            "The word had occurs 1623 times.\n",
            "The word but occurs 1441 times.\n",
            "The word as occurs 1436 times.\n",
            "The word for occurs 1346 times.\n"
          ]
        }
      ]
    },
    {
      "cell_type": "markdown",
      "metadata": {
        "id": "goKDPHZBh2p7"
      },
      "source": [
        "In corpus linguistics, a hapax legomenon is a word or an expression that occurs just once within a corpus. NLTK provides a bound method for accessing the list of hapaxes. For certain kinds of text analysis, these might be good words to ignore, because they are so rare, but on the other hand they could be useful for searches because of their uniqueness!"
      ]
    },
    {
      "cell_type": "code",
      "metadata": {
        "id": "OzEM5xm6Mf5Z",
        "colab": {
          "base_uri": "https://localhost:8080/"
        },
        "outputId": "008df265-2f2f-4acc-b3d2-6e0f5191f437"
      },
      "source": [
        "len(fdist.hapaxes()) # How many tokens occur just once?"
      ],
      "execution_count": 44,
      "outputs": [
        {
          "output_type": "execute_result",
          "data": {
            "text/plain": [
              "2685"
            ]
          },
          "metadata": {},
          "execution_count": 44
        }
      ]
    },
    {
      "cell_type": "code",
      "source": [
        "#\n",
        "# Exercise 2.6: Display the first 20 hapaxes\n",
        "#\n",
        "fdist_hap=fdist.hapaxes()\n",
        "fdist_hap[:20]"
      ],
      "metadata": {
        "id": "SfLO4-X_pQog",
        "colab": {
          "base_uri": "https://localhost:8080/"
        },
        "outputId": "9507da3b-f6ac-430b-d0e3-4ce919dc4131"
      },
      "execution_count": 47,
      "outputs": [
        {
          "output_type": "execute_result",
          "data": {
            "text/plain": [
              "['austen',\n",
              " 'vex',\n",
              " 'indistinct',\n",
              " 'caresses',\n",
              " 'nominal',\n",
              " 'mildness',\n",
              " 'impose',\n",
              " 'esteeming',\n",
              " 'disadvantages',\n",
              " 'misfortunes',\n",
              " 'mournful',\n",
              " 'debt',\n",
              " 'tenderer',\n",
              " 'valetudinarian',\n",
              " 'amounting',\n",
              " 'equals',\n",
              " 'lieu',\n",
              " 'awoke',\n",
              " 'chatted',\n",
              " 'housemaid']"
            ]
          },
          "metadata": {},
          "execution_count": 47
        }
      ]
    },
    {
      "cell_type": "code",
      "source": [
        "#\n",
        "# Exercise 2.6a: Write a list comprehension that only displays those \n",
        "# hapaxes with 10 or more letters.\n",
        "#\n",
        "ten_words = [w for w in fdist_hap if len(w) >=10] \n",
        "\n",
        "print(ten_words)"
      ],
      "metadata": {
        "id": "Lb299Ov6po0Y",
        "colab": {
          "base_uri": "https://localhost:8080/"
        },
        "outputId": "0fe82944-9982-4fff-f785-67256cdea7e3"
      },
      "execution_count": 48,
      "outputs": [
        {
          "output_type": "stream",
          "name": "stdout",
          "text": [
            "['indistinct', 'disadvantages', 'misfortunes', 'valetudinarian', 'needlework', 'backgammon', 'delicately', 'encouragements', 'grievously', 'competence', 'portionless', 'capricious', 'dissentient', 'congratulation', 'companionableness', 'apothecary', 'unfrequently', 'exchanging', 'predicament', 'cleverness', 'quicksighted', 'accomplishments', 'chilblains', 'requesting', 'inconveniently', 'creditably', 'unpolished', 'affability', 'privileges', 'appreciating', 'usefulness', 'talkativeness', 'inspiriting', 'richardson', 'agricultural', 'creditable', 'fluctuations', 'respectfully', 'contrasted', 'uncouthness', 'unmodulated', 'coarseness', 'detestable', 'inattentive', 'commanding', 'sufferable', 'ingratiating', 'fastidious', 'alphabetically', 'wantonness', 'possibilities', 'foretelling', 'undesigned', 'personally', 'accountable', 'attractions', 'artlessness', 'superadded', 'landscapes', 'peculiarity', 'beginnings', 'miniatures', 'reputation', 'performances', 'apologised', 'stationing', 'irksomeness', 'intermission', 'encourager', 'associations', 'permission', 'courtesies', 'commissions', 'incommoding', 'grammatical', 'composition', 'unequivocal', 'inflicting', 'misunderstanding', 'contemplating', 'thoughtfully', 'mechanically', 'introduces', 'prepossession', 'substitute', 'desperately', 'incomprehensible', 'infatuation', 'disinclined', 'slightingly', 'connecting', 'canvassing', 'disclaimed', 'unreserved', 'indistinctness', 'restoratives', 'resentfully', 'overcoming', 'originally', 'remonstrated', 'transcribing', 'ornamented', 'literature', 'collections', 'requisition', 'contribute', 'conundrums', 'inspiration', 'completest', 'eligibility', 'articulate', 'respective', 'shakespeare', 'michaelmas', 'comparisons', 'capacities', 'christened', 'grandpapas', 'conditionally', 'intimately', 'inducements', 'undistinguishing', 'unfastidious', 'contracted', 'occupations', 'distresses', 'temptations', 'experienced', 'dexterously', 'conducting', 'gallantries', 'superintend', 'henceforth', 'fortuitous', 'apprehensively', 'forestalling', 'worshipping', 'peculiarities', 'fidgetiness', 'restoration', 'unceremoniousness', 'discordancies', 'understandings', 'grievances', 'magistrate', 'attachments', 'interrupting', 'strenuously', 'prohibited', 'attributed', 'palpitations', 'undoubting', 'wholesomeness', 'philippics', 'ejaculation', 'rumination', 'interposition', 'attributing', 'unavoidable', 'comfortless', 'conceptions', 'impartially', 'extricated', 'employments', 'disagreeables', 'discontent', 'administered', 'quarrelsome', 'lengthened', 'precautions', 'contrivances', 'unpermitted', 'seasonable', 'hospitable', 'uninterrupted', 'gratifications', 'solicitously', 'overpowering', 'undergoing', 'instinctive', 'braithwaites', 'separations', 'augmentation', 'improprieties', 'persuasions', 'unfeelingly', 'contrivance', 'adventurous', 'accumulations', 'discussing', 'unequalled', 'unexampled', 'professing', 'drunkenness', 'insinuating', 'respectably', 'misconception', 'supplication', 'separating', 'indiscreetly', 'aggrandise', 'gradations', 'incongruity', 'complaisant', 'adventuring', 'dispiriting', 'cogitation', 'discontinuing', 'unmirthful', 'atmosphere', 'unfriendly', 'amiableness', 'lamentations', 'acknowledgments', 'promptitude', 'prophecies', 'testifying', 'ingenuousness', 'abundantly', 'repressing', 'sympathise', 'extinction', 'proportionate', 'depression', 'manoeuvring', 'expedients', 'consistently', 'transported', 'flourishing', 'falsehoods', 'chattering', 'politician', 'dispensing', 'flatteries', 'contributing', 'mistresses', 'appointments', 'subsistence', 'instruction', 'relinquished', 'compatible', 'discharged', 'accusation', 'depreciating', 'determining', 'mischievous', 'successless', 'recantation', 'prejudices', 'provocations', 'exhibitions', 'suitableness', 'delineated', 'provocation', 'wonderings', 'corresponding', 'haberdasher', 'discerning', 'subordination', 'thereabouts', 'cautiously', 'inseparably', 'profitable', 'administer', 'solicitudes', 'awkwardnesses', 'individually', 'attainable', 'mercantile', 'reappearance', 'invariable', 'variations', 'predominated', 'recurrences', 'solitarily', 'memorandums', 'reanimation', 'overcareful', 'exaggeration', 'horsewoman', 'proportionably', 'extravagant', 'fashionable', 'ordinarily', 'companionably', 'hyperbolical', 'contemplate', 'inelegance', 'inconvenient', 'patriotism', 'displaying', 'discreetly', 'vouchsafed', 'oftentimes', 'conquering', 'cautiousness', 'rationality', 'heedlessness', 'unexpensively', 'accounting', 'consisting', 'persuadable', 'achievement', 'ostentation', 'propensity', 'nonsensical', 'unobjectionable', 'instruments', 'pitifullest', 'consequent', 'observable', 'unconvinced', 'unsentimental', 'reasonably', 'improvidently', 'unostentatious', 'petticoats', 'mysteriously', 'reproached', 'limitations', 'accompaniment', 'instrumental', 'interruptions', 'touchstone', 'indignantly', 'performers', 'originating', 'transgressed', 'unfeignedly', 'unequivocally', 'impertinently', 'gingerbread', 'wretchedest', 'slumbering', 'livelihood', 'silversmith', 'uninterruptedly', 'unevenness', 'discrimination', 'indefinite', 'contingencies', 'conveniences', 'conjecturing', 'incomplete', 'compunction', 'cherishing', 'reprehensible', 'commandingly', 'scepticism', 'deliberating', 'successively', 'discovering', 'portioning', 'inconsiderately', 'representations', 'carefulness', 'sandwiches', 'repugnance', 'doubtfully', 'consciously', 'argumentative', 'forerunner', 'reflecting', 'procrastinating', 'correspond', 'listlessness', 'triumphant', 'contradicted', 'unbecoming', 'inexcusable', 'supposition', 'undervalued', 'compressed', 'stimulative', 'advantageous', 'speculations', 'confirming', 'submissively', 'invaluable', 'bashfulness', 'astonishingly', 'transplanted', 'strikingly', 'apartments', 'outstepped', 'affirmative', 'contribution', 'disrespect', 'contemptuous', 'solicitation', 'prepossessing', 'housekeeping', 'licentiousness', 'condescending', 'professedly', 'pressingly', 'reproachful', 'appellation', 'sensibilities', 'triumphantly', 'apprehending', 'refreshments', 'stipulation', 'professional', 'immaterial', 'unexpectedly', 'concentrated', 'remonstrances', 'persuasively', 'insuperable', 'needlessly', 'regularity', 'negligence', 'deciphered', 'roundabout', 'vindicated', 'encountered', 'expedition', 'candidates', 'schoolroom', 'inexperience', 'unemployed', 'advertising', 'mortifications', 'honourably', 'reassembled', 'complained', 'conservatory', 'constitutions', 'antagonist', 'precaution', 'interposed', 'disclaiming', 'stationary', 'plantation', 'desponding', 'untowardly', 'cheerfuller', 'implicitly', 'instigator', 'encumbered', 'heretofore', 'dissipation', 'embarrassed', 'anticipating', 'appreciate', 'sanguinely', 'inspection', 'confidantes', 'councillors', 'proprieties', 'qualifying', 'expeditious', 'excellently', 'transformation', 'complacently', 'hairdresser', 'complimented', 'suspension', 'disapprove', 'interfered', 'criticising', 'recordable', 'productive', 'sauntering', 'maintaining', 'goodnatured', 'quantities', 'irresistibly', 'reprobation', 'flatterers', 'impertinence', 'satisfactions', 'greensward', 'courageous', 'conditioning', 'grammarian', 'mathematician', 'groundwork', 'operations', 'memorandum', 'treasuring', 'undesignedly', 'veneration', 'inexpressible', 'connivance', 'indiscretion', 'absurdities', 'suppressed', 'exultingly', 'involvement', 'disingenuousness', 'preconceived', 'unexamined', 'importation', 'interchange', 'restricted', 'eventually', 'introductions', 'stagnation', 'delegating', 'preferment', 'purchasing', 'sympathiser', 'characteristic', 'unexceptionably', 'cultivation', 'pertinacity', 'insensibly', 'disputable', 'termination', 'abruptness', 'oppressive', 'appendages', 'agriculture', 'engravings', 'incidental', 'prescribed', 'penetrating', 'punctuality', 'officiating', 'management', 'unanswerable', 'carelessly', 'emphatically', 'mutterings', 'gratification', 'confederates', 'oppression', 'questionable', 'prevalence', 'motionless', 'reproaching', 'sullenness', 'conferring', 'volubility', 'dispersing', 'ungenerous', 'indefatigable', 'accumulation', 'meditations', 'heightened', 'instantaneous', 'unfinished', 'disagreeableness', 'disturbing', 'background', 'fancifulness', 'moralising', 'commiseration', 'undertaken', 'nourishing', 'distasteful', 'examination', 'despatched', 'peremptorily', 'undesirable', 'conversations', 'protestation', 'transaction', 'indelicacy', 'extenuations', 'condolence', 'tormenting', 'constituted', 'misconceptions', 'prophetically', 'insufficient', 'insignificance', 'engrossing', 'protecting', 'meditating', 'indelicate', 'irrational', 'tremblings', 'perplexing', 'methodical', 'feebleness', 'corroborating', 'unsuspected', 'undiscerned', 'occurrences', 'intentionally', 'spontaneous', 'deceptions', 'involuntary', 'sorrowfully', 'threadbare', 'debasement', 'inconveniences', 'captivated', 'inconsistent', 'incongruous', 'overrating', 'incompatible', 'wretchedly', 'frightfully', 'decisively', 'confidential', 'attestation', 'contributed', 'inquietudes', 'unanswered', 'unpardonably', 'carelessness', 'surrounding', 'despoiling', 'forebodings', 'brightened', 'loneliness', 'intimation', 'unquestionably', 'constrained', 'ingeniously', 'calculation', 'disinterestedness', 'indecision', 'ungraciously', 'groundless', 'vouchsafing', 'enlightened', 'witnessing', 'inferiorities', 'brilliancy', 'figuratively', 'deprecated', 'forwarding', 'nervousness', 'inheriting', 'inheritance', 'reprehension', 'goodhumoured', 'expiration', 'penetrated', 'extenuation', 'queernesses', 'designedly', 'unseasonableness', 'retrospect', 'disapproved', 'dissatisfaction', 'consistent', 'particularity', 'multiplicity', 'misconstrued', 'subordinate', 'conveyance', 'descriptive', 'distrusted', 'disapprobation', 'repentance', 'inconsideration', 'thoughtlessness', 'inadmissibility', 'transplantation', 'sacrificing', 'unprovided', 'contemplated', 'cheerlessness', 'worshipped', 'reproaches', 'desirableness', 'similarity', 'unsuccessfully', 'magistrates', 'churchwardens', 'applicants', 'protesting', 'aggression', 'collectedly', 'artificial', 'bitterness', 'endeavours', 'corresponded', 'unmentioned', 'complimenter', 'affectionately', 'singularly', 'impediment', 'familiarise', 'disagreements', 'habitation', 'workbasket', 'overflowing', 'respectability', 'misunderstand', 'disappearing', 'circumspection', 'thankfulness', 'resolutions', 'equivocation', 'embarrassing', 'transgression', 'dispositions', 'disordered', 'entertainingly', 'completion', 'presumptuous', 'unqualified', 'unintelligible', 'unbleached', 'intermediate', 'resignation', 'acquiesced', 'befriended', 'illumination', 'deficiencies', 'predictions']\n"
          ]
        }
      ]
    },
    {
      "cell_type": "markdown",
      "source": [
        "#Checkpoint! What's the final hapax in this list?\n",
        "\n",
        "From the output of the code block just above, make note of the *last* word in the list of hapaxes from Exercise 2.6a with 10 or more letters. Write your name on the whiteboard together with that word. "
      ],
      "metadata": {
        "id": "YnEerv2gryLI"
      }
    },
    {
      "cell_type": "code",
      "metadata": {
        "id": "x8zhCLqYNPTu",
        "colab": {
          "base_uri": "https://localhost:8080/",
          "height": 35
        },
        "outputId": "80e0f989-4b2a-48e8-8521-fc939edf9d4a"
      },
      "source": [
        "fdist.max() # Which is the most frequent token?"
      ],
      "execution_count": 49,
      "outputs": [
        {
          "output_type": "execute_result",
          "data": {
            "text/plain": [
              "'the'"
            ],
            "application/vnd.google.colaboratory.intrinsic+json": {
              "type": "string"
            }
          },
          "metadata": {},
          "execution_count": 49
        }
      ]
    },
    {
      "cell_type": "code",
      "metadata": {
        "id": "MG5242NyLlCm",
        "colab": {
          "base_uri": "https://localhost:8080/",
          "height": 324
        },
        "outputId": "cfdc78db-6edd-4e1d-dced-3ed196c0f342"
      },
      "source": [
        "# Using the bound method plot(), we can make a frequency plot:\n",
        "fdist.plot(20, title=\"Top 20 Tokens by Frequency\")"
      ],
      "execution_count": 50,
      "outputs": [
        {
          "output_type": "display_data",
          "data": {
            "text/plain": [
              "<Figure size 432x288 with 1 Axes>"
            ],
            "image/png": "[encoded data removed]"
          },
          "metadata": {
            "needs_background": "light"
          }
        },
        {
          "output_type": "execute_result",
          "data": {
            "text/plain": [
              "<matplotlib.axes._subplots.AxesSubplot at 0x7fb0c92edb80>"
            ]
          },
          "metadata": {},
          "execution_count": 50
        }
      ]
    },
    {
      "cell_type": "code",
      "metadata": {
        "id": "aK-XrtmFN6QG",
        "colab": {
          "base_uri": "https://localhost:8080/",
          "height": 283
        },
        "outputId": "5a2a2dca-e1c0-4170-83bd-f3c7b45bf14a"
      },
      "source": [
        "# A brief illustration of Zipf's law\n",
        "import math # We will need the log() function\n",
        "import matplotlib.pyplot as plt # And we will make a simple plot\n",
        "\n",
        "# Calculate a list of the logs of the word frequency values using\n",
        "# a list comprehension and sorting from largest to smallest.\n",
        "log_freqs = [math.log(v) for v in sorted(fdist.values(), reverse=True)]\n",
        "\n",
        "# Make a list of integers (i.e., ranks) and calculate their logs\n",
        "log_ranks = [math.log(r+1) for r in range(len(log_freqs))]\n",
        "\n",
        "plt.plot(log_ranks, log_freqs) # Show the result"
      ],
      "execution_count": 51,
      "outputs": [
        {
          "output_type": "execute_result",
          "data": {
            "text/plain": [
              "[<matplotlib.lines.Line2D at 0x7fb0c9201820>]"
            ]
          },
          "metadata": {},
          "execution_count": 51
        },
        {
          "output_type": "display_data",
          "data": {
            "text/plain": [
              "<Figure size 432x288 with 1 Axes>"
            ],
            "image/png": "[encoded data removed]"
          },
          "metadata": {
            "needs_background": "light"
          }
        }
      ]
    },
    {
      "cell_type": "markdown",
      "metadata": {
        "id": "uvv7nFbRCq2X"
      },
      "source": [
        "Now you repeat the word frequency analysis process using the list of tokens that has the stop words taken out. This was created several blocks ago and has the name emmanostops. Add some lines of code in the next block to conduct the frequency analysis and finish up with a Zipf plot. "
      ]
    },
    {
      "cell_type": "code",
      "source": [
        "#\n",
        "# Exercise 2.7: Repeat word frequency analysis without stop words.\n",
        "#\n",
        "from nltk import FreqDist\n",
        "fdistemma = FreqDist(emmanostops) # This creates a list of frequencies for words\n",
        "fdistemmakeys = list(fdistemma.keys()) # The keys are the words/tokens\n",
        "topkeysemma = fdistemma.most_common(20) #The most common 20 words in emmanostops\n",
        "for item in topkeysemma:\n",
        "  print(\"The word\", item[0], \"occurs\", item[1], \"times.\")\n",
        "\n",
        "print(\"\\n\\nNumber of hapaxes : \",len(fdistemma.hapaxes()))\n",
        "fdistemma_hap=fdistemma.hapaxes()\n",
        "print(fdistemma_hap[:20])"
      ],
      "metadata": {
        "id": "okvCywnX3ybF",
        "colab": {
          "base_uri": "https://localhost:8080/"
        },
        "outputId": "0d45ec27-fbb6-4e37-dd20-e8d0e2a5e33f"
      },
      "execution_count": 73,
      "outputs": [
        {
          "output_type": "stream",
          "name": "stdout",
          "text": [
            "The word emma occurs 855 times.\n",
            "The word could occurs 835 times.\n",
            "The word would occurs 818 times.\n",
            "The word miss occurs 599 times.\n",
            "The word must occurs 566 times.\n",
            "The word harriet occurs 496 times.\n",
            "The word much occurs 484 times.\n",
            "The word said occurs 483 times.\n",
            "The word one occurs 447 times.\n",
            "The word every occurs 435 times.\n",
            "The word weston occurs 430 times.\n",
            "The word thing occurs 392 times.\n",
            "The word think occurs 383 times.\n",
            "The word well occurs 378 times.\n",
            "The word elton occurs 378 times.\n",
            "The word knightley occurs 373 times.\n",
            "The word little occurs 359 times.\n",
            "The word never occurs 358 times.\n",
            "The word know occurs 335 times.\n",
            "The word might occurs 325 times.\n",
            "\n",
            "\n",
            "Number of hapaxes :  2682\n",
            "['austen', 'vex', 'indistinct', 'caresses', 'nominal', 'mildness', 'impose', 'esteeming', 'disadvantages', 'misfortunes', 'mournful', 'debt', 'tenderer', 'valetudinarian', 'amounting', 'equals', 'lieu', 'awoke', 'chatted', 'housemaid']\n"
          ]
        }
      ]
    },
    {
      "cell_type": "code",
      "source": [
        "#Frequency plot of emmanostops\n",
        "fdistemma.plot(20, title=\"Top 20 Tokens by Frequency\")"
      ],
      "metadata": {
        "colab": {
          "base_uri": "https://localhost:8080/",
          "height": 350
        },
        "id": "MqY33ghezoAU",
        "outputId": "602d26e6-620a-4605-bb0a-77258ac2c5a5"
      },
      "execution_count": 74,
      "outputs": [
        {
          "output_type": "display_data",
          "data": {
            "text/plain": [
              "<Figure size 432x288 with 1 Axes>"
            ],
            "image/png": "[encoded data removed]"
          },
          "metadata": {
            "needs_background": "light"
          }
        },
        {
          "output_type": "execute_result",
          "data": {
            "text/plain": [
              "<matplotlib.axes._subplots.AxesSubplot at 0x7fb0c8e55970>"
            ]
          },
          "metadata": {},
          "execution_count": 74
        }
      ]
    },
    {
      "cell_type": "code",
      "source": [
        "#Zipf Plot\n",
        "\n",
        "# Calculate a list of the logs of the word frequency values using\n",
        "# a list comprehension and sorting from largest to smallest.\n",
        "log_freqs_emmanostops = [math.log(v) for v in sorted(fdistemma.values(), reverse=True)]\n",
        "\n",
        "# Make a list of integers (i.e., ranks) and calculate their logs\n",
        "log_ranks = [math.log(r+1) for r in range(len(log_freqs_emmanostops))]\n",
        "\n",
        "plt.plot(log_ranks, log_freqs_emmanostops) # Zipf law plot"
      ],
      "metadata": {
        "colab": {
          "base_uri": "https://localhost:8080/",
          "height": 285
        },
        "id": "-sQ2VG_TuNbz",
        "outputId": "72989f79-3586-47a5-8476-d6d71009650f"
      },
      "execution_count": 77,
      "outputs": [
        {
          "output_type": "execute_result",
          "data": {
            "text/plain": [
              "[<matplotlib.lines.Line2D at 0x7fb0cb11f5b0>]"
            ]
          },
          "metadata": {},
          "execution_count": 77
        },
        {
          "output_type": "display_data",
          "data": {
            "text/plain": [
              "<Figure size 432x288 with 1 Axes>"
            ],
            "image/png": "[encoded data removed]"
          },
          "metadata": {
            "needs_background": "light"
          }
        }
      ]
    },
    {
      "cell_type": "markdown",
      "source": [
        "So far, we've worked with the words as they have originally appeared in the text. In this section we will use the Porter stemmer to stem emmanostops and then repeat the frequency analysis that we did previously to see how our vocabulary has changed."
      ],
      "metadata": {
        "id": "fsc0XC3o6eTp"
      }
    },
    {
      "cell_type": "code",
      "source": [
        "from nltk.stem.porter import PorterStemmer\n",
        "stemmer = PorterStemmer()\n",
        "\n",
        "stem_nostops = [stemmer.stem(w) for w in emmanostops]\n",
        "\n",
        "stem_nostops[0:20]"
      ],
      "metadata": {
        "id": "a48PfPYs6x86",
        "colab": {
          "base_uri": "https://localhost:8080/"
        },
        "outputId": "8e993624-c3fb-4933-8ebb-fef2f89f2e91"
      },
      "execution_count": 78,
      "outputs": [
        {
          "output_type": "execute_result",
          "data": {
            "text/plain": [
              "['emma',\n",
              " 'jane',\n",
              " 'austen',\n",
              " 'volum',\n",
              " 'chapter',\n",
              " 'emma',\n",
              " 'woodhous',\n",
              " 'handsom',\n",
              " 'clever',\n",
              " 'rich',\n",
              " 'comfort',\n",
              " 'home',\n",
              " 'happi',\n",
              " 'disposit',\n",
              " 'seem',\n",
              " 'unit',\n",
              " 'best',\n",
              " 'bless',\n",
              " 'exist',\n",
              " 'live']"
            ]
          },
          "metadata": {},
          "execution_count": 78
        }
      ]
    },
    {
      "cell_type": "code",
      "source": [
        "print(len(emmanostops)) # The original number of tokens\n",
        "print(len(stem_nostops)) # The total number of stemmed tokens\n",
        "print(len(set(emmanostops))) # # The vocabulary size unstemmed\n",
        "print(len(set(stem_nostops))) # The vocabulary size stemmed"
      ],
      "metadata": {
        "id": "dbR4UgPU8Okr",
        "colab": {
          "base_uri": "https://localhost:8080/"
        },
        "outputId": "c0aaca3e-2642-4585-dbbd-c337a4db80e1"
      },
      "execution_count": 79,
      "outputs": [
        {
          "output_type": "stream",
          "name": "stdout",
          "text": [
            "69617\n",
            "69617\n",
            "6807\n",
            "4262\n"
          ]
        }
      ]
    },
    {
      "cell_type": "code",
      "source": [
        "#\n",
        "# Exercise 2.8: Repeat word frequency analysis using stem_nostops. Create \n",
        "# appropriate graphs as shown above.\n",
        "#\n",
        "from nltk import FreqDist\n",
        "fdist_stem = FreqDist(stem_nostops) # This creates a list of frequencies for words\n",
        "fdist_stemkeys = list(fdist_stem.keys()) # The keys are the words/tokens\n",
        "topkey_stem = fdist_stem.most_common(20) #The most common 20 words in emmanostops\n",
        "for item in topkey_stem:\n",
        "  print(\"The word\", item[0], \"occurs\", item[1], \"times.\")\n",
        "\n",
        "print(\"\\n\\nNumber of hapaxes : \",len(fdist_stem.hapaxes()))\n",
        "fdist_stem_hap=fdist_stem.hapaxes()\n",
        "print(fdist_stem_hap[:20])"
      ],
      "metadata": {
        "id": "weIXw0Zs8uPM",
        "colab": {
          "base_uri": "https://localhost:8080/"
        },
        "outputId": "8c0d5654-fd75-491e-ddf1-b2ec99046bfe"
      },
      "execution_count": 80,
      "outputs": [
        {
          "output_type": "stream",
          "name": "stdout",
          "text": [
            "The word emma occurs 855 times.\n",
            "The word could occurs 835 times.\n",
            "The word would occurs 818 times.\n",
            "The word miss occurs 611 times.\n",
            "The word must occurs 566 times.\n",
            "The word harriet occurs 496 times.\n",
            "The word much occurs 484 times.\n",
            "The word said occurs 483 times.\n",
            "The word think occurs 466 times.\n",
            "The word thing occurs 454 times.\n",
            "The word one occurs 451 times.\n",
            "The word weston occurs 438 times.\n",
            "The word everi occurs 435 times.\n",
            "The word elton occurs 399 times.\n",
            "The word say occurs 392 times.\n",
            "The word know occurs 391 times.\n",
            "The word knightley occurs 380 times.\n",
            "The word well occurs 378 times.\n",
            "The word littl occurs 362 times.\n",
            "The word never occurs 358 times.\n",
            "\n",
            "\n",
            "Number of hapaxes :  1344\n",
            "['austen', 'caress', 'nomin', 'disadvantag', 'debt', 'valetudinarian', 'lieu', 'awok', 'housemaid', 'curtsey', 'needlework', 'bang', 'backgammon', 'speck', 'gainer', 'deathb', 'broadway', 'drizzl', 'mitchel', 'grievous']\n"
          ]
        }
      ]
    },
    {
      "cell_type": "code",
      "source": [
        "#Frequency plot of stem_nostops\n",
        "fdist_stem.plot(20, title=\"Top 20 Tokens by Frequency\")"
      ],
      "metadata": {
        "colab": {
          "base_uri": "https://localhost:8080/",
          "height": 350
        },
        "id": "Uh0tm8xJ0dKq",
        "outputId": "97973474-44ed-4dff-afc0-02276ae49c9e"
      },
      "execution_count": 81,
      "outputs": [
        {
          "output_type": "display_data",
          "data": {
            "text/plain": [
              "<Figure size 432x288 with 1 Axes>"
            ],
            "image/png": "[encoded data removed]"
          },
          "metadata": {
            "needs_background": "light"
          }
        },
        {
          "output_type": "execute_result",
          "data": {
            "text/plain": [
              "<matplotlib.axes._subplots.AxesSubplot at 0x7fb0cb12c2b0>"
            ]
          },
          "metadata": {},
          "execution_count": 81
        }
      ]
    },
    {
      "cell_type": "code",
      "source": [
        "#Zipf Plot for stem_nostops\n",
        "\n",
        "# Calculate a list of the logs of the word frequency values using\n",
        "# a list comprehension and sorting from largest to smallest.\n",
        "log_freqs_stem = [math.log(v) for v in sorted(fdist_stem.values(), reverse=True)]\n",
        "\n",
        "# Make a list of integers (i.e., ranks) and calculate their logs\n",
        "log_ranks = [math.log(r+1) for r in range(len(log_freqs_stem))]\n",
        "\n",
        "plt.plot(log_ranks, log_freqs_stem) # Zipf law plot"
      ],
      "metadata": {
        "colab": {
          "base_uri": "https://localhost:8080/",
          "height": 285
        },
        "id": "9uCnxUQ81W6J",
        "outputId": "e696bfe8-f3e8-4241-f8a6-51a855c9a977"
      },
      "execution_count": 82,
      "outputs": [
        {
          "output_type": "execute_result",
          "data": {
            "text/plain": [
              "[<matplotlib.lines.Line2D at 0x7fb0caf76b20>]"
            ]
          },
          "metadata": {},
          "execution_count": 82
        },
        {
          "output_type": "display_data",
          "data": {
            "text/plain": [
              "<Figure size 432x288 with 1 Axes>"
            ],
            "image/png": "[encoded data removed]"
          },
          "metadata": {
            "needs_background": "light"
          }
        }
      ]
    },
    {
      "cell_type": "markdown",
      "metadata": {
        "id": "Vq-ba9YlHPy8"
      },
      "source": [
        "###Part Three\n",
        "\n",
        "Here's a basic introduction to regular expressions - a kind of language-within-a-language for pattern matching. We will use Python's \"re\" package for regular expressions. The re.compile() function preprocesses our pattern so that it can easily be reused. "
      ]
    },
    {
      "cell_type": "code",
      "metadata": {
        "id": "id9HAkCUHPCH",
        "colab": {
          "base_uri": "https://localhost:8080/"
        },
        "outputId": "436b6025-e631-4b3d-a18c-b34810c0dff1"
      },
      "source": [
        "# Rather than a whole book, let's just start with one sentence:\n",
        "sentence = \"thomas jefferson began building monticello at the age of twenty-six.\"\n",
        "\n",
        "# Now get set up to build a regular expression\n",
        "import re\n",
        "pattern = re.compile('^[a-z]+')\n",
        "type(pattern) # What is it?"
      ],
      "execution_count": 83,
      "outputs": [
        {
          "output_type": "execute_result",
          "data": {
            "text/plain": [
              "re.Pattern"
            ]
          },
          "metadata": {},
          "execution_count": 83
        }
      ]
    },
    {
      "cell_type": "code",
      "metadata": {
        "id": "cvcnIFLqHO1p",
        "colab": {
          "base_uri": "https://localhost:8080/"
        },
        "outputId": "581e05ae-733b-4f26-faac-127b167deb64"
      },
      "source": [
        "# Let's see what this pattern can do for us\n",
        "print(pattern.match(sentence)) # Show the details of when a match occurs"
      ],
      "execution_count": 84,
      "outputs": [
        {
          "output_type": "stream",
          "name": "stdout",
          "text": [
            "<re.Match object; span=(0, 6), match='thomas'>\n"
          ]
        }
      ]
    },
    {
      "cell_type": "markdown",
      "metadata": {
        "id": "gFVH2dM1L9F1"
      },
      "source": [
        "So the pattern that we saved using this command, re.compile('^[a-z]+'), looks for the start of a string with the ^ character, followed by any number of the characters a through z (lowercase). This yielded one match that starts at character zero and goes for six characters in total. So we have successfully parsed the first word of the sentence, but what about the rest? Let's do two things: first, if we get rid of the ^ then we won't just match at the beginning of the sentence. Second, if we use findall() instead of match(), we can get a complete list of matches rather than just the first one."
      ]
    },
    {
      "cell_type": "code",
      "metadata": {
        "id": "8S0RPYJlMhmL",
        "colab": {
          "base_uri": "https://localhost:8080/"
        },
        "outputId": "8534e0de-b82f-4efe-acbf-d826b8e841d5"
      },
      "source": [
        "pattern = re.compile('[a-z]+')\n",
        "print(pattern.findall(sentence))"
      ],
      "execution_count": 85,
      "outputs": [
        {
          "output_type": "stream",
          "name": "stdout",
          "text": [
            "['thomas', 'jefferson', 'began', 'building', 'monticello', 'at', 'the', 'age', 'of', 'twenty', 'six']\n"
          ]
        }
      ]
    },
    {
      "cell_type": "markdown",
      "metadata": {
        "id": "t6oF-c6gNr3l"
      },
      "source": [
        "Note that we have saved all the words and discarded the spaces and the punctuation, including the dash in the hyphenated phrase, twenty-six. As we saw earlier in the lab, Python provides a similar capability with the .split() bound method that can be applied to any string:"
      ]
    },
    {
      "cell_type": "code",
      "metadata": {
        "id": "CTUdUO57OAuh",
        "colab": {
          "base_uri": "https://localhost:8080/"
        },
        "outputId": "ee0defd9-e600-4db8-a8ee-981bdaf7b9bc"
      },
      "source": [
        "# Space is the default for the splitting character, but we provide it explicitly\n",
        "# here just to make the point that this is what the method does.\n",
        "sentence.split(sep=' ') \n"
      ],
      "execution_count": 86,
      "outputs": [
        {
          "output_type": "execute_result",
          "data": {
            "text/plain": [
              "['thomas',\n",
              " 'jefferson',\n",
              " 'began',\n",
              " 'building',\n",
              " 'monticello',\n",
              " 'at',\n",
              " 'the',\n",
              " 'age',\n",
              " 'of',\n",
              " 'twenty-six.']"
            ]
          },
          "metadata": {},
          "execution_count": 86
        }
      ]
    },
    {
      "cell_type": "code",
      "metadata": {
        "id": "0yElCQG6Pgs0",
        "colab": {
          "base_uri": "https://localhost:8080/"
        },
        "outputId": "31441c1b-564d-4e34-b4b4-c972d645d841"
      },
      "source": [
        "# Note how the dash and period are retained in the example above.\n",
        "# A regular expression can also be used to do splits, like this pattern\n",
        "# that matches any number of whitespace characters and performs splits\n",
        "# using those matches:\n",
        "spattern = re.compile('\\s+')\n",
        "spattern.split(sentence)"
      ],
      "execution_count": 87,
      "outputs": [
        {
          "output_type": "execute_result",
          "data": {
            "text/plain": [
              "['thomas',\n",
              " 'jefferson',\n",
              " 'began',\n",
              " 'building',\n",
              " 'monticello',\n",
              " 'at',\n",
              " 'the',\n",
              " 'age',\n",
              " 'of',\n",
              " 'twenty-six.']"
            ]
          },
          "metadata": {},
          "execution_count": 87
        }
      ]
    },
    {
      "cell_type": "markdown",
      "metadata": {
        "id": "FsIcE42nkA3u"
      },
      "source": [
        "In both of the preceding examples, you should be able to explain why the final token contains both the dash character and the period. What do you think of this result? Is it better to keep dashes in hyphenated phrases? Should punctuation tokens like periods be peeled off into separate tokens?"
      ]
    },
    {
      "cell_type": "code",
      "source": [
        "#It is better to use regex patter matching like [a-z]+\n",
        "#As it can detect alphabets and symbols separately. \n",
        "#Using just split() would retain punctuations and doesnt tokenize so well. "
      ],
      "metadata": {
        "id": "Lkf7aSfM2RXn"
      },
      "execution_count": null,
      "outputs": []
    },
    {
      "cell_type": "code",
      "metadata": {
        "id": "OdtpfXlmVrWr",
        "colab": {
          "base_uri": "https://localhost:8080/"
        },
        "outputId": "fd7b71a1-3b45-4504-ae20-f16726e1126a"
      },
      "source": [
        "# The NLTK package also contains a tokenizer that can use regular expressions\n",
        "# to do the splitting. Here's an example:\n",
        "from nltk.tokenize import RegexpTokenizer\n",
        "\n",
        "# This matches \\w (any word character) or the end of a string or any number of \n",
        "# digits or any number of characters that are not a space.\n",
        "my_tokenizer = RegexpTokenizer(r'\\w+|$[0-9]+|\\S+')\n",
        "my_tokenizer.tokenize(sentence)"
      ],
      "execution_count": 88,
      "outputs": [
        {
          "output_type": "execute_result",
          "data": {
            "text/plain": [
              "['thomas',\n",
              " 'jefferson',\n",
              " 'began',\n",
              " 'building',\n",
              " 'monticello',\n",
              " 'at',\n",
              " 'the',\n",
              " 'age',\n",
              " 'of',\n",
              " 'twenty',\n",
              " '-six.']"
            ]
          },
          "metadata": {},
          "execution_count": 88
        }
      ]
    },
    {
      "cell_type": "markdown",
      "metadata": {
        "id": "Wy2XPpacsEgP"
      },
      "source": [
        "The complete set of examples above demonstrate that even for this one relatively simple sentence, a tokenizer can be programmed to behave in many different ways. We see variation, in particular, around the handling of hyphenated words and punctuation. Other important issues surround the handling of contractions, abbreviations, numeric strings, and multi-word noun phrases such as New York or New York City. Now let's use the RegEx tokenizer to try to discover the most commonly used proper names."
      ]
    },
    {
      "cell_type": "code",
      "source": [
        "new_tokens = my_tokenizer.tokenize(emmatext)\n",
        "\n",
        "# Now grab all of the tokens that begin with an upper case letter\n",
        "proper_names = [w for w in new_tokens if w[0].isupper()]\n",
        "pndist = FreqDist(proper_names) # This creates a list of frequencies for words\n",
        "\n",
        "pndist.most_common(23)"
      ],
      "metadata": {
        "id": "hW_1SrHx6KrJ",
        "colab": {
          "base_uri": "https://localhost:8080/"
        },
        "outputId": "07d45003-e42d-48ed-bc39-8e75ba102a4e"
      },
      "execution_count": 89,
      "outputs": [
        {
          "output_type": "execute_result",
          "data": {
            "text/plain": [
              "[('I', 2640),\n",
              " ('Mr', 1097),\n",
              " ('Emma', 835),\n",
              " ('Mrs', 675),\n",
              " ('Miss', 562),\n",
              " ('She', 493),\n",
              " ('Harriet', 488),\n",
              " ('Weston', 438),\n",
              " ('Knightley', 385),\n",
              " ('Elton', 385),\n",
              " ('He', 375),\n",
              " ('Woodhouse', 313),\n",
              " ('The', 307),\n",
              " ('It', 306),\n",
              " ('Jane', 289),\n",
              " ('Fairfax', 241),\n",
              " ('Churchill', 222),\n",
              " ('But', 203),\n",
              " ('Frank', 200),\n",
              " ('You', 173),\n",
              " ('Hartfield', 159),\n",
              " ('And', 152),\n",
              " ('Bates', 148)]"
            ]
          },
          "metadata": {},
          "execution_count": 89
        }
      ]
    },
    {
      "cell_type": "markdown",
      "metadata": {
        "id": "0bfnqSaxr810"
      },
      "source": [
        "Now we can see the major characters from the book. Here's an incomplete list excerpted from Sparknotes.com:\n",
        "\n",
        "* Emma Woodhouse: The protagonist of the novel. \n",
        "* John Knightley: Emma’s brother-in-law.\n",
        "* Harriet Smith: Emma’s protégé and the object of her matchmaking schemes.\n",
        "* Miss Bates: A middle-aged spinster.\n",
        "* Jane Fairfax: Miss Bates’s niece. \n",
        "* Frank Churchill: Mr. Weston’s son and Mrs. Weston’s stepson.\n",
        "\n",
        "So the upshot of a few processing steps is that we now have a meaningful insight into the contents of the book. Next, repeat that analysis on a different Jane Austen book, Persuasion."
      ]
    },
    {
      "cell_type": "code",
      "source": [
        "file1 = nltk.corpus.gutenberg.fileids()[1] # Extract the file id\n",
        "print(file1)\n",
        "perstext = nltk.corpus.gutenberg.raw(file1) # Get the raw text of the book\n",
        "print (len(perstext)) # This tells the length of the string in characters\n",
        "print(type(perstext)) # And this shows the type of the object.\n",
        "perstext[0:80] # And here's the first few characters"
      ],
      "metadata": {
        "id": "cQbT6Vzh8CKf",
        "colab": {
          "base_uri": "https://localhost:8080/",
          "height": 89
        },
        "outputId": "403481e3-7102-4acb-e3cf-92122bdd4438"
      },
      "execution_count": 90,
      "outputs": [
        {
          "output_type": "stream",
          "name": "stdout",
          "text": [
            "austen-persuasion.txt\n",
            "466292\n",
            "<class 'str'>\n"
          ]
        },
        {
          "output_type": "execute_result",
          "data": {
            "text/plain": [
              "'[Persuasion by Jane Austen 1818]\\n\\n\\nChapter 1\\n\\n\\nSir Walter Elliot, of Kellynch Ha'"
            ],
            "application/vnd.google.colaboratory.intrinsic+json": {
              "type": "string"
            }
          },
          "metadata": {},
          "execution_count": 90
        }
      ]
    },
    {
      "cell_type": "code",
      "source": [
        "#\n",
        "# Exercise 2.9: For the remaining time in the lab session, repeat the corpus\n",
        "# analysis that we conducted on Emma using the text of Persuasion. Here are the\n",
        "# key tasks to accomplish for this kind of descriptive analysis:\n",
        "#\n",
        "# The number of tokens in the text\n",
        "# The 20 most frequently occuring tokens\n",
        "# The number of tokens without stop words\n",
        "# The number of unique tokens (the vocabulary size)\n",
        "# The number of unique tokens after stemming\n",
        "# A plot illustrating Zipf's law using token frequency\n",
        "# The number of tokens that begin with an uppercase letter\n",
        "# The top 20-25 tokens that begin with an uppercase letter\n",
        "# A comparison of those tokens with the names of the main characters\n",
        "#"
      ],
      "metadata": {
        "id": "zk5FY6Fm8oW4"
      },
      "execution_count": null,
      "outputs": []
    },
    {
      "cell_type": "code",
      "source": [
        "#Take persuasion\n",
        "import nltk\n",
        "nltk.download('gutenberg')\n",
        "print(nltk.corpus.gutenberg.fileids())\n",
        "file1 = nltk.corpus.gutenberg.fileids()[1] # Extract the book names\n",
        "print(file1)\n",
        "pers = nltk.corpus.gutenberg.raw(file1) # Get the raw text of the book\n",
        "print (len(pers)) # This tells the length of the string in characters\n",
        "print(type(pers)) # And this shows the type of the emmatext object.\n"
      ],
      "metadata": {
        "colab": {
          "base_uri": "https://localhost:8080/"
        },
        "id": "pasUipK34MbE",
        "outputId": "01a8e05a-b885-4b76-9cc3-63fd322976d9"
      },
      "execution_count": 93,
      "outputs": [
        {
          "output_type": "stream",
          "name": "stdout",
          "text": [
            "['austen-emma.txt', 'austen-persuasion.txt', 'austen-sense.txt', 'bible-kjv.txt', 'blake-poems.txt', 'bryant-stories.txt', 'burgess-busterbrown.txt', 'carroll-alice.txt', 'chesterton-ball.txt', 'chesterton-brown.txt', 'chesterton-thursday.txt', 'edgeworth-parents.txt', 'melville-moby_dick.txt', 'milton-paradise.txt', 'shakespeare-caesar.txt', 'shakespeare-hamlet.txt', 'shakespeare-macbeth.txt', 'whitman-leaves.txt']\n",
            "austen-persuasion.txt\n",
            "466292\n",
            "<class 'str'>\n"
          ]
        },
        {
          "output_type": "stream",
          "name": "stderr",
          "text": [
            "[nltk_data] Downloading package gutenberg to /root/nltk_data...\n",
            "[nltk_data]   Package gutenberg is already up-to-date!\n"
          ]
        }
      ]
    },
    {
      "cell_type": "code",
      "source": [
        "\n",
        "\n"
      ],
      "metadata": {
        "id": "RT-pNCUq4ML6"
      },
      "execution_count": null,
      "outputs": []
    },
    {
      "cell_type": "code",
      "source": [],
      "metadata": {
        "id": "mumsQ6gi4LdV"
      },
      "execution_count": null,
      "outputs": []
    },
    {
      "cell_type": "code",
      "source": [],
      "metadata": {
        "id": "pqfSZPAV3ZK0"
      },
      "execution_count": null,
      "outputs": []
    },
    {
      "cell_type": "code",
      "source": [
        "#\n",
        "# Exercise 2.10: Organize the code that you created above into a function\n",
        "# that takes as input a string of any length and produces as printed output\n",
        "# all of the diagnostics and graphs noted above.\n",
        "#"
      ],
      "metadata": {
        "id": "3fcVASOVrfgR"
      },
      "execution_count": null,
      "outputs": []
    },
    {
      "cell_type": "markdown",
      "source": [
        "You have probably have reached this point before the end of the class period. Download a copy of this notebook with all of your exercises completed and the outputs of each code block retained. Then upload that file (which will have the .ipynb extension) to the appropriate drop box on Blackboard.\n",
        "\n",
        "In the notes area for your submission, write a note indicating how many of the exercises you completed.\n",
        "\n",
        "If there is additional time left in the class period, solve this problem:\n",
        "Write a loop that processes all 18 of the Gutenberg books that are provided by the NLTK library. Develop a new copy of the function from Exercise 2.10 so that it does not produce any output with graphs or lists, but rather it silently returns a data structure (preferably a dict) with the statistical values from Exercise 2.9 (i.e., the five scalar numeric values). Call the new function from within the loop and print the results returned by the function after each call. Extra challenge: Create a Pandas dataset containing all 18 books, using the data returned from your function.   "
      ],
      "metadata": {
        "id": "9xNeIHAJ9tYw"
      }
    }
  ]
}