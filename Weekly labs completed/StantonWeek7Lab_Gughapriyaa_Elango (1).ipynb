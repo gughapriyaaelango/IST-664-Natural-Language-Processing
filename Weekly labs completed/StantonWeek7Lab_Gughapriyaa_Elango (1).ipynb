{
  "nbformat": 4,
  "nbformat_minor": 0,
  "metadata": {
    "kernelspec": {
      "display_name": "Python 3",
      "language": "python",
      "name": "python3"
    },
    "language_info": {
      "codemirror_mode": {
        "name": "ipython",
        "version": 3
      },
      "file_extension": ".py",
      "mimetype": "text/x-python",
      "name": "python",
      "nbconvert_exporter": "python",
      "pygments_lexer": "ipython3",
      "version": "3.7.9"
    },
    "colab": {
      "provenance": []
    },
    "widgets": {
      "application/vnd.jupyter.widget-state+json": {
        "ee180050bbfb49219fd5ae0b65ac4584": {
          "model_module": "@jupyter-widgets/controls",
          "model_name": "HBoxModel",
          "model_module_version": "1.5.0",
          "state": {
            "_dom_classes": [],
            "_model_module": "@jupyter-widgets/controls",
            "_model_module_version": "1.5.0",
            "_model_name": "HBoxModel",
            "_view_count": null,
            "_view_module": "@jupyter-widgets/controls",
            "_view_module_version": "1.5.0",
            "_view_name": "HBoxView",
            "box_style": "",
            "children": [
              "IPY_MODEL_9cbb3d76ce7747888b23cb31cd6ff093",
              "IPY_MODEL_fc65be2336b542ff8aab05b6b6fdb75e",
              "IPY_MODEL_30a7d74d2e204e15835dd7acf0205f90"
            ],
            "layout": "IPY_MODEL_9ed3fef0d45c4c1fa332972ae4e0dfef"
          }
        },
        "9cbb3d76ce7747888b23cb31cd6ff093": {
          "model_module": "@jupyter-widgets/controls",
          "model_name": "HTMLModel",
          "model_module_version": "1.5.0",
          "state": {
            "_dom_classes": [],
            "_model_module": "@jupyter-widgets/controls",
            "_model_module_version": "1.5.0",
            "_model_name": "HTMLModel",
            "_view_count": null,
            "_view_module": "@jupyter-widgets/controls",
            "_view_module_version": "1.5.0",
            "_view_name": "HTMLView",
            "description": "",
            "description_tooltip": null,
            "layout": "IPY_MODEL_070c401969fd49f0a77e1da737e7b8cd",
            "placeholder": "​",
            "style": "IPY_MODEL_dd306c3f68094b3e81ac578ca837e9f4",
            "value": "Downloading (…)6015c/.gitattributes: 100%"
          }
        },
        "fc65be2336b542ff8aab05b6b6fdb75e": {
          "model_module": "@jupyter-widgets/controls",
          "model_name": "FloatProgressModel",
          "model_module_version": "1.5.0",
          "state": {
            "_dom_classes": [],
            "_model_module": "@jupyter-widgets/controls",
            "_model_module_version": "1.5.0",
            "_model_name": "FloatProgressModel",
            "_view_count": null,
            "_view_module": "@jupyter-widgets/controls",
            "_view_module_version": "1.5.0",
            "_view_name": "ProgressView",
            "bar_style": "success",
            "description": "",
            "description_tooltip": null,
            "layout": "IPY_MODEL_a5162fc9b2534858a95d18f25c2b0dc6",
            "max": 690,
            "min": 0,
            "orientation": "horizontal",
            "style": "IPY_MODEL_a43723b7beec4ea7b65fdcf328a70b4b",
            "value": 690
          }
        },
        "30a7d74d2e204e15835dd7acf0205f90": {
          "model_module": "@jupyter-widgets/controls",
          "model_name": "HTMLModel",
          "model_module_version": "1.5.0",
          "state": {
            "_dom_classes": [],
            "_model_module": "@jupyter-widgets/controls",
            "_model_module_version": "1.5.0",
            "_model_name": "HTMLModel",
            "_view_count": null,
            "_view_module": "@jupyter-widgets/controls",
            "_view_module_version": "1.5.0",
            "_view_name": "HTMLView",
            "description": "",
            "description_tooltip": null,
            "layout": "IPY_MODEL_d232b4ff85fd4b879f0ce748c62ccbcb",
            "placeholder": "​",
            "style": "IPY_MODEL_e2ba7906693b4185ba0f34f24c77c43d",
            "value": " 690/690 [00:00&lt;00:00, 8.74kB/s]"
          }
        },
        "9ed3fef0d45c4c1fa332972ae4e0dfef": {
          "model_module": "@jupyter-widgets/base",
          "model_name": "LayoutModel",
          "model_module_version": "1.2.0",
          "state": {
            "_model_module": "@jupyter-widgets/base",
            "_model_module_version": "1.2.0",
            "_model_name": "LayoutModel",
            "_view_count": null,
            "_view_module": "@jupyter-widgets/base",
            "_view_module_version": "1.2.0",
            "_view_name": "LayoutView",
            "align_content": null,
            "align_items": null,
            "align_self": null,
            "border": null,
            "bottom": null,
            "display": null,
            "flex": null,
            "flex_flow": null,
            "grid_area": null,
            "grid_auto_columns": null,
            "grid_auto_flow": null,
            "grid_auto_rows": null,
            "grid_column": null,
            "grid_gap": null,
            "grid_row": null,
            "grid_template_areas": null,
            "grid_template_columns": null,
            "grid_template_rows": null,
            "height": null,
            "justify_content": null,
            "justify_items": null,
            "left": null,
            "margin": null,
            "max_height": null,
            "max_width": null,
            "min_height": null,
            "min_width": null,
            "object_fit": null,
            "object_position": null,
            "order": null,
            "overflow": null,
            "overflow_x": null,
            "overflow_y": null,
            "padding": null,
            "right": null,
            "top": null,
            "visibility": null,
            "width": null
          }
        },
        "070c401969fd49f0a77e1da737e7b8cd": {
          "model_module": "@jupyter-widgets/base",
          "model_name": "LayoutModel",
          "model_module_version": "1.2.0",
          "state": {
            "_model_module": "@jupyter-widgets/base",
            "_model_module_version": "1.2.0",
            "_model_name": "LayoutModel",
            "_view_count": null,
            "_view_module": "@jupyter-widgets/base",
            "_view_module_version": "1.2.0",
            "_view_name": "LayoutView",
            "align_content": null,
            "align_items": null,
            "align_self": null,
            "border": null,
            "bottom": null,
            "display": null,
            "flex": null,
            "flex_flow": null,
            "grid_area": null,
            "grid_auto_columns": null,
            "grid_auto_flow": null,
            "grid_auto_rows": null,
            "grid_column": null,
            "grid_gap": null,
            "grid_row": null,
            "grid_template_areas": null,
            "grid_template_columns": null,
            "grid_template_rows": null,
            "height": null,
            "justify_content": null,
            "justify_items": null,
            "left": null,
            "margin": null,
            "max_height": null,
            "max_width": null,
            "min_height": null,
            "min_width": null,
            "object_fit": null,
            "object_position": null,
            "order": null,
            "overflow": null,
            "overflow_x": null,
            "overflow_y": null,
            "padding": null,
            "right": null,
            "top": null,
            "visibility": null,
            "width": null
          }
        },
        "dd306c3f68094b3e81ac578ca837e9f4": {
          "model_module": "@jupyter-widgets/controls",
          "model_name": "DescriptionStyleModel",
          "model_module_version": "1.5.0",
          "state": {
            "_model_module": "@jupyter-widgets/controls",
            "_model_module_version": "1.5.0",
            "_model_name": "DescriptionStyleModel",
            "_view_count": null,
            "_view_module": "@jupyter-widgets/base",
            "_view_module_version": "1.2.0",
            "_view_name": "StyleView",
            "description_width": ""
          }
        },
        "a5162fc9b2534858a95d18f25c2b0dc6": {
          "model_module": "@jupyter-widgets/base",
          "model_name": "LayoutModel",
          "model_module_version": "1.2.0",
          "state": {
            "_model_module": "@jupyter-widgets/base",
            "_model_module_version": "1.2.0",
            "_model_name": "LayoutModel",
            "_view_count": null,
            "_view_module": "@jupyter-widgets/base",
            "_view_module_version": "1.2.0",
            "_view_name": "LayoutView",
            "align_content": null,
            "align_items": null,
            "align_self": null,
            "border": null,
            "bottom": null,
            "display": null,
            "flex": null,
            "flex_flow": null,
            "grid_area": null,
            "grid_auto_columns": null,
            "grid_auto_flow": null,
            "grid_auto_rows": null,
            "grid_column": null,
            "grid_gap": null,
            "grid_row": null,
            "grid_template_areas": null,
            "grid_template_columns": null,
            "grid_template_rows": null,
            "height": null,
            "justify_content": null,
            "justify_items": null,
            "left": null,
            "margin": null,
            "max_height": null,
            "max_width": null,
            "min_height": null,
            "min_width": null,
            "object_fit": null,
            "object_position": null,
            "order": null,
            "overflow": null,
            "overflow_x": null,
            "overflow_y": null,
            "padding": null,
            "right": null,
            "top": null,
            "visibility": null,
            "width": null
          }
        },
        "a43723b7beec4ea7b65fdcf328a70b4b": {
          "model_module": "@jupyter-widgets/controls",
          "model_name": "ProgressStyleModel",
          "model_module_version": "1.5.0",
          "state": {
            "_model_module": "@jupyter-widgets/controls",
            "_model_module_version": "1.5.0",
            "_model_name": "ProgressStyleModel",
            "_view_count": null,
            "_view_module": "@jupyter-widgets/base",
            "_view_module_version": "1.2.0",
            "_view_name": "StyleView",
            "bar_color": null,
            "description_width": ""
          }
        },
        "d232b4ff85fd4b879f0ce748c62ccbcb": {
          "model_module": "@jupyter-widgets/base",
          "model_name": "LayoutModel",
          "model_module_version": "1.2.0",
          "state": {
            "_model_module": "@jupyter-widgets/base",
            "_model_module_version": "1.2.0",
            "_model_name": "LayoutModel",
            "_view_count": null,
            "_view_module": "@jupyter-widgets/base",
            "_view_module_version": "1.2.0",
            "_view_name": "LayoutView",
            "align_content": null,
            "align_items": null,
            "align_self": null,
            "border": null,
            "bottom": null,
            "display": null,
            "flex": null,
            "flex_flow": null,
            "grid_area": null,
            "grid_auto_columns": null,
            "grid_auto_flow": null,
            "grid_auto_rows": null,
            "grid_column": null,
            "grid_gap": null,
            "grid_row": null,
            "grid_template_areas": null,
            "grid_template_columns": null,
            "grid_template_rows": null,
            "height": null,
            "justify_content": null,
            "justify_items": null,
            "left": null,
            "margin": null,
            "max_height": null,
            "max_width": null,
            "min_height": null,
            "min_width": null,
            "object_fit": null,
            "object_position": null,
            "order": null,
            "overflow": null,
            "overflow_x": null,
            "overflow_y": null,
            "padding": null,
            "right": null,
            "top": null,
            "visibility": null,
            "width": null
          }
        },
        "e2ba7906693b4185ba0f34f24c77c43d": {
          "model_module": "@jupyter-widgets/controls",
          "model_name": "DescriptionStyleModel",
          "model_module_version": "1.5.0",
          "state": {
            "_model_module": "@jupyter-widgets/controls",
            "_model_module_version": "1.5.0",
            "_model_name": "DescriptionStyleModel",
            "_view_count": null,
            "_view_module": "@jupyter-widgets/base",
            "_view_module_version": "1.2.0",
            "_view_name": "StyleView",
            "description_width": ""
          }
        },
        "72f7c3dddb044c68855c9e93b8af38e5": {
          "model_module": "@jupyter-widgets/controls",
          "model_name": "HBoxModel",
          "model_module_version": "1.5.0",
          "state": {
            "_dom_classes": [],
            "_model_module": "@jupyter-widgets/controls",
            "_model_module_version": "1.5.0",
            "_model_name": "HBoxModel",
            "_view_count": null,
            "_view_module": "@jupyter-widgets/controls",
            "_view_module_version": "1.5.0",
            "_view_name": "HBoxView",
            "box_style": "",
            "children": [
              "IPY_MODEL_3c0f38bb1e8740f5bbac63bb7053fa05",
              "IPY_MODEL_14ffa1f06818483faed367288037f853",
              "IPY_MODEL_30a787c6b1a5485d8575d0dc89af90c6"
            ],
            "layout": "IPY_MODEL_b34ae955826040b79f29d2c3bc5ff3e2"
          }
        },
        "3c0f38bb1e8740f5bbac63bb7053fa05": {
          "model_module": "@jupyter-widgets/controls",
          "model_name": "HTMLModel",
          "model_module_version": "1.5.0",
          "state": {
            "_dom_classes": [],
            "_model_module": "@jupyter-widgets/controls",
            "_model_module_version": "1.5.0",
            "_model_name": "HTMLModel",
            "_view_count": null,
            "_view_module": "@jupyter-widgets/controls",
            "_view_module_version": "1.5.0",
            "_view_name": "HTMLView",
            "description": "",
            "description_tooltip": null,
            "layout": "IPY_MODEL_fa12dba4e4654498a9fa9a05632c2adc",
            "placeholder": "​",
            "style": "IPY_MODEL_ec9f7752cd53489d924ceca0f1ab3e20",
            "value": "Downloading (…)_Pooling/config.json: 100%"
          }
        },
        "14ffa1f06818483faed367288037f853": {
          "model_module": "@jupyter-widgets/controls",
          "model_name": "FloatProgressModel",
          "model_module_version": "1.5.0",
          "state": {
            "_dom_classes": [],
            "_model_module": "@jupyter-widgets/controls",
            "_model_module_version": "1.5.0",
            "_model_name": "FloatProgressModel",
            "_view_count": null,
            "_view_module": "@jupyter-widgets/controls",
            "_view_module_version": "1.5.0",
            "_view_name": "ProgressView",
            "bar_style": "success",
            "description": "",
            "description_tooltip": null,
            "layout": "IPY_MODEL_92821eda74bc40a8990c27a0259afa14",
            "max": 190,
            "min": 0,
            "orientation": "horizontal",
            "style": "IPY_MODEL_8576b62b9bc2467b861915c3cee82708",
            "value": 190
          }
        },
        "30a787c6b1a5485d8575d0dc89af90c6": {
          "model_module": "@jupyter-widgets/controls",
          "model_name": "HTMLModel",
          "model_module_version": "1.5.0",
          "state": {
            "_dom_classes": [],
            "_model_module": "@jupyter-widgets/controls",
            "_model_module_version": "1.5.0",
            "_model_name": "HTMLModel",
            "_view_count": null,
            "_view_module": "@jupyter-widgets/controls",
            "_view_module_version": "1.5.0",
            "_view_name": "HTMLView",
            "description": "",
            "description_tooltip": null,
            "layout": "IPY_MODEL_f39e6c076c01453985693a75211f6b23",
            "placeholder": "​",
            "style": "IPY_MODEL_40f6276408ec4909a41e2718c6c3d941",
            "value": " 190/190 [00:00&lt;00:00, 5.64kB/s]"
          }
        },
        "b34ae955826040b79f29d2c3bc5ff3e2": {
          "model_module": "@jupyter-widgets/base",
          "model_name": "LayoutModel",
          "model_module_version": "1.2.0",
          "state": {
            "_model_module": "@jupyter-widgets/base",
            "_model_module_version": "1.2.0",
            "_model_name": "LayoutModel",
            "_view_count": null,
            "_view_module": "@jupyter-widgets/base",
            "_view_module_version": "1.2.0",
            "_view_name": "LayoutView",
            "align_content": null,
            "align_items": null,
            "align_self": null,
            "border": null,
            "bottom": null,
            "display": null,
            "flex": null,
            "flex_flow": null,
            "grid_area": null,
            "grid_auto_columns": null,
            "grid_auto_flow": null,
            "grid_auto_rows": null,
            "grid_column": null,
            "grid_gap": null,
            "grid_row": null,
            "grid_template_areas": null,
            "grid_template_columns": null,
            "grid_template_rows": null,
            "height": null,
            "justify_content": null,
            "justify_items": null,
            "left": null,
            "margin": null,
            "max_height": null,
            "max_width": null,
            "min_height": null,
            "min_width": null,
            "object_fit": null,
            "object_position": null,
            "order": null,
            "overflow": null,
            "overflow_x": null,
            "overflow_y": null,
            "padding": null,
            "right": null,
            "top": null,
            "visibility": null,
            "width": null
          }
        },
        "fa12dba4e4654498a9fa9a05632c2adc": {
          "model_module": "@jupyter-widgets/base",
          "model_name": "LayoutModel",
          "model_module_version": "1.2.0",
          "state": {
            "_model_module": "@jupyter-widgets/base",
            "_model_module_version": "1.2.0",
            "_model_name": "LayoutModel",
            "_view_count": null,
            "_view_module": "@jupyter-widgets/base",
            "_view_module_version": "1.2.0",
            "_view_name": "LayoutView",
            "align_content": null,
            "align_items": null,
            "align_self": null,
            "border": null,
            "bottom": null,
            "display": null,
            "flex": null,
            "flex_flow": null,
            "grid_area": null,
            "grid_auto_columns": null,
            "grid_auto_flow": null,
            "grid_auto_rows": null,
            "grid_column": null,
            "grid_gap": null,
            "grid_row": null,
            "grid_template_areas": null,
            "grid_template_columns": null,
            "grid_template_rows": null,
            "height": null,
            "justify_content": null,
            "justify_items": null,
            "left": null,
            "margin": null,
            "max_height": null,
            "max_width": null,
            "min_height": null,
            "min_width": null,
            "object_fit": null,
            "object_position": null,
            "order": null,
            "overflow": null,
            "overflow_x": null,
            "overflow_y": null,
            "padding": null,
            "right": null,
            "top": null,
            "visibility": null,
            "width": null
          }
        },
        "ec9f7752cd53489d924ceca0f1ab3e20": {
          "model_module": "@jupyter-widgets/controls",
          "model_name": "DescriptionStyleModel",
          "model_module_version": "1.5.0",
          "state": {
            "_model_module": "@jupyter-widgets/controls",
            "_model_module_version": "1.5.0",
            "_model_name": "DescriptionStyleModel",
            "_view_count": null,
            "_view_module": "@jupyter-widgets/base",
            "_view_module_version": "1.2.0",
            "_view_name": "StyleView",
            "description_width": ""
          }
        },
        "92821eda74bc40a8990c27a0259afa14": {
          "model_module": "@jupyter-widgets/base",
          "model_name": "LayoutModel",
          "model_module_version": "1.2.0",
          "state": {
            "_model_module": "@jupyter-widgets/base",
            "_model_module_version": "1.2.0",
            "_model_name": "LayoutModel",
            "_view_count": null,
            "_view_module": "@jupyter-widgets/base",
            "_view_module_version": "1.2.0",
            "_view_name": "LayoutView",
            "align_content": null,
            "align_items": null,
            "align_self": null,
            "border": null,
            "bottom": null,
            "display": null,
            "flex": null,
            "flex_flow": null,
            "grid_area": null,
            "grid_auto_columns": null,
            "grid_auto_flow": null,
            "grid_auto_rows": null,
            "grid_column": null,
            "grid_gap": null,
            "grid_row": null,
            "grid_template_areas": null,
            "grid_template_columns": null,
            "grid_template_rows": null,
            "height": null,
            "justify_content": null,
            "justify_items": null,
            "left": null,
            "margin": null,
            "max_height": null,
            "max_width": null,
            "min_height": null,
            "min_width": null,
            "object_fit": null,
            "object_position": null,
            "order": null,
            "overflow": null,
            "overflow_x": null,
            "overflow_y": null,
            "padding": null,
            "right": null,
            "top": null,
            "visibility": null,
            "width": null
          }
        },
        "8576b62b9bc2467b861915c3cee82708": {
          "model_module": "@jupyter-widgets/controls",
          "model_name": "ProgressStyleModel",
          "model_module_version": "1.5.0",
          "state": {
            "_model_module": "@jupyter-widgets/controls",
            "_model_module_version": "1.5.0",
            "_model_name": "ProgressStyleModel",
            "_view_count": null,
            "_view_module": "@jupyter-widgets/base",
            "_view_module_version": "1.2.0",
            "_view_name": "StyleView",
            "bar_color": null,
            "description_width": ""
          }
        },
        "f39e6c076c01453985693a75211f6b23": {
          "model_module": "@jupyter-widgets/base",
          "model_name": "LayoutModel",
          "model_module_version": "1.2.0",
          "state": {
            "_model_module": "@jupyter-widgets/base",
            "_model_module_version": "1.2.0",
            "_model_name": "LayoutModel",
            "_view_count": null,
            "_view_module": "@jupyter-widgets/base",
            "_view_module_version": "1.2.0",
            "_view_name": "LayoutView",
            "align_content": null,
            "align_items": null,
            "align_self": null,
            "border": null,
            "bottom": null,
            "display": null,
            "flex": null,
            "flex_flow": null,
            "grid_area": null,
            "grid_auto_columns": null,
            "grid_auto_flow": null,
            "grid_auto_rows": null,
            "grid_column": null,
            "grid_gap": null,
            "grid_row": null,
            "grid_template_areas": null,
            "grid_template_columns": null,
            "grid_template_rows": null,
            "height": null,
            "justify_content": null,
            "justify_items": null,
            "left": null,
            "margin": null,
            "max_height": null,
            "max_width": null,
            "min_height": null,
            "min_width": null,
            "object_fit": null,
            "object_position": null,
            "order": null,
            "overflow": null,
            "overflow_x": null,
            "overflow_y": null,
            "padding": null,
            "right": null,
            "top": null,
            "visibility": null,
            "width": null
          }
        },
        "40f6276408ec4909a41e2718c6c3d941": {
          "model_module": "@jupyter-widgets/controls",
          "model_name": "DescriptionStyleModel",
          "model_module_version": "1.5.0",
          "state": {
            "_model_module": "@jupyter-widgets/controls",
            "_model_module_version": "1.5.0",
            "_model_name": "DescriptionStyleModel",
            "_view_count": null,
            "_view_module": "@jupyter-widgets/base",
            "_view_module_version": "1.2.0",
            "_view_name": "StyleView",
            "description_width": ""
          }
        },
        "bb1e9381c1264aaca470a8be7758dc13": {
          "model_module": "@jupyter-widgets/controls",
          "model_name": "HBoxModel",
          "model_module_version": "1.5.0",
          "state": {
            "_dom_classes": [],
            "_model_module": "@jupyter-widgets/controls",
            "_model_module_version": "1.5.0",
            "_model_name": "HBoxModel",
            "_view_count": null,
            "_view_module": "@jupyter-widgets/controls",
            "_view_module_version": "1.5.0",
            "_view_name": "HBoxView",
            "box_style": "",
            "children": [
              "IPY_MODEL_a6cfc1342c8f4fdd8b415e54a6c9ea15",
              "IPY_MODEL_a70fbf2592824e54801fcf31e883bccc",
              "IPY_MODEL_1d4d09d45b754098a131856358208fe7"
            ],
            "layout": "IPY_MODEL_ea4efe05b78e4254b5407a59b85a8458"
          }
        },
        "a6cfc1342c8f4fdd8b415e54a6c9ea15": {
          "model_module": "@jupyter-widgets/controls",
          "model_name": "HTMLModel",
          "model_module_version": "1.5.0",
          "state": {
            "_dom_classes": [],
            "_model_module": "@jupyter-widgets/controls",
            "_model_module_version": "1.5.0",
            "_model_name": "HTMLModel",
            "_view_count": null,
            "_view_module": "@jupyter-widgets/controls",
            "_view_module_version": "1.5.0",
            "_view_name": "HTMLView",
            "description": "",
            "description_tooltip": null,
            "layout": "IPY_MODEL_4da021b85e354285b8e40e97a824f31b",
            "placeholder": "​",
            "style": "IPY_MODEL_63e3f6fc3a734321a2245e75f69e8163",
            "value": "Downloading (…)/2_Dense/config.json: 100%"
          }
        },
        "a70fbf2592824e54801fcf31e883bccc": {
          "model_module": "@jupyter-widgets/controls",
          "model_name": "FloatProgressModel",
          "model_module_version": "1.5.0",
          "state": {
            "_dom_classes": [],
            "_model_module": "@jupyter-widgets/controls",
            "_model_module_version": "1.5.0",
            "_model_name": "FloatProgressModel",
            "_view_count": null,
            "_view_module": "@jupyter-widgets/controls",
            "_view_module_version": "1.5.0",
            "_view_name": "ProgressView",
            "bar_style": "success",
            "description": "",
            "description_tooltip": null,
            "layout": "IPY_MODEL_64bb80237078476bb44588e297ca3630",
            "max": 114,
            "min": 0,
            "orientation": "horizontal",
            "style": "IPY_MODEL_395033ab7357484284edceaa4c32620c",
            "value": 114
          }
        },
        "1d4d09d45b754098a131856358208fe7": {
          "model_module": "@jupyter-widgets/controls",
          "model_name": "HTMLModel",
          "model_module_version": "1.5.0",
          "state": {
            "_dom_classes": [],
            "_model_module": "@jupyter-widgets/controls",
            "_model_module_version": "1.5.0",
            "_model_name": "HTMLModel",
            "_view_count": null,
            "_view_module": "@jupyter-widgets/controls",
            "_view_module_version": "1.5.0",
            "_view_name": "HTMLView",
            "description": "",
            "description_tooltip": null,
            "layout": "IPY_MODEL_7471c7159f7444f6a2b5bed5d07b7794",
            "placeholder": "​",
            "style": "IPY_MODEL_3b981f9c5f4446b397878e0e52db9e12",
            "value": " 114/114 [00:00&lt;00:00, 2.27kB/s]"
          }
        },
        "ea4efe05b78e4254b5407a59b85a8458": {
          "model_module": "@jupyter-widgets/base",
          "model_name": "LayoutModel",
          "model_module_version": "1.2.0",
          "state": {
            "_model_module": "@jupyter-widgets/base",
            "_model_module_version": "1.2.0",
            "_model_name": "LayoutModel",
            "_view_count": null,
            "_view_module": "@jupyter-widgets/base",
            "_view_module_version": "1.2.0",
            "_view_name": "LayoutView",
            "align_content": null,
            "align_items": null,
            "align_self": null,
            "border": null,
            "bottom": null,
            "display": null,
            "flex": null,
            "flex_flow": null,
            "grid_area": null,
            "grid_auto_columns": null,
            "grid_auto_flow": null,
            "grid_auto_rows": null,
            "grid_column": null,
            "grid_gap": null,
            "grid_row": null,
            "grid_template_areas": null,
            "grid_template_columns": null,
            "grid_template_rows": null,
            "height": null,
            "justify_content": null,
            "justify_items": null,
            "left": null,
            "margin": null,
            "max_height": null,
            "max_width": null,
            "min_height": null,
            "min_width": null,
            "object_fit": null,
            "object_position": null,
            "order": null,
            "overflow": null,
            "overflow_x": null,
            "overflow_y": null,
            "padding": null,
            "right": null,
            "top": null,
            "visibility": null,
            "width": null
          }
        },
        "4da021b85e354285b8e40e97a824f31b": {
          "model_module": "@jupyter-widgets/base",
          "model_name": "LayoutModel",
          "model_module_version": "1.2.0",
          "state": {
            "_model_module": "@jupyter-widgets/base",
            "_model_module_version": "1.2.0",
            "_model_name": "LayoutModel",
            "_view_count": null,
            "_view_module": "@jupyter-widgets/base",
            "_view_module_version": "1.2.0",
            "_view_name": "LayoutView",
            "align_content": null,
            "align_items": null,
            "align_self": null,
            "border": null,
            "bottom": null,
            "display": null,
            "flex": null,
            "flex_flow": null,
            "grid_area": null,
            "grid_auto_columns": null,
            "grid_auto_flow": null,
            "grid_auto_rows": null,
            "grid_column": null,
            "grid_gap": null,
            "grid_row": null,
            "grid_template_areas": null,
            "grid_template_columns": null,
            "grid_template_rows": null,
            "height": null,
            "justify_content": null,
            "justify_items": null,
            "left": null,
            "margin": null,
            "max_height": null,
            "max_width": null,
            "min_height": null,
            "min_width": null,
            "object_fit": null,
            "object_position": null,
            "order": null,
            "overflow": null,
            "overflow_x": null,
            "overflow_y": null,
            "padding": null,
            "right": null,
            "top": null,
            "visibility": null,
            "width": null
          }
        },
        "63e3f6fc3a734321a2245e75f69e8163": {
          "model_module": "@jupyter-widgets/controls",
          "model_name": "DescriptionStyleModel",
          "model_module_version": "1.5.0",
          "state": {
            "_model_module": "@jupyter-widgets/controls",
            "_model_module_version": "1.5.0",
            "_model_name": "DescriptionStyleModel",
            "_view_count": null,
            "_view_module": "@jupyter-widgets/base",
            "_view_module_version": "1.2.0",
            "_view_name": "StyleView",
            "description_width": ""
          }
        },
        "64bb80237078476bb44588e297ca3630": {
          "model_module": "@jupyter-widgets/base",
          "model_name": "LayoutModel",
          "model_module_version": "1.2.0",
          "state": {
            "_model_module": "@jupyter-widgets/base",
            "_model_module_version": "1.2.0",
            "_model_name": "LayoutModel",
            "_view_count": null,
            "_view_module": "@jupyter-widgets/base",
            "_view_module_version": "1.2.0",
            "_view_name": "LayoutView",
            "align_content": null,
            "align_items": null,
            "align_self": null,
            "border": null,
            "bottom": null,
            "display": null,
            "flex": null,
            "flex_flow": null,
            "grid_area": null,
            "grid_auto_columns": null,
            "grid_auto_flow": null,
            "grid_auto_rows": null,
            "grid_column": null,
            "grid_gap": null,
            "grid_row": null,
            "grid_template_areas": null,
            "grid_template_columns": null,
            "grid_template_rows": null,
            "height": null,
            "justify_content": null,
            "justify_items": null,
            "left": null,
            "margin": null,
            "max_height": null,
            "max_width": null,
            "min_height": null,
            "min_width": null,
            "object_fit": null,
            "object_position": null,
            "order": null,
            "overflow": null,
            "overflow_x": null,
            "overflow_y": null,
            "padding": null,
            "right": null,
            "top": null,
            "visibility": null,
            "width": null
          }
        },
        "395033ab7357484284edceaa4c32620c": {
          "model_module": "@jupyter-widgets/controls",
          "model_name": "ProgressStyleModel",
          "model_module_version": "1.5.0",
          "state": {
            "_model_module": "@jupyter-widgets/controls",
            "_model_module_version": "1.5.0",
            "_model_name": "ProgressStyleModel",
            "_view_count": null,
            "_view_module": "@jupyter-widgets/base",
            "_view_module_version": "1.2.0",
            "_view_name": "StyleView",
            "bar_color": null,
            "description_width": ""
          }
        },
        "7471c7159f7444f6a2b5bed5d07b7794": {
          "model_module": "@jupyter-widgets/base",
          "model_name": "LayoutModel",
          "model_module_version": "1.2.0",
          "state": {
            "_model_module": "@jupyter-widgets/base",
            "_model_module_version": "1.2.0",
            "_model_name": "LayoutModel",
            "_view_count": null,
            "_view_module": "@jupyter-widgets/base",
            "_view_module_version": "1.2.0",
            "_view_name": "LayoutView",
            "align_content": null,
            "align_items": null,
            "align_self": null,
            "border": null,
            "bottom": null,
            "display": null,
            "flex": null,
            "flex_flow": null,
            "grid_area": null,
            "grid_auto_columns": null,
            "grid_auto_flow": null,
            "grid_auto_rows": null,
            "grid_column": null,
            "grid_gap": null,
            "grid_row": null,
            "grid_template_areas": null,
            "grid_template_columns": null,
            "grid_template_rows": null,
            "height": null,
            "justify_content": null,
            "justify_items": null,
            "left": null,
            "margin": null,
            "max_height": null,
            "max_width": null,
            "min_height": null,
            "min_width": null,
            "object_fit": null,
            "object_position": null,
            "order": null,
            "overflow": null,
            "overflow_x": null,
            "overflow_y": null,
            "padding": null,
            "right": null,
            "top": null,
            "visibility": null,
            "width": null
          }
        },
        "3b981f9c5f4446b397878e0e52db9e12": {
          "model_module": "@jupyter-widgets/controls",
          "model_name": "DescriptionStyleModel",
          "model_module_version": "1.5.0",
          "state": {
            "_model_module": "@jupyter-widgets/controls",
            "_model_module_version": "1.5.0",
            "_model_name": "DescriptionStyleModel",
            "_view_count": null,
            "_view_module": "@jupyter-widgets/base",
            "_view_module_version": "1.2.0",
            "_view_name": "StyleView",
            "description_width": ""
          }
        },
        "60567d181f374a06a5084f106f9ed169": {
          "model_module": "@jupyter-widgets/controls",
          "model_name": "HBoxModel",
          "model_module_version": "1.5.0",
          "state": {
            "_dom_classes": [],
            "_model_module": "@jupyter-widgets/controls",
            "_model_module_version": "1.5.0",
            "_model_name": "HBoxModel",
            "_view_count": null,
            "_view_module": "@jupyter-widgets/controls",
            "_view_module_version": "1.5.0",
            "_view_name": "HBoxView",
            "box_style": "",
            "children": [
              "IPY_MODEL_26bd072a70c34780884098094d97f181",
              "IPY_MODEL_839104ce664547f097485ef96e175ec0",
              "IPY_MODEL_7e6d95f4f2cc4197a2b670dfa7335794"
            ],
            "layout": "IPY_MODEL_eb0f2830f326425b9aedd9705eef3964"
          }
        },
        "26bd072a70c34780884098094d97f181": {
          "model_module": "@jupyter-widgets/controls",
          "model_name": "HTMLModel",
          "model_module_version": "1.5.0",
          "state": {
            "_dom_classes": [],
            "_model_module": "@jupyter-widgets/controls",
            "_model_module_version": "1.5.0",
            "_model_name": "HTMLModel",
            "_view_count": null,
            "_view_module": "@jupyter-widgets/controls",
            "_view_module_version": "1.5.0",
            "_view_name": "HTMLView",
            "description": "",
            "description_tooltip": null,
            "layout": "IPY_MODEL_955aa7cbae9c48de9633669911e590c4",
            "placeholder": "​",
            "style": "IPY_MODEL_b85037a6bde149eeb71b35b9a1894e37",
            "value": "Downloading (…)&quot;pytorch_model.bin&quot;;: 100%"
          }
        },
        "839104ce664547f097485ef96e175ec0": {
          "model_module": "@jupyter-widgets/controls",
          "model_name": "FloatProgressModel",
          "model_module_version": "1.5.0",
          "state": {
            "_dom_classes": [],
            "_model_module": "@jupyter-widgets/controls",
            "_model_module_version": "1.5.0",
            "_model_name": "FloatProgressModel",
            "_view_count": null,
            "_view_module": "@jupyter-widgets/controls",
            "_view_module_version": "1.5.0",
            "_view_name": "ProgressView",
            "bar_style": "success",
            "description": "",
            "description_tooltip": null,
            "layout": "IPY_MODEL_b64b1ad667e74536b3e400a3e3b7cd93",
            "max": 1575975,
            "min": 0,
            "orientation": "horizontal",
            "style": "IPY_MODEL_146a4e8181f44dac80f2c2e1d15d7ab3",
            "value": 1575975
          }
        },
        "7e6d95f4f2cc4197a2b670dfa7335794": {
          "model_module": "@jupyter-widgets/controls",
          "model_name": "HTMLModel",
          "model_module_version": "1.5.0",
          "state": {
            "_dom_classes": [],
            "_model_module": "@jupyter-widgets/controls",
            "_model_module_version": "1.5.0",
            "_model_name": "HTMLModel",
            "_view_count": null,
            "_view_module": "@jupyter-widgets/controls",
            "_view_module_version": "1.5.0",
            "_view_name": "HTMLView",
            "description": "",
            "description_tooltip": null,
            "layout": "IPY_MODEL_cb7de8ab5c7f4b27a0b4b38bc443717b",
            "placeholder": "​",
            "style": "IPY_MODEL_6cfd2717d1724619b0b163ca5a424ee1",
            "value": " 1.58M/1.58M [00:00&lt;00:00, 15.5MB/s]"
          }
        },
        "eb0f2830f326425b9aedd9705eef3964": {
          "model_module": "@jupyter-widgets/base",
          "model_name": "LayoutModel",
          "model_module_version": "1.2.0",
          "state": {
            "_model_module": "@jupyter-widgets/base",
            "_model_module_version": "1.2.0",
            "_model_name": "LayoutModel",
            "_view_count": null,
            "_view_module": "@jupyter-widgets/base",
            "_view_module_version": "1.2.0",
            "_view_name": "LayoutView",
            "align_content": null,
            "align_items": null,
            "align_self": null,
            "border": null,
            "bottom": null,
            "display": null,
            "flex": null,
            "flex_flow": null,
            "grid_area": null,
            "grid_auto_columns": null,
            "grid_auto_flow": null,
            "grid_auto_rows": null,
            "grid_column": null,
            "grid_gap": null,
            "grid_row": null,
            "grid_template_areas": null,
            "grid_template_columns": null,
            "grid_template_rows": null,
            "height": null,
            "justify_content": null,
            "justify_items": null,
            "left": null,
            "margin": null,
            "max_height": null,
            "max_width": null,
            "min_height": null,
            "min_width": null,
            "object_fit": null,
            "object_position": null,
            "order": null,
            "overflow": null,
            "overflow_x": null,
            "overflow_y": null,
            "padding": null,
            "right": null,
            "top": null,
            "visibility": null,
            "width": null
          }
        },
        "955aa7cbae9c48de9633669911e590c4": {
          "model_module": "@jupyter-widgets/base",
          "model_name": "LayoutModel",
          "model_module_version": "1.2.0",
          "state": {
            "_model_module": "@jupyter-widgets/base",
            "_model_module_version": "1.2.0",
            "_model_name": "LayoutModel",
            "_view_count": null,
            "_view_module": "@jupyter-widgets/base",
            "_view_module_version": "1.2.0",
            "_view_name": "LayoutView",
            "align_content": null,
            "align_items": null,
            "align_self": null,
            "border": null,
            "bottom": null,
            "display": null,
            "flex": null,
            "flex_flow": null,
            "grid_area": null,
            "grid_auto_columns": null,
            "grid_auto_flow": null,
            "grid_auto_rows": null,
            "grid_column": null,
            "grid_gap": null,
            "grid_row": null,
            "grid_template_areas": null,
            "grid_template_columns": null,
            "grid_template_rows": null,
            "height": null,
            "justify_content": null,
            "justify_items": null,
            "left": null,
            "margin": null,
            "max_height": null,
            "max_width": null,
            "min_height": null,
            "min_width": null,
            "object_fit": null,
            "object_position": null,
            "order": null,
            "overflow": null,
            "overflow_x": null,
            "overflow_y": null,
            "padding": null,
            "right": null,
            "top": null,
            "visibility": null,
            "width": null
          }
        },
        "b85037a6bde149eeb71b35b9a1894e37": {
          "model_module": "@jupyter-widgets/controls",
          "model_name": "DescriptionStyleModel",
          "model_module_version": "1.5.0",
          "state": {
            "_model_module": "@jupyter-widgets/controls",
            "_model_module_version": "1.5.0",
            "_model_name": "DescriptionStyleModel",
            "_view_count": null,
            "_view_module": "@jupyter-widgets/base",
            "_view_module_version": "1.2.0",
            "_view_name": "StyleView",
            "description_width": ""
          }
        },
        "b64b1ad667e74536b3e400a3e3b7cd93": {
          "model_module": "@jupyter-widgets/base",
          "model_name": "LayoutModel",
          "model_module_version": "1.2.0",
          "state": {
            "_model_module": "@jupyter-widgets/base",
            "_model_module_version": "1.2.0",
            "_model_name": "LayoutModel",
            "_view_count": null,
            "_view_module": "@jupyter-widgets/base",
            "_view_module_version": "1.2.0",
            "_view_name": "LayoutView",
            "align_content": null,
            "align_items": null,
            "align_self": null,
            "border": null,
            "bottom": null,
            "display": null,
            "flex": null,
            "flex_flow": null,
            "grid_area": null,
            "grid_auto_columns": null,
            "grid_auto_flow": null,
            "grid_auto_rows": null,
            "grid_column": null,
            "grid_gap": null,
            "grid_row": null,
            "grid_template_areas": null,
            "grid_template_columns": null,
            "grid_template_rows": null,
            "height": null,
            "justify_content": null,
            "justify_items": null,
            "left": null,
            "margin": null,
            "max_height": null,
            "max_width": null,
            "min_height": null,
            "min_width": null,
            "object_fit": null,
            "object_position": null,
            "order": null,
            "overflow": null,
            "overflow_x": null,
            "overflow_y": null,
            "padding": null,
            "right": null,
            "top": null,
            "visibility": null,
            "width": null
          }
        },
        "146a4e8181f44dac80f2c2e1d15d7ab3": {
          "model_module": "@jupyter-widgets/controls",
          "model_name": "ProgressStyleModel",
          "model_module_version": "1.5.0",
          "state": {
            "_model_module": "@jupyter-widgets/controls",
            "_model_module_version": "1.5.0",
            "_model_name": "ProgressStyleModel",
            "_view_count": null,
            "_view_module": "@jupyter-widgets/base",
            "_view_module_version": "1.2.0",
            "_view_name": "StyleView",
            "bar_color": null,
            "description_width": ""
          }
        },
        "cb7de8ab5c7f4b27a0b4b38bc443717b": {
          "model_module": "@jupyter-widgets/base",
          "model_name": "LayoutModel",
          "model_module_version": "1.2.0",
          "state": {
            "_model_module": "@jupyter-widgets/base",
            "_model_module_version": "1.2.0",
            "_model_name": "LayoutModel",
            "_view_count": null,
            "_view_module": "@jupyter-widgets/base",
            "_view_module_version": "1.2.0",
            "_view_name": "LayoutView",
            "align_content": null,
            "align_items": null,
            "align_self": null,
            "border": null,
            "bottom": null,
            "display": null,
            "flex": null,
            "flex_flow": null,
            "grid_area": null,
            "grid_auto_columns": null,
            "grid_auto_flow": null,
            "grid_auto_rows": null,
            "grid_column": null,
            "grid_gap": null,
            "grid_row": null,
            "grid_template_areas": null,
            "grid_template_columns": null,
            "grid_template_rows": null,
            "height": null,
            "justify_content": null,
            "justify_items": null,
            "left": null,
            "margin": null,
            "max_height": null,
            "max_width": null,
            "min_height": null,
            "min_width": null,
            "object_fit": null,
            "object_position": null,
            "order": null,
            "overflow": null,
            "overflow_x": null,
            "overflow_y": null,
            "padding": null,
            "right": null,
            "top": null,
            "visibility": null,
            "width": null
          }
        },
        "6cfd2717d1724619b0b163ca5a424ee1": {
          "model_module": "@jupyter-widgets/controls",
          "model_name": "DescriptionStyleModel",
          "model_module_version": "1.5.0",
          "state": {
            "_model_module": "@jupyter-widgets/controls",
            "_model_module_version": "1.5.0",
            "_model_name": "DescriptionStyleModel",
            "_view_count": null,
            "_view_module": "@jupyter-widgets/base",
            "_view_module_version": "1.2.0",
            "_view_name": "StyleView",
            "description_width": ""
          }
        },
        "3701ff87dbae4f2a93fca3e61c68d5ca": {
          "model_module": "@jupyter-widgets/controls",
          "model_name": "HBoxModel",
          "model_module_version": "1.5.0",
          "state": {
            "_dom_classes": [],
            "_model_module": "@jupyter-widgets/controls",
            "_model_module_version": "1.5.0",
            "_model_name": "HBoxModel",
            "_view_count": null,
            "_view_module": "@jupyter-widgets/controls",
            "_view_module_version": "1.5.0",
            "_view_name": "HBoxView",
            "box_style": "",
            "children": [
              "IPY_MODEL_f8ca3309abc349dbbbc9a11312edfa5a",
              "IPY_MODEL_096c06f2ce1046a19e8315ee8e23698c",
              "IPY_MODEL_50d078805dff437d92e26db96916d95f"
            ],
            "layout": "IPY_MODEL_ae764f51378e4f23bcb3d700bf9b1551"
          }
        },
        "f8ca3309abc349dbbbc9a11312edfa5a": {
          "model_module": "@jupyter-widgets/controls",
          "model_name": "HTMLModel",
          "model_module_version": "1.5.0",
          "state": {
            "_dom_classes": [],
            "_model_module": "@jupyter-widgets/controls",
            "_model_module_version": "1.5.0",
            "_model_name": "HTMLModel",
            "_view_count": null,
            "_view_module": "@jupyter-widgets/controls",
            "_view_module_version": "1.5.0",
            "_view_name": "HTMLView",
            "description": "",
            "description_tooltip": null,
            "layout": "IPY_MODEL_9bfeb7014fc141a5887809bbf36ea093",
            "placeholder": "​",
            "style": "IPY_MODEL_6091b2b40e06451eace0dc2f6b0b895f",
            "value": "Downloading (…)ff6066015c/README.md: 100%"
          }
        },
        "096c06f2ce1046a19e8315ee8e23698c": {
          "model_module": "@jupyter-widgets/controls",
          "model_name": "FloatProgressModel",
          "model_module_version": "1.5.0",
          "state": {
            "_dom_classes": [],
            "_model_module": "@jupyter-widgets/controls",
            "_model_module_version": "1.5.0",
            "_model_name": "FloatProgressModel",
            "_view_count": null,
            "_view_module": "@jupyter-widgets/controls",
            "_view_module_version": "1.5.0",
            "_view_name": "ProgressView",
            "bar_style": "success",
            "description": "",
            "description_tooltip": null,
            "layout": "IPY_MODEL_b839cdc104bb476198ffdd101baace50",
            "max": 2378,
            "min": 0,
            "orientation": "horizontal",
            "style": "IPY_MODEL_c356270218644011b4afeb5e07187a44",
            "value": 2378
          }
        },
        "50d078805dff437d92e26db96916d95f": {
          "model_module": "@jupyter-widgets/controls",
          "model_name": "HTMLModel",
          "model_module_version": "1.5.0",
          "state": {
            "_dom_classes": [],
            "_model_module": "@jupyter-widgets/controls",
            "_model_module_version": "1.5.0",
            "_model_name": "HTMLModel",
            "_view_count": null,
            "_view_module": "@jupyter-widgets/controls",
            "_view_module_version": "1.5.0",
            "_view_name": "HTMLView",
            "description": "",
            "description_tooltip": null,
            "layout": "IPY_MODEL_37e384fa5c084263957ed6ba6ae83295",
            "placeholder": "​",
            "style": "IPY_MODEL_52a9812cc4f74cd4aeba2076298981da",
            "value": " 2.38k/2.38k [00:00&lt;00:00, 40.5kB/s]"
          }
        },
        "ae764f51378e4f23bcb3d700bf9b1551": {
          "model_module": "@jupyter-widgets/base",
          "model_name": "LayoutModel",
          "model_module_version": "1.2.0",
          "state": {
            "_model_module": "@jupyter-widgets/base",
            "_model_module_version": "1.2.0",
            "_model_name": "LayoutModel",
            "_view_count": null,
            "_view_module": "@jupyter-widgets/base",
            "_view_module_version": "1.2.0",
            "_view_name": "LayoutView",
            "align_content": null,
            "align_items": null,
            "align_self": null,
            "border": null,
            "bottom": null,
            "display": null,
            "flex": null,
            "flex_flow": null,
            "grid_area": null,
            "grid_auto_columns": null,
            "grid_auto_flow": null,
            "grid_auto_rows": null,
            "grid_column": null,
            "grid_gap": null,
            "grid_row": null,
            "grid_template_areas": null,
            "grid_template_columns": null,
            "grid_template_rows": null,
            "height": null,
            "justify_content": null,
            "justify_items": null,
            "left": null,
            "margin": null,
            "max_height": null,
            "max_width": null,
            "min_height": null,
            "min_width": null,
            "object_fit": null,
            "object_position": null,
            "order": null,
            "overflow": null,
            "overflow_x": null,
            "overflow_y": null,
            "padding": null,
            "right": null,
            "top": null,
            "visibility": null,
            "width": null
          }
        },
        "9bfeb7014fc141a5887809bbf36ea093": {
          "model_module": "@jupyter-widgets/base",
          "model_name": "LayoutModel",
          "model_module_version": "1.2.0",
          "state": {
            "_model_module": "@jupyter-widgets/base",
            "_model_module_version": "1.2.0",
            "_model_name": "LayoutModel",
            "_view_count": null,
            "_view_module": "@jupyter-widgets/base",
            "_view_module_version": "1.2.0",
            "_view_name": "LayoutView",
            "align_content": null,
            "align_items": null,
            "align_self": null,
            "border": null,
            "bottom": null,
            "display": null,
            "flex": null,
            "flex_flow": null,
            "grid_area": null,
            "grid_auto_columns": null,
            "grid_auto_flow": null,
            "grid_auto_rows": null,
            "grid_column": null,
            "grid_gap": null,
            "grid_row": null,
            "grid_template_areas": null,
            "grid_template_columns": null,
            "grid_template_rows": null,
            "height": null,
            "justify_content": null,
            "justify_items": null,
            "left": null,
            "margin": null,
            "max_height": null,
            "max_width": null,
            "min_height": null,
            "min_width": null,
            "object_fit": null,
            "object_position": null,
            "order": null,
            "overflow": null,
            "overflow_x": null,
            "overflow_y": null,
            "padding": null,
            "right": null,
            "top": null,
            "visibility": null,
            "width": null
          }
        },
        "6091b2b40e06451eace0dc2f6b0b895f": {
          "model_module": "@jupyter-widgets/controls",
          "model_name": "DescriptionStyleModel",
          "model_module_version": "1.5.0",
          "state": {
            "_model_module": "@jupyter-widgets/controls",
            "_model_module_version": "1.5.0",
            "_model_name": "DescriptionStyleModel",
            "_view_count": null,
            "_view_module": "@jupyter-widgets/base",
            "_view_module_version": "1.2.0",
            "_view_name": "StyleView",
            "description_width": ""
          }
        },
        "b839cdc104bb476198ffdd101baace50": {
          "model_module": "@jupyter-widgets/base",
          "model_name": "LayoutModel",
          "model_module_version": "1.2.0",
          "state": {
            "_model_module": "@jupyter-widgets/base",
            "_model_module_version": "1.2.0",
            "_model_name": "LayoutModel",
            "_view_count": null,
            "_view_module": "@jupyter-widgets/base",
            "_view_module_version": "1.2.0",
            "_view_name": "LayoutView",
            "align_content": null,
            "align_items": null,
            "align_self": null,
            "border": null,
            "bottom": null,
            "display": null,
            "flex": null,
            "flex_flow": null,
            "grid_area": null,
            "grid_auto_columns": null,
            "grid_auto_flow": null,
            "grid_auto_rows": null,
            "grid_column": null,
            "grid_gap": null,
            "grid_row": null,
            "grid_template_areas": null,
            "grid_template_columns": null,
            "grid_template_rows": null,
            "height": null,
            "justify_content": null,
            "justify_items": null,
            "left": null,
            "margin": null,
            "max_height": null,
            "max_width": null,
            "min_height": null,
            "min_width": null,
            "object_fit": null,
            "object_position": null,
            "order": null,
            "overflow": null,
            "overflow_x": null,
            "overflow_y": null,
            "padding": null,
            "right": null,
            "top": null,
            "visibility": null,
            "width": null
          }
        },
        "c356270218644011b4afeb5e07187a44": {
          "model_module": "@jupyter-widgets/controls",
          "model_name": "ProgressStyleModel",
          "model_module_version": "1.5.0",
          "state": {
            "_model_module": "@jupyter-widgets/controls",
            "_model_module_version": "1.5.0",
            "_model_name": "ProgressStyleModel",
            "_view_count": null,
            "_view_module": "@jupyter-widgets/base",
            "_view_module_version": "1.2.0",
            "_view_name": "StyleView",
            "bar_color": null,
            "description_width": ""
          }
        },
        "37e384fa5c084263957ed6ba6ae83295": {
          "model_module": "@jupyter-widgets/base",
          "model_name": "LayoutModel",
          "model_module_version": "1.2.0",
          "state": {
            "_model_module": "@jupyter-widgets/base",
            "_model_module_version": "1.2.0",
            "_model_name": "LayoutModel",
            "_view_count": null,
            "_view_module": "@jupyter-widgets/base",
            "_view_module_version": "1.2.0",
            "_view_name": "LayoutView",
            "align_content": null,
            "align_items": null,
            "align_self": null,
            "border": null,
            "bottom": null,
            "display": null,
            "flex": null,
            "flex_flow": null,
            "grid_area": null,
            "grid_auto_columns": null,
            "grid_auto_flow": null,
            "grid_auto_rows": null,
            "grid_column": null,
            "grid_gap": null,
            "grid_row": null,
            "grid_template_areas": null,
            "grid_template_columns": null,
            "grid_template_rows": null,
            "height": null,
            "justify_content": null,
            "justify_items": null,
            "left": null,
            "margin": null,
            "max_height": null,
            "max_width": null,
            "min_height": null,
            "min_width": null,
            "object_fit": null,
            "object_position": null,
            "order": null,
            "overflow": null,
            "overflow_x": null,
            "overflow_y": null,
            "padding": null,
            "right": null,
            "top": null,
            "visibility": null,
            "width": null
          }
        },
        "52a9812cc4f74cd4aeba2076298981da": {
          "model_module": "@jupyter-widgets/controls",
          "model_name": "DescriptionStyleModel",
          "model_module_version": "1.5.0",
          "state": {
            "_model_module": "@jupyter-widgets/controls",
            "_model_module_version": "1.5.0",
            "_model_name": "DescriptionStyleModel",
            "_view_count": null,
            "_view_module": "@jupyter-widgets/base",
            "_view_module_version": "1.2.0",
            "_view_name": "StyleView",
            "description_width": ""
          }
        },
        "75794fb76ab44870b7bf6f697fa2c6dc": {
          "model_module": "@jupyter-widgets/controls",
          "model_name": "HBoxModel",
          "model_module_version": "1.5.0",
          "state": {
            "_dom_classes": [],
            "_model_module": "@jupyter-widgets/controls",
            "_model_module_version": "1.5.0",
            "_model_name": "HBoxModel",
            "_view_count": null,
            "_view_module": "@jupyter-widgets/controls",
            "_view_module_version": "1.5.0",
            "_view_name": "HBoxView",
            "box_style": "",
            "children": [
              "IPY_MODEL_daa66af064084a5c8562d630b0852d8a",
              "IPY_MODEL_20e85986d9c8405f93169a671ba7623d",
              "IPY_MODEL_37abf0bcc0124d2386a34d47f32e59d6"
            ],
            "layout": "IPY_MODEL_12e5335c6b4b478b9899ad3b9d4e8a50"
          }
        },
        "daa66af064084a5c8562d630b0852d8a": {
          "model_module": "@jupyter-widgets/controls",
          "model_name": "HTMLModel",
          "model_module_version": "1.5.0",
          "state": {
            "_dom_classes": [],
            "_model_module": "@jupyter-widgets/controls",
            "_model_module_version": "1.5.0",
            "_model_name": "HTMLModel",
            "_view_count": null,
            "_view_module": "@jupyter-widgets/controls",
            "_view_module_version": "1.5.0",
            "_view_name": "HTMLView",
            "description": "",
            "description_tooltip": null,
            "layout": "IPY_MODEL_d0dcc81cf9db4f6bb8a8165e44ba4fc0",
            "placeholder": "​",
            "style": "IPY_MODEL_6989fec143a1453e8699f03dc960b993",
            "value": "Downloading (…)6066015c/config.json: 100%"
          }
        },
        "20e85986d9c8405f93169a671ba7623d": {
          "model_module": "@jupyter-widgets/controls",
          "model_name": "FloatProgressModel",
          "model_module_version": "1.5.0",
          "state": {
            "_dom_classes": [],
            "_model_module": "@jupyter-widgets/controls",
            "_model_module_version": "1.5.0",
            "_model_name": "FloatProgressModel",
            "_view_count": null,
            "_view_module": "@jupyter-widgets/controls",
            "_view_module_version": "1.5.0",
            "_view_name": "ProgressView",
            "bar_style": "success",
            "description": "",
            "description_tooltip": null,
            "layout": "IPY_MODEL_065af197678c45a98890e0630ac32aed",
            "max": 610,
            "min": 0,
            "orientation": "horizontal",
            "style": "IPY_MODEL_40b1c6ea42a14332bec0c5eb4cea0f0c",
            "value": 610
          }
        },
        "37abf0bcc0124d2386a34d47f32e59d6": {
          "model_module": "@jupyter-widgets/controls",
          "model_name": "HTMLModel",
          "model_module_version": "1.5.0",
          "state": {
            "_dom_classes": [],
            "_model_module": "@jupyter-widgets/controls",
            "_model_module_version": "1.5.0",
            "_model_name": "HTMLModel",
            "_view_count": null,
            "_view_module": "@jupyter-widgets/controls",
            "_view_module_version": "1.5.0",
            "_view_name": "HTMLView",
            "description": "",
            "description_tooltip": null,
            "layout": "IPY_MODEL_7019b4cc134d4c0cafeeb52546efe400",
            "placeholder": "​",
            "style": "IPY_MODEL_7e276f0c0c014ac79130f69ec6e25234",
            "value": " 610/610 [00:00&lt;00:00, 9.28kB/s]"
          }
        },
        "12e5335c6b4b478b9899ad3b9d4e8a50": {
          "model_module": "@jupyter-widgets/base",
          "model_name": "LayoutModel",
          "model_module_version": "1.2.0",
          "state": {
            "_model_module": "@jupyter-widgets/base",
            "_model_module_version": "1.2.0",
            "_model_name": "LayoutModel",
            "_view_count": null,
            "_view_module": "@jupyter-widgets/base",
            "_view_module_version": "1.2.0",
            "_view_name": "LayoutView",
            "align_content": null,
            "align_items": null,
            "align_self": null,
            "border": null,
            "bottom": null,
            "display": null,
            "flex": null,
            "flex_flow": null,
            "grid_area": null,
            "grid_auto_columns": null,
            "grid_auto_flow": null,
            "grid_auto_rows": null,
            "grid_column": null,
            "grid_gap": null,
            "grid_row": null,
            "grid_template_areas": null,
            "grid_template_columns": null,
            "grid_template_rows": null,
            "height": null,
            "justify_content": null,
            "justify_items": null,
            "left": null,
            "margin": null,
            "max_height": null,
            "max_width": null,
            "min_height": null,
            "min_width": null,
            "object_fit": null,
            "object_position": null,
            "order": null,
            "overflow": null,
            "overflow_x": null,
            "overflow_y": null,
            "padding": null,
            "right": null,
            "top": null,
            "visibility": null,
            "width": null
          }
        },
        "d0dcc81cf9db4f6bb8a8165e44ba4fc0": {
          "model_module": "@jupyter-widgets/base",
          "model_name": "LayoutModel",
          "model_module_version": "1.2.0",
          "state": {
            "_model_module": "@jupyter-widgets/base",
            "_model_module_version": "1.2.0",
            "_model_name": "LayoutModel",
            "_view_count": null,
            "_view_module": "@jupyter-widgets/base",
            "_view_module_version": "1.2.0",
            "_view_name": "LayoutView",
            "align_content": null,
            "align_items": null,
            "align_self": null,
            "border": null,
            "bottom": null,
            "display": null,
            "flex": null,
            "flex_flow": null,
            "grid_area": null,
            "grid_auto_columns": null,
            "grid_auto_flow": null,
            "grid_auto_rows": null,
            "grid_column": null,
            "grid_gap": null,
            "grid_row": null,
            "grid_template_areas": null,
            "grid_template_columns": null,
            "grid_template_rows": null,
            "height": null,
            "justify_content": null,
            "justify_items": null,
            "left": null,
            "margin": null,
            "max_height": null,
            "max_width": null,
            "min_height": null,
            "min_width": null,
            "object_fit": null,
            "object_position": null,
            "order": null,
            "overflow": null,
            "overflow_x": null,
            "overflow_y": null,
            "padding": null,
            "right": null,
            "top": null,
            "visibility": null,
            "width": null
          }
        },
        "6989fec143a1453e8699f03dc960b993": {
          "model_module": "@jupyter-widgets/controls",
          "model_name": "DescriptionStyleModel",
          "model_module_version": "1.5.0",
          "state": {
            "_model_module": "@jupyter-widgets/controls",
            "_model_module_version": "1.5.0",
            "_model_name": "DescriptionStyleModel",
            "_view_count": null,
            "_view_module": "@jupyter-widgets/base",
            "_view_module_version": "1.2.0",
            "_view_name": "StyleView",
            "description_width": ""
          }
        },
        "065af197678c45a98890e0630ac32aed": {
          "model_module": "@jupyter-widgets/base",
          "model_name": "LayoutModel",
          "model_module_version": "1.2.0",
          "state": {
            "_model_module": "@jupyter-widgets/base",
            "_model_module_version": "1.2.0",
            "_model_name": "LayoutModel",
            "_view_count": null,
            "_view_module": "@jupyter-widgets/base",
            "_view_module_version": "1.2.0",
            "_view_name": "LayoutView",
            "align_content": null,
            "align_items": null,
            "align_self": null,
            "border": null,
            "bottom": null,
            "display": null,
            "flex": null,
            "flex_flow": null,
            "grid_area": null,
            "grid_auto_columns": null,
            "grid_auto_flow": null,
            "grid_auto_rows": null,
            "grid_column": null,
            "grid_gap": null,
            "grid_row": null,
            "grid_template_areas": null,
            "grid_template_columns": null,
            "grid_template_rows": null,
            "height": null,
            "justify_content": null,
            "justify_items": null,
            "left": null,
            "margin": null,
            "max_height": null,
            "max_width": null,
            "min_height": null,
            "min_width": null,
            "object_fit": null,
            "object_position": null,
            "order": null,
            "overflow": null,
            "overflow_x": null,
            "overflow_y": null,
            "padding": null,
            "right": null,
            "top": null,
            "visibility": null,
            "width": null
          }
        },
        "40b1c6ea42a14332bec0c5eb4cea0f0c": {
          "model_module": "@jupyter-widgets/controls",
          "model_name": "ProgressStyleModel",
          "model_module_version": "1.5.0",
          "state": {
            "_model_module": "@jupyter-widgets/controls",
            "_model_module_version": "1.5.0",
            "_model_name": "ProgressStyleModel",
            "_view_count": null,
            "_view_module": "@jupyter-widgets/base",
            "_view_module_version": "1.2.0",
            "_view_name": "StyleView",
            "bar_color": null,
            "description_width": ""
          }
        },
        "7019b4cc134d4c0cafeeb52546efe400": {
          "model_module": "@jupyter-widgets/base",
          "model_name": "LayoutModel",
          "model_module_version": "1.2.0",
          "state": {
            "_model_module": "@jupyter-widgets/base",
            "_model_module_version": "1.2.0",
            "_model_name": "LayoutModel",
            "_view_count": null,
            "_view_module": "@jupyter-widgets/base",
            "_view_module_version": "1.2.0",
            "_view_name": "LayoutView",
            "align_content": null,
            "align_items": null,
            "align_self": null,
            "border": null,
            "bottom": null,
            "display": null,
            "flex": null,
            "flex_flow": null,
            "grid_area": null,
            "grid_auto_columns": null,
            "grid_auto_flow": null,
            "grid_auto_rows": null,
            "grid_column": null,
            "grid_gap": null,
            "grid_row": null,
            "grid_template_areas": null,
            "grid_template_columns": null,
            "grid_template_rows": null,
            "height": null,
            "justify_content": null,
            "justify_items": null,
            "left": null,
            "margin": null,
            "max_height": null,
            "max_width": null,
            "min_height": null,
            "min_width": null,
            "object_fit": null,
            "object_position": null,
            "order": null,
            "overflow": null,
            "overflow_x": null,
            "overflow_y": null,
            "padding": null,
            "right": null,
            "top": null,
            "visibility": null,
            "width": null
          }
        },
        "7e276f0c0c014ac79130f69ec6e25234": {
          "model_module": "@jupyter-widgets/controls",
          "model_name": "DescriptionStyleModel",
          "model_module_version": "1.5.0",
          "state": {
            "_model_module": "@jupyter-widgets/controls",
            "_model_module_version": "1.5.0",
            "_model_name": "DescriptionStyleModel",
            "_view_count": null,
            "_view_module": "@jupyter-widgets/base",
            "_view_module_version": "1.2.0",
            "_view_name": "StyleView",
            "description_width": ""
          }
        },
        "f10b0abd8dd544c28212656bef9574e6": {
          "model_module": "@jupyter-widgets/controls",
          "model_name": "HBoxModel",
          "model_module_version": "1.5.0",
          "state": {
            "_dom_classes": [],
            "_model_module": "@jupyter-widgets/controls",
            "_model_module_version": "1.5.0",
            "_model_name": "HBoxModel",
            "_view_count": null,
            "_view_module": "@jupyter-widgets/controls",
            "_view_module_version": "1.5.0",
            "_view_name": "HBoxView",
            "box_style": "",
            "children": [
              "IPY_MODEL_30dd13e3bcd54e8da440da0e4d7cc30c",
              "IPY_MODEL_9eb07c7fa9bd4950b735c6e1b31bb97c",
              "IPY_MODEL_714d0a7b3d89482c90975a370445bf5c"
            ],
            "layout": "IPY_MODEL_055010c68aca440899c0e6924f44d3c0"
          }
        },
        "30dd13e3bcd54e8da440da0e4d7cc30c": {
          "model_module": "@jupyter-widgets/controls",
          "model_name": "HTMLModel",
          "model_module_version": "1.5.0",
          "state": {
            "_dom_classes": [],
            "_model_module": "@jupyter-widgets/controls",
            "_model_module_version": "1.5.0",
            "_model_name": "HTMLModel",
            "_view_count": null,
            "_view_module": "@jupyter-widgets/controls",
            "_view_module_version": "1.5.0",
            "_view_name": "HTMLView",
            "description": "",
            "description_tooltip": null,
            "layout": "IPY_MODEL_acdd5efd9abc4961abf8a15a02d09869",
            "placeholder": "​",
            "style": "IPY_MODEL_609fe05bc0e642f1b6002745c019057a",
            "value": "Downloading (…)ce_transformers.json: 100%"
          }
        },
        "9eb07c7fa9bd4950b735c6e1b31bb97c": {
          "model_module": "@jupyter-widgets/controls",
          "model_name": "FloatProgressModel",
          "model_module_version": "1.5.0",
          "state": {
            "_dom_classes": [],
            "_model_module": "@jupyter-widgets/controls",
            "_model_module_version": "1.5.0",
            "_model_name": "FloatProgressModel",
            "_view_count": null,
            "_view_module": "@jupyter-widgets/controls",
            "_view_module_version": "1.5.0",
            "_view_name": "ProgressView",
            "bar_style": "success",
            "description": "",
            "description_tooltip": null,
            "layout": "IPY_MODEL_e29dbf2f381f4cbb9a95e6f4793d12d6",
            "max": 122,
            "min": 0,
            "orientation": "horizontal",
            "style": "IPY_MODEL_026dc134405745e29af521607be5c38b",
            "value": 122
          }
        },
        "714d0a7b3d89482c90975a370445bf5c": {
          "model_module": "@jupyter-widgets/controls",
          "model_name": "HTMLModel",
          "model_module_version": "1.5.0",
          "state": {
            "_dom_classes": [],
            "_model_module": "@jupyter-widgets/controls",
            "_model_module_version": "1.5.0",
            "_model_name": "HTMLModel",
            "_view_count": null,
            "_view_module": "@jupyter-widgets/controls",
            "_view_module_version": "1.5.0",
            "_view_name": "HTMLView",
            "description": "",
            "description_tooltip": null,
            "layout": "IPY_MODEL_1d49a54ff183429fab55153eaa995d58",
            "placeholder": "​",
            "style": "IPY_MODEL_2cca11ff3eb9466d97251adb61707988",
            "value": " 122/122 [00:00&lt;00:00, 2.55kB/s]"
          }
        },
        "055010c68aca440899c0e6924f44d3c0": {
          "model_module": "@jupyter-widgets/base",
          "model_name": "LayoutModel",
          "model_module_version": "1.2.0",
          "state": {
            "_model_module": "@jupyter-widgets/base",
            "_model_module_version": "1.2.0",
            "_model_name": "LayoutModel",
            "_view_count": null,
            "_view_module": "@jupyter-widgets/base",
            "_view_module_version": "1.2.0",
            "_view_name": "LayoutView",
            "align_content": null,
            "align_items": null,
            "align_self": null,
            "border": null,
            "bottom": null,
            "display": null,
            "flex": null,
            "flex_flow": null,
            "grid_area": null,
            "grid_auto_columns": null,
            "grid_auto_flow": null,
            "grid_auto_rows": null,
            "grid_column": null,
            "grid_gap": null,
            "grid_row": null,
            "grid_template_areas": null,
            "grid_template_columns": null,
            "grid_template_rows": null,
            "height": null,
            "justify_content": null,
            "justify_items": null,
            "left": null,
            "margin": null,
            "max_height": null,
            "max_width": null,
            "min_height": null,
            "min_width": null,
            "object_fit": null,
            "object_position": null,
            "order": null,
            "overflow": null,
            "overflow_x": null,
            "overflow_y": null,
            "padding": null,
            "right": null,
            "top": null,
            "visibility": null,
            "width": null
          }
        },
        "acdd5efd9abc4961abf8a15a02d09869": {
          "model_module": "@jupyter-widgets/base",
          "model_name": "LayoutModel",
          "model_module_version": "1.2.0",
          "state": {
            "_model_module": "@jupyter-widgets/base",
            "_model_module_version": "1.2.0",
            "_model_name": "LayoutModel",
            "_view_count": null,
            "_view_module": "@jupyter-widgets/base",
            "_view_module_version": "1.2.0",
            "_view_name": "LayoutView",
            "align_content": null,
            "align_items": null,
            "align_self": null,
            "border": null,
            "bottom": null,
            "display": null,
            "flex": null,
            "flex_flow": null,
            "grid_area": null,
            "grid_auto_columns": null,
            "grid_auto_flow": null,
            "grid_auto_rows": null,
            "grid_column": null,
            "grid_gap": null,
            "grid_row": null,
            "grid_template_areas": null,
            "grid_template_columns": null,
            "grid_template_rows": null,
            "height": null,
            "justify_content": null,
            "justify_items": null,
            "left": null,
            "margin": null,
            "max_height": null,
            "max_width": null,
            "min_height": null,
            "min_width": null,
            "object_fit": null,
            "object_position": null,
            "order": null,
            "overflow": null,
            "overflow_x": null,
            "overflow_y": null,
            "padding": null,
            "right": null,
            "top": null,
            "visibility": null,
            "width": null
          }
        },
        "609fe05bc0e642f1b6002745c019057a": {
          "model_module": "@jupyter-widgets/controls",
          "model_name": "DescriptionStyleModel",
          "model_module_version": "1.5.0",
          "state": {
            "_model_module": "@jupyter-widgets/controls",
            "_model_module_version": "1.5.0",
            "_model_name": "DescriptionStyleModel",
            "_view_count": null,
            "_view_module": "@jupyter-widgets/base",
            "_view_module_version": "1.2.0",
            "_view_name": "StyleView",
            "description_width": ""
          }
        },
        "e29dbf2f381f4cbb9a95e6f4793d12d6": {
          "model_module": "@jupyter-widgets/base",
          "model_name": "LayoutModel",
          "model_module_version": "1.2.0",
          "state": {
            "_model_module": "@jupyter-widgets/base",
            "_model_module_version": "1.2.0",
            "_model_name": "LayoutModel",
            "_view_count": null,
            "_view_module": "@jupyter-widgets/base",
            "_view_module_version": "1.2.0",
            "_view_name": "LayoutView",
            "align_content": null,
            "align_items": null,
            "align_self": null,
            "border": null,
            "bottom": null,
            "display": null,
            "flex": null,
            "flex_flow": null,
            "grid_area": null,
            "grid_auto_columns": null,
            "grid_auto_flow": null,
            "grid_auto_rows": null,
            "grid_column": null,
            "grid_gap": null,
            "grid_row": null,
            "grid_template_areas": null,
            "grid_template_columns": null,
            "grid_template_rows": null,
            "height": null,
            "justify_content": null,
            "justify_items": null,
            "left": null,
            "margin": null,
            "max_height": null,
            "max_width": null,
            "min_height": null,
            "min_width": null,
            "object_fit": null,
            "object_position": null,
            "order": null,
            "overflow": null,
            "overflow_x": null,
            "overflow_y": null,
            "padding": null,
            "right": null,
            "top": null,
            "visibility": null,
            "width": null
          }
        },
        "026dc134405745e29af521607be5c38b": {
          "model_module": "@jupyter-widgets/controls",
          "model_name": "ProgressStyleModel",
          "model_module_version": "1.5.0",
          "state": {
            "_model_module": "@jupyter-widgets/controls",
            "_model_module_version": "1.5.0",
            "_model_name": "ProgressStyleModel",
            "_view_count": null,
            "_view_module": "@jupyter-widgets/base",
            "_view_module_version": "1.2.0",
            "_view_name": "StyleView",
            "bar_color": null,
            "description_width": ""
          }
        },
        "1d49a54ff183429fab55153eaa995d58": {
          "model_module": "@jupyter-widgets/base",
          "model_name": "LayoutModel",
          "model_module_version": "1.2.0",
          "state": {
            "_model_module": "@jupyter-widgets/base",
            "_model_module_version": "1.2.0",
            "_model_name": "LayoutModel",
            "_view_count": null,
            "_view_module": "@jupyter-widgets/base",
            "_view_module_version": "1.2.0",
            "_view_name": "LayoutView",
            "align_content": null,
            "align_items": null,
            "align_self": null,
            "border": null,
            "bottom": null,
            "display": null,
            "flex": null,
            "flex_flow": null,
            "grid_area": null,
            "grid_auto_columns": null,
            "grid_auto_flow": null,
            "grid_auto_rows": null,
            "grid_column": null,
            "grid_gap": null,
            "grid_row": null,
            "grid_template_areas": null,
            "grid_template_columns": null,
            "grid_template_rows": null,
            "height": null,
            "justify_content": null,
            "justify_items": null,
            "left": null,
            "margin": null,
            "max_height": null,
            "max_width": null,
            "min_height": null,
            "min_width": null,
            "object_fit": null,
            "object_position": null,
            "order": null,
            "overflow": null,
            "overflow_x": null,
            "overflow_y": null,
            "padding": null,
            "right": null,
            "top": null,
            "visibility": null,
            "width": null
          }
        },
        "2cca11ff3eb9466d97251adb61707988": {
          "model_module": "@jupyter-widgets/controls",
          "model_name": "DescriptionStyleModel",
          "model_module_version": "1.5.0",
          "state": {
            "_model_module": "@jupyter-widgets/controls",
            "_model_module_version": "1.5.0",
            "_model_name": "DescriptionStyleModel",
            "_view_count": null,
            "_view_module": "@jupyter-widgets/base",
            "_view_module_version": "1.2.0",
            "_view_name": "StyleView",
            "description_width": ""
          }
        },
        "fdb737140dc44c2f816e5719b92084d3": {
          "model_module": "@jupyter-widgets/controls",
          "model_name": "HBoxModel",
          "model_module_version": "1.5.0",
          "state": {
            "_dom_classes": [],
            "_model_module": "@jupyter-widgets/controls",
            "_model_module_version": "1.5.0",
            "_model_name": "HBoxModel",
            "_view_count": null,
            "_view_module": "@jupyter-widgets/controls",
            "_view_module_version": "1.5.0",
            "_view_name": "HBoxView",
            "box_style": "",
            "children": [
              "IPY_MODEL_22a08a4b487941d48bc59afd698db162",
              "IPY_MODEL_1dc881ab836f410790b8be2e8c365a16",
              "IPY_MODEL_d9801da91fa44f98b0e9e6c127d88d70"
            ],
            "layout": "IPY_MODEL_9bca5bec73ed4cc894de5213dc021ad7"
          }
        },
        "22a08a4b487941d48bc59afd698db162": {
          "model_module": "@jupyter-widgets/controls",
          "model_name": "HTMLModel",
          "model_module_version": "1.5.0",
          "state": {
            "_dom_classes": [],
            "_model_module": "@jupyter-widgets/controls",
            "_model_module_version": "1.5.0",
            "_model_name": "HTMLModel",
            "_view_count": null,
            "_view_module": "@jupyter-widgets/controls",
            "_view_module_version": "1.5.0",
            "_view_name": "HTMLView",
            "description": "",
            "description_tooltip": null,
            "layout": "IPY_MODEL_f2dcb6de5ef24e6ba0333a7146b452c3",
            "placeholder": "​",
            "style": "IPY_MODEL_690ace4e47244644a96f2790bd2d1897",
            "value": "Downloading (…)&quot;pytorch_model.bin&quot;;: 100%"
          }
        },
        "1dc881ab836f410790b8be2e8c365a16": {
          "model_module": "@jupyter-widgets/controls",
          "model_name": "FloatProgressModel",
          "model_module_version": "1.5.0",
          "state": {
            "_dom_classes": [],
            "_model_module": "@jupyter-widgets/controls",
            "_model_module_version": "1.5.0",
            "_model_name": "FloatProgressModel",
            "_view_count": null,
            "_view_module": "@jupyter-widgets/controls",
            "_view_module_version": "1.5.0",
            "_view_name": "ProgressView",
            "bar_style": "success",
            "description": "",
            "description_tooltip": null,
            "layout": "IPY_MODEL_412427e80ce546a6a5ab8b41ea291d8c",
            "max": 538971577,
            "min": 0,
            "orientation": "horizontal",
            "style": "IPY_MODEL_b0a2ccccaf704eeb802bf2250bb7b178",
            "value": 538971577
          }
        },
        "d9801da91fa44f98b0e9e6c127d88d70": {
          "model_module": "@jupyter-widgets/controls",
          "model_name": "HTMLModel",
          "model_module_version": "1.5.0",
          "state": {
            "_dom_classes": [],
            "_model_module": "@jupyter-widgets/controls",
            "_model_module_version": "1.5.0",
            "_model_name": "HTMLModel",
            "_view_count": null,
            "_view_module": "@jupyter-widgets/controls",
            "_view_module_version": "1.5.0",
            "_view_name": "HTMLView",
            "description": "",
            "description_tooltip": null,
            "layout": "IPY_MODEL_136eb9d2dec742488a64daf4fb83743a",
            "placeholder": "​",
            "style": "IPY_MODEL_60267b657c6d4f4bb09c66195468a311",
            "value": " 539M/539M [00:03&lt;00:00, 142MB/s]"
          }
        },
        "9bca5bec73ed4cc894de5213dc021ad7": {
          "model_module": "@jupyter-widgets/base",
          "model_name": "LayoutModel",
          "model_module_version": "1.2.0",
          "state": {
            "_model_module": "@jupyter-widgets/base",
            "_model_module_version": "1.2.0",
            "_model_name": "LayoutModel",
            "_view_count": null,
            "_view_module": "@jupyter-widgets/base",
            "_view_module_version": "1.2.0",
            "_view_name": "LayoutView",
            "align_content": null,
            "align_items": null,
            "align_self": null,
            "border": null,
            "bottom": null,
            "display": null,
            "flex": null,
            "flex_flow": null,
            "grid_area": null,
            "grid_auto_columns": null,
            "grid_auto_flow": null,
            "grid_auto_rows": null,
            "grid_column": null,
            "grid_gap": null,
            "grid_row": null,
            "grid_template_areas": null,
            "grid_template_columns": null,
            "grid_template_rows": null,
            "height": null,
            "justify_content": null,
            "justify_items": null,
            "left": null,
            "margin": null,
            "max_height": null,
            "max_width": null,
            "min_height": null,
            "min_width": null,
            "object_fit": null,
            "object_position": null,
            "order": null,
            "overflow": null,
            "overflow_x": null,
            "overflow_y": null,
            "padding": null,
            "right": null,
            "top": null,
            "visibility": null,
            "width": null
          }
        },
        "f2dcb6de5ef24e6ba0333a7146b452c3": {
          "model_module": "@jupyter-widgets/base",
          "model_name": "LayoutModel",
          "model_module_version": "1.2.0",
          "state": {
            "_model_module": "@jupyter-widgets/base",
            "_model_module_version": "1.2.0",
            "_model_name": "LayoutModel",
            "_view_count": null,
            "_view_module": "@jupyter-widgets/base",
            "_view_module_version": "1.2.0",
            "_view_name": "LayoutView",
            "align_content": null,
            "align_items": null,
            "align_self": null,
            "border": null,
            "bottom": null,
            "display": null,
            "flex": null,
            "flex_flow": null,
            "grid_area": null,
            "grid_auto_columns": null,
            "grid_auto_flow": null,
            "grid_auto_rows": null,
            "grid_column": null,
            "grid_gap": null,
            "grid_row": null,
            "grid_template_areas": null,
            "grid_template_columns": null,
            "grid_template_rows": null,
            "height": null,
            "justify_content": null,
            "justify_items": null,
            "left": null,
            "margin": null,
            "max_height": null,
            "max_width": null,
            "min_height": null,
            "min_width": null,
            "object_fit": null,
            "object_position": null,
            "order": null,
            "overflow": null,
            "overflow_x": null,
            "overflow_y": null,
            "padding": null,
            "right": null,
            "top": null,
            "visibility": null,
            "width": null
          }
        },
        "690ace4e47244644a96f2790bd2d1897": {
          "model_module": "@jupyter-widgets/controls",
          "model_name": "DescriptionStyleModel",
          "model_module_version": "1.5.0",
          "state": {
            "_model_module": "@jupyter-widgets/controls",
            "_model_module_version": "1.5.0",
            "_model_name": "DescriptionStyleModel",
            "_view_count": null,
            "_view_module": "@jupyter-widgets/base",
            "_view_module_version": "1.2.0",
            "_view_name": "StyleView",
            "description_width": ""
          }
        },
        "412427e80ce546a6a5ab8b41ea291d8c": {
          "model_module": "@jupyter-widgets/base",
          "model_name": "LayoutModel",
          "model_module_version": "1.2.0",
          "state": {
            "_model_module": "@jupyter-widgets/base",
            "_model_module_version": "1.2.0",
            "_model_name": "LayoutModel",
            "_view_count": null,
            "_view_module": "@jupyter-widgets/base",
            "_view_module_version": "1.2.0",
            "_view_name": "LayoutView",
            "align_content": null,
            "align_items": null,
            "align_self": null,
            "border": null,
            "bottom": null,
            "display": null,
            "flex": null,
            "flex_flow": null,
            "grid_area": null,
            "grid_auto_columns": null,
            "grid_auto_flow": null,
            "grid_auto_rows": null,
            "grid_column": null,
            "grid_gap": null,
            "grid_row": null,
            "grid_template_areas": null,
            "grid_template_columns": null,
            "grid_template_rows": null,
            "height": null,
            "justify_content": null,
            "justify_items": null,
            "left": null,
            "margin": null,
            "max_height": null,
            "max_width": null,
            "min_height": null,
            "min_width": null,
            "object_fit": null,
            "object_position": null,
            "order": null,
            "overflow": null,
            "overflow_x": null,
            "overflow_y": null,
            "padding": null,
            "right": null,
            "top": null,
            "visibility": null,
            "width": null
          }
        },
        "b0a2ccccaf704eeb802bf2250bb7b178": {
          "model_module": "@jupyter-widgets/controls",
          "model_name": "ProgressStyleModel",
          "model_module_version": "1.5.0",
          "state": {
            "_model_module": "@jupyter-widgets/controls",
            "_model_module_version": "1.5.0",
            "_model_name": "ProgressStyleModel",
            "_view_count": null,
            "_view_module": "@jupyter-widgets/base",
            "_view_module_version": "1.2.0",
            "_view_name": "StyleView",
            "bar_color": null,
            "description_width": ""
          }
        },
        "136eb9d2dec742488a64daf4fb83743a": {
          "model_module": "@jupyter-widgets/base",
          "model_name": "LayoutModel",
          "model_module_version": "1.2.0",
          "state": {
            "_model_module": "@jupyter-widgets/base",
            "_model_module_version": "1.2.0",
            "_model_name": "LayoutModel",
            "_view_count": null,
            "_view_module": "@jupyter-widgets/base",
            "_view_module_version": "1.2.0",
            "_view_name": "LayoutView",
            "align_content": null,
            "align_items": null,
            "align_self": null,
            "border": null,
            "bottom": null,
            "display": null,
            "flex": null,
            "flex_flow": null,
            "grid_area": null,
            "grid_auto_columns": null,
            "grid_auto_flow": null,
            "grid_auto_rows": null,
            "grid_column": null,
            "grid_gap": null,
            "grid_row": null,
            "grid_template_areas": null,
            "grid_template_columns": null,
            "grid_template_rows": null,
            "height": null,
            "justify_content": null,
            "justify_items": null,
            "left": null,
            "margin": null,
            "max_height": null,
            "max_width": null,
            "min_height": null,
            "min_width": null,
            "object_fit": null,
            "object_position": null,
            "order": null,
            "overflow": null,
            "overflow_x": null,
            "overflow_y": null,
            "padding": null,
            "right": null,
            "top": null,
            "visibility": null,
            "width": null
          }
        },
        "60267b657c6d4f4bb09c66195468a311": {
          "model_module": "@jupyter-widgets/controls",
          "model_name": "DescriptionStyleModel",
          "model_module_version": "1.5.0",
          "state": {
            "_model_module": "@jupyter-widgets/controls",
            "_model_module_version": "1.5.0",
            "_model_name": "DescriptionStyleModel",
            "_view_count": null,
            "_view_module": "@jupyter-widgets/base",
            "_view_module_version": "1.2.0",
            "_view_name": "StyleView",
            "description_width": ""
          }
        },
        "105350e9a552416fb3141c4989805994": {
          "model_module": "@jupyter-widgets/controls",
          "model_name": "HBoxModel",
          "model_module_version": "1.5.0",
          "state": {
            "_dom_classes": [],
            "_model_module": "@jupyter-widgets/controls",
            "_model_module_version": "1.5.0",
            "_model_name": "HBoxModel",
            "_view_count": null,
            "_view_module": "@jupyter-widgets/controls",
            "_view_module_version": "1.5.0",
            "_view_name": "HBoxView",
            "box_style": "",
            "children": [
              "IPY_MODEL_741bb1228b20406eaf039127c919fa76",
              "IPY_MODEL_10304e8222934b36abbc36484490cb82",
              "IPY_MODEL_528d4932440945e7bdf0a11b53ea05bd"
            ],
            "layout": "IPY_MODEL_bdff107ac9084021a69f926fb9bcf227"
          }
        },
        "741bb1228b20406eaf039127c919fa76": {
          "model_module": "@jupyter-widgets/controls",
          "model_name": "HTMLModel",
          "model_module_version": "1.5.0",
          "state": {
            "_dom_classes": [],
            "_model_module": "@jupyter-widgets/controls",
            "_model_module_version": "1.5.0",
            "_model_name": "HTMLModel",
            "_view_count": null,
            "_view_module": "@jupyter-widgets/controls",
            "_view_module_version": "1.5.0",
            "_view_name": "HTMLView",
            "description": "",
            "description_tooltip": null,
            "layout": "IPY_MODEL_bc90cf54c18749998c310b80e135a8c7",
            "placeholder": "​",
            "style": "IPY_MODEL_c45bfe4d89b4440693491845f9798ad0",
            "value": "Downloading (…)nce_bert_config.json: 100%"
          }
        },
        "10304e8222934b36abbc36484490cb82": {
          "model_module": "@jupyter-widgets/controls",
          "model_name": "FloatProgressModel",
          "model_module_version": "1.5.0",
          "state": {
            "_dom_classes": [],
            "_model_module": "@jupyter-widgets/controls",
            "_model_module_version": "1.5.0",
            "_model_name": "FloatProgressModel",
            "_view_count": null,
            "_view_module": "@jupyter-widgets/controls",
            "_view_module_version": "1.5.0",
            "_view_name": "ProgressView",
            "bar_style": "success",
            "description": "",
            "description_tooltip": null,
            "layout": "IPY_MODEL_6955f364b4554dd8b94a3bcb2fa31b0c",
            "max": 53,
            "min": 0,
            "orientation": "horizontal",
            "style": "IPY_MODEL_a47a454b24bf4b6da4256e8e9d5e2945",
            "value": 53
          }
        },
        "528d4932440945e7bdf0a11b53ea05bd": {
          "model_module": "@jupyter-widgets/controls",
          "model_name": "HTMLModel",
          "model_module_version": "1.5.0",
          "state": {
            "_dom_classes": [],
            "_model_module": "@jupyter-widgets/controls",
            "_model_module_version": "1.5.0",
            "_model_name": "HTMLModel",
            "_view_count": null,
            "_view_module": "@jupyter-widgets/controls",
            "_view_module_version": "1.5.0",
            "_view_name": "HTMLView",
            "description": "",
            "description_tooltip": null,
            "layout": "IPY_MODEL_daa4cb7190fb4d2388bcf2db48eaae08",
            "placeholder": "​",
            "style": "IPY_MODEL_042c542cbb934e1d8b22f88a34658e51",
            "value": " 53.0/53.0 [00:00&lt;00:00, 722B/s]"
          }
        },
        "bdff107ac9084021a69f926fb9bcf227": {
          "model_module": "@jupyter-widgets/base",
          "model_name": "LayoutModel",
          "model_module_version": "1.2.0",
          "state": {
            "_model_module": "@jupyter-widgets/base",
            "_model_module_version": "1.2.0",
            "_model_name": "LayoutModel",
            "_view_count": null,
            "_view_module": "@jupyter-widgets/base",
            "_view_module_version": "1.2.0",
            "_view_name": "LayoutView",
            "align_content": null,
            "align_items": null,
            "align_self": null,
            "border": null,
            "bottom": null,
            "display": null,
            "flex": null,
            "flex_flow": null,
            "grid_area": null,
            "grid_auto_columns": null,
            "grid_auto_flow": null,
            "grid_auto_rows": null,
            "grid_column": null,
            "grid_gap": null,
            "grid_row": null,
            "grid_template_areas": null,
            "grid_template_columns": null,
            "grid_template_rows": null,
            "height": null,
            "justify_content": null,
            "justify_items": null,
            "left": null,
            "margin": null,
            "max_height": null,
            "max_width": null,
            "min_height": null,
            "min_width": null,
            "object_fit": null,
            "object_position": null,
            "order": null,
            "overflow": null,
            "overflow_x": null,
            "overflow_y": null,
            "padding": null,
            "right": null,
            "top": null,
            "visibility": null,
            "width": null
          }
        },
        "bc90cf54c18749998c310b80e135a8c7": {
          "model_module": "@jupyter-widgets/base",
          "model_name": "LayoutModel",
          "model_module_version": "1.2.0",
          "state": {
            "_model_module": "@jupyter-widgets/base",
            "_model_module_version": "1.2.0",
            "_model_name": "LayoutModel",
            "_view_count": null,
            "_view_module": "@jupyter-widgets/base",
            "_view_module_version": "1.2.0",
            "_view_name": "LayoutView",
            "align_content": null,
            "align_items": null,
            "align_self": null,
            "border": null,
            "bottom": null,
            "display": null,
            "flex": null,
            "flex_flow": null,
            "grid_area": null,
            "grid_auto_columns": null,
            "grid_auto_flow": null,
            "grid_auto_rows": null,
            "grid_column": null,
            "grid_gap": null,
            "grid_row": null,
            "grid_template_areas": null,
            "grid_template_columns": null,
            "grid_template_rows": null,
            "height": null,
            "justify_content": null,
            "justify_items": null,
            "left": null,
            "margin": null,
            "max_height": null,
            "max_width": null,
            "min_height": null,
            "min_width": null,
            "object_fit": null,
            "object_position": null,
            "order": null,
            "overflow": null,
            "overflow_x": null,
            "overflow_y": null,
            "padding": null,
            "right": null,
            "top": null,
            "visibility": null,
            "width": null
          }
        },
        "c45bfe4d89b4440693491845f9798ad0": {
          "model_module": "@jupyter-widgets/controls",
          "model_name": "DescriptionStyleModel",
          "model_module_version": "1.5.0",
          "state": {
            "_model_module": "@jupyter-widgets/controls",
            "_model_module_version": "1.5.0",
            "_model_name": "DescriptionStyleModel",
            "_view_count": null,
            "_view_module": "@jupyter-widgets/base",
            "_view_module_version": "1.2.0",
            "_view_name": "StyleView",
            "description_width": ""
          }
        },
        "6955f364b4554dd8b94a3bcb2fa31b0c": {
          "model_module": "@jupyter-widgets/base",
          "model_name": "LayoutModel",
          "model_module_version": "1.2.0",
          "state": {
            "_model_module": "@jupyter-widgets/base",
            "_model_module_version": "1.2.0",
            "_model_name": "LayoutModel",
            "_view_count": null,
            "_view_module": "@jupyter-widgets/base",
            "_view_module_version": "1.2.0",
            "_view_name": "LayoutView",
            "align_content": null,
            "align_items": null,
            "align_self": null,
            "border": null,
            "bottom": null,
            "display": null,
            "flex": null,
            "flex_flow": null,
            "grid_area": null,
            "grid_auto_columns": null,
            "grid_auto_flow": null,
            "grid_auto_rows": null,
            "grid_column": null,
            "grid_gap": null,
            "grid_row": null,
            "grid_template_areas": null,
            "grid_template_columns": null,
            "grid_template_rows": null,
            "height": null,
            "justify_content": null,
            "justify_items": null,
            "left": null,
            "margin": null,
            "max_height": null,
            "max_width": null,
            "min_height": null,
            "min_width": null,
            "object_fit": null,
            "object_position": null,
            "order": null,
            "overflow": null,
            "overflow_x": null,
            "overflow_y": null,
            "padding": null,
            "right": null,
            "top": null,
            "visibility": null,
            "width": null
          }
        },
        "a47a454b24bf4b6da4256e8e9d5e2945": {
          "model_module": "@jupyter-widgets/controls",
          "model_name": "ProgressStyleModel",
          "model_module_version": "1.5.0",
          "state": {
            "_model_module": "@jupyter-widgets/controls",
            "_model_module_version": "1.5.0",
            "_model_name": "ProgressStyleModel",
            "_view_count": null,
            "_view_module": "@jupyter-widgets/base",
            "_view_module_version": "1.2.0",
            "_view_name": "StyleView",
            "bar_color": null,
            "description_width": ""
          }
        },
        "daa4cb7190fb4d2388bcf2db48eaae08": {
          "model_module": "@jupyter-widgets/base",
          "model_name": "LayoutModel",
          "model_module_version": "1.2.0",
          "state": {
            "_model_module": "@jupyter-widgets/base",
            "_model_module_version": "1.2.0",
            "_model_name": "LayoutModel",
            "_view_count": null,
            "_view_module": "@jupyter-widgets/base",
            "_view_module_version": "1.2.0",
            "_view_name": "LayoutView",
            "align_content": null,
            "align_items": null,
            "align_self": null,
            "border": null,
            "bottom": null,
            "display": null,
            "flex": null,
            "flex_flow": null,
            "grid_area": null,
            "grid_auto_columns": null,
            "grid_auto_flow": null,
            "grid_auto_rows": null,
            "grid_column": null,
            "grid_gap": null,
            "grid_row": null,
            "grid_template_areas": null,
            "grid_template_columns": null,
            "grid_template_rows": null,
            "height": null,
            "justify_content": null,
            "justify_items": null,
            "left": null,
            "margin": null,
            "max_height": null,
            "max_width": null,
            "min_height": null,
            "min_width": null,
            "object_fit": null,
            "object_position": null,
            "order": null,
            "overflow": null,
            "overflow_x": null,
            "overflow_y": null,
            "padding": null,
            "right": null,
            "top": null,
            "visibility": null,
            "width": null
          }
        },
        "042c542cbb934e1d8b22f88a34658e51": {
          "model_module": "@jupyter-widgets/controls",
          "model_name": "DescriptionStyleModel",
          "model_module_version": "1.5.0",
          "state": {
            "_model_module": "@jupyter-widgets/controls",
            "_model_module_version": "1.5.0",
            "_model_name": "DescriptionStyleModel",
            "_view_count": null,
            "_view_module": "@jupyter-widgets/base",
            "_view_module_version": "1.2.0",
            "_view_name": "StyleView",
            "description_width": ""
          }
        },
        "018576d6357443fc91735ab505781ba9": {
          "model_module": "@jupyter-widgets/controls",
          "model_name": "HBoxModel",
          "model_module_version": "1.5.0",
          "state": {
            "_dom_classes": [],
            "_model_module": "@jupyter-widgets/controls",
            "_model_module_version": "1.5.0",
            "_model_name": "HBoxModel",
            "_view_count": null,
            "_view_module": "@jupyter-widgets/controls",
            "_view_module_version": "1.5.0",
            "_view_name": "HBoxView",
            "box_style": "",
            "children": [
              "IPY_MODEL_27c32cdf72c54937a92deac47d52dfd0",
              "IPY_MODEL_3db15420b7de48d1be124b5d59379307",
              "IPY_MODEL_5a5c0007e84e4b7181f95d3c5eab4b5d"
            ],
            "layout": "IPY_MODEL_07a5170b49e24659b549ac063561b51d"
          }
        },
        "27c32cdf72c54937a92deac47d52dfd0": {
          "model_module": "@jupyter-widgets/controls",
          "model_name": "HTMLModel",
          "model_module_version": "1.5.0",
          "state": {
            "_dom_classes": [],
            "_model_module": "@jupyter-widgets/controls",
            "_model_module_version": "1.5.0",
            "_model_name": "HTMLModel",
            "_view_count": null,
            "_view_module": "@jupyter-widgets/controls",
            "_view_module_version": "1.5.0",
            "_view_name": "HTMLView",
            "description": "",
            "description_tooltip": null,
            "layout": "IPY_MODEL_4df37cb0c63d4e369d602e073667b80f",
            "placeholder": "​",
            "style": "IPY_MODEL_30793794d67645f1a488b2b97872c0cf",
            "value": "Downloading (…)cial_tokens_map.json: 100%"
          }
        },
        "3db15420b7de48d1be124b5d59379307": {
          "model_module": "@jupyter-widgets/controls",
          "model_name": "FloatProgressModel",
          "model_module_version": "1.5.0",
          "state": {
            "_dom_classes": [],
            "_model_module": "@jupyter-widgets/controls",
            "_model_module_version": "1.5.0",
            "_model_name": "FloatProgressModel",
            "_view_count": null,
            "_view_module": "@jupyter-widgets/controls",
            "_view_module_version": "1.5.0",
            "_view_name": "ProgressView",
            "bar_style": "success",
            "description": "",
            "description_tooltip": null,
            "layout": "IPY_MODEL_559df90fc42a4d0aa72c34a57edd8eed",
            "max": 112,
            "min": 0,
            "orientation": "horizontal",
            "style": "IPY_MODEL_fa13e03bc1cc41d3be907e3618d6857f",
            "value": 112
          }
        },
        "5a5c0007e84e4b7181f95d3c5eab4b5d": {
          "model_module": "@jupyter-widgets/controls",
          "model_name": "HTMLModel",
          "model_module_version": "1.5.0",
          "state": {
            "_dom_classes": [],
            "_model_module": "@jupyter-widgets/controls",
            "_model_module_version": "1.5.0",
            "_model_name": "HTMLModel",
            "_view_count": null,
            "_view_module": "@jupyter-widgets/controls",
            "_view_module_version": "1.5.0",
            "_view_name": "HTMLView",
            "description": "",
            "description_tooltip": null,
            "layout": "IPY_MODEL_d381da254dac44aea467689a94d96796",
            "placeholder": "​",
            "style": "IPY_MODEL_2fdd8862c99d40d3a8758bc15dc455db",
            "value": " 112/112 [00:00&lt;00:00, 2.91kB/s]"
          }
        },
        "07a5170b49e24659b549ac063561b51d": {
          "model_module": "@jupyter-widgets/base",
          "model_name": "LayoutModel",
          "model_module_version": "1.2.0",
          "state": {
            "_model_module": "@jupyter-widgets/base",
            "_model_module_version": "1.2.0",
            "_model_name": "LayoutModel",
            "_view_count": null,
            "_view_module": "@jupyter-widgets/base",
            "_view_module_version": "1.2.0",
            "_view_name": "LayoutView",
            "align_content": null,
            "align_items": null,
            "align_self": null,
            "border": null,
            "bottom": null,
            "display": null,
            "flex": null,
            "flex_flow": null,
            "grid_area": null,
            "grid_auto_columns": null,
            "grid_auto_flow": null,
            "grid_auto_rows": null,
            "grid_column": null,
            "grid_gap": null,
            "grid_row": null,
            "grid_template_areas": null,
            "grid_template_columns": null,
            "grid_template_rows": null,
            "height": null,
            "justify_content": null,
            "justify_items": null,
            "left": null,
            "margin": null,
            "max_height": null,
            "max_width": null,
            "min_height": null,
            "min_width": null,
            "object_fit": null,
            "object_position": null,
            "order": null,
            "overflow": null,
            "overflow_x": null,
            "overflow_y": null,
            "padding": null,
            "right": null,
            "top": null,
            "visibility": null,
            "width": null
          }
        },
        "4df37cb0c63d4e369d602e073667b80f": {
          "model_module": "@jupyter-widgets/base",
          "model_name": "LayoutModel",
          "model_module_version": "1.2.0",
          "state": {
            "_model_module": "@jupyter-widgets/base",
            "_model_module_version": "1.2.0",
            "_model_name": "LayoutModel",
            "_view_count": null,
            "_view_module": "@jupyter-widgets/base",
            "_view_module_version": "1.2.0",
            "_view_name": "LayoutView",
            "align_content": null,
            "align_items": null,
            "align_self": null,
            "border": null,
            "bottom": null,
            "display": null,
            "flex": null,
            "flex_flow": null,
            "grid_area": null,
            "grid_auto_columns": null,
            "grid_auto_flow": null,
            "grid_auto_rows": null,
            "grid_column": null,
            "grid_gap": null,
            "grid_row": null,
            "grid_template_areas": null,
            "grid_template_columns": null,
            "grid_template_rows": null,
            "height": null,
            "justify_content": null,
            "justify_items": null,
            "left": null,
            "margin": null,
            "max_height": null,
            "max_width": null,
            "min_height": null,
            "min_width": null,
            "object_fit": null,
            "object_position": null,
            "order": null,
            "overflow": null,
            "overflow_x": null,
            "overflow_y": null,
            "padding": null,
            "right": null,
            "top": null,
            "visibility": null,
            "width": null
          }
        },
        "30793794d67645f1a488b2b97872c0cf": {
          "model_module": "@jupyter-widgets/controls",
          "model_name": "DescriptionStyleModel",
          "model_module_version": "1.5.0",
          "state": {
            "_model_module": "@jupyter-widgets/controls",
            "_model_module_version": "1.5.0",
            "_model_name": "DescriptionStyleModel",
            "_view_count": null,
            "_view_module": "@jupyter-widgets/base",
            "_view_module_version": "1.2.0",
            "_view_name": "StyleView",
            "description_width": ""
          }
        },
        "559df90fc42a4d0aa72c34a57edd8eed": {
          "model_module": "@jupyter-widgets/base",
          "model_name": "LayoutModel",
          "model_module_version": "1.2.0",
          "state": {
            "_model_module": "@jupyter-widgets/base",
            "_model_module_version": "1.2.0",
            "_model_name": "LayoutModel",
            "_view_count": null,
            "_view_module": "@jupyter-widgets/base",
            "_view_module_version": "1.2.0",
            "_view_name": "LayoutView",
            "align_content": null,
            "align_items": null,
            "align_self": null,
            "border": null,
            "bottom": null,
            "display": null,
            "flex": null,
            "flex_flow": null,
            "grid_area": null,
            "grid_auto_columns": null,
            "grid_auto_flow": null,
            "grid_auto_rows": null,
            "grid_column": null,
            "grid_gap": null,
            "grid_row": null,
            "grid_template_areas": null,
            "grid_template_columns": null,
            "grid_template_rows": null,
            "height": null,
            "justify_content": null,
            "justify_items": null,
            "left": null,
            "margin": null,
            "max_height": null,
            "max_width": null,
            "min_height": null,
            "min_width": null,
            "object_fit": null,
            "object_position": null,
            "order": null,
            "overflow": null,
            "overflow_x": null,
            "overflow_y": null,
            "padding": null,
            "right": null,
            "top": null,
            "visibility": null,
            "width": null
          }
        },
        "fa13e03bc1cc41d3be907e3618d6857f": {
          "model_module": "@jupyter-widgets/controls",
          "model_name": "ProgressStyleModel",
          "model_module_version": "1.5.0",
          "state": {
            "_model_module": "@jupyter-widgets/controls",
            "_model_module_version": "1.5.0",
            "_model_name": "ProgressStyleModel",
            "_view_count": null,
            "_view_module": "@jupyter-widgets/base",
            "_view_module_version": "1.2.0",
            "_view_name": "StyleView",
            "bar_color": null,
            "description_width": ""
          }
        },
        "d381da254dac44aea467689a94d96796": {
          "model_module": "@jupyter-widgets/base",
          "model_name": "LayoutModel",
          "model_module_version": "1.2.0",
          "state": {
            "_model_module": "@jupyter-widgets/base",
            "_model_module_version": "1.2.0",
            "_model_name": "LayoutModel",
            "_view_count": null,
            "_view_module": "@jupyter-widgets/base",
            "_view_module_version": "1.2.0",
            "_view_name": "LayoutView",
            "align_content": null,
            "align_items": null,
            "align_self": null,
            "border": null,
            "bottom": null,
            "display": null,
            "flex": null,
            "flex_flow": null,
            "grid_area": null,
            "grid_auto_columns": null,
            "grid_auto_flow": null,
            "grid_auto_rows": null,
            "grid_column": null,
            "grid_gap": null,
            "grid_row": null,
            "grid_template_areas": null,
            "grid_template_columns": null,
            "grid_template_rows": null,
            "height": null,
            "justify_content": null,
            "justify_items": null,
            "left": null,
            "margin": null,
            "max_height": null,
            "max_width": null,
            "min_height": null,
            "min_width": null,
            "object_fit": null,
            "object_position": null,
            "order": null,
            "overflow": null,
            "overflow_x": null,
            "overflow_y": null,
            "padding": null,
            "right": null,
            "top": null,
            "visibility": null,
            "width": null
          }
        },
        "2fdd8862c99d40d3a8758bc15dc455db": {
          "model_module": "@jupyter-widgets/controls",
          "model_name": "DescriptionStyleModel",
          "model_module_version": "1.5.0",
          "state": {
            "_model_module": "@jupyter-widgets/controls",
            "_model_module_version": "1.5.0",
            "_model_name": "DescriptionStyleModel",
            "_view_count": null,
            "_view_module": "@jupyter-widgets/base",
            "_view_module_version": "1.2.0",
            "_view_name": "StyleView",
            "description_width": ""
          }
        },
        "edd8de2c53724fe4bce43e6e3ef02d8e": {
          "model_module": "@jupyter-widgets/controls",
          "model_name": "HBoxModel",
          "model_module_version": "1.5.0",
          "state": {
            "_dom_classes": [],
            "_model_module": "@jupyter-widgets/controls",
            "_model_module_version": "1.5.0",
            "_model_name": "HBoxModel",
            "_view_count": null,
            "_view_module": "@jupyter-widgets/controls",
            "_view_module_version": "1.5.0",
            "_view_name": "HBoxView",
            "box_style": "",
            "children": [
              "IPY_MODEL_39ecee0b07a24743a3ebde7a5d1d69a8",
              "IPY_MODEL_34e4b5f0309e4162b6b08f0a64db4f89",
              "IPY_MODEL_d7118b15a983402f9eaf531d8d6ca973"
            ],
            "layout": "IPY_MODEL_5c5e08e92b134857913f2e683add339e"
          }
        },
        "39ecee0b07a24743a3ebde7a5d1d69a8": {
          "model_module": "@jupyter-widgets/controls",
          "model_name": "HTMLModel",
          "model_module_version": "1.5.0",
          "state": {
            "_dom_classes": [],
            "_model_module": "@jupyter-widgets/controls",
            "_model_module_version": "1.5.0",
            "_model_name": "HTMLModel",
            "_view_count": null,
            "_view_module": "@jupyter-widgets/controls",
            "_view_module_version": "1.5.0",
            "_view_name": "HTMLView",
            "description": "",
            "description_tooltip": null,
            "layout": "IPY_MODEL_7d07f59af21048069d83727f0b476bf2",
            "placeholder": "​",
            "style": "IPY_MODEL_c2d28fb3d845424b8a443a63dd8358cc",
            "value": "Downloading (…)6015c/tokenizer.json: 100%"
          }
        },
        "34e4b5f0309e4162b6b08f0a64db4f89": {
          "model_module": "@jupyter-widgets/controls",
          "model_name": "FloatProgressModel",
          "model_module_version": "1.5.0",
          "state": {
            "_dom_classes": [],
            "_model_module": "@jupyter-widgets/controls",
            "_model_module_version": "1.5.0",
            "_model_name": "FloatProgressModel",
            "_view_count": null,
            "_view_module": "@jupyter-widgets/controls",
            "_view_module_version": "1.5.0",
            "_view_name": "ProgressView",
            "bar_style": "success",
            "description": "",
            "description_tooltip": null,
            "layout": "IPY_MODEL_f998dda22a2e44649d46303a244c065a",
            "max": 1961847,
            "min": 0,
            "orientation": "horizontal",
            "style": "IPY_MODEL_74ca5531311346af8d3af6b0676e65b1",
            "value": 1961847
          }
        },
        "d7118b15a983402f9eaf531d8d6ca973": {
          "model_module": "@jupyter-widgets/controls",
          "model_name": "HTMLModel",
          "model_module_version": "1.5.0",
          "state": {
            "_dom_classes": [],
            "_model_module": "@jupyter-widgets/controls",
            "_model_module_version": "1.5.0",
            "_model_name": "HTMLModel",
            "_view_count": null,
            "_view_module": "@jupyter-widgets/controls",
            "_view_module_version": "1.5.0",
            "_view_name": "HTMLView",
            "description": "",
            "description_tooltip": null,
            "layout": "IPY_MODEL_2963062735524810ba34bace58fe43b6",
            "placeholder": "​",
            "style": "IPY_MODEL_c83eb9a1dc524f089fbd7a4a50ee5714",
            "value": " 1.96M/1.96M [00:00&lt;00:00, 19.6MB/s]"
          }
        },
        "5c5e08e92b134857913f2e683add339e": {
          "model_module": "@jupyter-widgets/base",
          "model_name": "LayoutModel",
          "model_module_version": "1.2.0",
          "state": {
            "_model_module": "@jupyter-widgets/base",
            "_model_module_version": "1.2.0",
            "_model_name": "LayoutModel",
            "_view_count": null,
            "_view_module": "@jupyter-widgets/base",
            "_view_module_version": "1.2.0",
            "_view_name": "LayoutView",
            "align_content": null,
            "align_items": null,
            "align_self": null,
            "border": null,
            "bottom": null,
            "display": null,
            "flex": null,
            "flex_flow": null,
            "grid_area": null,
            "grid_auto_columns": null,
            "grid_auto_flow": null,
            "grid_auto_rows": null,
            "grid_column": null,
            "grid_gap": null,
            "grid_row": null,
            "grid_template_areas": null,
            "grid_template_columns": null,
            "grid_template_rows": null,
            "height": null,
            "justify_content": null,
            "justify_items": null,
            "left": null,
            "margin": null,
            "max_height": null,
            "max_width": null,
            "min_height": null,
            "min_width": null,
            "object_fit": null,
            "object_position": null,
            "order": null,
            "overflow": null,
            "overflow_x": null,
            "overflow_y": null,
            "padding": null,
            "right": null,
            "top": null,
            "visibility": null,
            "width": null
          }
        },
        "7d07f59af21048069d83727f0b476bf2": {
          "model_module": "@jupyter-widgets/base",
          "model_name": "LayoutModel",
          "model_module_version": "1.2.0",
          "state": {
            "_model_module": "@jupyter-widgets/base",
            "_model_module_version": "1.2.0",
            "_model_name": "LayoutModel",
            "_view_count": null,
            "_view_module": "@jupyter-widgets/base",
            "_view_module_version": "1.2.0",
            "_view_name": "LayoutView",
            "align_content": null,
            "align_items": null,
            "align_self": null,
            "border": null,
            "bottom": null,
            "display": null,
            "flex": null,
            "flex_flow": null,
            "grid_area": null,
            "grid_auto_columns": null,
            "grid_auto_flow": null,
            "grid_auto_rows": null,
            "grid_column": null,
            "grid_gap": null,
            "grid_row": null,
            "grid_template_areas": null,
            "grid_template_columns": null,
            "grid_template_rows": null,
            "height": null,
            "justify_content": null,
            "justify_items": null,
            "left": null,
            "margin": null,
            "max_height": null,
            "max_width": null,
            "min_height": null,
            "min_width": null,
            "object_fit": null,
            "object_position": null,
            "order": null,
            "overflow": null,
            "overflow_x": null,
            "overflow_y": null,
            "padding": null,
            "right": null,
            "top": null,
            "visibility": null,
            "width": null
          }
        },
        "c2d28fb3d845424b8a443a63dd8358cc": {
          "model_module": "@jupyter-widgets/controls",
          "model_name": "DescriptionStyleModel",
          "model_module_version": "1.5.0",
          "state": {
            "_model_module": "@jupyter-widgets/controls",
            "_model_module_version": "1.5.0",
            "_model_name": "DescriptionStyleModel",
            "_view_count": null,
            "_view_module": "@jupyter-widgets/base",
            "_view_module_version": "1.2.0",
            "_view_name": "StyleView",
            "description_width": ""
          }
        },
        "f998dda22a2e44649d46303a244c065a": {
          "model_module": "@jupyter-widgets/base",
          "model_name": "LayoutModel",
          "model_module_version": "1.2.0",
          "state": {
            "_model_module": "@jupyter-widgets/base",
            "_model_module_version": "1.2.0",
            "_model_name": "LayoutModel",
            "_view_count": null,
            "_view_module": "@jupyter-widgets/base",
            "_view_module_version": "1.2.0",
            "_view_name": "LayoutView",
            "align_content": null,
            "align_items": null,
            "align_self": null,
            "border": null,
            "bottom": null,
            "display": null,
            "flex": null,
            "flex_flow": null,
            "grid_area": null,
            "grid_auto_columns": null,
            "grid_auto_flow": null,
            "grid_auto_rows": null,
            "grid_column": null,
            "grid_gap": null,
            "grid_row": null,
            "grid_template_areas": null,
            "grid_template_columns": null,
            "grid_template_rows": null,
            "height": null,
            "justify_content": null,
            "justify_items": null,
            "left": null,
            "margin": null,
            "max_height": null,
            "max_width": null,
            "min_height": null,
            "min_width": null,
            "object_fit": null,
            "object_position": null,
            "order": null,
            "overflow": null,
            "overflow_x": null,
            "overflow_y": null,
            "padding": null,
            "right": null,
            "top": null,
            "visibility": null,
            "width": null
          }
        },
        "74ca5531311346af8d3af6b0676e65b1": {
          "model_module": "@jupyter-widgets/controls",
          "model_name": "ProgressStyleModel",
          "model_module_version": "1.5.0",
          "state": {
            "_model_module": "@jupyter-widgets/controls",
            "_model_module_version": "1.5.0",
            "_model_name": "ProgressStyleModel",
            "_view_count": null,
            "_view_module": "@jupyter-widgets/base",
            "_view_module_version": "1.2.0",
            "_view_name": "StyleView",
            "bar_color": null,
            "description_width": ""
          }
        },
        "2963062735524810ba34bace58fe43b6": {
          "model_module": "@jupyter-widgets/base",
          "model_name": "LayoutModel",
          "model_module_version": "1.2.0",
          "state": {
            "_model_module": "@jupyter-widgets/base",
            "_model_module_version": "1.2.0",
            "_model_name": "LayoutModel",
            "_view_count": null,
            "_view_module": "@jupyter-widgets/base",
            "_view_module_version": "1.2.0",
            "_view_name": "LayoutView",
            "align_content": null,
            "align_items": null,
            "align_self": null,
            "border": null,
            "bottom": null,
            "display": null,
            "flex": null,
            "flex_flow": null,
            "grid_area": null,
            "grid_auto_columns": null,
            "grid_auto_flow": null,
            "grid_auto_rows": null,
            "grid_column": null,
            "grid_gap": null,
            "grid_row": null,
            "grid_template_areas": null,
            "grid_template_columns": null,
            "grid_template_rows": null,
            "height": null,
            "justify_content": null,
            "justify_items": null,
            "left": null,
            "margin": null,
            "max_height": null,
            "max_width": null,
            "min_height": null,
            "min_width": null,
            "object_fit": null,
            "object_position": null,
            "order": null,
            "overflow": null,
            "overflow_x": null,
            "overflow_y": null,
            "padding": null,
            "right": null,
            "top": null,
            "visibility": null,
            "width": null
          }
        },
        "c83eb9a1dc524f089fbd7a4a50ee5714": {
          "model_module": "@jupyter-widgets/controls",
          "model_name": "DescriptionStyleModel",
          "model_module_version": "1.5.0",
          "state": {
            "_model_module": "@jupyter-widgets/controls",
            "_model_module_version": "1.5.0",
            "_model_name": "DescriptionStyleModel",
            "_view_count": null,
            "_view_module": "@jupyter-widgets/base",
            "_view_module_version": "1.2.0",
            "_view_name": "StyleView",
            "description_width": ""
          }
        },
        "aa70fc6dcce0431bae273fa4e7f99375": {
          "model_module": "@jupyter-widgets/controls",
          "model_name": "HBoxModel",
          "model_module_version": "1.5.0",
          "state": {
            "_dom_classes": [],
            "_model_module": "@jupyter-widgets/controls",
            "_model_module_version": "1.5.0",
            "_model_name": "HBoxModel",
            "_view_count": null,
            "_view_module": "@jupyter-widgets/controls",
            "_view_module_version": "1.5.0",
            "_view_name": "HBoxView",
            "box_style": "",
            "children": [
              "IPY_MODEL_92dd485446884782aa7b0516c5f597b3",
              "IPY_MODEL_f57da403502a40edae31813df562285c",
              "IPY_MODEL_e15878ab87ce4e9087fd7c92fa3438c4"
            ],
            "layout": "IPY_MODEL_12c461926c254ed5b8332deab93fadb8"
          }
        },
        "92dd485446884782aa7b0516c5f597b3": {
          "model_module": "@jupyter-widgets/controls",
          "model_name": "HTMLModel",
          "model_module_version": "1.5.0",
          "state": {
            "_dom_classes": [],
            "_model_module": "@jupyter-widgets/controls",
            "_model_module_version": "1.5.0",
            "_model_name": "HTMLModel",
            "_view_count": null,
            "_view_module": "@jupyter-widgets/controls",
            "_view_module_version": "1.5.0",
            "_view_name": "HTMLView",
            "description": "",
            "description_tooltip": null,
            "layout": "IPY_MODEL_c01be117466747ba84b4c321b385f376",
            "placeholder": "​",
            "style": "IPY_MODEL_8b04990590b84777b54f5d830a844de2",
            "value": "Downloading (…)okenizer_config.json: 100%"
          }
        },
        "f57da403502a40edae31813df562285c": {
          "model_module": "@jupyter-widgets/controls",
          "model_name": "FloatProgressModel",
          "model_module_version": "1.5.0",
          "state": {
            "_dom_classes": [],
            "_model_module": "@jupyter-widgets/controls",
            "_model_module_version": "1.5.0",
            "_model_name": "FloatProgressModel",
            "_view_count": null,
            "_view_module": "@jupyter-widgets/controls",
            "_view_module_version": "1.5.0",
            "_view_name": "ProgressView",
            "bar_style": "success",
            "description": "",
            "description_tooltip": null,
            "layout": "IPY_MODEL_a8e95206e2294096b8ee86c81d6f98ae",
            "max": 531,
            "min": 0,
            "orientation": "horizontal",
            "style": "IPY_MODEL_ee092d81436543199736f4d3030472dd",
            "value": 531
          }
        },
        "e15878ab87ce4e9087fd7c92fa3438c4": {
          "model_module": "@jupyter-widgets/controls",
          "model_name": "HTMLModel",
          "model_module_version": "1.5.0",
          "state": {
            "_dom_classes": [],
            "_model_module": "@jupyter-widgets/controls",
            "_model_module_version": "1.5.0",
            "_model_name": "HTMLModel",
            "_view_count": null,
            "_view_module": "@jupyter-widgets/controls",
            "_view_module_version": "1.5.0",
            "_view_name": "HTMLView",
            "description": "",
            "description_tooltip": null,
            "layout": "IPY_MODEL_5d3446240bb84d439c106475d96d8aae",
            "placeholder": "​",
            "style": "IPY_MODEL_a1488f13c76645dca99d662088d71aa7",
            "value": " 531/531 [00:00&lt;00:00, 7.02kB/s]"
          }
        },
        "12c461926c254ed5b8332deab93fadb8": {
          "model_module": "@jupyter-widgets/base",
          "model_name": "LayoutModel",
          "model_module_version": "1.2.0",
          "state": {
            "_model_module": "@jupyter-widgets/base",
            "_model_module_version": "1.2.0",
            "_model_name": "LayoutModel",
            "_view_count": null,
            "_view_module": "@jupyter-widgets/base",
            "_view_module_version": "1.2.0",
            "_view_name": "LayoutView",
            "align_content": null,
            "align_items": null,
            "align_self": null,
            "border": null,
            "bottom": null,
            "display": null,
            "flex": null,
            "flex_flow": null,
            "grid_area": null,
            "grid_auto_columns": null,
            "grid_auto_flow": null,
            "grid_auto_rows": null,
            "grid_column": null,
            "grid_gap": null,
            "grid_row": null,
            "grid_template_areas": null,
            "grid_template_columns": null,
            "grid_template_rows": null,
            "height": null,
            "justify_content": null,
            "justify_items": null,
            "left": null,
            "margin": null,
            "max_height": null,
            "max_width": null,
            "min_height": null,
            "min_width": null,
            "object_fit": null,
            "object_position": null,
            "order": null,
            "overflow": null,
            "overflow_x": null,
            "overflow_y": null,
            "padding": null,
            "right": null,
            "top": null,
            "visibility": null,
            "width": null
          }
        },
        "c01be117466747ba84b4c321b385f376": {
          "model_module": "@jupyter-widgets/base",
          "model_name": "LayoutModel",
          "model_module_version": "1.2.0",
          "state": {
            "_model_module": "@jupyter-widgets/base",
            "_model_module_version": "1.2.0",
            "_model_name": "LayoutModel",
            "_view_count": null,
            "_view_module": "@jupyter-widgets/base",
            "_view_module_version": "1.2.0",
            "_view_name": "LayoutView",
            "align_content": null,
            "align_items": null,
            "align_self": null,
            "border": null,
            "bottom": null,
            "display": null,
            "flex": null,
            "flex_flow": null,
            "grid_area": null,
            "grid_auto_columns": null,
            "grid_auto_flow": null,
            "grid_auto_rows": null,
            "grid_column": null,
            "grid_gap": null,
            "grid_row": null,
            "grid_template_areas": null,
            "grid_template_columns": null,
            "grid_template_rows": null,
            "height": null,
            "justify_content": null,
            "justify_items": null,
            "left": null,
            "margin": null,
            "max_height": null,
            "max_width": null,
            "min_height": null,
            "min_width": null,
            "object_fit": null,
            "object_position": null,
            "order": null,
            "overflow": null,
            "overflow_x": null,
            "overflow_y": null,
            "padding": null,
            "right": null,
            "top": null,
            "visibility": null,
            "width": null
          }
        },
        "8b04990590b84777b54f5d830a844de2": {
          "model_module": "@jupyter-widgets/controls",
          "model_name": "DescriptionStyleModel",
          "model_module_version": "1.5.0",
          "state": {
            "_model_module": "@jupyter-widgets/controls",
            "_model_module_version": "1.5.0",
            "_model_name": "DescriptionStyleModel",
            "_view_count": null,
            "_view_module": "@jupyter-widgets/base",
            "_view_module_version": "1.2.0",
            "_view_name": "StyleView",
            "description_width": ""
          }
        },
        "a8e95206e2294096b8ee86c81d6f98ae": {
          "model_module": "@jupyter-widgets/base",
          "model_name": "LayoutModel",
          "model_module_version": "1.2.0",
          "state": {
            "_model_module": "@jupyter-widgets/base",
            "_model_module_version": "1.2.0",
            "_model_name": "LayoutModel",
            "_view_count": null,
            "_view_module": "@jupyter-widgets/base",
            "_view_module_version": "1.2.0",
            "_view_name": "LayoutView",
            "align_content": null,
            "align_items": null,
            "align_self": null,
            "border": null,
            "bottom": null,
            "display": null,
            "flex": null,
            "flex_flow": null,
            "grid_area": null,
            "grid_auto_columns": null,
            "grid_auto_flow": null,
            "grid_auto_rows": null,
            "grid_column": null,
            "grid_gap": null,
            "grid_row": null,
            "grid_template_areas": null,
            "grid_template_columns": null,
            "grid_template_rows": null,
            "height": null,
            "justify_content": null,
            "justify_items": null,
            "left": null,
            "margin": null,
            "max_height": null,
            "max_width": null,
            "min_height": null,
            "min_width": null,
            "object_fit": null,
            "object_position": null,
            "order": null,
            "overflow": null,
            "overflow_x": null,
            "overflow_y": null,
            "padding": null,
            "right": null,
            "top": null,
            "visibility": null,
            "width": null
          }
        },
        "ee092d81436543199736f4d3030472dd": {
          "model_module": "@jupyter-widgets/controls",
          "model_name": "ProgressStyleModel",
          "model_module_version": "1.5.0",
          "state": {
            "_model_module": "@jupyter-widgets/controls",
            "_model_module_version": "1.5.0",
            "_model_name": "ProgressStyleModel",
            "_view_count": null,
            "_view_module": "@jupyter-widgets/base",
            "_view_module_version": "1.2.0",
            "_view_name": "StyleView",
            "bar_color": null,
            "description_width": ""
          }
        },
        "5d3446240bb84d439c106475d96d8aae": {
          "model_module": "@jupyter-widgets/base",
          "model_name": "LayoutModel",
          "model_module_version": "1.2.0",
          "state": {
            "_model_module": "@jupyter-widgets/base",
            "_model_module_version": "1.2.0",
            "_model_name": "LayoutModel",
            "_view_count": null,
            "_view_module": "@jupyter-widgets/base",
            "_view_module_version": "1.2.0",
            "_view_name": "LayoutView",
            "align_content": null,
            "align_items": null,
            "align_self": null,
            "border": null,
            "bottom": null,
            "display": null,
            "flex": null,
            "flex_flow": null,
            "grid_area": null,
            "grid_auto_columns": null,
            "grid_auto_flow": null,
            "grid_auto_rows": null,
            "grid_column": null,
            "grid_gap": null,
            "grid_row": null,
            "grid_template_areas": null,
            "grid_template_columns": null,
            "grid_template_rows": null,
            "height": null,
            "justify_content": null,
            "justify_items": null,
            "left": null,
            "margin": null,
            "max_height": null,
            "max_width": null,
            "min_height": null,
            "min_width": null,
            "object_fit": null,
            "object_position": null,
            "order": null,
            "overflow": null,
            "overflow_x": null,
            "overflow_y": null,
            "padding": null,
            "right": null,
            "top": null,
            "visibility": null,
            "width": null
          }
        },
        "a1488f13c76645dca99d662088d71aa7": {
          "model_module": "@jupyter-widgets/controls",
          "model_name": "DescriptionStyleModel",
          "model_module_version": "1.5.0",
          "state": {
            "_model_module": "@jupyter-widgets/controls",
            "_model_module_version": "1.5.0",
            "_model_name": "DescriptionStyleModel",
            "_view_count": null,
            "_view_module": "@jupyter-widgets/base",
            "_view_module_version": "1.2.0",
            "_view_name": "StyleView",
            "description_width": ""
          }
        },
        "001ffccb5a2a4f18bbdc4df966abd203": {
          "model_module": "@jupyter-widgets/controls",
          "model_name": "HBoxModel",
          "model_module_version": "1.5.0",
          "state": {
            "_dom_classes": [],
            "_model_module": "@jupyter-widgets/controls",
            "_model_module_version": "1.5.0",
            "_model_name": "HBoxModel",
            "_view_count": null,
            "_view_module": "@jupyter-widgets/controls",
            "_view_module_version": "1.5.0",
            "_view_name": "HBoxView",
            "box_style": "",
            "children": [
              "IPY_MODEL_c8aa483a72754ea1a341c3f2716fe12d",
              "IPY_MODEL_4eb6f15e0cae4ab68c59590d5da10229",
              "IPY_MODEL_1a51e5f81949480cb6c4349937a6b460"
            ],
            "layout": "IPY_MODEL_46d07958dd3741c099e7b3b606a51b62"
          }
        },
        "c8aa483a72754ea1a341c3f2716fe12d": {
          "model_module": "@jupyter-widgets/controls",
          "model_name": "HTMLModel",
          "model_module_version": "1.5.0",
          "state": {
            "_dom_classes": [],
            "_model_module": "@jupyter-widgets/controls",
            "_model_module_version": "1.5.0",
            "_model_name": "HTMLModel",
            "_view_count": null,
            "_view_module": "@jupyter-widgets/controls",
            "_view_module_version": "1.5.0",
            "_view_name": "HTMLView",
            "description": "",
            "description_tooltip": null,
            "layout": "IPY_MODEL_49dfdc1c756e47f6b71c65f4bf6e9798",
            "placeholder": "​",
            "style": "IPY_MODEL_5a8cad7bb5ca48bcbf396e83383c55e8",
            "value": "Downloading (…)ff6066015c/vocab.txt: 100%"
          }
        },
        "4eb6f15e0cae4ab68c59590d5da10229": {
          "model_module": "@jupyter-widgets/controls",
          "model_name": "FloatProgressModel",
          "model_module_version": "1.5.0",
          "state": {
            "_dom_classes": [],
            "_model_module": "@jupyter-widgets/controls",
            "_model_module_version": "1.5.0",
            "_model_name": "FloatProgressModel",
            "_view_count": null,
            "_view_module": "@jupyter-widgets/controls",
            "_view_module_version": "1.5.0",
            "_view_name": "ProgressView",
            "bar_style": "success",
            "description": "",
            "description_tooltip": null,
            "layout": "IPY_MODEL_b8a7aa470cf345ff90b64dfa3d2c04a4",
            "max": 995526,
            "min": 0,
            "orientation": "horizontal",
            "style": "IPY_MODEL_eb8c0627391c4780b1f626f210ff0f3c",
            "value": 995526
          }
        },
        "1a51e5f81949480cb6c4349937a6b460": {
          "model_module": "@jupyter-widgets/controls",
          "model_name": "HTMLModel",
          "model_module_version": "1.5.0",
          "state": {
            "_dom_classes": [],
            "_model_module": "@jupyter-widgets/controls",
            "_model_module_version": "1.5.0",
            "_model_name": "HTMLModel",
            "_view_count": null,
            "_view_module": "@jupyter-widgets/controls",
            "_view_module_version": "1.5.0",
            "_view_name": "HTMLView",
            "description": "",
            "description_tooltip": null,
            "layout": "IPY_MODEL_3e4f7bf5c88f4e79bcdd19d2da10b029",
            "placeholder": "​",
            "style": "IPY_MODEL_a5e280d921014027af097a343cfc6694",
            "value": " 996k/996k [00:00&lt;00:00, 14.2MB/s]"
          }
        },
        "46d07958dd3741c099e7b3b606a51b62": {
          "model_module": "@jupyter-widgets/base",
          "model_name": "LayoutModel",
          "model_module_version": "1.2.0",
          "state": {
            "_model_module": "@jupyter-widgets/base",
            "_model_module_version": "1.2.0",
            "_model_name": "LayoutModel",
            "_view_count": null,
            "_view_module": "@jupyter-widgets/base",
            "_view_module_version": "1.2.0",
            "_view_name": "LayoutView",
            "align_content": null,
            "align_items": null,
            "align_self": null,
            "border": null,
            "bottom": null,
            "display": null,
            "flex": null,
            "flex_flow": null,
            "grid_area": null,
            "grid_auto_columns": null,
            "grid_auto_flow": null,
            "grid_auto_rows": null,
            "grid_column": null,
            "grid_gap": null,
            "grid_row": null,
            "grid_template_areas": null,
            "grid_template_columns": null,
            "grid_template_rows": null,
            "height": null,
            "justify_content": null,
            "justify_items": null,
            "left": null,
            "margin": null,
            "max_height": null,
            "max_width": null,
            "min_height": null,
            "min_width": null,
            "object_fit": null,
            "object_position": null,
            "order": null,
            "overflow": null,
            "overflow_x": null,
            "overflow_y": null,
            "padding": null,
            "right": null,
            "top": null,
            "visibility": null,
            "width": null
          }
        },
        "49dfdc1c756e47f6b71c65f4bf6e9798": {
          "model_module": "@jupyter-widgets/base",
          "model_name": "LayoutModel",
          "model_module_version": "1.2.0",
          "state": {
            "_model_module": "@jupyter-widgets/base",
            "_model_module_version": "1.2.0",
            "_model_name": "LayoutModel",
            "_view_count": null,
            "_view_module": "@jupyter-widgets/base",
            "_view_module_version": "1.2.0",
            "_view_name": "LayoutView",
            "align_content": null,
            "align_items": null,
            "align_self": null,
            "border": null,
            "bottom": null,
            "display": null,
            "flex": null,
            "flex_flow": null,
            "grid_area": null,
            "grid_auto_columns": null,
            "grid_auto_flow": null,
            "grid_auto_rows": null,
            "grid_column": null,
            "grid_gap": null,
            "grid_row": null,
            "grid_template_areas": null,
            "grid_template_columns": null,
            "grid_template_rows": null,
            "height": null,
            "justify_content": null,
            "justify_items": null,
            "left": null,
            "margin": null,
            "max_height": null,
            "max_width": null,
            "min_height": null,
            "min_width": null,
            "object_fit": null,
            "object_position": null,
            "order": null,
            "overflow": null,
            "overflow_x": null,
            "overflow_y": null,
            "padding": null,
            "right": null,
            "top": null,
            "visibility": null,
            "width": null
          }
        },
        "5a8cad7bb5ca48bcbf396e83383c55e8": {
          "model_module": "@jupyter-widgets/controls",
          "model_name": "DescriptionStyleModel",
          "model_module_version": "1.5.0",
          "state": {
            "_model_module": "@jupyter-widgets/controls",
            "_model_module_version": "1.5.0",
            "_model_name": "DescriptionStyleModel",
            "_view_count": null,
            "_view_module": "@jupyter-widgets/base",
            "_view_module_version": "1.2.0",
            "_view_name": "StyleView",
            "description_width": ""
          }
        },
        "b8a7aa470cf345ff90b64dfa3d2c04a4": {
          "model_module": "@jupyter-widgets/base",
          "model_name": "LayoutModel",
          "model_module_version": "1.2.0",
          "state": {
            "_model_module": "@jupyter-widgets/base",
            "_model_module_version": "1.2.0",
            "_model_name": "LayoutModel",
            "_view_count": null,
            "_view_module": "@jupyter-widgets/base",
            "_view_module_version": "1.2.0",
            "_view_name": "LayoutView",
            "align_content": null,
            "align_items": null,
            "align_self": null,
            "border": null,
            "bottom": null,
            "display": null,
            "flex": null,
            "flex_flow": null,
            "grid_area": null,
            "grid_auto_columns": null,
            "grid_auto_flow": null,
            "grid_auto_rows": null,
            "grid_column": null,
            "grid_gap": null,
            "grid_row": null,
            "grid_template_areas": null,
            "grid_template_columns": null,
            "grid_template_rows": null,
            "height": null,
            "justify_content": null,
            "justify_items": null,
            "left": null,
            "margin": null,
            "max_height": null,
            "max_width": null,
            "min_height": null,
            "min_width": null,
            "object_fit": null,
            "object_position": null,
            "order": null,
            "overflow": null,
            "overflow_x": null,
            "overflow_y": null,
            "padding": null,
            "right": null,
            "top": null,
            "visibility": null,
            "width": null
          }
        },
        "eb8c0627391c4780b1f626f210ff0f3c": {
          "model_module": "@jupyter-widgets/controls",
          "model_name": "ProgressStyleModel",
          "model_module_version": "1.5.0",
          "state": {
            "_model_module": "@jupyter-widgets/controls",
            "_model_module_version": "1.5.0",
            "_model_name": "ProgressStyleModel",
            "_view_count": null,
            "_view_module": "@jupyter-widgets/base",
            "_view_module_version": "1.2.0",
            "_view_name": "StyleView",
            "bar_color": null,
            "description_width": ""
          }
        },
        "3e4f7bf5c88f4e79bcdd19d2da10b029": {
          "model_module": "@jupyter-widgets/base",
          "model_name": "LayoutModel",
          "model_module_version": "1.2.0",
          "state": {
            "_model_module": "@jupyter-widgets/base",
            "_model_module_version": "1.2.0",
            "_model_name": "LayoutModel",
            "_view_count": null,
            "_view_module": "@jupyter-widgets/base",
            "_view_module_version": "1.2.0",
            "_view_name": "LayoutView",
            "align_content": null,
            "align_items": null,
            "align_self": null,
            "border": null,
            "bottom": null,
            "display": null,
            "flex": null,
            "flex_flow": null,
            "grid_area": null,
            "grid_auto_columns": null,
            "grid_auto_flow": null,
            "grid_auto_rows": null,
            "grid_column": null,
            "grid_gap": null,
            "grid_row": null,
            "grid_template_areas": null,
            "grid_template_columns": null,
            "grid_template_rows": null,
            "height": null,
            "justify_content": null,
            "justify_items": null,
            "left": null,
            "margin": null,
            "max_height": null,
            "max_width": null,
            "min_height": null,
            "min_width": null,
            "object_fit": null,
            "object_position": null,
            "order": null,
            "overflow": null,
            "overflow_x": null,
            "overflow_y": null,
            "padding": null,
            "right": null,
            "top": null,
            "visibility": null,
            "width": null
          }
        },
        "a5e280d921014027af097a343cfc6694": {
          "model_module": "@jupyter-widgets/controls",
          "model_name": "DescriptionStyleModel",
          "model_module_version": "1.5.0",
          "state": {
            "_model_module": "@jupyter-widgets/controls",
            "_model_module_version": "1.5.0",
            "_model_name": "DescriptionStyleModel",
            "_view_count": null,
            "_view_module": "@jupyter-widgets/base",
            "_view_module_version": "1.2.0",
            "_view_name": "StyleView",
            "description_width": ""
          }
        },
        "6f3910a3524748d1b629a376ac1e3b83": {
          "model_module": "@jupyter-widgets/controls",
          "model_name": "HBoxModel",
          "model_module_version": "1.5.0",
          "state": {
            "_dom_classes": [],
            "_model_module": "@jupyter-widgets/controls",
            "_model_module_version": "1.5.0",
            "_model_name": "HBoxModel",
            "_view_count": null,
            "_view_module": "@jupyter-widgets/controls",
            "_view_module_version": "1.5.0",
            "_view_name": "HBoxView",
            "box_style": "",
            "children": [
              "IPY_MODEL_4886d60ec9f9408e921fbad9034099d7",
              "IPY_MODEL_ec91382a97a04f08abd073a1b8ad5818",
              "IPY_MODEL_57b027fcee144a28a557f1f82b6ee43b"
            ],
            "layout": "IPY_MODEL_09d8c954559b4b4c9bb01c3128c4d96e"
          }
        },
        "4886d60ec9f9408e921fbad9034099d7": {
          "model_module": "@jupyter-widgets/controls",
          "model_name": "HTMLModel",
          "model_module_version": "1.5.0",
          "state": {
            "_dom_classes": [],
            "_model_module": "@jupyter-widgets/controls",
            "_model_module_version": "1.5.0",
            "_model_name": "HTMLModel",
            "_view_count": null,
            "_view_module": "@jupyter-widgets/controls",
            "_view_module_version": "1.5.0",
            "_view_name": "HTMLView",
            "description": "",
            "description_tooltip": null,
            "layout": "IPY_MODEL_34c67b027bc1424791c9e1f272861618",
            "placeholder": "​",
            "style": "IPY_MODEL_df6394b39c6e4dbfa6110e9779c69935",
            "value": "Downloading (…)066015c/modules.json: 100%"
          }
        },
        "ec91382a97a04f08abd073a1b8ad5818": {
          "model_module": "@jupyter-widgets/controls",
          "model_name": "FloatProgressModel",
          "model_module_version": "1.5.0",
          "state": {
            "_dom_classes": [],
            "_model_module": "@jupyter-widgets/controls",
            "_model_module_version": "1.5.0",
            "_model_name": "FloatProgressModel",
            "_view_count": null,
            "_view_module": "@jupyter-widgets/controls",
            "_view_module_version": "1.5.0",
            "_view_name": "ProgressView",
            "bar_style": "success",
            "description": "",
            "description_tooltip": null,
            "layout": "IPY_MODEL_5ed0dee7c61b4604a3dfa845f610b57c",
            "max": 341,
            "min": 0,
            "orientation": "horizontal",
            "style": "IPY_MODEL_3cab0bc9edb448e9b1d97657b52d3c54",
            "value": 341
          }
        },
        "57b027fcee144a28a557f1f82b6ee43b": {
          "model_module": "@jupyter-widgets/controls",
          "model_name": "HTMLModel",
          "model_module_version": "1.5.0",
          "state": {
            "_dom_classes": [],
            "_model_module": "@jupyter-widgets/controls",
            "_model_module_version": "1.5.0",
            "_model_name": "HTMLModel",
            "_view_count": null,
            "_view_module": "@jupyter-widgets/controls",
            "_view_module_version": "1.5.0",
            "_view_name": "HTMLView",
            "description": "",
            "description_tooltip": null,
            "layout": "IPY_MODEL_2e7c91d5c8b34155b47c012a6afbe5af",
            "placeholder": "​",
            "style": "IPY_MODEL_c4832f8f4773444da1a23202ac3c34b5",
            "value": " 341/341 [00:00&lt;00:00, 5.48kB/s]"
          }
        },
        "09d8c954559b4b4c9bb01c3128c4d96e": {
          "model_module": "@jupyter-widgets/base",
          "model_name": "LayoutModel",
          "model_module_version": "1.2.0",
          "state": {
            "_model_module": "@jupyter-widgets/base",
            "_model_module_version": "1.2.0",
            "_model_name": "LayoutModel",
            "_view_count": null,
            "_view_module": "@jupyter-widgets/base",
            "_view_module_version": "1.2.0",
            "_view_name": "LayoutView",
            "align_content": null,
            "align_items": null,
            "align_self": null,
            "border": null,
            "bottom": null,
            "display": null,
            "flex": null,
            "flex_flow": null,
            "grid_area": null,
            "grid_auto_columns": null,
            "grid_auto_flow": null,
            "grid_auto_rows": null,
            "grid_column": null,
            "grid_gap": null,
            "grid_row": null,
            "grid_template_areas": null,
            "grid_template_columns": null,
            "grid_template_rows": null,
            "height": null,
            "justify_content": null,
            "justify_items": null,
            "left": null,
            "margin": null,
            "max_height": null,
            "max_width": null,
            "min_height": null,
            "min_width": null,
            "object_fit": null,
            "object_position": null,
            "order": null,
            "overflow": null,
            "overflow_x": null,
            "overflow_y": null,
            "padding": null,
            "right": null,
            "top": null,
            "visibility": null,
            "width": null
          }
        },
        "34c67b027bc1424791c9e1f272861618": {
          "model_module": "@jupyter-widgets/base",
          "model_name": "LayoutModel",
          "model_module_version": "1.2.0",
          "state": {
            "_model_module": "@jupyter-widgets/base",
            "_model_module_version": "1.2.0",
            "_model_name": "LayoutModel",
            "_view_count": null,
            "_view_module": "@jupyter-widgets/base",
            "_view_module_version": "1.2.0",
            "_view_name": "LayoutView",
            "align_content": null,
            "align_items": null,
            "align_self": null,
            "border": null,
            "bottom": null,
            "display": null,
            "flex": null,
            "flex_flow": null,
            "grid_area": null,
            "grid_auto_columns": null,
            "grid_auto_flow": null,
            "grid_auto_rows": null,
            "grid_column": null,
            "grid_gap": null,
            "grid_row": null,
            "grid_template_areas": null,
            "grid_template_columns": null,
            "grid_template_rows": null,
            "height": null,
            "justify_content": null,
            "justify_items": null,
            "left": null,
            "margin": null,
            "max_height": null,
            "max_width": null,
            "min_height": null,
            "min_width": null,
            "object_fit": null,
            "object_position": null,
            "order": null,
            "overflow": null,
            "overflow_x": null,
            "overflow_y": null,
            "padding": null,
            "right": null,
            "top": null,
            "visibility": null,
            "width": null
          }
        },
        "df6394b39c6e4dbfa6110e9779c69935": {
          "model_module": "@jupyter-widgets/controls",
          "model_name": "DescriptionStyleModel",
          "model_module_version": "1.5.0",
          "state": {
            "_model_module": "@jupyter-widgets/controls",
            "_model_module_version": "1.5.0",
            "_model_name": "DescriptionStyleModel",
            "_view_count": null,
            "_view_module": "@jupyter-widgets/base",
            "_view_module_version": "1.2.0",
            "_view_name": "StyleView",
            "description_width": ""
          }
        },
        "5ed0dee7c61b4604a3dfa845f610b57c": {
          "model_module": "@jupyter-widgets/base",
          "model_name": "LayoutModel",
          "model_module_version": "1.2.0",
          "state": {
            "_model_module": "@jupyter-widgets/base",
            "_model_module_version": "1.2.0",
            "_model_name": "LayoutModel",
            "_view_count": null,
            "_view_module": "@jupyter-widgets/base",
            "_view_module_version": "1.2.0",
            "_view_name": "LayoutView",
            "align_content": null,
            "align_items": null,
            "align_self": null,
            "border": null,
            "bottom": null,
            "display": null,
            "flex": null,
            "flex_flow": null,
            "grid_area": null,
            "grid_auto_columns": null,
            "grid_auto_flow": null,
            "grid_auto_rows": null,
            "grid_column": null,
            "grid_gap": null,
            "grid_row": null,
            "grid_template_areas": null,
            "grid_template_columns": null,
            "grid_template_rows": null,
            "height": null,
            "justify_content": null,
            "justify_items": null,
            "left": null,
            "margin": null,
            "max_height": null,
            "max_width": null,
            "min_height": null,
            "min_width": null,
            "object_fit": null,
            "object_position": null,
            "order": null,
            "overflow": null,
            "overflow_x": null,
            "overflow_y": null,
            "padding": null,
            "right": null,
            "top": null,
            "visibility": null,
            "width": null
          }
        },
        "3cab0bc9edb448e9b1d97657b52d3c54": {
          "model_module": "@jupyter-widgets/controls",
          "model_name": "ProgressStyleModel",
          "model_module_version": "1.5.0",
          "state": {
            "_model_module": "@jupyter-widgets/controls",
            "_model_module_version": "1.5.0",
            "_model_name": "ProgressStyleModel",
            "_view_count": null,
            "_view_module": "@jupyter-widgets/base",
            "_view_module_version": "1.2.0",
            "_view_name": "StyleView",
            "bar_color": null,
            "description_width": ""
          }
        },
        "2e7c91d5c8b34155b47c012a6afbe5af": {
          "model_module": "@jupyter-widgets/base",
          "model_name": "LayoutModel",
          "model_module_version": "1.2.0",
          "state": {
            "_model_module": "@jupyter-widgets/base",
            "_model_module_version": "1.2.0",
            "_model_name": "LayoutModel",
            "_view_count": null,
            "_view_module": "@jupyter-widgets/base",
            "_view_module_version": "1.2.0",
            "_view_name": "LayoutView",
            "align_content": null,
            "align_items": null,
            "align_self": null,
            "border": null,
            "bottom": null,
            "display": null,
            "flex": null,
            "flex_flow": null,
            "grid_area": null,
            "grid_auto_columns": null,
            "grid_auto_flow": null,
            "grid_auto_rows": null,
            "grid_column": null,
            "grid_gap": null,
            "grid_row": null,
            "grid_template_areas": null,
            "grid_template_columns": null,
            "grid_template_rows": null,
            "height": null,
            "justify_content": null,
            "justify_items": null,
            "left": null,
            "margin": null,
            "max_height": null,
            "max_width": null,
            "min_height": null,
            "min_width": null,
            "object_fit": null,
            "object_position": null,
            "order": null,
            "overflow": null,
            "overflow_x": null,
            "overflow_y": null,
            "padding": null,
            "right": null,
            "top": null,
            "visibility": null,
            "width": null
          }
        },
        "c4832f8f4773444da1a23202ac3c34b5": {
          "model_module": "@jupyter-widgets/controls",
          "model_name": "DescriptionStyleModel",
          "model_module_version": "1.5.0",
          "state": {
            "_model_module": "@jupyter-widgets/controls",
            "_model_module_version": "1.5.0",
            "_model_name": "DescriptionStyleModel",
            "_view_count": null,
            "_view_module": "@jupyter-widgets/base",
            "_view_module_version": "1.2.0",
            "_view_name": "StyleView",
            "description_width": ""
          }
        }
      }
    }
  },
  "cells": [
    {
      "cell_type": "markdown",
      "metadata": {
        "id": "WMGeB9NmUTyD"
      },
      "source": [
        "#IST664 - NLP Lab Week 7 - Embeddings#\n",
        "\n",
        "Embeddings are vector space representations of linguistic constructs. Starting with word2vec, researchers have used deep learning models to generate embedding vectors that represent the semantics of words and larger elements. In this lab, we will practice using word and sentence embeddings in a variety of ways. In the first part of the lab, we will use a \"large\" spaCy model that contains context-free word embeddings. Context-free means that the vector is static, regardless of what word sense we are using. Note that the first code cell below may take a couple minutes to load, so you may want to set it running before you take a break. \n",
        "\n",
        "In the second part of the lab we will use a sentence embedding model obtained from huggingface.co and perform a parallel set of analyses using those sentence summary vectors. With words it is possible to develop a fairly comprehensive dictionary of vector representations with 100,000 entries or perhaps more. With sentences, however, there are just too many possibilities to be able to represent each one with a stored vector. The alternative strategy used by deep learning summarizer models is to process any given input sentence through a complete, pre-trained model. This processing step is sometimes referred to as \"inference,\" as it is conceptually similar to using a trained predictive model on novel data. After processing a sentence, we can extract a vector representation from the internal state of the model."
      ]
    },
    {
      "cell_type": "code",
      "source": [
        "# Load a large spaCy model to get the word embeddings included with spaCy.\n",
        "# Note that this may take two or three minutes.\n",
        "import spacy\n",
        "import spacy.cli # Use the command line interface\n",
        "spacy.cli.download(\"en_core_web_lg\") # This imports the large model onto your virtual machine\n",
        "import en_core_web_lg # Now that it is downloaded, we can import it\n",
        "nlp_lg = en_core_web_lg.load() # Create an instance for further use\n",
        "type(nlp_lg)"
      ],
      "metadata": {
        "id": "P1Ut-YO_DmCg",
        "colab": {
          "base_uri": "https://localhost:8080/"
        },
        "outputId": "66d2a783-fb40-4fe5-cf31-96fda4ae9468"
      },
      "execution_count": 61,
      "outputs": [
        {
          "output_type": "stream",
          "name": "stdout",
          "text": [
            "\u001b[38;5;2m✔ Download and installation successful\u001b[0m\n",
            "You can now load the package via spacy.load('en_core_web_lg')\n"
          ]
        },
        {
          "output_type": "execute_result",
          "data": {
            "text/plain": [
              "spacy.lang.en.English"
            ]
          },
          "metadata": {},
          "execution_count": 61
        }
      ]
    },
    {
      "cell_type": "code",
      "source": [
        "# Let's begin by processing one word and making sure it has an embedding vector\n",
        "my_word = \"natural\"\n",
        "natural = nlp_lg(my_word)\n",
        "type(natural), natural[0].has_vector"
      ],
      "metadata": {
        "id": "-5zlJRJcJaDM",
        "colab": {
          "base_uri": "https://localhost:8080/"
        },
        "outputId": "fc7d9d89-385f-42c3-a693-7a017912b52e"
      },
      "execution_count": 62,
      "outputs": [
        {
          "output_type": "execute_result",
          "data": {
            "text/plain": [
              "(spacy.tokens.doc.Doc, True)"
            ]
          },
          "metadata": {},
          "execution_count": 62
        }
      ]
    },
    {
      "cell_type": "code",
      "source": [
        "# Remember that a \"doc\" is a list-like object where each element is a token.\n",
        "# So we can use slicing to get access to the one and only token in this doc.\n",
        "len(natural[0].vector) # Shows the dimensionality of spaCy vector space representations"
      ],
      "metadata": {
        "id": "0QOE5jDhJ4Nu",
        "colab": {
          "base_uri": "https://localhost:8080/"
        },
        "outputId": "fcda5750-8e75-47df-834d-c02fd043812b"
      },
      "execution_count": 63,
      "outputs": [
        {
          "output_type": "execute_result",
          "data": {
            "text/plain": [
              "300"
            ]
          },
          "metadata": {},
          "execution_count": 63
        }
      ]
    },
    {
      "cell_type": "code",
      "source": [
        "# Get a flavor for the distribution of the elements of the vector. The mean of \n",
        "# the vector elements is typically near zero. The SD of this distribution is\n",
        "# about 2.5.\n",
        "import matplotlib.pyplot as plt\n",
        "plt.hist(natural[0].vector)"
      ],
      "metadata": {
        "id": "TF5rKo39qo6M",
        "colab": {
          "base_uri": "https://localhost:8080/",
          "height": 354
        },
        "outputId": "ec772bb5-740e-4d89-e020-2e2a44cc2f66"
      },
      "execution_count": 4,
      "outputs": [
        {
          "output_type": "execute_result",
          "data": {
            "text/plain": [
              "(array([ 5., 21., 40., 73., 74., 46., 30.,  7.,  3.,  1.]),\n",
              " array([-7.4216    , -5.72088   , -4.0201597 , -2.31944   , -0.61871994,\n",
              "         1.082     ,  2.78272   ,  4.48344   ,  6.1841598 ,  7.88488   ,\n",
              "         9.5856    ], dtype=float32),\n",
              " <BarContainer object of 10 artists>)"
            ]
          },
          "metadata": {},
          "execution_count": 4
        },
        {
          "output_type": "display_data",
          "data": {
            "text/plain": [
              "<Figure size 432x288 with 1 Axes>"
            ],
            "image/png": "[encoded data removed]"
          },
          "metadata": {
            "needs_background": "light"
          }
        }
      ]
    },
    {
      "cell_type": "code",
      "source": [
        "# The vectors are kept in spaCy's vocabulary store which can also be accessed \n",
        "# directly as follows: \n",
        "direct = nlp_lg.vocab[my_word].vector\n",
        "\n",
        "len(direct)"
      ],
      "metadata": {
        "id": "uXRqiJEtKpaK",
        "colab": {
          "base_uri": "https://localhost:8080/"
        },
        "outputId": "57a2d6a2-ea0f-4005-9389-d25563741684"
      },
      "execution_count": 64,
      "outputs": [
        {
          "output_type": "execute_result",
          "data": {
            "text/plain": [
              "300"
            ]
          },
          "metadata": {},
          "execution_count": 64
        }
      ]
    },
    {
      "cell_type": "code",
      "source": [
        "# Note the vector math inside of this expression. The sum() function then\n",
        "# adds together all of the differences.\n",
        "sum(direct - natural[0].vector) # Quick test of identity: \n",
        "# A sum of zero means that the two vectors are likely to be identical"
      ],
      "metadata": {
        "id": "cpZQxMQCLPS6",
        "colab": {
          "base_uri": "https://localhost:8080/"
        },
        "outputId": "1a13eb14-e497-4b5a-f7b7-86f48aac9739"
      },
      "execution_count": 65,
      "outputs": [
        {
          "output_type": "execute_result",
          "data": {
            "text/plain": [
              "0.0"
            ]
          },
          "metadata": {},
          "execution_count": 65
        }
      ]
    },
    {
      "cell_type": "code",
      "source": [
        "# Another way of testing the equality of two vectors is to use the all() method\n",
        "(direct == natural[0].vector).all()"
      ],
      "metadata": {
        "id": "hsmc4TT5UJEV",
        "colab": {
          "base_uri": "https://localhost:8080/"
        },
        "outputId": "c5a0dd01-3c11-471d-ed2b-c186c170fcff"
      },
      "execution_count": 66,
      "outputs": [
        {
          "output_type": "execute_result",
          "data": {
            "text/plain": [
              "True"
            ]
          },
          "metadata": {},
          "execution_count": 66
        }
      ]
    },
    {
      "cell_type": "code",
      "source": [
        "#\n",
        "# Exercise 7.1: Make up a word that does not exist in English and try to \n",
        "# access spaCy's vocabulary store with that word. What happens?\n",
        "#\n",
        "my_non_word = \"amuliko\"\n",
        "direct2 = nlp_lg.vocab[my_non_word].vector\n",
        "\n",
        "direct2\n",
        "\n",
        "#This creates a zero matrix - indicating that the word doesnt exist in vocabulory in spaCy"
      ],
      "metadata": {
        "id": "YbBybtt0XJ_T",
        "colab": {
          "base_uri": "https://localhost:8080/"
        },
        "outputId": "864aa7da-c463-4094-bd34-b962d10aae7d"
      },
      "execution_count": 8,
      "outputs": [
        {
          "output_type": "execute_result",
          "data": {
            "text/plain": [
              "array([0., 0., 0., 0., 0., 0., 0., 0., 0., 0., 0., 0., 0., 0., 0., 0., 0.,\n",
              "       0., 0., 0., 0., 0., 0., 0., 0., 0., 0., 0., 0., 0., 0., 0., 0., 0.,\n",
              "       0., 0., 0., 0., 0., 0., 0., 0., 0., 0., 0., 0., 0., 0., 0., 0., 0.,\n",
              "       0., 0., 0., 0., 0., 0., 0., 0., 0., 0., 0., 0., 0., 0., 0., 0., 0.,\n",
              "       0., 0., 0., 0., 0., 0., 0., 0., 0., 0., 0., 0., 0., 0., 0., 0., 0.,\n",
              "       0., 0., 0., 0., 0., 0., 0., 0., 0., 0., 0., 0., 0., 0., 0., 0., 0.,\n",
              "       0., 0., 0., 0., 0., 0., 0., 0., 0., 0., 0., 0., 0., 0., 0., 0., 0.,\n",
              "       0., 0., 0., 0., 0., 0., 0., 0., 0., 0., 0., 0., 0., 0., 0., 0., 0.,\n",
              "       0., 0., 0., 0., 0., 0., 0., 0., 0., 0., 0., 0., 0., 0., 0., 0., 0.,\n",
              "       0., 0., 0., 0., 0., 0., 0., 0., 0., 0., 0., 0., 0., 0., 0., 0., 0.,\n",
              "       0., 0., 0., 0., 0., 0., 0., 0., 0., 0., 0., 0., 0., 0., 0., 0., 0.,\n",
              "       0., 0., 0., 0., 0., 0., 0., 0., 0., 0., 0., 0., 0., 0., 0., 0., 0.,\n",
              "       0., 0., 0., 0., 0., 0., 0., 0., 0., 0., 0., 0., 0., 0., 0., 0., 0.,\n",
              "       0., 0., 0., 0., 0., 0., 0., 0., 0., 0., 0., 0., 0., 0., 0., 0., 0.,\n",
              "       0., 0., 0., 0., 0., 0., 0., 0., 0., 0., 0., 0., 0., 0., 0., 0., 0.,\n",
              "       0., 0., 0., 0., 0., 0., 0., 0., 0., 0., 0., 0., 0., 0., 0., 0., 0.,\n",
              "       0., 0., 0., 0., 0., 0., 0., 0., 0., 0., 0., 0., 0., 0., 0., 0., 0.,\n",
              "       0., 0., 0., 0., 0., 0., 0., 0., 0., 0., 0.], dtype=float32)"
            ]
          },
          "metadata": {},
          "execution_count": 8
        }
      ]
    },
    {
      "cell_type": "code",
      "source": [
        "# SpaCy has a method for finding similar words. This is a standard kind of\n",
        "# function in a word embedding package, available in word2vec and other\n",
        "# embedding code libraries. The underlying code may use hashing tricks to\n",
        "# speed up the search through the vocabulary.\n",
        "import numpy as np\n",
        "\n",
        "similar = nlp_lg.vocab.vectors.most_similar(np.asarray([direct]), n=10)\n",
        "word_list = [nlp_lg.vocab.strings[w] for w in similar[0][0]]\n",
        "print(word_list)"
      ],
      "metadata": {
        "id": "l-rf4fmGMZrM",
        "colab": {
          "base_uri": "https://localhost:8080/"
        },
        "outputId": "7149440d-0b0c-4946-e1b0-a37198c7db6b"
      },
      "execution_count": 67,
      "outputs": [
        {
          "output_type": "stream",
          "name": "stdout",
          "text": [
            "['natural', 'Allnatural', 'allnatural', 'Unnatural', 'naturals', 'naturaleza', 'naturall', 'naturalness', 'unnatural', 'naturales']\n"
          ]
        }
      ]
    },
    {
      "cell_type": "code",
      "source": [
        "type(similar), len(similar) # What is the similar object?"
      ],
      "metadata": {
        "id": "FbtxgJxmmBMq",
        "colab": {
          "base_uri": "https://localhost:8080/"
        },
        "outputId": "35f4d2f3-8154-4a22-d77e-806593e8db64"
      },
      "execution_count": 68,
      "outputs": [
        {
          "output_type": "execute_result",
          "data": {
            "text/plain": [
              "(tuple, 3)"
            ]
          },
          "metadata": {},
          "execution_count": 68
        }
      ]
    },
    {
      "cell_type": "markdown",
      "source": [
        "*Important note:* The most_similar() method called above returns a tuple with three elements. Each of the elements is a list and each of the lists contains ten items. The next three code cells explore the contents of these lists."
      ],
      "metadata": {
        "id": "-NoJdgFwmJw5"
      }
    },
    {
      "cell_type": "code",
      "source": [
        "# similar[0] contains the ID \"key\" numbers of the 10 similar words from spaCy's vocabulary store.\n",
        "# Keep in mind that it is possible that two or more words/keys may point to the same vector.\n",
        "type(similar[0]), similar[0] # There should be ten ids/keys"
      ],
      "metadata": {
        "id": "AqPAaIRQNXFp",
        "colab": {
          "base_uri": "https://localhost:8080/"
        },
        "outputId": "0c96fad2-2c5f-4799-c00e-e9b5f2060715"
      },
      "execution_count": 69,
      "outputs": [
        {
          "output_type": "execute_result",
          "data": {
            "text/plain": [
              "(numpy.ndarray,\n",
              " array([[ 3743574233330547430,  4345611927055728999,  6284918608836433127,\n",
              "          5842587109985371347,  6767650875811059939,  2255247291837283518,\n",
              "          3303657296512507660, 15938995882200426271,  8711931566637541906,\n",
              "         10593631900353219748]], dtype=uint64))"
            ]
          },
          "metadata": {},
          "execution_count": 69
        }
      ]
    },
    {
      "cell_type": "code",
      "source": [
        "# similar[1] contains the \"best rows\" from the vector table providing a faster\n",
        "# way to lookup the corresponding vectors if necessary.\n",
        "type(similar[1]), similar[1] # There should be ten row indices"
      ],
      "metadata": {
        "id": "To7dCIqmN3gS",
        "colab": {
          "base_uri": "https://localhost:8080/"
        },
        "outputId": "fc93e9ff-4de1-4bf7-a763-9f06a8d05a18"
      },
      "execution_count": 70,
      "outputs": [
        {
          "output_type": "execute_result",
          "data": {
            "text/plain": [
              "(numpy.ndarray,\n",
              " array([[   918, 483900, 168805, 102824,  97833, 316180, 509311, 104487,\n",
              "          25199, 304228]], dtype=int32))"
            ]
          },
          "metadata": {},
          "execution_count": 70
        }
      ]
    },
    {
      "cell_type": "code",
      "source": [
        "# similar[2] contains the cosine similarity scores between the reference word\n",
        "# and the top 10 words that spaCy found. Note how the first entry\n",
        "# (the word \"natural\") has similarity equal to one.\n",
        "type(similar[2]), similar[2] # There should be ten cosine similarity scores"
      ],
      "metadata": {
        "id": "Fj517cSOjB9F",
        "colab": {
          "base_uri": "https://localhost:8080/"
        },
        "outputId": "68270780-df4a-4783-8316-2d371503dc6a"
      },
      "execution_count": 71,
      "outputs": [
        {
          "output_type": "execute_result",
          "data": {
            "text/plain": [
              "(numpy.ndarray,\n",
              " array([[1.    , 0.9332, 0.9196, 0.8829, 0.8738, 0.8519, 0.8495, 0.8249,\n",
              "         0.8161, 0.8155]], dtype=float32))"
            ]
          },
          "metadata": {},
          "execution_count": 71
        }
      ]
    },
    {
      "cell_type": "code",
      "source": [
        "# Possibly helpful for the next exercise, numpy's argmax function returns\n",
        "# the POSITION within a list of the maximum value in the list. Here's a demo:\n",
        "np.argmax([4,3,3,3,3])"
      ],
      "metadata": {
        "id": "V_f62Jf8oAlM",
        "colab": {
          "base_uri": "https://localhost:8080/"
        },
        "outputId": "58f5adb9-5f33-4210-b533-d97aac93fbcd"
      },
      "execution_count": 72,
      "outputs": [
        {
          "output_type": "execute_result",
          "data": {
            "text/plain": [
              "0"
            ]
          },
          "metadata": {},
          "execution_count": 72
        }
      ]
    },
    {
      "cell_type": "code",
      "source": [
        "# \n",
        "# Exercise 7.2: Write a loop or other code that use the similarity scores\n",
        "# from similar[2], first to eliminate instances of the same word (i.e., where similarity\n",
        "# equals one) from the list and then, second, to print the word with the maximum similarity \n",
        "# score among the remaining values.\n",
        "\n",
        "# This might help: It extracts each piece of the similarity tuple as a non-nested list\n",
        "key, row, sim = similar[0].tolist()[0], similar[1].tolist()[0], similar[2].tolist()[0]\n",
        "# So \"sim\" now contains a list of the similarity scores\n",
        "for i in range(len(sim)):\n",
        "   if sim[i]==1:\n",
        "     sim[i]=0\n",
        "\n",
        "\n",
        "# Hint: Start by looping through \"sim\" to modify each value of 1 into a value of 0.\n",
        "# This will \"blank out\" the word(s) that are identical to the original probe word.\n",
        "max_index=np.argmax(sim)\n",
        "print(word_list[max_index])\n",
        "\n",
        "#Modified the sim[i] for any value as 1 to 0. Then printed the word with highest similarity\n",
        "#The word with highest similarity is \"Allnatural\""
      ],
      "metadata": {
        "id": "TLam3gb3i6AZ",
        "colab": {
          "base_uri": "https://localhost:8080/"
        },
        "outputId": "f72fda60-f8db-4fb5-d860-048ffc45b79a"
      },
      "execution_count": 80,
      "outputs": [
        {
          "output_type": "stream",
          "name": "stdout",
          "text": [
            "Allnatural\n"
          ]
        }
      ]
    },
    {
      "cell_type": "markdown",
      "source": [
        "Now that we know how to access spaCy's word vector data, let's try a couple of semantic tests to see how the vectors perform."
      ],
      "metadata": {
        "id": "LO8SB3GIpGLh"
      }
    },
    {
      "cell_type": "code",
      "source": [
        "# Now let's examine what happens with vectors when we make a syntactic \n",
        "# transformation from adjective to adverb.\n",
        "import matplotlib.pyplot as plt\n",
        "\n",
        "# Remember this code from above that gets the vector for \"natural\":\n",
        "# direct = nlp_lg.vocab[my_word].vector\n",
        "\n",
        "naturally = nlp_lg.vocab[\"naturally\"].vector # Look up the vector for the adverbial form\n",
        "\n",
        "plt.scatter(direct, naturally)"
      ],
      "metadata": {
        "id": "FrP6uTQbtr40",
        "colab": {
          "base_uri": "https://localhost:8080/",
          "height": 283
        },
        "outputId": "911d58b3-4223-46ad-cc52-bd8d5d742895"
      },
      "execution_count": 22,
      "outputs": [
        {
          "output_type": "execute_result",
          "data": {
            "text/plain": [
              "<matplotlib.collections.PathCollection at 0x7fc22b1cdc10>"
            ]
          },
          "metadata": {},
          "execution_count": 22
        },
        {
          "output_type": "display_data",
          "data": {
            "text/plain": [
              "<Figure size 432x288 with 1 Axes>"
            ],
            "image/png": "[encoded data removed]"
          },
          "metadata": {
            "needs_background": "light"
          }
        }
      ]
    },
    {
      "cell_type": "markdown",
      "source": [
        "# Discuss with you partner:\n",
        "\n",
        "What do the X and Y axes represent in that scatterplot? Why does that scatterplot have the shape that it does? Some statisticians would say that the plot has a \"cigar shape\" and that this shape provides an important clue about the correlation between the two variables. Do you think the two variables are correlated? What does that imply about the word \"natural\" and the word \"naturally?\""
      ],
      "metadata": {
        "id": "DjpILOkdWvFw"
      }
    },
    {
      "cell_type": "code",
      "source": [
        "#\n",
        "# Exercise 7.3: Choose a different adjective, such as \"powerful\", as well as\n",
        "# its adverbial form. Obtain the two word vectors as shown earlier\n",
        "# and plot the two vectors as a scattergram. Are there any parallels to\n",
        "# the chart above? \n",
        "#\n",
        "#powerful - is adjective\n",
        "#powerfully is adverb\n",
        "\n",
        "direct = nlp_lg.vocab[\"powerful\"].vector\n",
        "naturally = nlp_lg.vocab[\"powerfully\"].vector # Look up the vector for the adverbial form\n",
        "\n",
        "plt.scatter(direct, naturally)\n",
        "\n",
        "#X axis represents the embedding of similar words to powerful\n",
        "#Y axis represents the embedding of similar words to powerfully\n",
        "#The shape shows that there is a positive and strong correlation between the words\n",
        "#Yes these two words are correlated as we can see their similar words near to each other\n",
        "#This implies that \"natural\" and \"naturally\" are very similar in meaning \n",
        "#and lie close to each other in embedding space\n"
      ],
      "metadata": {
        "id": "VCbuzblnu8ne",
        "colab": {
          "base_uri": "https://localhost:8080/",
          "height": 284
        },
        "outputId": "1fcab402-4cbb-4639-ef60-d36d7aedea3e"
      },
      "execution_count": 25,
      "outputs": [
        {
          "output_type": "execute_result",
          "data": {
            "text/plain": [
              "<matplotlib.collections.PathCollection at 0x7fc22b0c1a60>"
            ]
          },
          "metadata": {},
          "execution_count": 25
        },
        {
          "output_type": "display_data",
          "data": {
            "text/plain": [
              "<Figure size 432x288 with 1 Axes>"
            ],
            "image/png": "[encoded data removed]"
          },
          "metadata": {
            "needs_background": "light"
          }
        }
      ]
    },
    {
      "cell_type": "markdown",
      "source": [
        "Just as NLPIA says, we don't really know what each element of a vector actually signifies semantically. But that does not stop use from working with these vectors to explore semantics. In this next exercise, we use Kmeans clustering, a simple geometric technique for allocating points to clusters. Each cluster ends up being represented by a center point (a centroid), which in this case will be in d=300 space. So if we had a cluster that contained the word vectors for \"milk,\" \"cheese,\" and \"yogurt,\" the centroid would look like a word vector but would not represent a particular word, but rather a dairy-product middle position in between \"milk,\" \"cheese,\" and \"yogurt.\" We can treat a centroid as if it were a word vector by finding words that are similar to it."
      ],
      "metadata": {
        "id": "57qxyc9Ls1Qp"
      }
    },
    {
      "cell_type": "code",
      "source": [
        "# Next, let's get the word vectors for a variety of adjectives and cluster them.\n",
        "from sklearn.cluster import KMeans\n",
        "km = KMeans(n_clusters=2) # Let's get a two cluster solution\n",
        "\n",
        "adjectives = nlp_lg(\"big gigantic massive long tall spicy bitter sour tart zesty\")\n",
        "\n",
        "vect_list = [tok.vector for tok in adjectives]\n",
        "\n",
        "km.fit(vect_list)\n",
        "\n",
        "clusters = km.cluster_centers_\n",
        "len(clusters[0]) # cluster[0] is the vector representing the first cluster center"
      ],
      "metadata": {
        "id": "UWwLqyucvu7v",
        "colab": {
          "base_uri": "https://localhost:8080/"
        },
        "outputId": "7df833cd-62e2-4383-e8be-be3420f69fb6"
      },
      "execution_count": 37,
      "outputs": [
        {
          "output_type": "execute_result",
          "data": {
            "text/plain": [
              "300"
            ]
          },
          "metadata": {},
          "execution_count": 37
        }
      ]
    },
    {
      "cell_type": "code",
      "source": [
        "plt.hist(clusters[0]) # This suggests that the cluster center is a typical-looking\n",
        "# embedding vector even though it is not a real word but rather a position in \n",
        "# d=300 space determined by km.fit()."
      ],
      "metadata": {
        "id": "YEzaIslEsOwT",
        "colab": {
          "base_uri": "https://localhost:8080/",
          "height": 354
        },
        "outputId": "f930e94a-1045-45ad-b78b-ecf58327bed2"
      },
      "execution_count": 38,
      "outputs": [
        {
          "output_type": "execute_result",
          "data": {
            "text/plain": [
              "(array([ 5., 15., 27., 64., 75., 66., 34., 12.,  0.,  2.]),\n",
              " array([-5.83743997, -4.52281797, -3.20819598, -1.89357399, -0.578952  ,\n",
              "         0.73566999,  2.05029199,  3.36491398,  4.67953597,  5.99415796,\n",
              "         7.30877995]),\n",
              " <BarContainer object of 10 artists>)"
            ]
          },
          "metadata": {},
          "execution_count": 38
        },
        {
          "output_type": "display_data",
          "data": {
            "text/plain": [
              "<Figure size 432x288 with 1 Axes>"
            ],
            "image/png": "[encoded data removed]"
          },
          "metadata": {
            "needs_background": "light"
          }
        }
      ]
    },
    {
      "cell_type": "markdown",
      "source": [
        "Each of the two cluster centers represents a point in d=300 space that is in the geometric \"middle\" of all of the word vectors that Kmeans assigned to each cluster. But the cluster center is not itself a vector for a particular word. So how can we find out what each cluster center is all about? You guessed it: We do a similarity search, with spaCy's help, to find out which words are closest to each cluster center."
      ],
      "metadata": {
        "id": "_dlXJ34XXuH5"
      }
    },
    {
      "cell_type": "code",
      "source": [
        "#\n",
        "# Exercise 7.4: Find the nearest 10 words to each of the two cluster centers\n",
        "# Here's the relevant code from up above for obtaining a list of similar words. \n",
        "# What is the one argument you need to change?\n",
        "#\n",
        "similar = nlp_lg.vocab.vectors.most_similar(np.asarray([clusters[0]]), n=10)\n",
        "[nlp_lg.vocab.strings[w] for w in similar[0][0]]\n",
        "\n"
      ],
      "metadata": {
        "id": "DMu2Wyrtyu4u",
        "colab": {
          "base_uri": "https://localhost:8080/"
        },
        "outputId": "ca1fb74e-8370-4cf4-aa7c-f7493645ac6b"
      },
      "execution_count": 81,
      "outputs": [
        {
          "output_type": "execute_result",
          "data": {
            "text/plain": [
              "['worldbuilding',\n",
              " 'superstructures',\n",
              " 'freestanding',\n",
              " 'groundings',\n",
              " 'overbuilding',\n",
              " 'deckbuilding',\n",
              " 'hight',\n",
              " 'wilding',\n",
              " 'interchangable',\n",
              " 'upbuilding']"
            ]
          },
          "metadata": {},
          "execution_count": 81
        }
      ]
    },
    {
      "cell_type": "code",
      "source": [
        "# Here are two sentences from Wikipedia:\n",
        "two_sentences = \"Shanghai Tower is the world's third-tallest building by height to architectural top and it shares the record of having the world's highest observation deck within a building or structure. In 2007, Guinness World Records certified that the ghost pepper was the world's hottest chili pepper, 170 times hotter than Tabasco sauce. \"\n",
        "# Scroll right to see the second sentence.\n",
        "\n",
        "#\n",
        "# Exercise 7.5: Use spaCy to tokenize \"two_sentences: and then remove stop words\n",
        "# numbers and punctuation from the token stream. Obtain a list of word vectors of the\n",
        "# remaining words and subject this list to a two cluster Kmeans analysis. Find\n",
        "# the closest 10 words to each of the resulting cluster centers.\n",
        "#\n",
        "#Tokenize\n",
        "tok =[token for token in nlp_lg(two_sentences)]\n",
        "tok =[token for token in tok if not token.is_stop] #remove stopwords\n",
        "tok =[token for token in tok if not token.is_punct] #remove punctuationns\n",
        "tok =[token for token in tok if not token.like_num] #remove numbers\n",
        "\n",
        "#Create two cluster kmeans\n",
        "from sklearn.cluster import KMeans\n",
        "km = KMeans(n_clusters=2) \n",
        "vect_list = [token.vector for token in tok]\n",
        "km.fit(vect_list)\n",
        "clusters = km.cluster_centers_\n",
        "len(clusters[0]) # cluster[0] is the vector representing the first cluster center\n",
        "similar = nlp_lg.vocab.vectors.most_similar(np.asarray([clusters[0]]), n=10)\n",
        "[nlp_lg.vocab.strings[w] for w in similar[0][0]]"
      ],
      "metadata": {
        "id": "6tVGUfLV13nL",
        "colab": {
          "base_uri": "https://localhost:8080/"
        },
        "outputId": "f002b627-4955-4172-b928-590141b4555c"
      },
      "execution_count": 47,
      "outputs": [
        {
          "output_type": "execute_result",
          "data": {
            "text/plain": [
              "['worldbuilding',\n",
              " 'superstructures',\n",
              " 'freestanding',\n",
              " 'groundings',\n",
              " 'overbuilding',\n",
              " 'deckbuilding',\n",
              " 'hight',\n",
              " 'wilding',\n",
              " 'interchangable',\n",
              " 'upbuilding']"
            ]
          },
          "metadata": {},
          "execution_count": 47
        }
      ]
    },
    {
      "cell_type": "markdown",
      "source": [
        "There's more to do with word embedding vectors. In particular, there are basic ways to summarize short utterances by computing the mean vector across all the words in the utterance. Some applications perform dimension reduction on a set of word vectors to get a low-dimensional representation of certain linguistic characteristics such as the tense of verbs or the gender of nouns. In class you saw some analogical thinking tasks performed with word vectors. And there are tasks such as synonym searches that word vectors make quite easy.\n",
        "\n",
        "Despite the usefulness of word vectors, however, the subsequent development of more complex deep learning models opened up the possibility of creating vector representations of phrases, sentences, and longer constructions. To some degree, these models have supplanted the use of word vectors, because they provide greater flexibility and because we are usually interested in analyzing whole utterances rather than isaolated words. The rest of the lab focuses on these sentence embeddings.\n"
      ],
      "metadata": {
        "id": "glvpmeUyY6ls"
      }
    },
    {
      "cell_type": "markdown",
      "source": [
        "***Part 2: Sentence Embeddings***\n",
        "\n",
        "In this section of the lab, we will load up a pre-trained model that can produce sentence embeddings. With word vectors we could maintain a list of 10k, 100k, or more words in a dictionary. That's not feasible with sentences, though, because language is so expressive: there's effectively an infinite number of possible sentences. As a result, to create a sentence embedding we need a trained model to perform \"inference\" on an input that we provide - usually in the form of a string containing a complete sentence. Sentence embedding models process the input string through a system of weights to create a long vector that tries to capture the semantics of the whole sentence.\n",
        " "
      ],
      "metadata": {
        "id": "eYA1KHyQ6HTY"
      }
    },
    {
      "cell_type": "code",
      "source": [
        "# The first thing we will need is the library for loading sentence transformers\n",
        "# This generates a lot of output, but should run pretty fast.\n",
        "#!pip install sentence-transformers"
      ],
      "metadata": {
        "id": "Nl-X8ULzZ2cz"
      },
      "execution_count": 49,
      "outputs": []
    },
    {
      "cell_type": "code",
      "source": [
        "# Now load a pre-trained sentence transformer onto this VM. There are hundreds \n",
        "# of models to choose from. The model loading process downloads a lot of data \n",
        "# to your virtual machine and takes half a minute or so.\n",
        "from sentence_transformers import SentenceTransformer\n",
        "\n",
        "model = SentenceTransformer('distiluse-base-multilingual-cased-v2')\n",
        "# Why is it sometimes a good idea to use a multilingual model?"
      ],
      "metadata": {
        "id": "MMqhG5NTbfIe",
        "colab": {
          "base_uri": "https://localhost:8080/",
          "height": 465,
          "referenced_widgets": [
            "ee180050bbfb49219fd5ae0b65ac4584",
            "9cbb3d76ce7747888b23cb31cd6ff093",
            "fc65be2336b542ff8aab05b6b6fdb75e",
            "30a7d74d2e204e15835dd7acf0205f90",
            "9ed3fef0d45c4c1fa332972ae4e0dfef",
            "070c401969fd49f0a77e1da737e7b8cd",
            "dd306c3f68094b3e81ac578ca837e9f4",
            "a5162fc9b2534858a95d18f25c2b0dc6",
            "a43723b7beec4ea7b65fdcf328a70b4b",
            "d232b4ff85fd4b879f0ce748c62ccbcb",
            "e2ba7906693b4185ba0f34f24c77c43d",
            "72f7c3dddb044c68855c9e93b8af38e5",
            "3c0f38bb1e8740f5bbac63bb7053fa05",
            "14ffa1f06818483faed367288037f853",
            "30a787c6b1a5485d8575d0dc89af90c6",
            "b34ae955826040b79f29d2c3bc5ff3e2",
            "fa12dba4e4654498a9fa9a05632c2adc",
            "ec9f7752cd53489d924ceca0f1ab3e20",
            "92821eda74bc40a8990c27a0259afa14",
            "8576b62b9bc2467b861915c3cee82708",
            "f39e6c076c01453985693a75211f6b23",
            "40f6276408ec4909a41e2718c6c3d941",
            "bb1e9381c1264aaca470a8be7758dc13",
            "a6cfc1342c8f4fdd8b415e54a6c9ea15",
            "a70fbf2592824e54801fcf31e883bccc",
            "1d4d09d45b754098a131856358208fe7",
            "ea4efe05b78e4254b5407a59b85a8458",
            "4da021b85e354285b8e40e97a824f31b",
            "63e3f6fc3a734321a2245e75f69e8163",
            "64bb80237078476bb44588e297ca3630",
            "395033ab7357484284edceaa4c32620c",
            "7471c7159f7444f6a2b5bed5d07b7794",
            "3b981f9c5f4446b397878e0e52db9e12",
            "60567d181f374a06a5084f106f9ed169",
            "26bd072a70c34780884098094d97f181",
            "839104ce664547f097485ef96e175ec0",
            "7e6d95f4f2cc4197a2b670dfa7335794",
            "eb0f2830f326425b9aedd9705eef3964",
            "955aa7cbae9c48de9633669911e590c4",
            "b85037a6bde149eeb71b35b9a1894e37",
            "b64b1ad667e74536b3e400a3e3b7cd93",
            "146a4e8181f44dac80f2c2e1d15d7ab3",
            "cb7de8ab5c7f4b27a0b4b38bc443717b",
            "6cfd2717d1724619b0b163ca5a424ee1",
            "3701ff87dbae4f2a93fca3e61c68d5ca",
            "f8ca3309abc349dbbbc9a11312edfa5a",
            "096c06f2ce1046a19e8315ee8e23698c",
            "50d078805dff437d92e26db96916d95f",
            "ae764f51378e4f23bcb3d700bf9b1551",
            "9bfeb7014fc141a5887809bbf36ea093",
            "6091b2b40e06451eace0dc2f6b0b895f",
            "b839cdc104bb476198ffdd101baace50",
            "c356270218644011b4afeb5e07187a44",
            "37e384fa5c084263957ed6ba6ae83295",
            "52a9812cc4f74cd4aeba2076298981da",
            "75794fb76ab44870b7bf6f697fa2c6dc",
            "daa66af064084a5c8562d630b0852d8a",
            "20e85986d9c8405f93169a671ba7623d",
            "37abf0bcc0124d2386a34d47f32e59d6",
            "12e5335c6b4b478b9899ad3b9d4e8a50",
            "d0dcc81cf9db4f6bb8a8165e44ba4fc0",
            "6989fec143a1453e8699f03dc960b993",
            "065af197678c45a98890e0630ac32aed",
            "40b1c6ea42a14332bec0c5eb4cea0f0c",
            "7019b4cc134d4c0cafeeb52546efe400",
            "7e276f0c0c014ac79130f69ec6e25234",
            "f10b0abd8dd544c28212656bef9574e6",
            "30dd13e3bcd54e8da440da0e4d7cc30c",
            "9eb07c7fa9bd4950b735c6e1b31bb97c",
            "714d0a7b3d89482c90975a370445bf5c",
            "055010c68aca440899c0e6924f44d3c0",
            "acdd5efd9abc4961abf8a15a02d09869",
            "609fe05bc0e642f1b6002745c019057a",
            "e29dbf2f381f4cbb9a95e6f4793d12d6",
            "026dc134405745e29af521607be5c38b",
            "1d49a54ff183429fab55153eaa995d58",
            "2cca11ff3eb9466d97251adb61707988",
            "fdb737140dc44c2f816e5719b92084d3",
            "22a08a4b487941d48bc59afd698db162",
            "1dc881ab836f410790b8be2e8c365a16",
            "d9801da91fa44f98b0e9e6c127d88d70",
            "9bca5bec73ed4cc894de5213dc021ad7",
            "f2dcb6de5ef24e6ba0333a7146b452c3",
            "690ace4e47244644a96f2790bd2d1897",
            "412427e80ce546a6a5ab8b41ea291d8c",
            "b0a2ccccaf704eeb802bf2250bb7b178",
            "136eb9d2dec742488a64daf4fb83743a",
            "60267b657c6d4f4bb09c66195468a311",
            "105350e9a552416fb3141c4989805994",
            "741bb1228b20406eaf039127c919fa76",
            "10304e8222934b36abbc36484490cb82",
            "528d4932440945e7bdf0a11b53ea05bd",
            "bdff107ac9084021a69f926fb9bcf227",
            "bc90cf54c18749998c310b80e135a8c7",
            "c45bfe4d89b4440693491845f9798ad0",
            "6955f364b4554dd8b94a3bcb2fa31b0c",
            "a47a454b24bf4b6da4256e8e9d5e2945",
            "daa4cb7190fb4d2388bcf2db48eaae08",
            "042c542cbb934e1d8b22f88a34658e51",
            "018576d6357443fc91735ab505781ba9",
            "27c32cdf72c54937a92deac47d52dfd0",
            "3db15420b7de48d1be124b5d59379307",
            "5a5c0007e84e4b7181f95d3c5eab4b5d",
            "07a5170b49e24659b549ac063561b51d",
            "4df37cb0c63d4e369d602e073667b80f",
            "30793794d67645f1a488b2b97872c0cf",
            "559df90fc42a4d0aa72c34a57edd8eed",
            "fa13e03bc1cc41d3be907e3618d6857f",
            "d381da254dac44aea467689a94d96796",
            "2fdd8862c99d40d3a8758bc15dc455db",
            "edd8de2c53724fe4bce43e6e3ef02d8e",
            "39ecee0b07a24743a3ebde7a5d1d69a8",
            "34e4b5f0309e4162b6b08f0a64db4f89",
            "d7118b15a983402f9eaf531d8d6ca973",
            "5c5e08e92b134857913f2e683add339e",
            "7d07f59af21048069d83727f0b476bf2",
            "c2d28fb3d845424b8a443a63dd8358cc",
            "f998dda22a2e44649d46303a244c065a",
            "74ca5531311346af8d3af6b0676e65b1",
            "2963062735524810ba34bace58fe43b6",
            "c83eb9a1dc524f089fbd7a4a50ee5714",
            "aa70fc6dcce0431bae273fa4e7f99375",
            "92dd485446884782aa7b0516c5f597b3",
            "f57da403502a40edae31813df562285c",
            "e15878ab87ce4e9087fd7c92fa3438c4",
            "12c461926c254ed5b8332deab93fadb8",
            "c01be117466747ba84b4c321b385f376",
            "8b04990590b84777b54f5d830a844de2",
            "a8e95206e2294096b8ee86c81d6f98ae",
            "ee092d81436543199736f4d3030472dd",
            "5d3446240bb84d439c106475d96d8aae",
            "a1488f13c76645dca99d662088d71aa7",
            "001ffccb5a2a4f18bbdc4df966abd203",
            "c8aa483a72754ea1a341c3f2716fe12d",
            "4eb6f15e0cae4ab68c59590d5da10229",
            "1a51e5f81949480cb6c4349937a6b460",
            "46d07958dd3741c099e7b3b606a51b62",
            "49dfdc1c756e47f6b71c65f4bf6e9798",
            "5a8cad7bb5ca48bcbf396e83383c55e8",
            "b8a7aa470cf345ff90b64dfa3d2c04a4",
            "eb8c0627391c4780b1f626f210ff0f3c",
            "3e4f7bf5c88f4e79bcdd19d2da10b029",
            "a5e280d921014027af097a343cfc6694",
            "6f3910a3524748d1b629a376ac1e3b83",
            "4886d60ec9f9408e921fbad9034099d7",
            "ec91382a97a04f08abd073a1b8ad5818",
            "57b027fcee144a28a557f1f82b6ee43b",
            "09d8c954559b4b4c9bb01c3128c4d96e",
            "34c67b027bc1424791c9e1f272861618",
            "df6394b39c6e4dbfa6110e9779c69935",
            "5ed0dee7c61b4604a3dfa845f610b57c",
            "3cab0bc9edb448e9b1d97657b52d3c54",
            "2e7c91d5c8b34155b47c012a6afbe5af",
            "c4832f8f4773444da1a23202ac3c34b5"
          ]
        },
        "outputId": "23ea4679-6b4a-41d7-dc08-409a38cc4122"
      },
      "execution_count": 50,
      "outputs": [
        {
          "output_type": "display_data",
          "data": {
            "text/plain": [
              "Downloading (…)6015c/.gitattributes:   0%|          | 0.00/690 [00:00<?, ?B/s]"
            ],
            "application/vnd.jupyter.widget-view+json": {
              "version_major": 2,
              "version_minor": 0,
              "model_id": "ee180050bbfb49219fd5ae0b65ac4584"
            }
          },
          "metadata": {}
        },
        {
          "output_type": "display_data",
          "data": {
            "text/plain": [
              "Downloading (…)_Pooling/config.json:   0%|          | 0.00/190 [00:00<?, ?B/s]"
            ],
            "application/vnd.jupyter.widget-view+json": {
              "version_major": 2,
              "version_minor": 0,
              "model_id": "72f7c3dddb044c68855c9e93b8af38e5"
            }
          },
          "metadata": {}
        },
        {
          "output_type": "display_data",
          "data": {
            "text/plain": [
              "Downloading (…)/2_Dense/config.json:   0%|          | 0.00/114 [00:00<?, ?B/s]"
            ],
            "application/vnd.jupyter.widget-view+json": {
              "version_major": 2,
              "version_minor": 0,
              "model_id": "bb1e9381c1264aaca470a8be7758dc13"
            }
          },
          "metadata": {}
        },
        {
          "output_type": "display_data",
          "data": {
            "text/plain": [
              "Downloading (…)\"pytorch_model.bin\";:   0%|          | 0.00/1.58M [00:00<?, ?B/s]"
            ],
            "application/vnd.jupyter.widget-view+json": {
              "version_major": 2,
              "version_minor": 0,
              "model_id": "60567d181f374a06a5084f106f9ed169"
            }
          },
          "metadata": {}
        },
        {
          "output_type": "display_data",
          "data": {
            "text/plain": [
              "Downloading (…)ff6066015c/README.md:   0%|          | 0.00/2.38k [00:00<?, ?B/s]"
            ],
            "application/vnd.jupyter.widget-view+json": {
              "version_major": 2,
              "version_minor": 0,
              "model_id": "3701ff87dbae4f2a93fca3e61c68d5ca"
            }
          },
          "metadata": {}
        },
        {
          "output_type": "display_data",
          "data": {
            "text/plain": [
              "Downloading (…)6066015c/config.json:   0%|          | 0.00/610 [00:00<?, ?B/s]"
            ],
            "application/vnd.jupyter.widget-view+json": {
              "version_major": 2,
              "version_minor": 0,
              "model_id": "75794fb76ab44870b7bf6f697fa2c6dc"
            }
          },
          "metadata": {}
        },
        {
          "output_type": "display_data",
          "data": {
            "text/plain": [
              "Downloading (…)ce_transformers.json:   0%|          | 0.00/122 [00:00<?, ?B/s]"
            ],
            "application/vnd.jupyter.widget-view+json": {
              "version_major": 2,
              "version_minor": 0,
              "model_id": "f10b0abd8dd544c28212656bef9574e6"
            }
          },
          "metadata": {}
        },
        {
          "output_type": "display_data",
          "data": {
            "text/plain": [
              "Downloading (…)\"pytorch_model.bin\";:   0%|          | 0.00/539M [00:00<?, ?B/s]"
            ],
            "application/vnd.jupyter.widget-view+json": {
              "version_major": 2,
              "version_minor": 0,
              "model_id": "fdb737140dc44c2f816e5719b92084d3"
            }
          },
          "metadata": {}
        },
        {
          "output_type": "display_data",
          "data": {
            "text/plain": [
              "Downloading (…)nce_bert_config.json:   0%|          | 0.00/53.0 [00:00<?, ?B/s]"
            ],
            "application/vnd.jupyter.widget-view+json": {
              "version_major": 2,
              "version_minor": 0,
              "model_id": "105350e9a552416fb3141c4989805994"
            }
          },
          "metadata": {}
        },
        {
          "output_type": "display_data",
          "data": {
            "text/plain": [
              "Downloading (…)cial_tokens_map.json:   0%|          | 0.00/112 [00:00<?, ?B/s]"
            ],
            "application/vnd.jupyter.widget-view+json": {
              "version_major": 2,
              "version_minor": 0,
              "model_id": "018576d6357443fc91735ab505781ba9"
            }
          },
          "metadata": {}
        },
        {
          "output_type": "display_data",
          "data": {
            "text/plain": [
              "Downloading (…)6015c/tokenizer.json:   0%|          | 0.00/1.96M [00:00<?, ?B/s]"
            ],
            "application/vnd.jupyter.widget-view+json": {
              "version_major": 2,
              "version_minor": 0,
              "model_id": "edd8de2c53724fe4bce43e6e3ef02d8e"
            }
          },
          "metadata": {}
        },
        {
          "output_type": "display_data",
          "data": {
            "text/plain": [
              "Downloading (…)okenizer_config.json:   0%|          | 0.00/531 [00:00<?, ?B/s]"
            ],
            "application/vnd.jupyter.widget-view+json": {
              "version_major": 2,
              "version_minor": 0,
              "model_id": "aa70fc6dcce0431bae273fa4e7f99375"
            }
          },
          "metadata": {}
        },
        {
          "output_type": "display_data",
          "data": {
            "text/plain": [
              "Downloading (…)ff6066015c/vocab.txt:   0%|          | 0.00/996k [00:00<?, ?B/s]"
            ],
            "application/vnd.jupyter.widget-view+json": {
              "version_major": 2,
              "version_minor": 0,
              "model_id": "001ffccb5a2a4f18bbdc4df966abd203"
            }
          },
          "metadata": {}
        },
        {
          "output_type": "display_data",
          "data": {
            "text/plain": [
              "Downloading (…)066015c/modules.json:   0%|          | 0.00/341 [00:00<?, ?B/s]"
            ],
            "application/vnd.jupyter.widget-view+json": {
              "version_major": 2,
              "version_minor": 0,
              "model_id": "6f3910a3524748d1b629a376ac1e3b83"
            }
          },
          "metadata": {}
        }
      ]
    },
    {
      "cell_type": "code",
      "source": [
        "# Let's get the vector for one example sentence:\n",
        "one_sentence = \"Shanghai Tower is the world's third-tallest building by height to architectural top and it shares the record of having the world's highest observation deck within a building or structure.\"\n",
        "\n",
        "a = model.encode([one_sentence])\n",
        "print(a.shape) # Show the shape of the vector: Take note of the dimensionality"
      ],
      "metadata": {
        "id": "O-5eRMxIb7wA",
        "colab": {
          "base_uri": "https://localhost:8080/"
        },
        "outputId": "604d1432-0980-48c7-9e8e-6f6b2ff2962b"
      },
      "execution_count": 51,
      "outputs": [
        {
          "output_type": "stream",
          "name": "stdout",
          "text": [
            "(1, 512)\n"
          ]
        }
      ]
    },
    {
      "cell_type": "code",
      "source": [
        "# Here's another sentence that looks cloesely related.\n",
        "another_sentence = \"Shanghai Tower is a 128-story, 632-meter-tall megatall skyscraper in Lujiazui, Pudong, Shanghai that is the world's third-tallest building by height and having the world's highest observation deck at 562 m.\"\n",
        "\n",
        "#\n",
        "# Exercise 7.6: Compute a summary vector for \"another_sentence\". Show the shape.\n",
        "#\n",
        "b = model.encode([another_sentence])\n",
        "print(b.shape)\n",
        "#The shape is (1,512)"
      ],
      "metadata": {
        "id": "BCSHKso8_jVY",
        "colab": {
          "base_uri": "https://localhost:8080/"
        },
        "outputId": "b807ae82-fed1-4cc2-b329-4cca03aeffe3"
      },
      "execution_count": 53,
      "outputs": [
        {
          "output_type": "stream",
          "name": "stdout",
          "text": [
            "(1, 512)\n"
          ]
        }
      ]
    },
    {
      "cell_type": "code",
      "source": [
        "#\n",
        "# Exercise 7.7: Compute the cosine similarity between one_sentence and another_sentence.\n",
        "# You can use cosine_similarity()from sklearn.metrics.pairwise \n",
        "#\n",
        "from sklearn.metrics.pairwise import cosine_similarity\n",
        "\n",
        "cosine_similarity(a,b)\n",
        "\n",
        "#Cosine similarity between one_sentence and another_sentence is \n",
        "#0.818723"
      ],
      "metadata": {
        "id": "JQlkYk1_AGlm",
        "colab": {
          "base_uri": "https://localhost:8080/"
        },
        "outputId": "964bce2f-c091-4509-93c6-45c375bf4a0b"
      },
      "execution_count": 54,
      "outputs": [
        {
          "output_type": "execute_result",
          "data": {
            "text/plain": [
              "array([[0.818723]], dtype=float32)"
            ]
          },
          "metadata": {},
          "execution_count": 54
        }
      ]
    },
    {
      "cell_type": "markdown",
      "source": [
        "#Checkpoint! Write the Cosine Similarity on the Board\n",
        "\n",
        "Looking at the output from Exercise 7.7 just above, round the cosine similarity value to three significant digits and write it on the white board next to your name. "
      ],
      "metadata": {
        "id": "bNs56NkA3c0q"
      }
    },
    {
      "cell_type": "code",
      "source": [
        "#\n",
        "# Exercise 7.8: Copy and paste a sentence from Wikipedia or another source that\n",
        "# is on a topic other than Shanghai Tower. Create a sentence vector for it.\n",
        "#\n",
        "third_sentence = \"It is the tallest building in China and the world's third-tallest building by height to architectural top. \"\n",
        "c = model.encode([third_sentence])\n",
        "print(c.shape)\n"
      ],
      "metadata": {
        "id": "3-8XWCLDBMNH",
        "colab": {
          "base_uri": "https://localhost:8080/"
        },
        "outputId": "eb52f8ce-927b-459a-f158-033a948c5122"
      },
      "execution_count": 83,
      "outputs": [
        {
          "output_type": "stream",
          "name": "stdout",
          "text": [
            "(1, 512)\n"
          ]
        }
      ]
    },
    {
      "cell_type": "code",
      "source": [
        "#\n",
        "# Exercise 7.9: Compute cosine similarity between third_sentence and each\n",
        "# of the other two sentences.\n",
        "#\n",
        "print(cosine_similarity(a,c))\n",
        "\n",
        "#cosine_similarity between first and third sentence : 0.8007\n",
        "\n",
        "print(cosine_similarity(b,c))\n",
        "\n",
        "#cosine_similarity between second and third sentence : 0.6742"
      ],
      "metadata": {
        "id": "wjIp0T9ZCmus",
        "colab": {
          "base_uri": "https://localhost:8080/"
        },
        "outputId": "50da991a-4b65-4c09-e570-3a1e58f5d719"
      },
      "execution_count": 87,
      "outputs": [
        {
          "output_type": "stream",
          "name": "stdout",
          "text": [
            "[[0.8007623]]\n",
            "[[0.6742576]]\n"
          ]
        }
      ]
    },
    {
      "cell_type": "markdown",
      "source": [
        "At this point we have created d=512 vector representations of several sentences and used cosine similarity to compare them. Let's load a large dataset of sentences and use that to generate a set of sentence vectors so that we can try out some practical approaches to using the similarities of sentence vectors. "
      ],
      "metadata": {
        "id": "SZPrbhf7C_f-"
      }
    },
    {
      "cell_type": "code",
      "source": [
        "# ********* Load Data ********* # \n",
        "# The following code processes the Twitter Emotion Corpus (TEC)\n",
        "# Link of paper: http://citeseerx.ist.psu.edu/viewdoc/download?doi=10.1.1.383.3384&rep=rep1&type=pdf\n",
        "# Link of web page with dataset: http://saifmohammad.com/WebPages/SentimentEmotionLabeledData.html\n",
        "\n",
        "\n",
        "# These lines download the zip file to this VM and unzip it onto the disk\n",
        "!wget http://saifmohammad.com/WebDocs/Jan9-2012-tweets-clean.txt.zip \n",
        "!unzip Jan9-2012-tweets-clean.txt.zip"
      ],
      "metadata": {
        "id": "D9JsA44-c4Kc",
        "colab": {
          "base_uri": "https://localhost:8080/"
        },
        "outputId": "4d0c27da-d512-489c-9b47-df1888aade4d"
      },
      "execution_count": 88,
      "outputs": [
        {
          "output_type": "stream",
          "name": "stdout",
          "text": [
            "--2023-03-01 16:40:34--  http://saifmohammad.com/WebDocs/Jan9-2012-tweets-clean.txt.zip\n",
            "Resolving saifmohammad.com (saifmohammad.com)... 192.185.17.122\n",
            "Connecting to saifmohammad.com (saifmohammad.com)|192.185.17.122|:80... connected.\n",
            "HTTP request sent, awaiting response... 200 OK\n",
            "Length: 1128895 (1.1M) [application/zip]\n",
            "Saving to: ‘Jan9-2012-tweets-clean.txt.zip’\n",
            "\n",
            "\r          Jan9-2012   0%[                    ]       0  --.-KB/s               \rJan9-2012-tweets-cl 100%[===================>]   1.08M  --.-KB/s    in 0.1s    \n",
            "\n",
            "2023-03-01 16:40:34 (11.3 MB/s) - ‘Jan9-2012-tweets-clean.txt.zip’ saved [1128895/1128895]\n",
            "\n",
            "Archive:  Jan9-2012-tweets-clean.txt.zip\n",
            "  inflating: Jan9-2012-tweets-clean.txt  \n",
            "   creating: __MACOSX/\n",
            "  inflating: __MACOSX/._Jan9-2012-tweets-clean.txt  \n"
          ]
        }
      ]
    },
    {
      "cell_type": "code",
      "metadata": {
        "id": "eFz_IHkRbmdt",
        "colab": {
          "base_uri": "https://localhost:8080/"
        },
        "outputId": "ddfab9a2-9106-44a3-c150-8cbb61a50aab"
      },
      "source": [
        "# Now read and process the data file\n",
        "basefile = \"Jan9-2012-tweets-clean.txt\" # Should match the name of the unzipped file\n",
        "\n",
        "# Initialize a list of tweets\n",
        "texts = []\n",
        "\n",
        "# Initialize a list of labels\n",
        "labels = []\n",
        "\n",
        "with open(basefile, 'r', encoding=\"utf8\") as f:\n",
        "  for line in f:\n",
        "    splitted = line.strip().split()\n",
        "    labels.append(splitted[len(splitted)-1])\n",
        "    texts.append(' '.join(splitted[1:len(splitted)-2]))\n",
        "    \n",
        "print('Loaded %s sentences.' % len(labels))"
      ],
      "execution_count": 89,
      "outputs": [
        {
          "output_type": "stream",
          "name": "stdout",
          "text": [
            "Loaded 21051 sentences.\n"
          ]
        }
      ]
    },
    {
      "cell_type": "code",
      "source": [
        "#\n",
        "# Exercise 7.10: The texts of the tweets are in the list \"texts\". Examine the\n",
        "# first 10 tweets.\n",
        "#\n",
        "texts[:10]"
      ],
      "metadata": {
        "id": "7U8JMhhUDTWg",
        "colab": {
          "base_uri": "https://localhost:8080/"
        },
        "outputId": "5114cb62-3859-47ac-f36f-b28d672fed45"
      },
      "execution_count": 90,
      "outputs": [
        {
          "output_type": "execute_result",
          "data": {
            "text/plain": [
              "['Thinks that @melbahughes had a great 50th birthday party :)',\n",
              " 'Como una expresión tan simple, una sola oración, puede llegara dañarte tanto.',\n",
              " 'the moment when you get another follower and you cheer.',\n",
              " 'Be the greatest dancer of your life! practice daily positive habits. #fun #freedom #habits',\n",
              " 'eww.. my moms starting to make her annual rum cake for the whole ramdyal/ally family. fml fml fml the smelll.......',\n",
              " \"If ur heart hurts all the time for tht person something isn't right where's the\",\n",
              " \"I feel awful, and it's way too freaking early. Now off to leadership highschool...\",\n",
              " 'So chuffed for safc fans! Bet me dar comes in mortz from the match',\n",
              " 'Making art and viewing art are different at their core!',\n",
              " 'Soooo dooowwwn!! Move on, get some sleep... Me deserve better. #forgetit #yawning']"
            ]
          },
          "metadata": {},
          "execution_count": 90
        }
      ]
    },
    {
      "cell_type": "code",
      "source": [
        "# When initially developing some new code it is better to work\n",
        "# on a smaller chunk to get the bugs out without a huge amount of processing time.\n",
        "# So let's take 500 of the 21051 tweets. Feel free to process more of the tweets\n",
        "# once you have finished the rest of the lab.\n",
        "#\n",
        "short_list = texts[500:1000]\n",
        "len(short_list)"
      ],
      "metadata": {
        "id": "2T6sqKeNEWXI",
        "colab": {
          "base_uri": "https://localhost:8080/"
        },
        "outputId": "4fb858b4-e0e9-4cbb-f08b-55b5f708c13e"
      },
      "execution_count": 91,
      "outputs": [
        {
          "output_type": "execute_result",
          "data": {
            "text/plain": [
              "500"
            ]
          },
          "metadata": {},
          "execution_count": 91
        }
      ]
    },
    {
      "cell_type": "code",
      "source": [
        "# We can run model.encode() on a list of texts. This will take 30-60 seconds\n",
        "# for a list of 500 tweets.\n",
        "tweet_vects = model.encode(short_list)\n",
        "\n",
        "tweet_vects.shape # Make sure you know what these numbers mean"
      ],
      "metadata": {
        "id": "HpoHuvaOFh1K"
      },
      "execution_count": null,
      "outputs": []
    },
    {
      "cell_type": "code",
      "source": [
        "# Now let's see if we can find all the tweets that pertain to a particular topic. \n",
        "# Here's an \"anchor sentence\" that we can use to generate similarities.\n",
        "anchor = 149\n",
        "short_list[anchor]"
      ],
      "metadata": {
        "id": "_3syCFNeGV_o"
      },
      "execution_count": null,
      "outputs": []
    },
    {
      "cell_type": "code",
      "source": [
        "# Note how these vector elements appear on a very different scale from \n",
        "# spaCy word vectors. Still centered on zero but with a much smaller SD.\n",
        "# This is a result of using different computational techniques to generate\n",
        "# the vectors. \n",
        "\n",
        "plt.bar(x=range(512), height=tweet_vects[anchor])"
      ],
      "metadata": {
        "id": "BdxlKe2XH43_"
      },
      "execution_count": null,
      "outputs": []
    },
    {
      "cell_type": "code",
      "source": [
        "# Compute similarity scores between each sentence and the anchor sentence\n",
        "sim_list = []\n",
        "\n",
        "for vect in tweet_vects:\n",
        "  sim_list.append(cosine_similarity(tweet_vects[anchor].reshape(1,-1), vect.reshape(1,-1)))\n",
        "\n",
        "len(sim_list), type(sim_list[0])"
      ],
      "metadata": {
        "id": "ywLpmZ6fIMoe"
      },
      "execution_count": null,
      "outputs": []
    },
    {
      "cell_type": "code",
      "source": [
        "# Show a histogram of the similarity values\n",
        "plt.hist([sim.tolist()[0][0] for sim in sim_list])"
      ],
      "metadata": {
        "id": "NdG6bm-CI_VN"
      },
      "execution_count": null,
      "outputs": []
    },
    {
      "cell_type": "code",
      "source": [
        "# Now show all of the sentences with a similarity greater than 0.5\n",
        "#\n",
        "thresh = 0.5\n",
        "\n",
        "for i, sim in enumerate(sim_list):\n",
        "  if sim.tolist()[0][0] > thresh:\n",
        "    print(short_list[i])"
      ],
      "metadata": {
        "id": "vRuRGxbVJ80b"
      },
      "execution_count": null,
      "outputs": []
    },
    {
      "cell_type": "code",
      "source": [
        "#\n",
        "# Exercise 7.11: Write your own anchor sentence that you think might match\n",
        "# some tweets. Generate a vector representation of that sentence and use\n",
        "# the vector to create a similarity list across the 500 tweets. Inspect a \n",
        "# histogram to get a good cutoff value and display all of the tweets that are\n",
        "# similar to your anchor sentence.\n",
        "#\n"
      ],
      "metadata": {
        "id": "okE-GDJqLGsA"
      },
      "execution_count": null,
      "outputs": []
    },
    {
      "cell_type": "code",
      "source": [
        "#\n",
        "# Exercise 7.12: Interpret a hierarchical cluster (dendrogram) representing\n",
        "# similarities/differences among a small set of tweets.\n",
        "#\n",
        "from sklearn.metrics.pairwise import cosine_distances # To create distance matrix for clustering\n",
        "from scipy.cluster.hierarchy import dendrogram, linkage # For clustering\n",
        "\n",
        "start_tweet = 110 # Pick any starting and ending point you like.\n",
        "end_tweet = 150   # but a dendrogram can only show so much.\n",
        "\n",
        "smaller_set = tweet_vects[start_tweet:end_tweet] # Subset the vectors\n",
        "small_labels = [s[0:10] for s in short_list[start_tweet:end_tweet]] # Make some leaf labels\n",
        "\n",
        "# In this next step, we compute a square cosine distance matrix using the vectors \n",
        "dist = cosine_distances(smaller_set, smaller_set)\n",
        "\n",
        "fig = plt.figure(figsize=(12, 5)) # Make a larger figure area \n",
        "link_matrix = linkage(dist, \"weighted\") # Create the hierarchy\n",
        "dendrogram(link_matrix, leaf_font_size=8., labels=small_labels) # Plot the result\n",
        "plt.title(\"Cluster Dendrogram\")\n",
        "plt.show()\n",
        "\n",
        "# In the dendrogram, locate the two strings shown in the output two blocks above."
      ],
      "metadata": {
        "id": "gi12UznUgR43"
      },
      "execution_count": null,
      "outputs": []
    },
    {
      "cell_type": "markdown",
      "source": [
        "Dendrograms have the advantage that they are easy to explain to non-technical audiences. The larger and smaller distances among elements in the set are easy to spot visually. The disadvantage is that there is no clear assignment of an element to a cluster and there's no clear idea of how many clusters are needed to have a good fit. How many clusters do you think are represented by the dendrogram above?\n",
        "\n",
        "The other disadvantage of a dendrogram is that even with a really large display, you can only fit a small set of elements onto it. The dendrogram above shows 40 elements and much more than that would make for a lot of clutter. In the next exercise, you will use t-distributed stochastic neighbor embedding (t-SNE), a data reduction technique to project high dimensional spaces onto low dimensional spaces. Rather than computing the distances in advance, we will tell the TSNE() function what distance metric we would like it to use.  "
      ],
      "metadata": {
        "id": "Bp6lzjtDlkZI"
      }
    },
    {
      "cell_type": "code",
      "source": [
        "#\n",
        "# Exercise 7.12: With any remaining time in the lab session, tweak a TSNE\n",
        "# projection of your 500 sentence vectors with n_components=4. Use a 3D scatterplot\n",
        "# to represent the tweets. Use the fourth dimension to control the color\n",
        "# of the points. \n",
        "#\n",
        "from sklearn.manifold import TSNE\n",
        "\n",
        "tsne_model = TSNE(n_components=4, method=\"exact\", metric=\"cosine\", init='pca', n_iter=2500, random_state=42, perplexity=20, early_exaggeration=10)"
      ],
      "metadata": {
        "id": "XgcnhfCyLqPA"
      },
      "execution_count": null,
      "outputs": []
    },
    {
      "cell_type": "code",
      "source": [
        "# This can take about one minute to complete for 500 points.\n",
        "# Note that we are passing in the complete list of sentence summary\n",
        "# vectors and the procedure is calculating a cosine distance matrix\n",
        "# from that list before using TSNE for dimension reduction.\n",
        "#\n",
        "tsne_out = tsne_model.fit_transform(tweet_vects) # May throw some warnings."
      ],
      "metadata": {
        "id": "IOM8X_ZQ6A5i"
      },
      "execution_count": null,
      "outputs": []
    },
    {
      "cell_type": "code",
      "source": [
        "#\n",
        "# Exercise 7.13: Display the shape of the tsne_out object.\n",
        "# Why does this shape make sense? What is stored in the object?\n",
        "#\n"
      ],
      "metadata": {
        "id": "00dw12ei7Vbs"
      },
      "execution_count": null,
      "outputs": []
    },
    {
      "cell_type": "code",
      "source": [
        "# This creates a 3D plot with the color of the points controlled by the 4th dimension\n",
        "fig = plt.figure(figsize=(10, 10))\n",
        "ax = fig.add_subplot(projection='3d')\n",
        "\n",
        "ax.scatter(xs=tsne_out[:,0], ys=tsne_out[:,1], zs=tsne_out[:,2], c=tsne_out[:,3], cmap=\"plasma\")"
      ],
      "metadata": {
        "id": "2CLBaAif7yex"
      },
      "execution_count": null,
      "outputs": []
    },
    {
      "cell_type": "markdown",
      "source": [
        "Use this text block to write an interpretation of the 3D plot above. What do the X, Y, and X axes signify? Are there any notable patterns evident? Are there any \"special\" points we should be paying attention to?\n",
        "\n",
        "(Your answer here.)"
      ],
      "metadata": {
        "id": "uMGnSPPC9dvb"
      }
    },
    {
      "cell_type": "code",
      "source": [
        "#\n",
        "# Exercise 7.14: Adjust the perplexity and early_exaggeration parameters\n",
        "# that control the TSNE fitting process. Adjust them one at a time and \n",
        "# look for how they affect the shape of the plot. Examine the sklearn documentation\n",
        "# for TSNE and comment on the ideal parameters for plotting.\n",
        "#\n",
        "# How would you go about locating the outlier tweets that appear on the plot?\n",
        "#\n"
      ],
      "metadata": {
        "id": "uRY5I_ft-ODo"
      },
      "execution_count": null,
      "outputs": []
    }
  ]
}