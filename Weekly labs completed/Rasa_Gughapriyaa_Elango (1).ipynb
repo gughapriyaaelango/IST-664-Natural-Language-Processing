{
 "cells": [
  {
   "cell_type": "code",
   "execution_count": 1,
   "id": "d2ba13e6",
   "metadata": {},
   "outputs": [
    {
     "data": {
      "text/plain": [
       "'Hello from Rasa: 3.5.4'"
      ]
     },
     "execution_count": 1,
     "metadata": {},
     "output_type": "execute_result"
    }
   ],
   "source": [
    "import requests\n",
    "response=requests.get(\"http://localhost:5005\")\n",
    "response.text"
   ]
  },
  {
   "cell_type": "code",
   "execution_count": 3,
   "id": "7ecad8ea",
   "metadata": {},
   "outputs": [],
   "source": [
    "msg = \"\"\"{\n",
    "\"sender\": \"test_user\",\n",
    "\"message\": \"I'm sad.\"\n",
    "}\"\"\"\n",
    "response = requests.post(url=\"http://localhost:5005/webhooks/rest/webhook\", data=msg)\n"
   ]
  },
  {
   "cell_type": "code",
   "execution_count": 4,
   "id": "3050bc4c",
   "metadata": {},
   "outputs": [
    {
     "data": {
      "text/plain": [
       "<Response [200]>"
      ]
     },
     "execution_count": 4,
     "metadata": {},
     "output_type": "execute_result"
    }
   ],
   "source": [
    "response"
   ]
  },
  {
   "cell_type": "code",
   "execution_count": 5,
   "id": "3642f792",
   "metadata": {},
   "outputs": [
    {
     "data": {
      "text/plain": [
       "'[{\"recipient_id\":\"test_user\",\"text\":\"Here is something to cheer you up:\"},{\"recipient_id\":\"test_user\",\"image\":\"https:\\\\/\\\\/i.imgur.com\\\\/nGF1K8f.jpg\"},{\"recipient_id\":\"test_user\",\"text\":\"Did that help you?\"}]'"
      ]
     },
     "execution_count": 5,
     "metadata": {},
     "output_type": "execute_result"
    }
   ],
   "source": [
    "response.text"
   ]
  },
  {
   "cell_type": "code",
   "execution_count": 6,
   "id": "f1e7ec72",
   "metadata": {},
   "outputs": [
    {
     "data": {
      "text/plain": [
       "dict"
      ]
     },
     "execution_count": 6,
     "metadata": {},
     "output_type": "execute_result"
    }
   ],
   "source": [
    "import json\n",
    "response_dict = json.loads(response.text)\n",
    "type(response_dict[0])"
   ]
  },
  {
   "cell_type": "code",
   "execution_count": 9,
   "id": "f0cc8aa7",
   "metadata": {},
   "outputs": [
    {
     "name": "stdout",
     "output_type": "stream",
     "text": [
      "Text Here is something to cheer you up:\n",
      "Image https://i.imgur.com/nGF1K8f.jpg\n",
      "Text Did that help you?\n"
     ]
    }
   ],
   "source": [
    "for res in response_dict:\n",
    "    if \"text\" in res:\n",
    "        print(\"Text\",res[\"text\"])\n",
    "    else:\n",
    "        print(\"Image\",res[\"image\"])"
   ]
  },
  {
   "cell_type": "code",
   "execution_count": 27,
   "id": "23c3772f",
   "metadata": {},
   "outputs": [],
   "source": [
    "msg2 = \"\"\"{\n",
    "\"sender\": \"test_user\",\n",
    "\"message\": \"Hey, whats up?\"\n",
    "}\"\"\"\n",
    "response2 = requests.post(url=\"http://localhost:5005/webhooks/rest/webhook\", data=msg2)\n"
   ]
  },
  {
   "cell_type": "code",
   "execution_count": 28,
   "id": "754dd0bb",
   "metadata": {},
   "outputs": [
    {
     "data": {
      "text/plain": [
       "<Response [200]>"
      ]
     },
     "execution_count": 28,
     "metadata": {},
     "output_type": "execute_result"
    }
   ],
   "source": [
    "response2"
   ]
  },
  {
   "cell_type": "code",
   "execution_count": 29,
   "id": "182ed330",
   "metadata": {},
   "outputs": [
    {
     "data": {
      "text/plain": [
       "'[{\"recipient_id\":\"test_user\",\"text\":\"Hey! How are you?\"}]'"
      ]
     },
     "execution_count": 29,
     "metadata": {},
     "output_type": "execute_result"
    }
   ],
   "source": [
    "response2.text"
   ]
  },
  {
   "cell_type": "code",
   "execution_count": null,
   "id": "2e69b5b9",
   "metadata": {},
   "outputs": [],
   "source": [
    "#Gughapriyaa Elango"
   ]
  },
  {
   "cell_type": "code",
   "execution_count": null,
   "id": "07651415",
   "metadata": {},
   "outputs": [],
   "source": []
  },
  {
   "cell_type": "code",
   "execution_count": null,
   "id": "e2873a64",
   "metadata": {},
   "outputs": [],
   "source": []
  }
 ],
 "metadata": {
  "kernelspec": {
   "display_name": "Python 3",
   "language": "python",
   "name": "python3"
  },
  "language_info": {
   "codemirror_mode": {
    "name": "ipython",
    "version": 3
   },
   "file_extension": ".py",
   "mimetype": "text/x-python",
   "name": "python",
   "nbconvert_exporter": "python",
   "pygments_lexer": "ipython3",
   "version": "3.8.8"
  },
  "latex_envs": {
   "LaTeX_envs_menu_present": true,
   "autoclose": false,
   "autocomplete": true,
   "bibliofile": "biblio.bib",
   "cite_by": "apalike",
   "current_citInitial": 1,
   "eqLabelWithNumbers": true,
   "eqNumInitial": 1,
   "hotkeys": {
    "equation": "Ctrl-E",
    "itemize": "Ctrl-I"
   },
   "labels_anchors": false,
   "latex_user_defs": false,
   "report_style_numbering": false,
   "user_envs_cfg": false
  },
  "toc": {
   "base_numbering": 1,
   "nav_menu": {},
   "number_sections": true,
   "sideBar": true,
   "skip_h1_title": false,
   "title_cell": "Table of Contents",
   "title_sidebar": "Contents",
   "toc_cell": false,
   "toc_position": {},
   "toc_section_display": true,
   "toc_window_display": false
  }
 },
 "nbformat": 4,
 "nbformat_minor": 5
}
