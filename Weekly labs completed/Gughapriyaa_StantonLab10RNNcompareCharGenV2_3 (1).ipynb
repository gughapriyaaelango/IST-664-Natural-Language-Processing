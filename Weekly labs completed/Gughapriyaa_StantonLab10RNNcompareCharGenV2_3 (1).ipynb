{
  "nbformat": 4,
  "nbformat_minor": 0,
  "metadata": {
    "accelerator": "GPU",
    "colab": {
      "provenance": []
    },
    "kernelspec": {
      "display_name": "Python 3",
      "name": "python3"
    },
    "language_info": {
      "codemirror_mode": {
        "name": "ipython",
        "version": 3
      },
      "file_extension": ".py",
      "mimetype": "text/x-python",
      "name": "python",
      "nbconvert_exporter": "python",
      "pygments_lexer": "ipython3",
      "version": "3.7.5"
    },
    "widgets": {
      "application/vnd.jupyter.widget-state+json": {
        "f681be85209f455db005eb3236a76117": {
          "model_module": "@jupyter-widgets/controls",
          "model_name": "HBoxModel",
          "model_module_version": "1.5.0",
          "state": {
            "_dom_classes": [],
            "_model_module": "@jupyter-widgets/controls",
            "_model_module_version": "1.5.0",
            "_model_name": "HBoxModel",
            "_view_count": null,
            "_view_module": "@jupyter-widgets/controls",
            "_view_module_version": "1.5.0",
            "_view_name": "HBoxView",
            "box_style": "",
            "children": [
              "IPY_MODEL_952069018ed44979b6defd8ae8d908a1",
              "IPY_MODEL_01e11d5e13984e8ea20fecf011d85ed6",
              "IPY_MODEL_1c385b24d2f34326ba2274a4c2556a8d"
            ],
            "layout": "IPY_MODEL_c084b424541a464fa86d1fed445939fa"
          }
        },
        "952069018ed44979b6defd8ae8d908a1": {
          "model_module": "@jupyter-widgets/controls",
          "model_name": "HTMLModel",
          "model_module_version": "1.5.0",
          "state": {
            "_dom_classes": [],
            "_model_module": "@jupyter-widgets/controls",
            "_model_module_version": "1.5.0",
            "_model_name": "HTMLModel",
            "_view_count": null,
            "_view_module": "@jupyter-widgets/controls",
            "_view_module_version": "1.5.0",
            "_view_name": "HTMLView",
            "description": "",
            "description_tooltip": null,
            "layout": "IPY_MODEL_eab1b65ce2e746799d708a6a90fa68d3",
            "placeholder": "​",
            "style": "IPY_MODEL_8429321218b7468680b20266030f1ee6",
            "value": "Downloading builder script: 100%"
          }
        },
        "01e11d5e13984e8ea20fecf011d85ed6": {
          "model_module": "@jupyter-widgets/controls",
          "model_name": "FloatProgressModel",
          "model_module_version": "1.5.0",
          "state": {
            "_dom_classes": [],
            "_model_module": "@jupyter-widgets/controls",
            "_model_module_version": "1.5.0",
            "_model_name": "FloatProgressModel",
            "_view_count": null,
            "_view_module": "@jupyter-widgets/controls",
            "_view_module_version": "1.5.0",
            "_view_name": "ProgressView",
            "bar_style": "success",
            "description": "",
            "description_tooltip": null,
            "layout": "IPY_MODEL_f457c198a3524a14857d59fbb86494dc",
            "max": 5275,
            "min": 0,
            "orientation": "horizontal",
            "style": "IPY_MODEL_161b4289b65d410e89cf536f10deff87",
            "value": 5275
          }
        },
        "1c385b24d2f34326ba2274a4c2556a8d": {
          "model_module": "@jupyter-widgets/controls",
          "model_name": "HTMLModel",
          "model_module_version": "1.5.0",
          "state": {
            "_dom_classes": [],
            "_model_module": "@jupyter-widgets/controls",
            "_model_module_version": "1.5.0",
            "_model_name": "HTMLModel",
            "_view_count": null,
            "_view_module": "@jupyter-widgets/controls",
            "_view_module_version": "1.5.0",
            "_view_name": "HTMLView",
            "description": "",
            "description_tooltip": null,
            "layout": "IPY_MODEL_efae31e8809c4824ace515071bdeef15",
            "placeholder": "​",
            "style": "IPY_MODEL_790df95d701b489ea885c0309aecd46c",
            "value": " 5.28k/5.28k [00:00&lt;00:00, 220kB/s]"
          }
        },
        "c084b424541a464fa86d1fed445939fa": {
          "model_module": "@jupyter-widgets/base",
          "model_name": "LayoutModel",
          "model_module_version": "1.2.0",
          "state": {
            "_model_module": "@jupyter-widgets/base",
            "_model_module_version": "1.2.0",
            "_model_name": "LayoutModel",
            "_view_count": null,
            "_view_module": "@jupyter-widgets/base",
            "_view_module_version": "1.2.0",
            "_view_name": "LayoutView",
            "align_content": null,
            "align_items": null,
            "align_self": null,
            "border": null,
            "bottom": null,
            "display": null,
            "flex": null,
            "flex_flow": null,
            "grid_area": null,
            "grid_auto_columns": null,
            "grid_auto_flow": null,
            "grid_auto_rows": null,
            "grid_column": null,
            "grid_gap": null,
            "grid_row": null,
            "grid_template_areas": null,
            "grid_template_columns": null,
            "grid_template_rows": null,
            "height": null,
            "justify_content": null,
            "justify_items": null,
            "left": null,
            "margin": null,
            "max_height": null,
            "max_width": null,
            "min_height": null,
            "min_width": null,
            "object_fit": null,
            "object_position": null,
            "order": null,
            "overflow": null,
            "overflow_x": null,
            "overflow_y": null,
            "padding": null,
            "right": null,
            "top": null,
            "visibility": null,
            "width": null
          }
        },
        "eab1b65ce2e746799d708a6a90fa68d3": {
          "model_module": "@jupyter-widgets/base",
          "model_name": "LayoutModel",
          "model_module_version": "1.2.0",
          "state": {
            "_model_module": "@jupyter-widgets/base",
            "_model_module_version": "1.2.0",
            "_model_name": "LayoutModel",
            "_view_count": null,
            "_view_module": "@jupyter-widgets/base",
            "_view_module_version": "1.2.0",
            "_view_name": "LayoutView",
            "align_content": null,
            "align_items": null,
            "align_self": null,
            "border": null,
            "bottom": null,
            "display": null,
            "flex": null,
            "flex_flow": null,
            "grid_area": null,
            "grid_auto_columns": null,
            "grid_auto_flow": null,
            "grid_auto_rows": null,
            "grid_column": null,
            "grid_gap": null,
            "grid_row": null,
            "grid_template_areas": null,
            "grid_template_columns": null,
            "grid_template_rows": null,
            "height": null,
            "justify_content": null,
            "justify_items": null,
            "left": null,
            "margin": null,
            "max_height": null,
            "max_width": null,
            "min_height": null,
            "min_width": null,
            "object_fit": null,
            "object_position": null,
            "order": null,
            "overflow": null,
            "overflow_x": null,
            "overflow_y": null,
            "padding": null,
            "right": null,
            "top": null,
            "visibility": null,
            "width": null
          }
        },
        "8429321218b7468680b20266030f1ee6": {
          "model_module": "@jupyter-widgets/controls",
          "model_name": "DescriptionStyleModel",
          "model_module_version": "1.5.0",
          "state": {
            "_model_module": "@jupyter-widgets/controls",
            "_model_module_version": "1.5.0",
            "_model_name": "DescriptionStyleModel",
            "_view_count": null,
            "_view_module": "@jupyter-widgets/base",
            "_view_module_version": "1.2.0",
            "_view_name": "StyleView",
            "description_width": ""
          }
        },
        "f457c198a3524a14857d59fbb86494dc": {
          "model_module": "@jupyter-widgets/base",
          "model_name": "LayoutModel",
          "model_module_version": "1.2.0",
          "state": {
            "_model_module": "@jupyter-widgets/base",
            "_model_module_version": "1.2.0",
            "_model_name": "LayoutModel",
            "_view_count": null,
            "_view_module": "@jupyter-widgets/base",
            "_view_module_version": "1.2.0",
            "_view_name": "LayoutView",
            "align_content": null,
            "align_items": null,
            "align_self": null,
            "border": null,
            "bottom": null,
            "display": null,
            "flex": null,
            "flex_flow": null,
            "grid_area": null,
            "grid_auto_columns": null,
            "grid_auto_flow": null,
            "grid_auto_rows": null,
            "grid_column": null,
            "grid_gap": null,
            "grid_row": null,
            "grid_template_areas": null,
            "grid_template_columns": null,
            "grid_template_rows": null,
            "height": null,
            "justify_content": null,
            "justify_items": null,
            "left": null,
            "margin": null,
            "max_height": null,
            "max_width": null,
            "min_height": null,
            "min_width": null,
            "object_fit": null,
            "object_position": null,
            "order": null,
            "overflow": null,
            "overflow_x": null,
            "overflow_y": null,
            "padding": null,
            "right": null,
            "top": null,
            "visibility": null,
            "width": null
          }
        },
        "161b4289b65d410e89cf536f10deff87": {
          "model_module": "@jupyter-widgets/controls",
          "model_name": "ProgressStyleModel",
          "model_module_version": "1.5.0",
          "state": {
            "_model_module": "@jupyter-widgets/controls",
            "_model_module_version": "1.5.0",
            "_model_name": "ProgressStyleModel",
            "_view_count": null,
            "_view_module": "@jupyter-widgets/base",
            "_view_module_version": "1.2.0",
            "_view_name": "StyleView",
            "bar_color": null,
            "description_width": ""
          }
        },
        "efae31e8809c4824ace515071bdeef15": {
          "model_module": "@jupyter-widgets/base",
          "model_name": "LayoutModel",
          "model_module_version": "1.2.0",
          "state": {
            "_model_module": "@jupyter-widgets/base",
            "_model_module_version": "1.2.0",
            "_model_name": "LayoutModel",
            "_view_count": null,
            "_view_module": "@jupyter-widgets/base",
            "_view_module_version": "1.2.0",
            "_view_name": "LayoutView",
            "align_content": null,
            "align_items": null,
            "align_self": null,
            "border": null,
            "bottom": null,
            "display": null,
            "flex": null,
            "flex_flow": null,
            "grid_area": null,
            "grid_auto_columns": null,
            "grid_auto_flow": null,
            "grid_auto_rows": null,
            "grid_column": null,
            "grid_gap": null,
            "grid_row": null,
            "grid_template_areas": null,
            "grid_template_columns": null,
            "grid_template_rows": null,
            "height": null,
            "justify_content": null,
            "justify_items": null,
            "left": null,
            "margin": null,
            "max_height": null,
            "max_width": null,
            "min_height": null,
            "min_width": null,
            "object_fit": null,
            "object_position": null,
            "order": null,
            "overflow": null,
            "overflow_x": null,
            "overflow_y": null,
            "padding": null,
            "right": null,
            "top": null,
            "visibility": null,
            "width": null
          }
        },
        "790df95d701b489ea885c0309aecd46c": {
          "model_module": "@jupyter-widgets/controls",
          "model_name": "DescriptionStyleModel",
          "model_module_version": "1.5.0",
          "state": {
            "_model_module": "@jupyter-widgets/controls",
            "_model_module_version": "1.5.0",
            "_model_name": "DescriptionStyleModel",
            "_view_count": null,
            "_view_module": "@jupyter-widgets/base",
            "_view_module_version": "1.2.0",
            "_view_name": "StyleView",
            "description_width": ""
          }
        },
        "39e5146ed17c4513992df611d02341be": {
          "model_module": "@jupyter-widgets/controls",
          "model_name": "HBoxModel",
          "model_module_version": "1.5.0",
          "state": {
            "_dom_classes": [],
            "_model_module": "@jupyter-widgets/controls",
            "_model_module_version": "1.5.0",
            "_model_name": "HBoxModel",
            "_view_count": null,
            "_view_module": "@jupyter-widgets/controls",
            "_view_module_version": "1.5.0",
            "_view_name": "HBoxView",
            "box_style": "",
            "children": [
              "IPY_MODEL_a925414286b040a5a99609730e08507f",
              "IPY_MODEL_3c1199513610435d86a35dd8c699b7a2",
              "IPY_MODEL_42214877ad5f44a5b4f1403ef11eb2fa"
            ],
            "layout": "IPY_MODEL_000a13a3869340b2889379a93e0050f9"
          }
        },
        "a925414286b040a5a99609730e08507f": {
          "model_module": "@jupyter-widgets/controls",
          "model_name": "HTMLModel",
          "model_module_version": "1.5.0",
          "state": {
            "_dom_classes": [],
            "_model_module": "@jupyter-widgets/controls",
            "_model_module_version": "1.5.0",
            "_model_name": "HTMLModel",
            "_view_count": null,
            "_view_module": "@jupyter-widgets/controls",
            "_view_module_version": "1.5.0",
            "_view_name": "HTMLView",
            "description": "",
            "description_tooltip": null,
            "layout": "IPY_MODEL_8d74bc39588f490397092f38a699bcbc",
            "placeholder": "​",
            "style": "IPY_MODEL_0874817f08aa4727baa0052d36dac0ad",
            "value": "Downloading metadata: 100%"
          }
        },
        "3c1199513610435d86a35dd8c699b7a2": {
          "model_module": "@jupyter-widgets/controls",
          "model_name": "FloatProgressModel",
          "model_module_version": "1.5.0",
          "state": {
            "_dom_classes": [],
            "_model_module": "@jupyter-widgets/controls",
            "_model_module_version": "1.5.0",
            "_model_name": "FloatProgressModel",
            "_view_count": null,
            "_view_module": "@jupyter-widgets/controls",
            "_view_module_version": "1.5.0",
            "_view_name": "ProgressView",
            "bar_style": "success",
            "description": "",
            "description_tooltip": null,
            "layout": "IPY_MODEL_8a798e1145fb468996d6ef612f6ec504",
            "max": 2398,
            "min": 0,
            "orientation": "horizontal",
            "style": "IPY_MODEL_c0b843805e9748e598344ad205c193bf",
            "value": 2398
          }
        },
        "42214877ad5f44a5b4f1403ef11eb2fa": {
          "model_module": "@jupyter-widgets/controls",
          "model_name": "HTMLModel",
          "model_module_version": "1.5.0",
          "state": {
            "_dom_classes": [],
            "_model_module": "@jupyter-widgets/controls",
            "_model_module_version": "1.5.0",
            "_model_name": "HTMLModel",
            "_view_count": null,
            "_view_module": "@jupyter-widgets/controls",
            "_view_module_version": "1.5.0",
            "_view_name": "HTMLView",
            "description": "",
            "description_tooltip": null,
            "layout": "IPY_MODEL_afb48f8e36ac48f49a850deae1a06466",
            "placeholder": "​",
            "style": "IPY_MODEL_cdeb0b18fcec4061b37a3f40d2775dd6",
            "value": " 2.40k/2.40k [00:00&lt;00:00, 52.8kB/s]"
          }
        },
        "000a13a3869340b2889379a93e0050f9": {
          "model_module": "@jupyter-widgets/base",
          "model_name": "LayoutModel",
          "model_module_version": "1.2.0",
          "state": {
            "_model_module": "@jupyter-widgets/base",
            "_model_module_version": "1.2.0",
            "_model_name": "LayoutModel",
            "_view_count": null,
            "_view_module": "@jupyter-widgets/base",
            "_view_module_version": "1.2.0",
            "_view_name": "LayoutView",
            "align_content": null,
            "align_items": null,
            "align_self": null,
            "border": null,
            "bottom": null,
            "display": null,
            "flex": null,
            "flex_flow": null,
            "grid_area": null,
            "grid_auto_columns": null,
            "grid_auto_flow": null,
            "grid_auto_rows": null,
            "grid_column": null,
            "grid_gap": null,
            "grid_row": null,
            "grid_template_areas": null,
            "grid_template_columns": null,
            "grid_template_rows": null,
            "height": null,
            "justify_content": null,
            "justify_items": null,
            "left": null,
            "margin": null,
            "max_height": null,
            "max_width": null,
            "min_height": null,
            "min_width": null,
            "object_fit": null,
            "object_position": null,
            "order": null,
            "overflow": null,
            "overflow_x": null,
            "overflow_y": null,
            "padding": null,
            "right": null,
            "top": null,
            "visibility": null,
            "width": null
          }
        },
        "8d74bc39588f490397092f38a699bcbc": {
          "model_module": "@jupyter-widgets/base",
          "model_name": "LayoutModel",
          "model_module_version": "1.2.0",
          "state": {
            "_model_module": "@jupyter-widgets/base",
            "_model_module_version": "1.2.0",
            "_model_name": "LayoutModel",
            "_view_count": null,
            "_view_module": "@jupyter-widgets/base",
            "_view_module_version": "1.2.0",
            "_view_name": "LayoutView",
            "align_content": null,
            "align_items": null,
            "align_self": null,
            "border": null,
            "bottom": null,
            "display": null,
            "flex": null,
            "flex_flow": null,
            "grid_area": null,
            "grid_auto_columns": null,
            "grid_auto_flow": null,
            "grid_auto_rows": null,
            "grid_column": null,
            "grid_gap": null,
            "grid_row": null,
            "grid_template_areas": null,
            "grid_template_columns": null,
            "grid_template_rows": null,
            "height": null,
            "justify_content": null,
            "justify_items": null,
            "left": null,
            "margin": null,
            "max_height": null,
            "max_width": null,
            "min_height": null,
            "min_width": null,
            "object_fit": null,
            "object_position": null,
            "order": null,
            "overflow": null,
            "overflow_x": null,
            "overflow_y": null,
            "padding": null,
            "right": null,
            "top": null,
            "visibility": null,
            "width": null
          }
        },
        "0874817f08aa4727baa0052d36dac0ad": {
          "model_module": "@jupyter-widgets/controls",
          "model_name": "DescriptionStyleModel",
          "model_module_version": "1.5.0",
          "state": {
            "_model_module": "@jupyter-widgets/controls",
            "_model_module_version": "1.5.0",
            "_model_name": "DescriptionStyleModel",
            "_view_count": null,
            "_view_module": "@jupyter-widgets/base",
            "_view_module_version": "1.2.0",
            "_view_name": "StyleView",
            "description_width": ""
          }
        },
        "8a798e1145fb468996d6ef612f6ec504": {
          "model_module": "@jupyter-widgets/base",
          "model_name": "LayoutModel",
          "model_module_version": "1.2.0",
          "state": {
            "_model_module": "@jupyter-widgets/base",
            "_model_module_version": "1.2.0",
            "_model_name": "LayoutModel",
            "_view_count": null,
            "_view_module": "@jupyter-widgets/base",
            "_view_module_version": "1.2.0",
            "_view_name": "LayoutView",
            "align_content": null,
            "align_items": null,
            "align_self": null,
            "border": null,
            "bottom": null,
            "display": null,
            "flex": null,
            "flex_flow": null,
            "grid_area": null,
            "grid_auto_columns": null,
            "grid_auto_flow": null,
            "grid_auto_rows": null,
            "grid_column": null,
            "grid_gap": null,
            "grid_row": null,
            "grid_template_areas": null,
            "grid_template_columns": null,
            "grid_template_rows": null,
            "height": null,
            "justify_content": null,
            "justify_items": null,
            "left": null,
            "margin": null,
            "max_height": null,
            "max_width": null,
            "min_height": null,
            "min_width": null,
            "object_fit": null,
            "object_position": null,
            "order": null,
            "overflow": null,
            "overflow_x": null,
            "overflow_y": null,
            "padding": null,
            "right": null,
            "top": null,
            "visibility": null,
            "width": null
          }
        },
        "c0b843805e9748e598344ad205c193bf": {
          "model_module": "@jupyter-widgets/controls",
          "model_name": "ProgressStyleModel",
          "model_module_version": "1.5.0",
          "state": {
            "_model_module": "@jupyter-widgets/controls",
            "_model_module_version": "1.5.0",
            "_model_name": "ProgressStyleModel",
            "_view_count": null,
            "_view_module": "@jupyter-widgets/base",
            "_view_module_version": "1.2.0",
            "_view_name": "StyleView",
            "bar_color": null,
            "description_width": ""
          }
        },
        "afb48f8e36ac48f49a850deae1a06466": {
          "model_module": "@jupyter-widgets/base",
          "model_name": "LayoutModel",
          "model_module_version": "1.2.0",
          "state": {
            "_model_module": "@jupyter-widgets/base",
            "_model_module_version": "1.2.0",
            "_model_name": "LayoutModel",
            "_view_count": null,
            "_view_module": "@jupyter-widgets/base",
            "_view_module_version": "1.2.0",
            "_view_name": "LayoutView",
            "align_content": null,
            "align_items": null,
            "align_self": null,
            "border": null,
            "bottom": null,
            "display": null,
            "flex": null,
            "flex_flow": null,
            "grid_area": null,
            "grid_auto_columns": null,
            "grid_auto_flow": null,
            "grid_auto_rows": null,
            "grid_column": null,
            "grid_gap": null,
            "grid_row": null,
            "grid_template_areas": null,
            "grid_template_columns": null,
            "grid_template_rows": null,
            "height": null,
            "justify_content": null,
            "justify_items": null,
            "left": null,
            "margin": null,
            "max_height": null,
            "max_width": null,
            "min_height": null,
            "min_width": null,
            "object_fit": null,
            "object_position": null,
            "order": null,
            "overflow": null,
            "overflow_x": null,
            "overflow_y": null,
            "padding": null,
            "right": null,
            "top": null,
            "visibility": null,
            "width": null
          }
        },
        "cdeb0b18fcec4061b37a3f40d2775dd6": {
          "model_module": "@jupyter-widgets/controls",
          "model_name": "DescriptionStyleModel",
          "model_module_version": "1.5.0",
          "state": {
            "_model_module": "@jupyter-widgets/controls",
            "_model_module_version": "1.5.0",
            "_model_name": "DescriptionStyleModel",
            "_view_count": null,
            "_view_module": "@jupyter-widgets/base",
            "_view_module_version": "1.2.0",
            "_view_name": "StyleView",
            "description_width": ""
          }
        },
        "16b358969a6c4168ae55171e64ca9223": {
          "model_module": "@jupyter-widgets/controls",
          "model_name": "HBoxModel",
          "model_module_version": "1.5.0",
          "state": {
            "_dom_classes": [],
            "_model_module": "@jupyter-widgets/controls",
            "_model_module_version": "1.5.0",
            "_model_name": "HBoxModel",
            "_view_count": null,
            "_view_module": "@jupyter-widgets/controls",
            "_view_module_version": "1.5.0",
            "_view_name": "HBoxView",
            "box_style": "",
            "children": [
              "IPY_MODEL_4e33b13e0cc349ae8deb9f66c8da860b",
              "IPY_MODEL_a0599d2b311f4fcc83c613f378b8dde1",
              "IPY_MODEL_669a03d08aab4d119ea4ff9b8771af6e"
            ],
            "layout": "IPY_MODEL_c94a964f3ae54e37bfe9a797f630cfc6"
          }
        },
        "4e33b13e0cc349ae8deb9f66c8da860b": {
          "model_module": "@jupyter-widgets/controls",
          "model_name": "HTMLModel",
          "model_module_version": "1.5.0",
          "state": {
            "_dom_classes": [],
            "_model_module": "@jupyter-widgets/controls",
            "_model_module_version": "1.5.0",
            "_model_name": "HTMLModel",
            "_view_count": null,
            "_view_module": "@jupyter-widgets/controls",
            "_view_module_version": "1.5.0",
            "_view_name": "HTMLView",
            "description": "",
            "description_tooltip": null,
            "layout": "IPY_MODEL_43a09ef696304a80ba7438c35b15ceb5",
            "placeholder": "​",
            "style": "IPY_MODEL_ccc86acff73a44b4b3d6a81f9334af90",
            "value": "Downloading readme: 100%"
          }
        },
        "a0599d2b311f4fcc83c613f378b8dde1": {
          "model_module": "@jupyter-widgets/controls",
          "model_name": "FloatProgressModel",
          "model_module_version": "1.5.0",
          "state": {
            "_dom_classes": [],
            "_model_module": "@jupyter-widgets/controls",
            "_model_module_version": "1.5.0",
            "_model_name": "FloatProgressModel",
            "_view_count": null,
            "_view_module": "@jupyter-widgets/controls",
            "_view_module_version": "1.5.0",
            "_view_name": "ProgressView",
            "bar_style": "success",
            "description": "",
            "description_tooltip": null,
            "layout": "IPY_MODEL_ef9048f6e21e457f92d9dd4ee43703df",
            "max": 8016,
            "min": 0,
            "orientation": "horizontal",
            "style": "IPY_MODEL_5854d654d2f44e069a4f709aea0b3bb6",
            "value": 8016
          }
        },
        "669a03d08aab4d119ea4ff9b8771af6e": {
          "model_module": "@jupyter-widgets/controls",
          "model_name": "HTMLModel",
          "model_module_version": "1.5.0",
          "state": {
            "_dom_classes": [],
            "_model_module": "@jupyter-widgets/controls",
            "_model_module_version": "1.5.0",
            "_model_name": "HTMLModel",
            "_view_count": null,
            "_view_module": "@jupyter-widgets/controls",
            "_view_module_version": "1.5.0",
            "_view_name": "HTMLView",
            "description": "",
            "description_tooltip": null,
            "layout": "IPY_MODEL_119a9641ba0c470bade7351e5129107d",
            "placeholder": "​",
            "style": "IPY_MODEL_0aa41f73374d4839a7937a0afeb12e82",
            "value": " 8.02k/8.02k [00:00&lt;00:00, 547kB/s]"
          }
        },
        "c94a964f3ae54e37bfe9a797f630cfc6": {
          "model_module": "@jupyter-widgets/base",
          "model_name": "LayoutModel",
          "model_module_version": "1.2.0",
          "state": {
            "_model_module": "@jupyter-widgets/base",
            "_model_module_version": "1.2.0",
            "_model_name": "LayoutModel",
            "_view_count": null,
            "_view_module": "@jupyter-widgets/base",
            "_view_module_version": "1.2.0",
            "_view_name": "LayoutView",
            "align_content": null,
            "align_items": null,
            "align_self": null,
            "border": null,
            "bottom": null,
            "display": null,
            "flex": null,
            "flex_flow": null,
            "grid_area": null,
            "grid_auto_columns": null,
            "grid_auto_flow": null,
            "grid_auto_rows": null,
            "grid_column": null,
            "grid_gap": null,
            "grid_row": null,
            "grid_template_areas": null,
            "grid_template_columns": null,
            "grid_template_rows": null,
            "height": null,
            "justify_content": null,
            "justify_items": null,
            "left": null,
            "margin": null,
            "max_height": null,
            "max_width": null,
            "min_height": null,
            "min_width": null,
            "object_fit": null,
            "object_position": null,
            "order": null,
            "overflow": null,
            "overflow_x": null,
            "overflow_y": null,
            "padding": null,
            "right": null,
            "top": null,
            "visibility": null,
            "width": null
          }
        },
        "43a09ef696304a80ba7438c35b15ceb5": {
          "model_module": "@jupyter-widgets/base",
          "model_name": "LayoutModel",
          "model_module_version": "1.2.0",
          "state": {
            "_model_module": "@jupyter-widgets/base",
            "_model_module_version": "1.2.0",
            "_model_name": "LayoutModel",
            "_view_count": null,
            "_view_module": "@jupyter-widgets/base",
            "_view_module_version": "1.2.0",
            "_view_name": "LayoutView",
            "align_content": null,
            "align_items": null,
            "align_self": null,
            "border": null,
            "bottom": null,
            "display": null,
            "flex": null,
            "flex_flow": null,
            "grid_area": null,
            "grid_auto_columns": null,
            "grid_auto_flow": null,
            "grid_auto_rows": null,
            "grid_column": null,
            "grid_gap": null,
            "grid_row": null,
            "grid_template_areas": null,
            "grid_template_columns": null,
            "grid_template_rows": null,
            "height": null,
            "justify_content": null,
            "justify_items": null,
            "left": null,
            "margin": null,
            "max_height": null,
            "max_width": null,
            "min_height": null,
            "min_width": null,
            "object_fit": null,
            "object_position": null,
            "order": null,
            "overflow": null,
            "overflow_x": null,
            "overflow_y": null,
            "padding": null,
            "right": null,
            "top": null,
            "visibility": null,
            "width": null
          }
        },
        "ccc86acff73a44b4b3d6a81f9334af90": {
          "model_module": "@jupyter-widgets/controls",
          "model_name": "DescriptionStyleModel",
          "model_module_version": "1.5.0",
          "state": {
            "_model_module": "@jupyter-widgets/controls",
            "_model_module_version": "1.5.0",
            "_model_name": "DescriptionStyleModel",
            "_view_count": null,
            "_view_module": "@jupyter-widgets/base",
            "_view_module_version": "1.2.0",
            "_view_name": "StyleView",
            "description_width": ""
          }
        },
        "ef9048f6e21e457f92d9dd4ee43703df": {
          "model_module": "@jupyter-widgets/base",
          "model_name": "LayoutModel",
          "model_module_version": "1.2.0",
          "state": {
            "_model_module": "@jupyter-widgets/base",
            "_model_module_version": "1.2.0",
            "_model_name": "LayoutModel",
            "_view_count": null,
            "_view_module": "@jupyter-widgets/base",
            "_view_module_version": "1.2.0",
            "_view_name": "LayoutView",
            "align_content": null,
            "align_items": null,
            "align_self": null,
            "border": null,
            "bottom": null,
            "display": null,
            "flex": null,
            "flex_flow": null,
            "grid_area": null,
            "grid_auto_columns": null,
            "grid_auto_flow": null,
            "grid_auto_rows": null,
            "grid_column": null,
            "grid_gap": null,
            "grid_row": null,
            "grid_template_areas": null,
            "grid_template_columns": null,
            "grid_template_rows": null,
            "height": null,
            "justify_content": null,
            "justify_items": null,
            "left": null,
            "margin": null,
            "max_height": null,
            "max_width": null,
            "min_height": null,
            "min_width": null,
            "object_fit": null,
            "object_position": null,
            "order": null,
            "overflow": null,
            "overflow_x": null,
            "overflow_y": null,
            "padding": null,
            "right": null,
            "top": null,
            "visibility": null,
            "width": null
          }
        },
        "5854d654d2f44e069a4f709aea0b3bb6": {
          "model_module": "@jupyter-widgets/controls",
          "model_name": "ProgressStyleModel",
          "model_module_version": "1.5.0",
          "state": {
            "_model_module": "@jupyter-widgets/controls",
            "_model_module_version": "1.5.0",
            "_model_name": "ProgressStyleModel",
            "_view_count": null,
            "_view_module": "@jupyter-widgets/base",
            "_view_module_version": "1.2.0",
            "_view_name": "StyleView",
            "bar_color": null,
            "description_width": ""
          }
        },
        "119a9641ba0c470bade7351e5129107d": {
          "model_module": "@jupyter-widgets/base",
          "model_name": "LayoutModel",
          "model_module_version": "1.2.0",
          "state": {
            "_model_module": "@jupyter-widgets/base",
            "_model_module_version": "1.2.0",
            "_model_name": "LayoutModel",
            "_view_count": null,
            "_view_module": "@jupyter-widgets/base",
            "_view_module_version": "1.2.0",
            "_view_name": "LayoutView",
            "align_content": null,
            "align_items": null,
            "align_self": null,
            "border": null,
            "bottom": null,
            "display": null,
            "flex": null,
            "flex_flow": null,
            "grid_area": null,
            "grid_auto_columns": null,
            "grid_auto_flow": null,
            "grid_auto_rows": null,
            "grid_column": null,
            "grid_gap": null,
            "grid_row": null,
            "grid_template_areas": null,
            "grid_template_columns": null,
            "grid_template_rows": null,
            "height": null,
            "justify_content": null,
            "justify_items": null,
            "left": null,
            "margin": null,
            "max_height": null,
            "max_width": null,
            "min_height": null,
            "min_width": null,
            "object_fit": null,
            "object_position": null,
            "order": null,
            "overflow": null,
            "overflow_x": null,
            "overflow_y": null,
            "padding": null,
            "right": null,
            "top": null,
            "visibility": null,
            "width": null
          }
        },
        "0aa41f73374d4839a7937a0afeb12e82": {
          "model_module": "@jupyter-widgets/controls",
          "model_name": "DescriptionStyleModel",
          "model_module_version": "1.5.0",
          "state": {
            "_model_module": "@jupyter-widgets/controls",
            "_model_module_version": "1.5.0",
            "_model_name": "DescriptionStyleModel",
            "_view_count": null,
            "_view_module": "@jupyter-widgets/base",
            "_view_module_version": "1.2.0",
            "_view_name": "StyleView",
            "description_width": ""
          }
        },
        "d761e3c9d5e04727a8847cc62c06e025": {
          "model_module": "@jupyter-widgets/controls",
          "model_name": "HBoxModel",
          "model_module_version": "1.5.0",
          "state": {
            "_dom_classes": [],
            "_model_module": "@jupyter-widgets/controls",
            "_model_module_version": "1.5.0",
            "_model_name": "HBoxModel",
            "_view_count": null,
            "_view_module": "@jupyter-widgets/controls",
            "_view_module_version": "1.5.0",
            "_view_name": "HBoxView",
            "box_style": "",
            "children": [
              "IPY_MODEL_d1917e57ea964fd5a29a781f81525a6f",
              "IPY_MODEL_28db64bb5a99459990b1d1ff8a1a3eb7",
              "IPY_MODEL_b2fb2c0d47634cc3b4bda344f9d68edd"
            ],
            "layout": "IPY_MODEL_cd451b389b31440391fb4e5d825d6c69"
          }
        },
        "d1917e57ea964fd5a29a781f81525a6f": {
          "model_module": "@jupyter-widgets/controls",
          "model_name": "HTMLModel",
          "model_module_version": "1.5.0",
          "state": {
            "_dom_classes": [],
            "_model_module": "@jupyter-widgets/controls",
            "_model_module_version": "1.5.0",
            "_model_name": "HTMLModel",
            "_view_count": null,
            "_view_module": "@jupyter-widgets/controls",
            "_view_module_version": "1.5.0",
            "_view_name": "HTMLView",
            "description": "",
            "description_tooltip": null,
            "layout": "IPY_MODEL_cf8ca3e80d3b49dda8dfb33ee97191fb",
            "placeholder": "​",
            "style": "IPY_MODEL_f14d36cfaf9240ff849fe4a9ee30a2b2",
            "value": "Downloading data files: 100%"
          }
        },
        "28db64bb5a99459990b1d1ff8a1a3eb7": {
          "model_module": "@jupyter-widgets/controls",
          "model_name": "FloatProgressModel",
          "model_module_version": "1.5.0",
          "state": {
            "_dom_classes": [],
            "_model_module": "@jupyter-widgets/controls",
            "_model_module_version": "1.5.0",
            "_model_name": "FloatProgressModel",
            "_view_count": null,
            "_view_module": "@jupyter-widgets/controls",
            "_view_module_version": "1.5.0",
            "_view_name": "ProgressView",
            "bar_style": "success",
            "description": "",
            "description_tooltip": null,
            "layout": "IPY_MODEL_c13a2fdede0842268639832b7889bbf2",
            "max": 2,
            "min": 0,
            "orientation": "horizontal",
            "style": "IPY_MODEL_5d0ef7c70653463392eae76dd895af39",
            "value": 2
          }
        },
        "b2fb2c0d47634cc3b4bda344f9d68edd": {
          "model_module": "@jupyter-widgets/controls",
          "model_name": "HTMLModel",
          "model_module_version": "1.5.0",
          "state": {
            "_dom_classes": [],
            "_model_module": "@jupyter-widgets/controls",
            "_model_module_version": "1.5.0",
            "_model_name": "HTMLModel",
            "_view_count": null,
            "_view_module": "@jupyter-widgets/controls",
            "_view_module_version": "1.5.0",
            "_view_name": "HTMLView",
            "description": "",
            "description_tooltip": null,
            "layout": "IPY_MODEL_388f9f83d23a4581831807c297caf759",
            "placeholder": "​",
            "style": "IPY_MODEL_844893dbd4f74edf8512f6f4edaaaa28",
            "value": " 2/2 [00:00&lt;00:00,  2.82it/s]"
          }
        },
        "cd451b389b31440391fb4e5d825d6c69": {
          "model_module": "@jupyter-widgets/base",
          "model_name": "LayoutModel",
          "model_module_version": "1.2.0",
          "state": {
            "_model_module": "@jupyter-widgets/base",
            "_model_module_version": "1.2.0",
            "_model_name": "LayoutModel",
            "_view_count": null,
            "_view_module": "@jupyter-widgets/base",
            "_view_module_version": "1.2.0",
            "_view_name": "LayoutView",
            "align_content": null,
            "align_items": null,
            "align_self": null,
            "border": null,
            "bottom": null,
            "display": null,
            "flex": null,
            "flex_flow": null,
            "grid_area": null,
            "grid_auto_columns": null,
            "grid_auto_flow": null,
            "grid_auto_rows": null,
            "grid_column": null,
            "grid_gap": null,
            "grid_row": null,
            "grid_template_areas": null,
            "grid_template_columns": null,
            "grid_template_rows": null,
            "height": null,
            "justify_content": null,
            "justify_items": null,
            "left": null,
            "margin": null,
            "max_height": null,
            "max_width": null,
            "min_height": null,
            "min_width": null,
            "object_fit": null,
            "object_position": null,
            "order": null,
            "overflow": null,
            "overflow_x": null,
            "overflow_y": null,
            "padding": null,
            "right": null,
            "top": null,
            "visibility": null,
            "width": null
          }
        },
        "cf8ca3e80d3b49dda8dfb33ee97191fb": {
          "model_module": "@jupyter-widgets/base",
          "model_name": "LayoutModel",
          "model_module_version": "1.2.0",
          "state": {
            "_model_module": "@jupyter-widgets/base",
            "_model_module_version": "1.2.0",
            "_model_name": "LayoutModel",
            "_view_count": null,
            "_view_module": "@jupyter-widgets/base",
            "_view_module_version": "1.2.0",
            "_view_name": "LayoutView",
            "align_content": null,
            "align_items": null,
            "align_self": null,
            "border": null,
            "bottom": null,
            "display": null,
            "flex": null,
            "flex_flow": null,
            "grid_area": null,
            "grid_auto_columns": null,
            "grid_auto_flow": null,
            "grid_auto_rows": null,
            "grid_column": null,
            "grid_gap": null,
            "grid_row": null,
            "grid_template_areas": null,
            "grid_template_columns": null,
            "grid_template_rows": null,
            "height": null,
            "justify_content": null,
            "justify_items": null,
            "left": null,
            "margin": null,
            "max_height": null,
            "max_width": null,
            "min_height": null,
            "min_width": null,
            "object_fit": null,
            "object_position": null,
            "order": null,
            "overflow": null,
            "overflow_x": null,
            "overflow_y": null,
            "padding": null,
            "right": null,
            "top": null,
            "visibility": null,
            "width": null
          }
        },
        "f14d36cfaf9240ff849fe4a9ee30a2b2": {
          "model_module": "@jupyter-widgets/controls",
          "model_name": "DescriptionStyleModel",
          "model_module_version": "1.5.0",
          "state": {
            "_model_module": "@jupyter-widgets/controls",
            "_model_module_version": "1.5.0",
            "_model_name": "DescriptionStyleModel",
            "_view_count": null,
            "_view_module": "@jupyter-widgets/base",
            "_view_module_version": "1.2.0",
            "_view_name": "StyleView",
            "description_width": ""
          }
        },
        "c13a2fdede0842268639832b7889bbf2": {
          "model_module": "@jupyter-widgets/base",
          "model_name": "LayoutModel",
          "model_module_version": "1.2.0",
          "state": {
            "_model_module": "@jupyter-widgets/base",
            "_model_module_version": "1.2.0",
            "_model_name": "LayoutModel",
            "_view_count": null,
            "_view_module": "@jupyter-widgets/base",
            "_view_module_version": "1.2.0",
            "_view_name": "LayoutView",
            "align_content": null,
            "align_items": null,
            "align_self": null,
            "border": null,
            "bottom": null,
            "display": null,
            "flex": null,
            "flex_flow": null,
            "grid_area": null,
            "grid_auto_columns": null,
            "grid_auto_flow": null,
            "grid_auto_rows": null,
            "grid_column": null,
            "grid_gap": null,
            "grid_row": null,
            "grid_template_areas": null,
            "grid_template_columns": null,
            "grid_template_rows": null,
            "height": null,
            "justify_content": null,
            "justify_items": null,
            "left": null,
            "margin": null,
            "max_height": null,
            "max_width": null,
            "min_height": null,
            "min_width": null,
            "object_fit": null,
            "object_position": null,
            "order": null,
            "overflow": null,
            "overflow_x": null,
            "overflow_y": null,
            "padding": null,
            "right": null,
            "top": null,
            "visibility": null,
            "width": null
          }
        },
        "5d0ef7c70653463392eae76dd895af39": {
          "model_module": "@jupyter-widgets/controls",
          "model_name": "ProgressStyleModel",
          "model_module_version": "1.5.0",
          "state": {
            "_model_module": "@jupyter-widgets/controls",
            "_model_module_version": "1.5.0",
            "_model_name": "ProgressStyleModel",
            "_view_count": null,
            "_view_module": "@jupyter-widgets/base",
            "_view_module_version": "1.2.0",
            "_view_name": "StyleView",
            "bar_color": null,
            "description_width": ""
          }
        },
        "388f9f83d23a4581831807c297caf759": {
          "model_module": "@jupyter-widgets/base",
          "model_name": "LayoutModel",
          "model_module_version": "1.2.0",
          "state": {
            "_model_module": "@jupyter-widgets/base",
            "_model_module_version": "1.2.0",
            "_model_name": "LayoutModel",
            "_view_count": null,
            "_view_module": "@jupyter-widgets/base",
            "_view_module_version": "1.2.0",
            "_view_name": "LayoutView",
            "align_content": null,
            "align_items": null,
            "align_self": null,
            "border": null,
            "bottom": null,
            "display": null,
            "flex": null,
            "flex_flow": null,
            "grid_area": null,
            "grid_auto_columns": null,
            "grid_auto_flow": null,
            "grid_auto_rows": null,
            "grid_column": null,
            "grid_gap": null,
            "grid_row": null,
            "grid_template_areas": null,
            "grid_template_columns": null,
            "grid_template_rows": null,
            "height": null,
            "justify_content": null,
            "justify_items": null,
            "left": null,
            "margin": null,
            "max_height": null,
            "max_width": null,
            "min_height": null,
            "min_width": null,
            "object_fit": null,
            "object_position": null,
            "order": null,
            "overflow": null,
            "overflow_x": null,
            "overflow_y": null,
            "padding": null,
            "right": null,
            "top": null,
            "visibility": null,
            "width": null
          }
        },
        "844893dbd4f74edf8512f6f4edaaaa28": {
          "model_module": "@jupyter-widgets/controls",
          "model_name": "DescriptionStyleModel",
          "model_module_version": "1.5.0",
          "state": {
            "_model_module": "@jupyter-widgets/controls",
            "_model_module_version": "1.5.0",
            "_model_name": "DescriptionStyleModel",
            "_view_count": null,
            "_view_module": "@jupyter-widgets/base",
            "_view_module_version": "1.2.0",
            "_view_name": "StyleView",
            "description_width": ""
          }
        },
        "e955c1e7f0594780821b5e64b4845560": {
          "model_module": "@jupyter-widgets/controls",
          "model_name": "HBoxModel",
          "model_module_version": "1.5.0",
          "state": {
            "_dom_classes": [],
            "_model_module": "@jupyter-widgets/controls",
            "_model_module_version": "1.5.0",
            "_model_name": "HBoxModel",
            "_view_count": null,
            "_view_module": "@jupyter-widgets/controls",
            "_view_module_version": "1.5.0",
            "_view_name": "HBoxView",
            "box_style": "",
            "children": [
              "IPY_MODEL_8a5da101c6694d88ad796c844b5ab05a",
              "IPY_MODEL_226a9d6cf75644428674a130b1ad21b8",
              "IPY_MODEL_55954489d8824069b7107848f5acf259"
            ],
            "layout": "IPY_MODEL_4d5d00ba51cd4090bbcee3f7a01a7197"
          }
        },
        "8a5da101c6694d88ad796c844b5ab05a": {
          "model_module": "@jupyter-widgets/controls",
          "model_name": "HTMLModel",
          "model_module_version": "1.5.0",
          "state": {
            "_dom_classes": [],
            "_model_module": "@jupyter-widgets/controls",
            "_model_module_version": "1.5.0",
            "_model_name": "HTMLModel",
            "_view_count": null,
            "_view_module": "@jupyter-widgets/controls",
            "_view_module_version": "1.5.0",
            "_view_name": "HTMLView",
            "description": "",
            "description_tooltip": null,
            "layout": "IPY_MODEL_20465f472e5a46beb75623bb884c051c",
            "placeholder": "​",
            "style": "IPY_MODEL_c88c7a05baf34635908bb586a4ee32fd",
            "value": "Downloading data: "
          }
        },
        "226a9d6cf75644428674a130b1ad21b8": {
          "model_module": "@jupyter-widgets/controls",
          "model_name": "FloatProgressModel",
          "model_module_version": "1.5.0",
          "state": {
            "_dom_classes": [],
            "_model_module": "@jupyter-widgets/controls",
            "_model_module_version": "1.5.0",
            "_model_name": "FloatProgressModel",
            "_view_count": null,
            "_view_module": "@jupyter-widgets/controls",
            "_view_module_version": "1.5.0",
            "_view_name": "ProgressView",
            "bar_style": "success",
            "description": "",
            "description_tooltip": null,
            "layout": "IPY_MODEL_82bb75a9785f4a5090fe2d4e4397616b",
            "max": 9551051,
            "min": 0,
            "orientation": "horizontal",
            "style": "IPY_MODEL_173361c9180f4dc9804631a143349218",
            "value": 9551051
          }
        },
        "55954489d8824069b7107848f5acf259": {
          "model_module": "@jupyter-widgets/controls",
          "model_name": "HTMLModel",
          "model_module_version": "1.5.0",
          "state": {
            "_dom_classes": [],
            "_model_module": "@jupyter-widgets/controls",
            "_model_module_version": "1.5.0",
            "_model_name": "HTMLModel",
            "_view_count": null,
            "_view_module": "@jupyter-widgets/controls",
            "_view_module_version": "1.5.0",
            "_view_name": "HTMLView",
            "description": "",
            "description_tooltip": null,
            "layout": "IPY_MODEL_5f30770bed514bbbb0ad9d3592743cc5",
            "placeholder": "​",
            "style": "IPY_MODEL_1c37eba8d26d497eb5c8dfc4a333e5f6",
            "value": " 42.1M/? [00:00&lt;00:00, 95.9MB/s]"
          }
        },
        "4d5d00ba51cd4090bbcee3f7a01a7197": {
          "model_module": "@jupyter-widgets/base",
          "model_name": "LayoutModel",
          "model_module_version": "1.2.0",
          "state": {
            "_model_module": "@jupyter-widgets/base",
            "_model_module_version": "1.2.0",
            "_model_name": "LayoutModel",
            "_view_count": null,
            "_view_module": "@jupyter-widgets/base",
            "_view_module_version": "1.2.0",
            "_view_name": "LayoutView",
            "align_content": null,
            "align_items": null,
            "align_self": null,
            "border": null,
            "bottom": null,
            "display": null,
            "flex": null,
            "flex_flow": null,
            "grid_area": null,
            "grid_auto_columns": null,
            "grid_auto_flow": null,
            "grid_auto_rows": null,
            "grid_column": null,
            "grid_gap": null,
            "grid_row": null,
            "grid_template_areas": null,
            "grid_template_columns": null,
            "grid_template_rows": null,
            "height": null,
            "justify_content": null,
            "justify_items": null,
            "left": null,
            "margin": null,
            "max_height": null,
            "max_width": null,
            "min_height": null,
            "min_width": null,
            "object_fit": null,
            "object_position": null,
            "order": null,
            "overflow": null,
            "overflow_x": null,
            "overflow_y": null,
            "padding": null,
            "right": null,
            "top": null,
            "visibility": null,
            "width": null
          }
        },
        "20465f472e5a46beb75623bb884c051c": {
          "model_module": "@jupyter-widgets/base",
          "model_name": "LayoutModel",
          "model_module_version": "1.2.0",
          "state": {
            "_model_module": "@jupyter-widgets/base",
            "_model_module_version": "1.2.0",
            "_model_name": "LayoutModel",
            "_view_count": null,
            "_view_module": "@jupyter-widgets/base",
            "_view_module_version": "1.2.0",
            "_view_name": "LayoutView",
            "align_content": null,
            "align_items": null,
            "align_self": null,
            "border": null,
            "bottom": null,
            "display": null,
            "flex": null,
            "flex_flow": null,
            "grid_area": null,
            "grid_auto_columns": null,
            "grid_auto_flow": null,
            "grid_auto_rows": null,
            "grid_column": null,
            "grid_gap": null,
            "grid_row": null,
            "grid_template_areas": null,
            "grid_template_columns": null,
            "grid_template_rows": null,
            "height": null,
            "justify_content": null,
            "justify_items": null,
            "left": null,
            "margin": null,
            "max_height": null,
            "max_width": null,
            "min_height": null,
            "min_width": null,
            "object_fit": null,
            "object_position": null,
            "order": null,
            "overflow": null,
            "overflow_x": null,
            "overflow_y": null,
            "padding": null,
            "right": null,
            "top": null,
            "visibility": null,
            "width": null
          }
        },
        "c88c7a05baf34635908bb586a4ee32fd": {
          "model_module": "@jupyter-widgets/controls",
          "model_name": "DescriptionStyleModel",
          "model_module_version": "1.5.0",
          "state": {
            "_model_module": "@jupyter-widgets/controls",
            "_model_module_version": "1.5.0",
            "_model_name": "DescriptionStyleModel",
            "_view_count": null,
            "_view_module": "@jupyter-widgets/base",
            "_view_module_version": "1.2.0",
            "_view_name": "StyleView",
            "description_width": ""
          }
        },
        "82bb75a9785f4a5090fe2d4e4397616b": {
          "model_module": "@jupyter-widgets/base",
          "model_name": "LayoutModel",
          "model_module_version": "1.2.0",
          "state": {
            "_model_module": "@jupyter-widgets/base",
            "_model_module_version": "1.2.0",
            "_model_name": "LayoutModel",
            "_view_count": null,
            "_view_module": "@jupyter-widgets/base",
            "_view_module_version": "1.2.0",
            "_view_name": "LayoutView",
            "align_content": null,
            "align_items": null,
            "align_self": null,
            "border": null,
            "bottom": null,
            "display": null,
            "flex": null,
            "flex_flow": null,
            "grid_area": null,
            "grid_auto_columns": null,
            "grid_auto_flow": null,
            "grid_auto_rows": null,
            "grid_column": null,
            "grid_gap": null,
            "grid_row": null,
            "grid_template_areas": null,
            "grid_template_columns": null,
            "grid_template_rows": null,
            "height": null,
            "justify_content": null,
            "justify_items": null,
            "left": null,
            "margin": null,
            "max_height": null,
            "max_width": null,
            "min_height": null,
            "min_width": null,
            "object_fit": null,
            "object_position": null,
            "order": null,
            "overflow": null,
            "overflow_x": null,
            "overflow_y": null,
            "padding": null,
            "right": null,
            "top": null,
            "visibility": null,
            "width": null
          }
        },
        "173361c9180f4dc9804631a143349218": {
          "model_module": "@jupyter-widgets/controls",
          "model_name": "ProgressStyleModel",
          "model_module_version": "1.5.0",
          "state": {
            "_model_module": "@jupyter-widgets/controls",
            "_model_module_version": "1.5.0",
            "_model_name": "ProgressStyleModel",
            "_view_count": null,
            "_view_module": "@jupyter-widgets/base",
            "_view_module_version": "1.2.0",
            "_view_name": "StyleView",
            "bar_color": null,
            "description_width": ""
          }
        },
        "5f30770bed514bbbb0ad9d3592743cc5": {
          "model_module": "@jupyter-widgets/base",
          "model_name": "LayoutModel",
          "model_module_version": "1.2.0",
          "state": {
            "_model_module": "@jupyter-widgets/base",
            "_model_module_version": "1.2.0",
            "_model_name": "LayoutModel",
            "_view_count": null,
            "_view_module": "@jupyter-widgets/base",
            "_view_module_version": "1.2.0",
            "_view_name": "LayoutView",
            "align_content": null,
            "align_items": null,
            "align_self": null,
            "border": null,
            "bottom": null,
            "display": null,
            "flex": null,
            "flex_flow": null,
            "grid_area": null,
            "grid_auto_columns": null,
            "grid_auto_flow": null,
            "grid_auto_rows": null,
            "grid_column": null,
            "grid_gap": null,
            "grid_row": null,
            "grid_template_areas": null,
            "grid_template_columns": null,
            "grid_template_rows": null,
            "height": null,
            "justify_content": null,
            "justify_items": null,
            "left": null,
            "margin": null,
            "max_height": null,
            "max_width": null,
            "min_height": null,
            "min_width": null,
            "object_fit": null,
            "object_position": null,
            "order": null,
            "overflow": null,
            "overflow_x": null,
            "overflow_y": null,
            "padding": null,
            "right": null,
            "top": null,
            "visibility": null,
            "width": null
          }
        },
        "1c37eba8d26d497eb5c8dfc4a333e5f6": {
          "model_module": "@jupyter-widgets/controls",
          "model_name": "DescriptionStyleModel",
          "model_module_version": "1.5.0",
          "state": {
            "_model_module": "@jupyter-widgets/controls",
            "_model_module_version": "1.5.0",
            "_model_name": "DescriptionStyleModel",
            "_view_count": null,
            "_view_module": "@jupyter-widgets/base",
            "_view_module_version": "1.2.0",
            "_view_name": "StyleView",
            "description_width": ""
          }
        },
        "f1a853fecdc84883baf7ab9617213e73": {
          "model_module": "@jupyter-widgets/controls",
          "model_name": "HBoxModel",
          "model_module_version": "1.5.0",
          "state": {
            "_dom_classes": [],
            "_model_module": "@jupyter-widgets/controls",
            "_model_module_version": "1.5.0",
            "_model_name": "HBoxModel",
            "_view_count": null,
            "_view_module": "@jupyter-widgets/controls",
            "_view_module_version": "1.5.0",
            "_view_name": "HBoxView",
            "box_style": "",
            "children": [
              "IPY_MODEL_985660d5ac8e4e2a8ab681b11d949422",
              "IPY_MODEL_61eff22b88274fd9b74802c3eb75200b",
              "IPY_MODEL_f5c63b94c88248c49c176326c9777105"
            ],
            "layout": "IPY_MODEL_f34f6edbad1745d2acc20461f497f5da"
          }
        },
        "985660d5ac8e4e2a8ab681b11d949422": {
          "model_module": "@jupyter-widgets/controls",
          "model_name": "HTMLModel",
          "model_module_version": "1.5.0",
          "state": {
            "_dom_classes": [],
            "_model_module": "@jupyter-widgets/controls",
            "_model_module_version": "1.5.0",
            "_model_name": "HTMLModel",
            "_view_count": null,
            "_view_module": "@jupyter-widgets/controls",
            "_view_module_version": "1.5.0",
            "_view_name": "HTMLView",
            "description": "",
            "description_tooltip": null,
            "layout": "IPY_MODEL_b0b7960183614ec9879ff32d920fcce4",
            "placeholder": "​",
            "style": "IPY_MODEL_72efc56616304b19a0bea90fb8f2d239",
            "value": "Downloading data: "
          }
        },
        "61eff22b88274fd9b74802c3eb75200b": {
          "model_module": "@jupyter-widgets/controls",
          "model_name": "FloatProgressModel",
          "model_module_version": "1.5.0",
          "state": {
            "_dom_classes": [],
            "_model_module": "@jupyter-widgets/controls",
            "_model_module_version": "1.5.0",
            "_model_name": "FloatProgressModel",
            "_view_count": null,
            "_view_module": "@jupyter-widgets/controls",
            "_view_module_version": "1.5.0",
            "_view_name": "ProgressView",
            "bar_style": "success",
            "description": "",
            "description_tooltip": null,
            "layout": "IPY_MODEL_fbde1e33e12a4588a936ef30fdeb9896",
            "max": 800683,
            "min": 0,
            "orientation": "horizontal",
            "style": "IPY_MODEL_16ab8b11e43b42eda4e2f7a30d2d328b",
            "value": 800683
          }
        },
        "f5c63b94c88248c49c176326c9777105": {
          "model_module": "@jupyter-widgets/controls",
          "model_name": "HTMLModel",
          "model_module_version": "1.5.0",
          "state": {
            "_dom_classes": [],
            "_model_module": "@jupyter-widgets/controls",
            "_model_module_version": "1.5.0",
            "_model_name": "HTMLModel",
            "_view_count": null,
            "_view_module": "@jupyter-widgets/controls",
            "_view_module_version": "1.5.0",
            "_view_name": "HTMLView",
            "description": "",
            "description_tooltip": null,
            "layout": "IPY_MODEL_b7b48eb54c2b46a6b89a50d9636a364b",
            "placeholder": "​",
            "style": "IPY_MODEL_b430f80b7b8d4de2a77bc565d143a152",
            "value": " 4.37M/? [00:00&lt;00:00, 55.6MB/s]"
          }
        },
        "f34f6edbad1745d2acc20461f497f5da": {
          "model_module": "@jupyter-widgets/base",
          "model_name": "LayoutModel",
          "model_module_version": "1.2.0",
          "state": {
            "_model_module": "@jupyter-widgets/base",
            "_model_module_version": "1.2.0",
            "_model_name": "LayoutModel",
            "_view_count": null,
            "_view_module": "@jupyter-widgets/base",
            "_view_module_version": "1.2.0",
            "_view_name": "LayoutView",
            "align_content": null,
            "align_items": null,
            "align_self": null,
            "border": null,
            "bottom": null,
            "display": null,
            "flex": null,
            "flex_flow": null,
            "grid_area": null,
            "grid_auto_columns": null,
            "grid_auto_flow": null,
            "grid_auto_rows": null,
            "grid_column": null,
            "grid_gap": null,
            "grid_row": null,
            "grid_template_areas": null,
            "grid_template_columns": null,
            "grid_template_rows": null,
            "height": null,
            "justify_content": null,
            "justify_items": null,
            "left": null,
            "margin": null,
            "max_height": null,
            "max_width": null,
            "min_height": null,
            "min_width": null,
            "object_fit": null,
            "object_position": null,
            "order": null,
            "overflow": null,
            "overflow_x": null,
            "overflow_y": null,
            "padding": null,
            "right": null,
            "top": null,
            "visibility": null,
            "width": null
          }
        },
        "b0b7960183614ec9879ff32d920fcce4": {
          "model_module": "@jupyter-widgets/base",
          "model_name": "LayoutModel",
          "model_module_version": "1.2.0",
          "state": {
            "_model_module": "@jupyter-widgets/base",
            "_model_module_version": "1.2.0",
            "_model_name": "LayoutModel",
            "_view_count": null,
            "_view_module": "@jupyter-widgets/base",
            "_view_module_version": "1.2.0",
            "_view_name": "LayoutView",
            "align_content": null,
            "align_items": null,
            "align_self": null,
            "border": null,
            "bottom": null,
            "display": null,
            "flex": null,
            "flex_flow": null,
            "grid_area": null,
            "grid_auto_columns": null,
            "grid_auto_flow": null,
            "grid_auto_rows": null,
            "grid_column": null,
            "grid_gap": null,
            "grid_row": null,
            "grid_template_areas": null,
            "grid_template_columns": null,
            "grid_template_rows": null,
            "height": null,
            "justify_content": null,
            "justify_items": null,
            "left": null,
            "margin": null,
            "max_height": null,
            "max_width": null,
            "min_height": null,
            "min_width": null,
            "object_fit": null,
            "object_position": null,
            "order": null,
            "overflow": null,
            "overflow_x": null,
            "overflow_y": null,
            "padding": null,
            "right": null,
            "top": null,
            "visibility": null,
            "width": null
          }
        },
        "72efc56616304b19a0bea90fb8f2d239": {
          "model_module": "@jupyter-widgets/controls",
          "model_name": "DescriptionStyleModel",
          "model_module_version": "1.5.0",
          "state": {
            "_model_module": "@jupyter-widgets/controls",
            "_model_module_version": "1.5.0",
            "_model_name": "DescriptionStyleModel",
            "_view_count": null,
            "_view_module": "@jupyter-widgets/base",
            "_view_module_version": "1.2.0",
            "_view_name": "StyleView",
            "description_width": ""
          }
        },
        "fbde1e33e12a4588a936ef30fdeb9896": {
          "model_module": "@jupyter-widgets/base",
          "model_name": "LayoutModel",
          "model_module_version": "1.2.0",
          "state": {
            "_model_module": "@jupyter-widgets/base",
            "_model_module_version": "1.2.0",
            "_model_name": "LayoutModel",
            "_view_count": null,
            "_view_module": "@jupyter-widgets/base",
            "_view_module_version": "1.2.0",
            "_view_name": "LayoutView",
            "align_content": null,
            "align_items": null,
            "align_self": null,
            "border": null,
            "bottom": null,
            "display": null,
            "flex": null,
            "flex_flow": null,
            "grid_area": null,
            "grid_auto_columns": null,
            "grid_auto_flow": null,
            "grid_auto_rows": null,
            "grid_column": null,
            "grid_gap": null,
            "grid_row": null,
            "grid_template_areas": null,
            "grid_template_columns": null,
            "grid_template_rows": null,
            "height": null,
            "justify_content": null,
            "justify_items": null,
            "left": null,
            "margin": null,
            "max_height": null,
            "max_width": null,
            "min_height": null,
            "min_width": null,
            "object_fit": null,
            "object_position": null,
            "order": null,
            "overflow": null,
            "overflow_x": null,
            "overflow_y": null,
            "padding": null,
            "right": null,
            "top": null,
            "visibility": null,
            "width": null
          }
        },
        "16ab8b11e43b42eda4e2f7a30d2d328b": {
          "model_module": "@jupyter-widgets/controls",
          "model_name": "ProgressStyleModel",
          "model_module_version": "1.5.0",
          "state": {
            "_model_module": "@jupyter-widgets/controls",
            "_model_module_version": "1.5.0",
            "_model_name": "ProgressStyleModel",
            "_view_count": null,
            "_view_module": "@jupyter-widgets/base",
            "_view_module_version": "1.2.0",
            "_view_name": "StyleView",
            "bar_color": null,
            "description_width": ""
          }
        },
        "b7b48eb54c2b46a6b89a50d9636a364b": {
          "model_module": "@jupyter-widgets/base",
          "model_name": "LayoutModel",
          "model_module_version": "1.2.0",
          "state": {
            "_model_module": "@jupyter-widgets/base",
            "_model_module_version": "1.2.0",
            "_model_name": "LayoutModel",
            "_view_count": null,
            "_view_module": "@jupyter-widgets/base",
            "_view_module_version": "1.2.0",
            "_view_name": "LayoutView",
            "align_content": null,
            "align_items": null,
            "align_self": null,
            "border": null,
            "bottom": null,
            "display": null,
            "flex": null,
            "flex_flow": null,
            "grid_area": null,
            "grid_auto_columns": null,
            "grid_auto_flow": null,
            "grid_auto_rows": null,
            "grid_column": null,
            "grid_gap": null,
            "grid_row": null,
            "grid_template_areas": null,
            "grid_template_columns": null,
            "grid_template_rows": null,
            "height": null,
            "justify_content": null,
            "justify_items": null,
            "left": null,
            "margin": null,
            "max_height": null,
            "max_width": null,
            "min_height": null,
            "min_width": null,
            "object_fit": null,
            "object_position": null,
            "order": null,
            "overflow": null,
            "overflow_x": null,
            "overflow_y": null,
            "padding": null,
            "right": null,
            "top": null,
            "visibility": null,
            "width": null
          }
        },
        "b430f80b7b8d4de2a77bc565d143a152": {
          "model_module": "@jupyter-widgets/controls",
          "model_name": "DescriptionStyleModel",
          "model_module_version": "1.5.0",
          "state": {
            "_model_module": "@jupyter-widgets/controls",
            "_model_module_version": "1.5.0",
            "_model_name": "DescriptionStyleModel",
            "_view_count": null,
            "_view_module": "@jupyter-widgets/base",
            "_view_module_version": "1.2.0",
            "_view_name": "StyleView",
            "description_width": ""
          }
        },
        "6510c7eb66a243b9af37367b3278eafb": {
          "model_module": "@jupyter-widgets/controls",
          "model_name": "HBoxModel",
          "model_module_version": "1.5.0",
          "state": {
            "_dom_classes": [],
            "_model_module": "@jupyter-widgets/controls",
            "_model_module_version": "1.5.0",
            "_model_name": "HBoxModel",
            "_view_count": null,
            "_view_module": "@jupyter-widgets/controls",
            "_view_module_version": "1.5.0",
            "_view_name": "HBoxView",
            "box_style": "",
            "children": [
              "IPY_MODEL_f7cc30b2bcfa4285b08e3afa289864d8",
              "IPY_MODEL_1451cf06fe7345daad2f074b2d2c3fe1",
              "IPY_MODEL_c7caa1a10cf2493b87148146571e993f"
            ],
            "layout": "IPY_MODEL_f2d87c09f8ef491b878c5b633bbfe962"
          }
        },
        "f7cc30b2bcfa4285b08e3afa289864d8": {
          "model_module": "@jupyter-widgets/controls",
          "model_name": "HTMLModel",
          "model_module_version": "1.5.0",
          "state": {
            "_dom_classes": [],
            "_model_module": "@jupyter-widgets/controls",
            "_model_module_version": "1.5.0",
            "_model_name": "HTMLModel",
            "_view_count": null,
            "_view_module": "@jupyter-widgets/controls",
            "_view_module_version": "1.5.0",
            "_view_name": "HTMLView",
            "description": "",
            "description_tooltip": null,
            "layout": "IPY_MODEL_70dc913f5f444891bde80bea589098e0",
            "placeholder": "​",
            "style": "IPY_MODEL_2c303b0d803545d6aeceab76f6ec17c6",
            "value": "Extracting data files: 100%"
          }
        },
        "1451cf06fe7345daad2f074b2d2c3fe1": {
          "model_module": "@jupyter-widgets/controls",
          "model_name": "FloatProgressModel",
          "model_module_version": "1.5.0",
          "state": {
            "_dom_classes": [],
            "_model_module": "@jupyter-widgets/controls",
            "_model_module_version": "1.5.0",
            "_model_name": "FloatProgressModel",
            "_view_count": null,
            "_view_module": "@jupyter-widgets/controls",
            "_view_module_version": "1.5.0",
            "_view_name": "ProgressView",
            "bar_style": "success",
            "description": "",
            "description_tooltip": null,
            "layout": "IPY_MODEL_f147525929f84b4b97cdd00d9c69789e",
            "max": 2,
            "min": 0,
            "orientation": "horizontal",
            "style": "IPY_MODEL_67188437700f43a3a0210a934d1c5de6",
            "value": 2
          }
        },
        "c7caa1a10cf2493b87148146571e993f": {
          "model_module": "@jupyter-widgets/controls",
          "model_name": "HTMLModel",
          "model_module_version": "1.5.0",
          "state": {
            "_dom_classes": [],
            "_model_module": "@jupyter-widgets/controls",
            "_model_module_version": "1.5.0",
            "_model_name": "HTMLModel",
            "_view_count": null,
            "_view_module": "@jupyter-widgets/controls",
            "_view_module_version": "1.5.0",
            "_view_name": "HTMLView",
            "description": "",
            "description_tooltip": null,
            "layout": "IPY_MODEL_68b2b26aa02e4b899d7e4064b58b4905",
            "placeholder": "​",
            "style": "IPY_MODEL_ac8dbbb91b44431e8a00d75684719b14",
            "value": " 2/2 [00:00&lt;00:00, 62.90it/s]"
          }
        },
        "f2d87c09f8ef491b878c5b633bbfe962": {
          "model_module": "@jupyter-widgets/base",
          "model_name": "LayoutModel",
          "model_module_version": "1.2.0",
          "state": {
            "_model_module": "@jupyter-widgets/base",
            "_model_module_version": "1.2.0",
            "_model_name": "LayoutModel",
            "_view_count": null,
            "_view_module": "@jupyter-widgets/base",
            "_view_module_version": "1.2.0",
            "_view_name": "LayoutView",
            "align_content": null,
            "align_items": null,
            "align_self": null,
            "border": null,
            "bottom": null,
            "display": null,
            "flex": null,
            "flex_flow": null,
            "grid_area": null,
            "grid_auto_columns": null,
            "grid_auto_flow": null,
            "grid_auto_rows": null,
            "grid_column": null,
            "grid_gap": null,
            "grid_row": null,
            "grid_template_areas": null,
            "grid_template_columns": null,
            "grid_template_rows": null,
            "height": null,
            "justify_content": null,
            "justify_items": null,
            "left": null,
            "margin": null,
            "max_height": null,
            "max_width": null,
            "min_height": null,
            "min_width": null,
            "object_fit": null,
            "object_position": null,
            "order": null,
            "overflow": null,
            "overflow_x": null,
            "overflow_y": null,
            "padding": null,
            "right": null,
            "top": null,
            "visibility": null,
            "width": null
          }
        },
        "70dc913f5f444891bde80bea589098e0": {
          "model_module": "@jupyter-widgets/base",
          "model_name": "LayoutModel",
          "model_module_version": "1.2.0",
          "state": {
            "_model_module": "@jupyter-widgets/base",
            "_model_module_version": "1.2.0",
            "_model_name": "LayoutModel",
            "_view_count": null,
            "_view_module": "@jupyter-widgets/base",
            "_view_module_version": "1.2.0",
            "_view_name": "LayoutView",
            "align_content": null,
            "align_items": null,
            "align_self": null,
            "border": null,
            "bottom": null,
            "display": null,
            "flex": null,
            "flex_flow": null,
            "grid_area": null,
            "grid_auto_columns": null,
            "grid_auto_flow": null,
            "grid_auto_rows": null,
            "grid_column": null,
            "grid_gap": null,
            "grid_row": null,
            "grid_template_areas": null,
            "grid_template_columns": null,
            "grid_template_rows": null,
            "height": null,
            "justify_content": null,
            "justify_items": null,
            "left": null,
            "margin": null,
            "max_height": null,
            "max_width": null,
            "min_height": null,
            "min_width": null,
            "object_fit": null,
            "object_position": null,
            "order": null,
            "overflow": null,
            "overflow_x": null,
            "overflow_y": null,
            "padding": null,
            "right": null,
            "top": null,
            "visibility": null,
            "width": null
          }
        },
        "2c303b0d803545d6aeceab76f6ec17c6": {
          "model_module": "@jupyter-widgets/controls",
          "model_name": "DescriptionStyleModel",
          "model_module_version": "1.5.0",
          "state": {
            "_model_module": "@jupyter-widgets/controls",
            "_model_module_version": "1.5.0",
            "_model_name": "DescriptionStyleModel",
            "_view_count": null,
            "_view_module": "@jupyter-widgets/base",
            "_view_module_version": "1.2.0",
            "_view_name": "StyleView",
            "description_width": ""
          }
        },
        "f147525929f84b4b97cdd00d9c69789e": {
          "model_module": "@jupyter-widgets/base",
          "model_name": "LayoutModel",
          "model_module_version": "1.2.0",
          "state": {
            "_model_module": "@jupyter-widgets/base",
            "_model_module_version": "1.2.0",
            "_model_name": "LayoutModel",
            "_view_count": null,
            "_view_module": "@jupyter-widgets/base",
            "_view_module_version": "1.2.0",
            "_view_name": "LayoutView",
            "align_content": null,
            "align_items": null,
            "align_self": null,
            "border": null,
            "bottom": null,
            "display": null,
            "flex": null,
            "flex_flow": null,
            "grid_area": null,
            "grid_auto_columns": null,
            "grid_auto_flow": null,
            "grid_auto_rows": null,
            "grid_column": null,
            "grid_gap": null,
            "grid_row": null,
            "grid_template_areas": null,
            "grid_template_columns": null,
            "grid_template_rows": null,
            "height": null,
            "justify_content": null,
            "justify_items": null,
            "left": null,
            "margin": null,
            "max_height": null,
            "max_width": null,
            "min_height": null,
            "min_width": null,
            "object_fit": null,
            "object_position": null,
            "order": null,
            "overflow": null,
            "overflow_x": null,
            "overflow_y": null,
            "padding": null,
            "right": null,
            "top": null,
            "visibility": null,
            "width": null
          }
        },
        "67188437700f43a3a0210a934d1c5de6": {
          "model_module": "@jupyter-widgets/controls",
          "model_name": "ProgressStyleModel",
          "model_module_version": "1.5.0",
          "state": {
            "_model_module": "@jupyter-widgets/controls",
            "_model_module_version": "1.5.0",
            "_model_name": "ProgressStyleModel",
            "_view_count": null,
            "_view_module": "@jupyter-widgets/base",
            "_view_module_version": "1.2.0",
            "_view_name": "StyleView",
            "bar_color": null,
            "description_width": ""
          }
        },
        "68b2b26aa02e4b899d7e4064b58b4905": {
          "model_module": "@jupyter-widgets/base",
          "model_name": "LayoutModel",
          "model_module_version": "1.2.0",
          "state": {
            "_model_module": "@jupyter-widgets/base",
            "_model_module_version": "1.2.0",
            "_model_name": "LayoutModel",
            "_view_count": null,
            "_view_module": "@jupyter-widgets/base",
            "_view_module_version": "1.2.0",
            "_view_name": "LayoutView",
            "align_content": null,
            "align_items": null,
            "align_self": null,
            "border": null,
            "bottom": null,
            "display": null,
            "flex": null,
            "flex_flow": null,
            "grid_area": null,
            "grid_auto_columns": null,
            "grid_auto_flow": null,
            "grid_auto_rows": null,
            "grid_column": null,
            "grid_gap": null,
            "grid_row": null,
            "grid_template_areas": null,
            "grid_template_columns": null,
            "grid_template_rows": null,
            "height": null,
            "justify_content": null,
            "justify_items": null,
            "left": null,
            "margin": null,
            "max_height": null,
            "max_width": null,
            "min_height": null,
            "min_width": null,
            "object_fit": null,
            "object_position": null,
            "order": null,
            "overflow": null,
            "overflow_x": null,
            "overflow_y": null,
            "padding": null,
            "right": null,
            "top": null,
            "visibility": null,
            "width": null
          }
        },
        "ac8dbbb91b44431e8a00d75684719b14": {
          "model_module": "@jupyter-widgets/controls",
          "model_name": "DescriptionStyleModel",
          "model_module_version": "1.5.0",
          "state": {
            "_model_module": "@jupyter-widgets/controls",
            "_model_module_version": "1.5.0",
            "_model_name": "DescriptionStyleModel",
            "_view_count": null,
            "_view_module": "@jupyter-widgets/base",
            "_view_module_version": "1.2.0",
            "_view_name": "StyleView",
            "description_width": ""
          }
        },
        "176b05dfc415482b9b29650f53f2b470": {
          "model_module": "@jupyter-widgets/controls",
          "model_name": "HBoxModel",
          "model_module_version": "1.5.0",
          "state": {
            "_dom_classes": [],
            "_model_module": "@jupyter-widgets/controls",
            "_model_module_version": "1.5.0",
            "_model_name": "HBoxModel",
            "_view_count": null,
            "_view_module": "@jupyter-widgets/controls",
            "_view_module_version": "1.5.0",
            "_view_name": "HBoxView",
            "box_style": "",
            "children": [
              "IPY_MODEL_7b83a71605284a09a1f902b8e46de410",
              "IPY_MODEL_2550b6c6e70e412bb11805346fb07b5d",
              "IPY_MODEL_33881d1a44944e408f8067d0656557f8"
            ],
            "layout": "IPY_MODEL_a75d5a501c8f413a98c4a6a9d7644cd0"
          }
        },
        "7b83a71605284a09a1f902b8e46de410": {
          "model_module": "@jupyter-widgets/controls",
          "model_name": "HTMLModel",
          "model_module_version": "1.5.0",
          "state": {
            "_dom_classes": [],
            "_model_module": "@jupyter-widgets/controls",
            "_model_module_version": "1.5.0",
            "_model_name": "HTMLModel",
            "_view_count": null,
            "_view_module": "@jupyter-widgets/controls",
            "_view_module_version": "1.5.0",
            "_view_name": "HTMLView",
            "description": "",
            "description_tooltip": null,
            "layout": "IPY_MODEL_802b085b82a346e5b9603845d689b85c",
            "placeholder": "​",
            "style": "IPY_MODEL_7926f33eb4494e19bdc785ad63562f7b",
            "value": "Generating train split: 100%"
          }
        },
        "2550b6c6e70e412bb11805346fb07b5d": {
          "model_module": "@jupyter-widgets/controls",
          "model_name": "FloatProgressModel",
          "model_module_version": "1.5.0",
          "state": {
            "_dom_classes": [],
            "_model_module": "@jupyter-widgets/controls",
            "_model_module_version": "1.5.0",
            "_model_name": "FloatProgressModel",
            "_view_count": null,
            "_view_module": "@jupyter-widgets/controls",
            "_view_module_version": "1.5.0",
            "_view_name": "ProgressView",
            "bar_style": "",
            "description": "",
            "description_tooltip": null,
            "layout": "IPY_MODEL_1f8fd298446341958b06dda1cfeae26b",
            "max": 130319,
            "min": 0,
            "orientation": "horizontal",
            "style": "IPY_MODEL_97625dc336324a28909b08ff8c4b61a7",
            "value": 130319
          }
        },
        "33881d1a44944e408f8067d0656557f8": {
          "model_module": "@jupyter-widgets/controls",
          "model_name": "HTMLModel",
          "model_module_version": "1.5.0",
          "state": {
            "_dom_classes": [],
            "_model_module": "@jupyter-widgets/controls",
            "_model_module_version": "1.5.0",
            "_model_name": "HTMLModel",
            "_view_count": null,
            "_view_module": "@jupyter-widgets/controls",
            "_view_module_version": "1.5.0",
            "_view_name": "HTMLView",
            "description": "",
            "description_tooltip": null,
            "layout": "IPY_MODEL_526d4e04749c4900adeeccc1652936ec",
            "placeholder": "​",
            "style": "IPY_MODEL_9f42d20dd00648368d20511551fc1314",
            "value": " 130319/130319 [00:10&lt;00:00, 14717.65 examples/s]"
          }
        },
        "a75d5a501c8f413a98c4a6a9d7644cd0": {
          "model_module": "@jupyter-widgets/base",
          "model_name": "LayoutModel",
          "model_module_version": "1.2.0",
          "state": {
            "_model_module": "@jupyter-widgets/base",
            "_model_module_version": "1.2.0",
            "_model_name": "LayoutModel",
            "_view_count": null,
            "_view_module": "@jupyter-widgets/base",
            "_view_module_version": "1.2.0",
            "_view_name": "LayoutView",
            "align_content": null,
            "align_items": null,
            "align_self": null,
            "border": null,
            "bottom": null,
            "display": null,
            "flex": null,
            "flex_flow": null,
            "grid_area": null,
            "grid_auto_columns": null,
            "grid_auto_flow": null,
            "grid_auto_rows": null,
            "grid_column": null,
            "grid_gap": null,
            "grid_row": null,
            "grid_template_areas": null,
            "grid_template_columns": null,
            "grid_template_rows": null,
            "height": null,
            "justify_content": null,
            "justify_items": null,
            "left": null,
            "margin": null,
            "max_height": null,
            "max_width": null,
            "min_height": null,
            "min_width": null,
            "object_fit": null,
            "object_position": null,
            "order": null,
            "overflow": null,
            "overflow_x": null,
            "overflow_y": null,
            "padding": null,
            "right": null,
            "top": null,
            "visibility": "hidden",
            "width": null
          }
        },
        "802b085b82a346e5b9603845d689b85c": {
          "model_module": "@jupyter-widgets/base",
          "model_name": "LayoutModel",
          "model_module_version": "1.2.0",
          "state": {
            "_model_module": "@jupyter-widgets/base",
            "_model_module_version": "1.2.0",
            "_model_name": "LayoutModel",
            "_view_count": null,
            "_view_module": "@jupyter-widgets/base",
            "_view_module_version": "1.2.0",
            "_view_name": "LayoutView",
            "align_content": null,
            "align_items": null,
            "align_self": null,
            "border": null,
            "bottom": null,
            "display": null,
            "flex": null,
            "flex_flow": null,
            "grid_area": null,
            "grid_auto_columns": null,
            "grid_auto_flow": null,
            "grid_auto_rows": null,
            "grid_column": null,
            "grid_gap": null,
            "grid_row": null,
            "grid_template_areas": null,
            "grid_template_columns": null,
            "grid_template_rows": null,
            "height": null,
            "justify_content": null,
            "justify_items": null,
            "left": null,
            "margin": null,
            "max_height": null,
            "max_width": null,
            "min_height": null,
            "min_width": null,
            "object_fit": null,
            "object_position": null,
            "order": null,
            "overflow": null,
            "overflow_x": null,
            "overflow_y": null,
            "padding": null,
            "right": null,
            "top": null,
            "visibility": null,
            "width": null
          }
        },
        "7926f33eb4494e19bdc785ad63562f7b": {
          "model_module": "@jupyter-widgets/controls",
          "model_name": "DescriptionStyleModel",
          "model_module_version": "1.5.0",
          "state": {
            "_model_module": "@jupyter-widgets/controls",
            "_model_module_version": "1.5.0",
            "_model_name": "DescriptionStyleModel",
            "_view_count": null,
            "_view_module": "@jupyter-widgets/base",
            "_view_module_version": "1.2.0",
            "_view_name": "StyleView",
            "description_width": ""
          }
        },
        "1f8fd298446341958b06dda1cfeae26b": {
          "model_module": "@jupyter-widgets/base",
          "model_name": "LayoutModel",
          "model_module_version": "1.2.0",
          "state": {
            "_model_module": "@jupyter-widgets/base",
            "_model_module_version": "1.2.0",
            "_model_name": "LayoutModel",
            "_view_count": null,
            "_view_module": "@jupyter-widgets/base",
            "_view_module_version": "1.2.0",
            "_view_name": "LayoutView",
            "align_content": null,
            "align_items": null,
            "align_self": null,
            "border": null,
            "bottom": null,
            "display": null,
            "flex": null,
            "flex_flow": null,
            "grid_area": null,
            "grid_auto_columns": null,
            "grid_auto_flow": null,
            "grid_auto_rows": null,
            "grid_column": null,
            "grid_gap": null,
            "grid_row": null,
            "grid_template_areas": null,
            "grid_template_columns": null,
            "grid_template_rows": null,
            "height": null,
            "justify_content": null,
            "justify_items": null,
            "left": null,
            "margin": null,
            "max_height": null,
            "max_width": null,
            "min_height": null,
            "min_width": null,
            "object_fit": null,
            "object_position": null,
            "order": null,
            "overflow": null,
            "overflow_x": null,
            "overflow_y": null,
            "padding": null,
            "right": null,
            "top": null,
            "visibility": null,
            "width": null
          }
        },
        "97625dc336324a28909b08ff8c4b61a7": {
          "model_module": "@jupyter-widgets/controls",
          "model_name": "ProgressStyleModel",
          "model_module_version": "1.5.0",
          "state": {
            "_model_module": "@jupyter-widgets/controls",
            "_model_module_version": "1.5.0",
            "_model_name": "ProgressStyleModel",
            "_view_count": null,
            "_view_module": "@jupyter-widgets/base",
            "_view_module_version": "1.2.0",
            "_view_name": "StyleView",
            "bar_color": null,
            "description_width": ""
          }
        },
        "526d4e04749c4900adeeccc1652936ec": {
          "model_module": "@jupyter-widgets/base",
          "model_name": "LayoutModel",
          "model_module_version": "1.2.0",
          "state": {
            "_model_module": "@jupyter-widgets/base",
            "_model_module_version": "1.2.0",
            "_model_name": "LayoutModel",
            "_view_count": null,
            "_view_module": "@jupyter-widgets/base",
            "_view_module_version": "1.2.0",
            "_view_name": "LayoutView",
            "align_content": null,
            "align_items": null,
            "align_self": null,
            "border": null,
            "bottom": null,
            "display": null,
            "flex": null,
            "flex_flow": null,
            "grid_area": null,
            "grid_auto_columns": null,
            "grid_auto_flow": null,
            "grid_auto_rows": null,
            "grid_column": null,
            "grid_gap": null,
            "grid_row": null,
            "grid_template_areas": null,
            "grid_template_columns": null,
            "grid_template_rows": null,
            "height": null,
            "justify_content": null,
            "justify_items": null,
            "left": null,
            "margin": null,
            "max_height": null,
            "max_width": null,
            "min_height": null,
            "min_width": null,
            "object_fit": null,
            "object_position": null,
            "order": null,
            "overflow": null,
            "overflow_x": null,
            "overflow_y": null,
            "padding": null,
            "right": null,
            "top": null,
            "visibility": null,
            "width": null
          }
        },
        "9f42d20dd00648368d20511551fc1314": {
          "model_module": "@jupyter-widgets/controls",
          "model_name": "DescriptionStyleModel",
          "model_module_version": "1.5.0",
          "state": {
            "_model_module": "@jupyter-widgets/controls",
            "_model_module_version": "1.5.0",
            "_model_name": "DescriptionStyleModel",
            "_view_count": null,
            "_view_module": "@jupyter-widgets/base",
            "_view_module_version": "1.2.0",
            "_view_name": "StyleView",
            "description_width": ""
          }
        },
        "0f3462f3e2864db1ab892000b4f2dfa2": {
          "model_module": "@jupyter-widgets/controls",
          "model_name": "HBoxModel",
          "model_module_version": "1.5.0",
          "state": {
            "_dom_classes": [],
            "_model_module": "@jupyter-widgets/controls",
            "_model_module_version": "1.5.0",
            "_model_name": "HBoxModel",
            "_view_count": null,
            "_view_module": "@jupyter-widgets/controls",
            "_view_module_version": "1.5.0",
            "_view_name": "HBoxView",
            "box_style": "",
            "children": [
              "IPY_MODEL_2c2634a0c31641de9d8a47f7811e8511",
              "IPY_MODEL_c50bd4eff7e140fbbe1fb9ba507fc6ce",
              "IPY_MODEL_90289eb3ef794ee6847a49b5aca98fb4"
            ],
            "layout": "IPY_MODEL_4b828a7250924ea98c5c7d483c138bb4"
          }
        },
        "2c2634a0c31641de9d8a47f7811e8511": {
          "model_module": "@jupyter-widgets/controls",
          "model_name": "HTMLModel",
          "model_module_version": "1.5.0",
          "state": {
            "_dom_classes": [],
            "_model_module": "@jupyter-widgets/controls",
            "_model_module_version": "1.5.0",
            "_model_name": "HTMLModel",
            "_view_count": null,
            "_view_module": "@jupyter-widgets/controls",
            "_view_module_version": "1.5.0",
            "_view_name": "HTMLView",
            "description": "",
            "description_tooltip": null,
            "layout": "IPY_MODEL_b5bddbb1c5aa4dbeb0bc25c86c1b6fe6",
            "placeholder": "​",
            "style": "IPY_MODEL_6af266cf8e804ae0bae430791c500256",
            "value": "Generating validation split:  87%"
          }
        },
        "c50bd4eff7e140fbbe1fb9ba507fc6ce": {
          "model_module": "@jupyter-widgets/controls",
          "model_name": "FloatProgressModel",
          "model_module_version": "1.5.0",
          "state": {
            "_dom_classes": [],
            "_model_module": "@jupyter-widgets/controls",
            "_model_module_version": "1.5.0",
            "_model_name": "FloatProgressModel",
            "_view_count": null,
            "_view_module": "@jupyter-widgets/controls",
            "_view_module_version": "1.5.0",
            "_view_name": "ProgressView",
            "bar_style": "",
            "description": "",
            "description_tooltip": null,
            "layout": "IPY_MODEL_87be824792e54c5da88d29d75b44fc67",
            "max": 11873,
            "min": 0,
            "orientation": "horizontal",
            "style": "IPY_MODEL_61df1f28b26c41689d4616d5b391109a",
            "value": 11873
          }
        },
        "90289eb3ef794ee6847a49b5aca98fb4": {
          "model_module": "@jupyter-widgets/controls",
          "model_name": "HTMLModel",
          "model_module_version": "1.5.0",
          "state": {
            "_dom_classes": [],
            "_model_module": "@jupyter-widgets/controls",
            "_model_module_version": "1.5.0",
            "_model_name": "HTMLModel",
            "_view_count": null,
            "_view_module": "@jupyter-widgets/controls",
            "_view_module_version": "1.5.0",
            "_view_name": "HTMLView",
            "description": "",
            "description_tooltip": null,
            "layout": "IPY_MODEL_da68cf1726f24a338d9d82616dbdb5a1",
            "placeholder": "​",
            "style": "IPY_MODEL_0a8ed01cbc544deaad202899e5047867",
            "value": " 10338/11873 [00:00&lt;00:00, 12959.24 examples/s]"
          }
        },
        "4b828a7250924ea98c5c7d483c138bb4": {
          "model_module": "@jupyter-widgets/base",
          "model_name": "LayoutModel",
          "model_module_version": "1.2.0",
          "state": {
            "_model_module": "@jupyter-widgets/base",
            "_model_module_version": "1.2.0",
            "_model_name": "LayoutModel",
            "_view_count": null,
            "_view_module": "@jupyter-widgets/base",
            "_view_module_version": "1.2.0",
            "_view_name": "LayoutView",
            "align_content": null,
            "align_items": null,
            "align_self": null,
            "border": null,
            "bottom": null,
            "display": null,
            "flex": null,
            "flex_flow": null,
            "grid_area": null,
            "grid_auto_columns": null,
            "grid_auto_flow": null,
            "grid_auto_rows": null,
            "grid_column": null,
            "grid_gap": null,
            "grid_row": null,
            "grid_template_areas": null,
            "grid_template_columns": null,
            "grid_template_rows": null,
            "height": null,
            "justify_content": null,
            "justify_items": null,
            "left": null,
            "margin": null,
            "max_height": null,
            "max_width": null,
            "min_height": null,
            "min_width": null,
            "object_fit": null,
            "object_position": null,
            "order": null,
            "overflow": null,
            "overflow_x": null,
            "overflow_y": null,
            "padding": null,
            "right": null,
            "top": null,
            "visibility": "hidden",
            "width": null
          }
        },
        "b5bddbb1c5aa4dbeb0bc25c86c1b6fe6": {
          "model_module": "@jupyter-widgets/base",
          "model_name": "LayoutModel",
          "model_module_version": "1.2.0",
          "state": {
            "_model_module": "@jupyter-widgets/base",
            "_model_module_version": "1.2.0",
            "_model_name": "LayoutModel",
            "_view_count": null,
            "_view_module": "@jupyter-widgets/base",
            "_view_module_version": "1.2.0",
            "_view_name": "LayoutView",
            "align_content": null,
            "align_items": null,
            "align_self": null,
            "border": null,
            "bottom": null,
            "display": null,
            "flex": null,
            "flex_flow": null,
            "grid_area": null,
            "grid_auto_columns": null,
            "grid_auto_flow": null,
            "grid_auto_rows": null,
            "grid_column": null,
            "grid_gap": null,
            "grid_row": null,
            "grid_template_areas": null,
            "grid_template_columns": null,
            "grid_template_rows": null,
            "height": null,
            "justify_content": null,
            "justify_items": null,
            "left": null,
            "margin": null,
            "max_height": null,
            "max_width": null,
            "min_height": null,
            "min_width": null,
            "object_fit": null,
            "object_position": null,
            "order": null,
            "overflow": null,
            "overflow_x": null,
            "overflow_y": null,
            "padding": null,
            "right": null,
            "top": null,
            "visibility": null,
            "width": null
          }
        },
        "6af266cf8e804ae0bae430791c500256": {
          "model_module": "@jupyter-widgets/controls",
          "model_name": "DescriptionStyleModel",
          "model_module_version": "1.5.0",
          "state": {
            "_model_module": "@jupyter-widgets/controls",
            "_model_module_version": "1.5.0",
            "_model_name": "DescriptionStyleModel",
            "_view_count": null,
            "_view_module": "@jupyter-widgets/base",
            "_view_module_version": "1.2.0",
            "_view_name": "StyleView",
            "description_width": ""
          }
        },
        "87be824792e54c5da88d29d75b44fc67": {
          "model_module": "@jupyter-widgets/base",
          "model_name": "LayoutModel",
          "model_module_version": "1.2.0",
          "state": {
            "_model_module": "@jupyter-widgets/base",
            "_model_module_version": "1.2.0",
            "_model_name": "LayoutModel",
            "_view_count": null,
            "_view_module": "@jupyter-widgets/base",
            "_view_module_version": "1.2.0",
            "_view_name": "LayoutView",
            "align_content": null,
            "align_items": null,
            "align_self": null,
            "border": null,
            "bottom": null,
            "display": null,
            "flex": null,
            "flex_flow": null,
            "grid_area": null,
            "grid_auto_columns": null,
            "grid_auto_flow": null,
            "grid_auto_rows": null,
            "grid_column": null,
            "grid_gap": null,
            "grid_row": null,
            "grid_template_areas": null,
            "grid_template_columns": null,
            "grid_template_rows": null,
            "height": null,
            "justify_content": null,
            "justify_items": null,
            "left": null,
            "margin": null,
            "max_height": null,
            "max_width": null,
            "min_height": null,
            "min_width": null,
            "object_fit": null,
            "object_position": null,
            "order": null,
            "overflow": null,
            "overflow_x": null,
            "overflow_y": null,
            "padding": null,
            "right": null,
            "top": null,
            "visibility": null,
            "width": null
          }
        },
        "61df1f28b26c41689d4616d5b391109a": {
          "model_module": "@jupyter-widgets/controls",
          "model_name": "ProgressStyleModel",
          "model_module_version": "1.5.0",
          "state": {
            "_model_module": "@jupyter-widgets/controls",
            "_model_module_version": "1.5.0",
            "_model_name": "ProgressStyleModel",
            "_view_count": null,
            "_view_module": "@jupyter-widgets/base",
            "_view_module_version": "1.2.0",
            "_view_name": "StyleView",
            "bar_color": null,
            "description_width": ""
          }
        },
        "da68cf1726f24a338d9d82616dbdb5a1": {
          "model_module": "@jupyter-widgets/base",
          "model_name": "LayoutModel",
          "model_module_version": "1.2.0",
          "state": {
            "_model_module": "@jupyter-widgets/base",
            "_model_module_version": "1.2.0",
            "_model_name": "LayoutModel",
            "_view_count": null,
            "_view_module": "@jupyter-widgets/base",
            "_view_module_version": "1.2.0",
            "_view_name": "LayoutView",
            "align_content": null,
            "align_items": null,
            "align_self": null,
            "border": null,
            "bottom": null,
            "display": null,
            "flex": null,
            "flex_flow": null,
            "grid_area": null,
            "grid_auto_columns": null,
            "grid_auto_flow": null,
            "grid_auto_rows": null,
            "grid_column": null,
            "grid_gap": null,
            "grid_row": null,
            "grid_template_areas": null,
            "grid_template_columns": null,
            "grid_template_rows": null,
            "height": null,
            "justify_content": null,
            "justify_items": null,
            "left": null,
            "margin": null,
            "max_height": null,
            "max_width": null,
            "min_height": null,
            "min_width": null,
            "object_fit": null,
            "object_position": null,
            "order": null,
            "overflow": null,
            "overflow_x": null,
            "overflow_y": null,
            "padding": null,
            "right": null,
            "top": null,
            "visibility": null,
            "width": null
          }
        },
        "0a8ed01cbc544deaad202899e5047867": {
          "model_module": "@jupyter-widgets/controls",
          "model_name": "DescriptionStyleModel",
          "model_module_version": "1.5.0",
          "state": {
            "_model_module": "@jupyter-widgets/controls",
            "_model_module_version": "1.5.0",
            "_model_name": "DescriptionStyleModel",
            "_view_count": null,
            "_view_module": "@jupyter-widgets/base",
            "_view_module_version": "1.2.0",
            "_view_name": "StyleView",
            "description_width": ""
          }
        },
        "7008fe31328e4a64bd817b19c084de23": {
          "model_module": "@jupyter-widgets/controls",
          "model_name": "HBoxModel",
          "model_module_version": "1.5.0",
          "state": {
            "_dom_classes": [],
            "_model_module": "@jupyter-widgets/controls",
            "_model_module_version": "1.5.0",
            "_model_name": "HBoxModel",
            "_view_count": null,
            "_view_module": "@jupyter-widgets/controls",
            "_view_module_version": "1.5.0",
            "_view_name": "HBoxView",
            "box_style": "",
            "children": [
              "IPY_MODEL_9210f8a7a2f44376b7ce8b91094b66db",
              "IPY_MODEL_6440c5cb63f54d908f3fc2687526e6c5",
              "IPY_MODEL_158ca99b2a84467eb30124e911da6129"
            ],
            "layout": "IPY_MODEL_3f8a43f7924f4ca796da281bde54a7dc"
          }
        },
        "9210f8a7a2f44376b7ce8b91094b66db": {
          "model_module": "@jupyter-widgets/controls",
          "model_name": "HTMLModel",
          "model_module_version": "1.5.0",
          "state": {
            "_dom_classes": [],
            "_model_module": "@jupyter-widgets/controls",
            "_model_module_version": "1.5.0",
            "_model_name": "HTMLModel",
            "_view_count": null,
            "_view_module": "@jupyter-widgets/controls",
            "_view_module_version": "1.5.0",
            "_view_name": "HTMLView",
            "description": "",
            "description_tooltip": null,
            "layout": "IPY_MODEL_eea719b4df3346e989d83a16f2c3e540",
            "placeholder": "​",
            "style": "IPY_MODEL_0ce97a4a565d442aa3f3a75702c4867f",
            "value": "100%"
          }
        },
        "6440c5cb63f54d908f3fc2687526e6c5": {
          "model_module": "@jupyter-widgets/controls",
          "model_name": "FloatProgressModel",
          "model_module_version": "1.5.0",
          "state": {
            "_dom_classes": [],
            "_model_module": "@jupyter-widgets/controls",
            "_model_module_version": "1.5.0",
            "_model_name": "FloatProgressModel",
            "_view_count": null,
            "_view_module": "@jupyter-widgets/controls",
            "_view_module_version": "1.5.0",
            "_view_name": "ProgressView",
            "bar_style": "success",
            "description": "",
            "description_tooltip": null,
            "layout": "IPY_MODEL_f4be220ffef6475cac2be5db80600905",
            "max": 2,
            "min": 0,
            "orientation": "horizontal",
            "style": "IPY_MODEL_89ef536d07214039aa8e683ec4a83fde",
            "value": 2
          }
        },
        "158ca99b2a84467eb30124e911da6129": {
          "model_module": "@jupyter-widgets/controls",
          "model_name": "HTMLModel",
          "model_module_version": "1.5.0",
          "state": {
            "_dom_classes": [],
            "_model_module": "@jupyter-widgets/controls",
            "_model_module_version": "1.5.0",
            "_model_name": "HTMLModel",
            "_view_count": null,
            "_view_module": "@jupyter-widgets/controls",
            "_view_module_version": "1.5.0",
            "_view_name": "HTMLView",
            "description": "",
            "description_tooltip": null,
            "layout": "IPY_MODEL_537cedc4b8b049ab9a8970c17285fbeb",
            "placeholder": "​",
            "style": "IPY_MODEL_788ec000daae4e3cbe5d3e1c7cb4ff9d",
            "value": " 2/2 [00:00&lt;00:00, 57.83it/s]"
          }
        },
        "3f8a43f7924f4ca796da281bde54a7dc": {
          "model_module": "@jupyter-widgets/base",
          "model_name": "LayoutModel",
          "model_module_version": "1.2.0",
          "state": {
            "_model_module": "@jupyter-widgets/base",
            "_model_module_version": "1.2.0",
            "_model_name": "LayoutModel",
            "_view_count": null,
            "_view_module": "@jupyter-widgets/base",
            "_view_module_version": "1.2.0",
            "_view_name": "LayoutView",
            "align_content": null,
            "align_items": null,
            "align_self": null,
            "border": null,
            "bottom": null,
            "display": null,
            "flex": null,
            "flex_flow": null,
            "grid_area": null,
            "grid_auto_columns": null,
            "grid_auto_flow": null,
            "grid_auto_rows": null,
            "grid_column": null,
            "grid_gap": null,
            "grid_row": null,
            "grid_template_areas": null,
            "grid_template_columns": null,
            "grid_template_rows": null,
            "height": null,
            "justify_content": null,
            "justify_items": null,
            "left": null,
            "margin": null,
            "max_height": null,
            "max_width": null,
            "min_height": null,
            "min_width": null,
            "object_fit": null,
            "object_position": null,
            "order": null,
            "overflow": null,
            "overflow_x": null,
            "overflow_y": null,
            "padding": null,
            "right": null,
            "top": null,
            "visibility": null,
            "width": null
          }
        },
        "eea719b4df3346e989d83a16f2c3e540": {
          "model_module": "@jupyter-widgets/base",
          "model_name": "LayoutModel",
          "model_module_version": "1.2.0",
          "state": {
            "_model_module": "@jupyter-widgets/base",
            "_model_module_version": "1.2.0",
            "_model_name": "LayoutModel",
            "_view_count": null,
            "_view_module": "@jupyter-widgets/base",
            "_view_module_version": "1.2.0",
            "_view_name": "LayoutView",
            "align_content": null,
            "align_items": null,
            "align_self": null,
            "border": null,
            "bottom": null,
            "display": null,
            "flex": null,
            "flex_flow": null,
            "grid_area": null,
            "grid_auto_columns": null,
            "grid_auto_flow": null,
            "grid_auto_rows": null,
            "grid_column": null,
            "grid_gap": null,
            "grid_row": null,
            "grid_template_areas": null,
            "grid_template_columns": null,
            "grid_template_rows": null,
            "height": null,
            "justify_content": null,
            "justify_items": null,
            "left": null,
            "margin": null,
            "max_height": null,
            "max_width": null,
            "min_height": null,
            "min_width": null,
            "object_fit": null,
            "object_position": null,
            "order": null,
            "overflow": null,
            "overflow_x": null,
            "overflow_y": null,
            "padding": null,
            "right": null,
            "top": null,
            "visibility": null,
            "width": null
          }
        },
        "0ce97a4a565d442aa3f3a75702c4867f": {
          "model_module": "@jupyter-widgets/controls",
          "model_name": "DescriptionStyleModel",
          "model_module_version": "1.5.0",
          "state": {
            "_model_module": "@jupyter-widgets/controls",
            "_model_module_version": "1.5.0",
            "_model_name": "DescriptionStyleModel",
            "_view_count": null,
            "_view_module": "@jupyter-widgets/base",
            "_view_module_version": "1.2.0",
            "_view_name": "StyleView",
            "description_width": ""
          }
        },
        "f4be220ffef6475cac2be5db80600905": {
          "model_module": "@jupyter-widgets/base",
          "model_name": "LayoutModel",
          "model_module_version": "1.2.0",
          "state": {
            "_model_module": "@jupyter-widgets/base",
            "_model_module_version": "1.2.0",
            "_model_name": "LayoutModel",
            "_view_count": null,
            "_view_module": "@jupyter-widgets/base",
            "_view_module_version": "1.2.0",
            "_view_name": "LayoutView",
            "align_content": null,
            "align_items": null,
            "align_self": null,
            "border": null,
            "bottom": null,
            "display": null,
            "flex": null,
            "flex_flow": null,
            "grid_area": null,
            "grid_auto_columns": null,
            "grid_auto_flow": null,
            "grid_auto_rows": null,
            "grid_column": null,
            "grid_gap": null,
            "grid_row": null,
            "grid_template_areas": null,
            "grid_template_columns": null,
            "grid_template_rows": null,
            "height": null,
            "justify_content": null,
            "justify_items": null,
            "left": null,
            "margin": null,
            "max_height": null,
            "max_width": null,
            "min_height": null,
            "min_width": null,
            "object_fit": null,
            "object_position": null,
            "order": null,
            "overflow": null,
            "overflow_x": null,
            "overflow_y": null,
            "padding": null,
            "right": null,
            "top": null,
            "visibility": null,
            "width": null
          }
        },
        "89ef536d07214039aa8e683ec4a83fde": {
          "model_module": "@jupyter-widgets/controls",
          "model_name": "ProgressStyleModel",
          "model_module_version": "1.5.0",
          "state": {
            "_model_module": "@jupyter-widgets/controls",
            "_model_module_version": "1.5.0",
            "_model_name": "ProgressStyleModel",
            "_view_count": null,
            "_view_module": "@jupyter-widgets/base",
            "_view_module_version": "1.2.0",
            "_view_name": "StyleView",
            "bar_color": null,
            "description_width": ""
          }
        },
        "537cedc4b8b049ab9a8970c17285fbeb": {
          "model_module": "@jupyter-widgets/base",
          "model_name": "LayoutModel",
          "model_module_version": "1.2.0",
          "state": {
            "_model_module": "@jupyter-widgets/base",
            "_model_module_version": "1.2.0",
            "_model_name": "LayoutModel",
            "_view_count": null,
            "_view_module": "@jupyter-widgets/base",
            "_view_module_version": "1.2.0",
            "_view_name": "LayoutView",
            "align_content": null,
            "align_items": null,
            "align_self": null,
            "border": null,
            "bottom": null,
            "display": null,
            "flex": null,
            "flex_flow": null,
            "grid_area": null,
            "grid_auto_columns": null,
            "grid_auto_flow": null,
            "grid_auto_rows": null,
            "grid_column": null,
            "grid_gap": null,
            "grid_row": null,
            "grid_template_areas": null,
            "grid_template_columns": null,
            "grid_template_rows": null,
            "height": null,
            "justify_content": null,
            "justify_items": null,
            "left": null,
            "margin": null,
            "max_height": null,
            "max_width": null,
            "min_height": null,
            "min_width": null,
            "object_fit": null,
            "object_position": null,
            "order": null,
            "overflow": null,
            "overflow_x": null,
            "overflow_y": null,
            "padding": null,
            "right": null,
            "top": null,
            "visibility": null,
            "width": null
          }
        },
        "788ec000daae4e3cbe5d3e1c7cb4ff9d": {
          "model_module": "@jupyter-widgets/controls",
          "model_name": "DescriptionStyleModel",
          "model_module_version": "1.5.0",
          "state": {
            "_model_module": "@jupyter-widgets/controls",
            "_model_module_version": "1.5.0",
            "_model_name": "DescriptionStyleModel",
            "_view_count": null,
            "_view_module": "@jupyter-widgets/base",
            "_view_module_version": "1.2.0",
            "_view_name": "StyleView",
            "description_width": ""
          }
        }
      }
    }
  },
  "cells": [
    {
      "cell_type": "markdown",
      "metadata": {
        "id": "t09eeeR5prIJ"
      },
      "source": [
        "# Comparing RNNs for Text Generation\n",
        "\n",
        "Modified from an example originally written by \"The TensorFlow Authors\" in 2019 and distributed under Apache License 2.0. This lab creates a model that can generate text using a character-based RNN. In this notebook, we set up a \"head-to-head\" comparison of a vanilla RNN, a LSTM, and a GRU. We should be able to observe differences in training time and in the level of the loss function acheived.\n",
        "\n",
        "Recall from week 9 that a character-based RNN learns sequences of characters from a corpus of text. Once the model is trained, one can present an input character sequence and the model will generate the character that it predicts would be most likely to appear next. By repeatedly calling the model for new predictions with the previously built sequence, one can create a string of text that \"looks like\" sentences from the original training text. This approach has numerous disadvantages, such as an inability to know when to stop (e.g., at the end of a sentence). But character level predictions use small amounts of training data very effectively, are computationally efficient, and are highly adaptable to multilingual data.\n",
        "\n",
        "Check to make sure that GPU acceleration is enabled to execute this notebook faster. In Colab: *Runtime > Change runtime type > Hardware accelerator > GPU*. Do this before you start to run any code, because it generally restarts the runtime and your local variables will be lost."
      ]
    },
    {
      "cell_type": "markdown",
      "metadata": {
        "id": "srXC6pLGLwS6"
      },
      "source": [
        "## Setup\n",
        "\n",
        "In this initial step you will see an easy method to load an NLP benchmarking data set from the HuggingFace repository (which we have used previously to obtain pretrained sentence summarizer models). Benchmarking data sets are crucial to progress in NLP technology because they provide a standardized basis for exploring the performance characteristics of a model.\n",
        "\n",
        "Here we are importing the \"Squad\" question answering data set (version 2) initially developed at Stanford University. Go to https://huggingface.co/datasets to review the dataset discovery interface and a few of the resources stored there."
      ]
    },
    {
      "cell_type": "code",
      "source": [
        "!pip install datasets # A package for creating a connection to HuggingFace data resources\n",
        "from datasets import load_dataset\n",
        "\n",
        "raw_dataset = load_dataset(\"squad_v2\") # The names of the datasets can be obtained from the web-based discovery interface\n",
        "raw_train_dataset = raw_dataset[\"train\"] # We will use the training data\n",
        "\n",
        "type(raw_dataset), type(raw_train_dataset) # Display the types"
      ],
      "metadata": {
        "id": "TKQeyho7qmny",
        "colab": {
          "base_uri": "https://localhost:8080/",
          "height": 1000,
          "referenced_widgets": [
            "f681be85209f455db005eb3236a76117",
            "952069018ed44979b6defd8ae8d908a1",
            "01e11d5e13984e8ea20fecf011d85ed6",
            "1c385b24d2f34326ba2274a4c2556a8d",
            "c084b424541a464fa86d1fed445939fa",
            "eab1b65ce2e746799d708a6a90fa68d3",
            "8429321218b7468680b20266030f1ee6",
            "f457c198a3524a14857d59fbb86494dc",
            "161b4289b65d410e89cf536f10deff87",
            "efae31e8809c4824ace515071bdeef15",
            "790df95d701b489ea885c0309aecd46c",
            "39e5146ed17c4513992df611d02341be",
            "a925414286b040a5a99609730e08507f",
            "3c1199513610435d86a35dd8c699b7a2",
            "42214877ad5f44a5b4f1403ef11eb2fa",
            "000a13a3869340b2889379a93e0050f9",
            "8d74bc39588f490397092f38a699bcbc",
            "0874817f08aa4727baa0052d36dac0ad",
            "8a798e1145fb468996d6ef612f6ec504",
            "c0b843805e9748e598344ad205c193bf",
            "afb48f8e36ac48f49a850deae1a06466",
            "cdeb0b18fcec4061b37a3f40d2775dd6",
            "16b358969a6c4168ae55171e64ca9223",
            "4e33b13e0cc349ae8deb9f66c8da860b",
            "a0599d2b311f4fcc83c613f378b8dde1",
            "669a03d08aab4d119ea4ff9b8771af6e",
            "c94a964f3ae54e37bfe9a797f630cfc6",
            "43a09ef696304a80ba7438c35b15ceb5",
            "ccc86acff73a44b4b3d6a81f9334af90",
            "ef9048f6e21e457f92d9dd4ee43703df",
            "5854d654d2f44e069a4f709aea0b3bb6",
            "119a9641ba0c470bade7351e5129107d",
            "0aa41f73374d4839a7937a0afeb12e82",
            "d761e3c9d5e04727a8847cc62c06e025",
            "d1917e57ea964fd5a29a781f81525a6f",
            "28db64bb5a99459990b1d1ff8a1a3eb7",
            "b2fb2c0d47634cc3b4bda344f9d68edd",
            "cd451b389b31440391fb4e5d825d6c69",
            "cf8ca3e80d3b49dda8dfb33ee97191fb",
            "f14d36cfaf9240ff849fe4a9ee30a2b2",
            "c13a2fdede0842268639832b7889bbf2",
            "5d0ef7c70653463392eae76dd895af39",
            "388f9f83d23a4581831807c297caf759",
            "844893dbd4f74edf8512f6f4edaaaa28",
            "e955c1e7f0594780821b5e64b4845560",
            "8a5da101c6694d88ad796c844b5ab05a",
            "226a9d6cf75644428674a130b1ad21b8",
            "55954489d8824069b7107848f5acf259",
            "4d5d00ba51cd4090bbcee3f7a01a7197",
            "20465f472e5a46beb75623bb884c051c",
            "c88c7a05baf34635908bb586a4ee32fd",
            "82bb75a9785f4a5090fe2d4e4397616b",
            "173361c9180f4dc9804631a143349218",
            "5f30770bed514bbbb0ad9d3592743cc5",
            "1c37eba8d26d497eb5c8dfc4a333e5f6",
            "f1a853fecdc84883baf7ab9617213e73",
            "985660d5ac8e4e2a8ab681b11d949422",
            "61eff22b88274fd9b74802c3eb75200b",
            "f5c63b94c88248c49c176326c9777105",
            "f34f6edbad1745d2acc20461f497f5da",
            "b0b7960183614ec9879ff32d920fcce4",
            "72efc56616304b19a0bea90fb8f2d239",
            "fbde1e33e12a4588a936ef30fdeb9896",
            "16ab8b11e43b42eda4e2f7a30d2d328b",
            "b7b48eb54c2b46a6b89a50d9636a364b",
            "b430f80b7b8d4de2a77bc565d143a152",
            "6510c7eb66a243b9af37367b3278eafb",
            "f7cc30b2bcfa4285b08e3afa289864d8",
            "1451cf06fe7345daad2f074b2d2c3fe1",
            "c7caa1a10cf2493b87148146571e993f",
            "f2d87c09f8ef491b878c5b633bbfe962",
            "70dc913f5f444891bde80bea589098e0",
            "2c303b0d803545d6aeceab76f6ec17c6",
            "f147525929f84b4b97cdd00d9c69789e",
            "67188437700f43a3a0210a934d1c5de6",
            "68b2b26aa02e4b899d7e4064b58b4905",
            "ac8dbbb91b44431e8a00d75684719b14",
            "176b05dfc415482b9b29650f53f2b470",
            "7b83a71605284a09a1f902b8e46de410",
            "2550b6c6e70e412bb11805346fb07b5d",
            "33881d1a44944e408f8067d0656557f8",
            "a75d5a501c8f413a98c4a6a9d7644cd0",
            "802b085b82a346e5b9603845d689b85c",
            "7926f33eb4494e19bdc785ad63562f7b",
            "1f8fd298446341958b06dda1cfeae26b",
            "97625dc336324a28909b08ff8c4b61a7",
            "526d4e04749c4900adeeccc1652936ec",
            "9f42d20dd00648368d20511551fc1314",
            "0f3462f3e2864db1ab892000b4f2dfa2",
            "2c2634a0c31641de9d8a47f7811e8511",
            "c50bd4eff7e140fbbe1fb9ba507fc6ce",
            "90289eb3ef794ee6847a49b5aca98fb4",
            "4b828a7250924ea98c5c7d483c138bb4",
            "b5bddbb1c5aa4dbeb0bc25c86c1b6fe6",
            "6af266cf8e804ae0bae430791c500256",
            "87be824792e54c5da88d29d75b44fc67",
            "61df1f28b26c41689d4616d5b391109a",
            "da68cf1726f24a338d9d82616dbdb5a1",
            "0a8ed01cbc544deaad202899e5047867",
            "7008fe31328e4a64bd817b19c084de23",
            "9210f8a7a2f44376b7ce8b91094b66db",
            "6440c5cb63f54d908f3fc2687526e6c5",
            "158ca99b2a84467eb30124e911da6129",
            "3f8a43f7924f4ca796da281bde54a7dc",
            "eea719b4df3346e989d83a16f2c3e540",
            "0ce97a4a565d442aa3f3a75702c4867f",
            "f4be220ffef6475cac2be5db80600905",
            "89ef536d07214039aa8e683ec4a83fde",
            "537cedc4b8b049ab9a8970c17285fbeb",
            "788ec000daae4e3cbe5d3e1c7cb4ff9d"
          ]
        },
        "outputId": "26fd38d3-adc2-4ff8-eeaa-5dd8a54d94cc"
      },
      "execution_count": 1,
      "outputs": [
        {
          "output_type": "stream",
          "name": "stdout",
          "text": [
            "Looking in indexes: https://pypi.org/simple, https://us-python.pkg.dev/colab-wheels/public/simple/\n",
            "Collecting datasets\n",
            "  Downloading datasets-2.10.1-py3-none-any.whl (469 kB)\n",
            "\u001b[2K     \u001b[90m━━━━━━━━━━━━━━━━━━━━━━━━━━━━━━━━━━━━━━━\u001b[0m \u001b[32m469.0/469.0 KB\u001b[0m \u001b[31m9.3 MB/s\u001b[0m eta \u001b[36m0:00:00\u001b[0m\n",
            "\u001b[?25hRequirement already satisfied: requests>=2.19.0 in /usr/local/lib/python3.9/dist-packages (from datasets) (2.27.1)\n",
            "Requirement already satisfied: pyyaml>=5.1 in /usr/local/lib/python3.9/dist-packages (from datasets) (6.0)\n",
            "Collecting xxhash\n",
            "\u001b[33m  WARNING: Retrying (Retry(total=4, connect=None, read=None, redirect=None, status=None)) after connection broken by 'ProtocolError('Connection aborted.', ConnectionResetError(104, 'Connection reset by peer'))': /packages/4b/2d/20756410ea0de5411bd1a7c8f355da6fb195bb88f210b330b19353fcd33d/xxhash-3.2.0-cp39-cp39-manylinux_2_17_x86_64.manylinux2014_x86_64.whl\u001b[0m\u001b[33m\n",
            "\u001b[0m  Downloading xxhash-3.2.0-cp39-cp39-manylinux_2_17_x86_64.manylinux2014_x86_64.whl (212 kB)\n",
            "\u001b[2K     \u001b[90m━━━━━━━━━━━━━━━━━━━━━━━━━━━━━━━━━━━━━━━\u001b[0m \u001b[32m212.2/212.2 KB\u001b[0m \u001b[31m4.6 MB/s\u001b[0m eta \u001b[36m0:00:00\u001b[0m\n",
            "\u001b[?25hCollecting responses<0.19\n",
            "  Downloading responses-0.18.0-py3-none-any.whl (38 kB)\n",
            "Collecting huggingface-hub<1.0.0,>=0.2.0\n",
            "  Downloading huggingface_hub-0.13.3-py3-none-any.whl (199 kB)\n",
            "\u001b[2K     \u001b[90m━━━━━━━━━━━━━━━━━━━━━━━━━━━━━━━━━━━━━━━\u001b[0m \u001b[32m199.8/199.8 KB\u001b[0m \u001b[31m9.6 MB/s\u001b[0m eta \u001b[36m0:00:00\u001b[0m\n",
            "\u001b[?25hRequirement already satisfied: tqdm>=4.62.1 in /usr/local/lib/python3.9/dist-packages (from datasets) (4.65.0)\n",
            "Requirement already satisfied: pyarrow>=6.0.0 in /usr/local/lib/python3.9/dist-packages (from datasets) (9.0.0)\n",
            "Collecting dill<0.3.7,>=0.3.0\n",
            "  Downloading dill-0.3.6-py3-none-any.whl (110 kB)\n",
            "\u001b[2K     \u001b[90m━━━━━━━━━━━━━━━━━━━━━━━━━━━━━━━━━━━━━━━\u001b[0m \u001b[32m110.5/110.5 KB\u001b[0m \u001b[31m7.0 MB/s\u001b[0m eta \u001b[36m0:00:00\u001b[0m\n",
            "\u001b[?25hRequirement already satisfied: fsspec[http]>=2021.11.1 in /usr/local/lib/python3.9/dist-packages (from datasets) (2023.3.0)\n",
            "Collecting aiohttp\n",
            "  Downloading aiohttp-3.8.4-cp39-cp39-manylinux_2_17_x86_64.manylinux2014_x86_64.whl (1.0 MB)\n",
            "\u001b[2K     \u001b[90m━━━━━━━━━━━━━━━━━━━━━━━━━━━━━━━━━━━━━━━━\u001b[0m \u001b[32m1.0/1.0 MB\u001b[0m \u001b[31m18.1 MB/s\u001b[0m eta \u001b[36m0:00:00\u001b[0m\n",
            "\u001b[?25hRequirement already satisfied: numpy>=1.17 in /usr/local/lib/python3.9/dist-packages (from datasets) (1.22.4)\n",
            "Requirement already satisfied: pandas in /usr/local/lib/python3.9/dist-packages (from datasets) (1.4.4)\n",
            "Requirement already satisfied: packaging in /usr/local/lib/python3.9/dist-packages (from datasets) (23.0)\n",
            "Collecting multiprocess\n",
            "  Downloading multiprocess-0.70.14-py39-none-any.whl (132 kB)\n",
            "\u001b[2K     \u001b[90m━━━━━━━━━━━━━━━━━━━━━━━━━━━━━━━━━━━━━━━\u001b[0m \u001b[32m132.9/132.9 KB\u001b[0m \u001b[31m9.0 MB/s\u001b[0m eta \u001b[36m0:00:00\u001b[0m\n",
            "\u001b[?25hCollecting aiosignal>=1.1.2\n",
            "  Downloading aiosignal-1.3.1-py3-none-any.whl (7.6 kB)\n",
            "Collecting frozenlist>=1.1.1\n",
            "  Downloading frozenlist-1.3.3-cp39-cp39-manylinux_2_5_x86_64.manylinux1_x86_64.manylinux_2_17_x86_64.manylinux2014_x86_64.whl (158 kB)\n",
            "\u001b[2K     \u001b[90m━━━━━━━━━━━━━━━━━━━━━━━━━━━━━━━━━━━━━━━\u001b[0m \u001b[32m158.8/158.8 KB\u001b[0m \u001b[31m7.8 MB/s\u001b[0m eta \u001b[36m0:00:00\u001b[0m\n",
            "\u001b[?25hCollecting async-timeout<5.0,>=4.0.0a3\n",
            "  Downloading async_timeout-4.0.2-py3-none-any.whl (5.8 kB)\n",
            "Collecting multidict<7.0,>=4.5\n",
            "  Downloading multidict-6.0.4-cp39-cp39-manylinux_2_17_x86_64.manylinux2014_x86_64.whl (114 kB)\n",
            "\u001b[2K     \u001b[90m━━━━━━━━━━━━━━━━━━━━━━━━━━━━━━━━━━━━━━━\u001b[0m \u001b[32m114.2/114.2 KB\u001b[0m \u001b[31m1.2 MB/s\u001b[0m eta \u001b[36m0:00:00\u001b[0m\n",
            "\u001b[?25hRequirement already satisfied: attrs>=17.3.0 in /usr/local/lib/python3.9/dist-packages (from aiohttp->datasets) (22.2.0)\n",
            "Collecting yarl<2.0,>=1.0\n",
            "  Downloading yarl-1.8.2-cp39-cp39-manylinux_2_17_x86_64.manylinux2014_x86_64.whl (264 kB)\n",
            "\u001b[2K     \u001b[90m━━━━━━━━━━━━━━━━━━━━━━━━━━━━━━━━━━━━━━━\u001b[0m \u001b[32m264.6/264.6 KB\u001b[0m \u001b[31m6.2 MB/s\u001b[0m eta \u001b[36m0:00:00\u001b[0m\n",
            "\u001b[?25hRequirement already satisfied: charset-normalizer<4.0,>=2.0 in /usr/local/lib/python3.9/dist-packages (from aiohttp->datasets) (2.0.12)\n",
            "Requirement already satisfied: typing-extensions>=3.7.4.3 in /usr/local/lib/python3.9/dist-packages (from huggingface-hub<1.0.0,>=0.2.0->datasets) (4.5.0)\n",
            "Requirement already satisfied: filelock in /usr/local/lib/python3.9/dist-packages (from huggingface-hub<1.0.0,>=0.2.0->datasets) (3.10.2)\n",
            "Requirement already satisfied: certifi>=2017.4.17 in /usr/local/lib/python3.9/dist-packages (from requests>=2.19.0->datasets) (2022.12.7)\n",
            "Requirement already satisfied: idna<4,>=2.5 in /usr/local/lib/python3.9/dist-packages (from requests>=2.19.0->datasets) (3.4)\n",
            "Requirement already satisfied: urllib3<1.27,>=1.21.1 in /usr/local/lib/python3.9/dist-packages (from requests>=2.19.0->datasets) (1.26.15)\n",
            "Requirement already satisfied: pytz>=2020.1 in /usr/local/lib/python3.9/dist-packages (from pandas->datasets) (2022.7.1)\n",
            "Requirement already satisfied: python-dateutil>=2.8.1 in /usr/local/lib/python3.9/dist-packages (from pandas->datasets) (2.8.2)\n",
            "Requirement already satisfied: six>=1.5 in /usr/local/lib/python3.9/dist-packages (from python-dateutil>=2.8.1->pandas->datasets) (1.16.0)\n",
            "Installing collected packages: xxhash, multidict, frozenlist, dill, async-timeout, yarl, responses, multiprocess, huggingface-hub, aiosignal, aiohttp, datasets\n",
            "Successfully installed aiohttp-3.8.4 aiosignal-1.3.1 async-timeout-4.0.2 datasets-2.10.1 dill-0.3.6 frozenlist-1.3.3 huggingface-hub-0.13.3 multidict-6.0.4 multiprocess-0.70.14 responses-0.18.0 xxhash-3.2.0 yarl-1.8.2\n"
          ]
        },
        {
          "output_type": "display_data",
          "data": {
            "text/plain": [
              "Downloading builder script:   0%|          | 0.00/5.28k [00:00<?, ?B/s]"
            ],
            "application/vnd.jupyter.widget-view+json": {
              "version_major": 2,
              "version_minor": 0,
              "model_id": "f681be85209f455db005eb3236a76117"
            }
          },
          "metadata": {}
        },
        {
          "output_type": "display_data",
          "data": {
            "text/plain": [
              "Downloading metadata:   0%|          | 0.00/2.40k [00:00<?, ?B/s]"
            ],
            "application/vnd.jupyter.widget-view+json": {
              "version_major": 2,
              "version_minor": 0,
              "model_id": "39e5146ed17c4513992df611d02341be"
            }
          },
          "metadata": {}
        },
        {
          "output_type": "display_data",
          "data": {
            "text/plain": [
              "Downloading readme:   0%|          | 0.00/8.02k [00:00<?, ?B/s]"
            ],
            "application/vnd.jupyter.widget-view+json": {
              "version_major": 2,
              "version_minor": 0,
              "model_id": "16b358969a6c4168ae55171e64ca9223"
            }
          },
          "metadata": {}
        },
        {
          "output_type": "stream",
          "name": "stdout",
          "text": [
            "Downloading and preparing dataset squad_v2/squad_v2 to /root/.cache/huggingface/datasets/squad_v2/squad_v2/2.0.0/09187c73c1b837c95d9a249cd97c2c3f1cebada06efe667b4427714b27639b1d...\n"
          ]
        },
        {
          "output_type": "display_data",
          "data": {
            "text/plain": [
              "Downloading data files:   0%|          | 0/2 [00:00<?, ?it/s]"
            ],
            "application/vnd.jupyter.widget-view+json": {
              "version_major": 2,
              "version_minor": 0,
              "model_id": "d761e3c9d5e04727a8847cc62c06e025"
            }
          },
          "metadata": {}
        },
        {
          "output_type": "display_data",
          "data": {
            "text/plain": [
              "Downloading data:   0%|          | 0.00/9.55M [00:00<?, ?B/s]"
            ],
            "application/vnd.jupyter.widget-view+json": {
              "version_major": 2,
              "version_minor": 0,
              "model_id": "e955c1e7f0594780821b5e64b4845560"
            }
          },
          "metadata": {}
        },
        {
          "output_type": "display_data",
          "data": {
            "text/plain": [
              "Downloading data:   0%|          | 0.00/801k [00:00<?, ?B/s]"
            ],
            "application/vnd.jupyter.widget-view+json": {
              "version_major": 2,
              "version_minor": 0,
              "model_id": "f1a853fecdc84883baf7ab9617213e73"
            }
          },
          "metadata": {}
        },
        {
          "output_type": "display_data",
          "data": {
            "text/plain": [
              "Extracting data files:   0%|          | 0/2 [00:00<?, ?it/s]"
            ],
            "application/vnd.jupyter.widget-view+json": {
              "version_major": 2,
              "version_minor": 0,
              "model_id": "6510c7eb66a243b9af37367b3278eafb"
            }
          },
          "metadata": {}
        },
        {
          "output_type": "display_data",
          "data": {
            "text/plain": [
              "Generating train split:   0%|          | 0/130319 [00:00<?, ? examples/s]"
            ],
            "application/vnd.jupyter.widget-view+json": {
              "version_major": 2,
              "version_minor": 0,
              "model_id": "176b05dfc415482b9b29650f53f2b470"
            }
          },
          "metadata": {}
        },
        {
          "output_type": "display_data",
          "data": {
            "text/plain": [
              "Generating validation split:   0%|          | 0/11873 [00:00<?, ? examples/s]"
            ],
            "application/vnd.jupyter.widget-view+json": {
              "version_major": 2,
              "version_minor": 0,
              "model_id": "0f3462f3e2864db1ab892000b4f2dfa2"
            }
          },
          "metadata": {}
        },
        {
          "output_type": "stream",
          "name": "stdout",
          "text": [
            "Dataset squad_v2 downloaded and prepared to /root/.cache/huggingface/datasets/squad_v2/squad_v2/2.0.0/09187c73c1b837c95d9a249cd97c2c3f1cebada06efe667b4427714b27639b1d. Subsequent calls will reuse this data.\n"
          ]
        },
        {
          "output_type": "display_data",
          "data": {
            "text/plain": [
              "  0%|          | 0/2 [00:00<?, ?it/s]"
            ],
            "application/vnd.jupyter.widget-view+json": {
              "version_major": 2,
              "version_minor": 0,
              "model_id": "7008fe31328e4a64bd817b19c084de23"
            }
          },
          "metadata": {}
        },
        {
          "output_type": "execute_result",
          "data": {
            "text/plain": [
              "(datasets.dataset_dict.DatasetDict, datasets.arrow_dataset.Dataset)"
            ]
          },
          "metadata": {},
          "execution_count": 1
        }
      ]
    },
    {
      "cell_type": "markdown",
      "metadata": {
        "id": "WGyKZj3bzf9p"
      },
      "source": [
        "### Import TensorFlow and other libraries"
      ]
    },
    {
      "cell_type": "code",
      "metadata": {
        "execution": {
          "iopub.execute_input": "2021-08-11T18:24:50.972847Z",
          "iopub.status.busy": "2021-08-11T18:24:50.972275Z",
          "iopub.status.idle": "2021-08-11T18:24:52.595725Z",
          "shell.execute_reply": "2021-08-11T18:24:52.596142Z"
        },
        "id": "yG_n40gFzf9s"
      },
      "source": [
        "import tensorflow as tf\n",
        "from tensorflow.keras.layers.experimental import preprocessing\n",
        "\n",
        "import numpy as np\n",
        "import os # To access local files; for saving checkpoints\n",
        "import time\n",
        "\n",
        "from urllib import request # We will need this to read from an URL"
      ],
      "execution_count": 2,
      "outputs": []
    },
    {
      "cell_type": "markdown",
      "metadata": {
        "id": "EHDoRoc5PKWz"
      },
      "source": [
        "### Setup the Text Data\n",
        "\n",
        "Squad is set up with triplets of questions, answers, and contextual paragraphs that contain or imply the answer. With a more sophisticated generative model we would treat the problem of predicting the answer from the question in a more formalized manner, but here we simply compile everything into a large text file for use in training our character model."
      ]
    },
    {
      "cell_type": "code",
      "source": [
        "# Build a raw text file of Q/A/C sequences: Takes a minute\n",
        "long_text = \"\"\n",
        "\n",
        "for entry in raw_train_dataset:\n",
        "  # Some entries may not have an answer: Skip them\n",
        "  if len(entry['answers']['text']) > 0:\n",
        "    long_text += entry['question']\n",
        "    long_text += \" \"\n",
        "    long_text += entry['answers']['text'][0]\n",
        "    long_text += \":  \"\n",
        "    long_text += entry['context']\n",
        "    long_text += \"/n/n\"\n",
        "\n",
        "len(long_text), long_text[:200]"
      ],
      "metadata": {
        "id": "HIkHB87nqwGr",
        "colab": {
          "base_uri": "https://localhost:8080/"
        },
        "outputId": "d3d82c8b-b729-4998-fffa-298837b80612"
      },
      "execution_count": 3,
      "outputs": [
        {
          "output_type": "execute_result",
          "data": {
            "text/plain": [
              "(73125480,\n",
              " 'When did Beyonce start becoming popular? in the late 1990s:  Beyoncé Giselle Knowles-Carter (/biːˈjɒnseɪ/ bee-YON-say) (born September 4, 1981) is an American singer, songwriter, record producer and a')"
            ]
          },
          "metadata": {},
          "execution_count": 3
        }
      ]
    },
    {
      "cell_type": "code",
      "source": [
        "#\n",
        "# Exercise 10.0: Review some additional text in long_text. Examine enough so\n",
        "# that you can see at least one more Q/A/C triplet.\n",
        "#\n",
        "\n",
        "long_text[:1800]\n",
        "#Here we can see the second question - What areas did Beyonce compete in when she was growing up?"
      ],
      "metadata": {
        "id": "DdvtlXNdTSlG",
        "colab": {
          "base_uri": "https://localhost:8080/",
          "height": 143
        },
        "outputId": "6f9650cc-e8ed-4677-df82-b0ef20c39775"
      },
      "execution_count": 6,
      "outputs": [
        {
          "output_type": "execute_result",
          "data": {
            "text/plain": [
              "'When did Beyonce start becoming popular? in the late 1990s:  Beyoncé Giselle Knowles-Carter (/biːˈjɒnseɪ/ bee-YON-say) (born September 4, 1981) is an American singer, songwriter, record producer and actress. Born and raised in Houston, Texas, she performed in various singing and dancing competitions as a child, and rose to fame in the late 1990s as lead singer of R&B girl-group Destiny\\'s Child. Managed by her father, Mathew Knowles, the group became one of the world\\'s best-selling girl groups of all time. Their hiatus saw the release of Beyoncé\\'s debut album, Dangerously in Love (2003), which established her as a solo artist worldwide, earned five Grammy Awards and featured the Billboard Hot 100 number-one singles \"Crazy in Love\" and \"Baby Boy\"./n/nWhat areas did Beyonce compete in when she was growing up? singing and dancing:  Beyoncé Giselle Knowles-Carter (/biːˈjɒnseɪ/ bee-YON-say) (born September 4, 1981) is an American singer, songwriter, record producer and actress. Born and raised in Houston, Texas, she performed in various singing and dancing competitions as a child, and rose to fame in the late 1990s as lead singer of R&B girl-group Destiny\\'s Child. Managed by her father, Mathew Knowles, the group became one of the world\\'s best-selling girl groups of all time. Their hiatus saw the release of Beyoncé\\'s debut album, Dangerously in Love (2003), which established her as a solo artist worldwide, earned five Grammy Awards and featured the Billboard Hot 100 number-one singles \"Crazy in Love\" and \"Baby Boy\"./n/nWhen did Beyonce leave Destiny\\'s Child and become a solo singer? 2003:  Beyoncé Giselle Knowles-Carter (/biːˈjɒnseɪ/ bee-YON-say) (born September 4, 1981) is an American singer, songwriter, record producer and actress. Born and raised in Houston, Texas, she perf'"
            ],
            "application/vnd.google.colaboratory.intrinsic+json": {
              "type": "string"
            }
          },
          "metadata": {},
          "execution_count": 6
        }
      ]
    },
    {
      "cell_type": "code",
      "source": [
        "# We won't be able to train the models during class with this much data\n",
        "# so let's subset it for purposes of gettng the lab done.\n",
        "PROP_TO_TAKE = 0.10 # Take a small proportion of the data to make training time realistic\n",
        "lt_len = len(long_text)\n",
        "st_len = int(round((lt_len * PROP_TO_TAKE),0))\n",
        "\n",
        "text = long_text[ :st_len]\n",
        "len(text)"
      ],
      "metadata": {
        "id": "XEnDhjubtGCt",
        "colab": {
          "base_uri": "https://localhost:8080/"
        },
        "outputId": "52193b2a-9862-466b-9f54-c987cd49e906"
      },
      "execution_count": 7,
      "outputs": [
        {
          "output_type": "execute_result",
          "data": {
            "text/plain": [
              "7312548"
            ]
          },
          "metadata": {},
          "execution_count": 7
        }
      ]
    },
    {
      "cell_type": "markdown",
      "metadata": {
        "id": "UHjdCjDuSvX_"
      },
      "source": [
        "### Examine the vocab\n",
        "\n",
        "First, look in the text to see what we have. Note that this is a character-based model, so we are interested to know what different characters are used throughout the whole text. Note that this should make the process largely language independent: Any language where words are formed through sequences of characters should work in training this kind of model."
      ]
    },
    {
      "cell_type": "code",
      "metadata": {
        "execution": {
          "iopub.execute_input": "2021-08-11T18:24:52.658460Z",
          "iopub.status.busy": "2021-08-11T18:24:52.657812Z",
          "iopub.status.idle": "2021-08-11T18:24:52.660268Z",
          "shell.execute_reply": "2021-08-11T18:24:52.660598Z"
        },
        "id": "IlCgQBRVymwR",
        "colab": {
          "base_uri": "https://localhost:8080/"
        },
        "outputId": "70813b73-cfd0-427a-9b84-2760f7f9654a"
      },
      "source": [
        "# The unique text characters in the file\n",
        "vocab = sorted(set(text))\n",
        "print(f'{len(vocab)} unique characters')"
      ],
      "execution_count": 8,
      "outputs": [
        {
          "output_type": "stream",
          "name": "stdout",
          "text": [
            "381 unique characters\n"
          ]
        }
      ]
    },
    {
      "cell_type": "code",
      "source": [
        "#\n",
        "# Exercise 10.1: Review the character set. Why so many more characters than last week?\n",
        "#\n",
        "vocab\n",
        "#The corpus contains 73125480 tokens that contain various symbols, different languages\n",
        "#With many unique symbols, we are getting more character set."
      ],
      "metadata": {
        "id": "hUE88f3j4mZ8",
        "colab": {
          "base_uri": "https://localhost:8080/"
        },
        "outputId": "5bb9fa73-9e66-434d-b09c-0c1debfd3dbd"
      },
      "execution_count": 9,
      "outputs": [
        {
          "output_type": "execute_result",
          "data": {
            "text/plain": [
              "['\\n',\n",
              " ' ',\n",
              " '!',\n",
              " '\"',\n",
              " '#',\n",
              " '$',\n",
              " '%',\n",
              " '&',\n",
              " \"'\",\n",
              " '(',\n",
              " ')',\n",
              " '*',\n",
              " '+',\n",
              " ',',\n",
              " '-',\n",
              " '.',\n",
              " '/',\n",
              " '0',\n",
              " '1',\n",
              " '2',\n",
              " '3',\n",
              " '4',\n",
              " '5',\n",
              " '6',\n",
              " '7',\n",
              " '8',\n",
              " '9',\n",
              " ':',\n",
              " ';',\n",
              " '<',\n",
              " '=',\n",
              " '>',\n",
              " '?',\n",
              " 'A',\n",
              " 'B',\n",
              " 'C',\n",
              " 'D',\n",
              " 'E',\n",
              " 'F',\n",
              " 'G',\n",
              " 'H',\n",
              " 'I',\n",
              " 'J',\n",
              " 'K',\n",
              " 'L',\n",
              " 'M',\n",
              " 'N',\n",
              " 'O',\n",
              " 'P',\n",
              " 'Q',\n",
              " 'R',\n",
              " 'S',\n",
              " 'T',\n",
              " 'U',\n",
              " 'V',\n",
              " 'W',\n",
              " 'X',\n",
              " 'Y',\n",
              " 'Z',\n",
              " '[',\n",
              " ']',\n",
              " '`',\n",
              " 'a',\n",
              " 'b',\n",
              " 'c',\n",
              " 'd',\n",
              " 'e',\n",
              " 'f',\n",
              " 'g',\n",
              " 'h',\n",
              " 'i',\n",
              " 'j',\n",
              " 'k',\n",
              " 'l',\n",
              " 'm',\n",
              " 'n',\n",
              " 'o',\n",
              " 'p',\n",
              " 'q',\n",
              " 'r',\n",
              " 's',\n",
              " 't',\n",
              " 'u',\n",
              " 'v',\n",
              " 'w',\n",
              " 'x',\n",
              " 'y',\n",
              " 'z',\n",
              " '~',\n",
              " '¢',\n",
              " '£',\n",
              " '¥',\n",
              " '§',\n",
              " '°',\n",
              " '±',\n",
              " '²',\n",
              " '½',\n",
              " 'Å',\n",
              " 'Ç',\n",
              " 'É',\n",
              " 'Ö',\n",
              " 'Ü',\n",
              " 'à',\n",
              " 'á',\n",
              " 'â',\n",
              " 'ã',\n",
              " 'ä',\n",
              " 'æ',\n",
              " 'ç',\n",
              " 'è',\n",
              " 'é',\n",
              " 'ê',\n",
              " 'ë',\n",
              " 'ì',\n",
              " 'í',\n",
              " 'ï',\n",
              " 'ñ',\n",
              " 'ò',\n",
              " 'ó',\n",
              " 'ô',\n",
              " 'ö',\n",
              " 'ø',\n",
              " 'ú',\n",
              " 'ü',\n",
              " 'ý',\n",
              " 'Ā',\n",
              " 'ā',\n",
              " 'ă',\n",
              " 'ć',\n",
              " 'Đ',\n",
              " 'ī',\n",
              " 'ĭ',\n",
              " 'İ',\n",
              " 'Ł',\n",
              " 'ł',\n",
              " 'ń',\n",
              " 'Ō',\n",
              " 'ō',\n",
              " 'ŏ',\n",
              " 'ř',\n",
              " 'Ś',\n",
              " 'ś',\n",
              " 'Š',\n",
              " 'š',\n",
              " 'ũ',\n",
              " 'ū',\n",
              " 'ů',\n",
              " 'ŵ',\n",
              " 'ź',\n",
              " 'Ż',\n",
              " 'ż',\n",
              " 'ɐ',\n",
              " 'ɑ',\n",
              " 'ɒ',\n",
              " 'ɔ',\n",
              " 'ə',\n",
              " 'ɛ',\n",
              " 'ɜ',\n",
              " 'ɡ',\n",
              " 'ɪ',\n",
              " 'ɹ',\n",
              " 'ɾ',\n",
              " 'ʁ',\n",
              " 'ʃ',\n",
              " 'ʊ',\n",
              " 'ʌ',\n",
              " 'ʏ',\n",
              " 'ˈ',\n",
              " 'ˌ',\n",
              " 'ː',\n",
              " '̃',\n",
              " '̩',\n",
              " '̯',\n",
              " 'Α',\n",
              " 'Ε',\n",
              " 'Ι',\n",
              " 'Ν',\n",
              " 'Τ',\n",
              " 'Φ',\n",
              " 'ά',\n",
              " 'έ',\n",
              " 'ί',\n",
              " 'α',\n",
              " 'β',\n",
              " 'γ',\n",
              " 'δ',\n",
              " 'ε',\n",
              " 'θ',\n",
              " 'ι',\n",
              " 'κ',\n",
              " 'λ',\n",
              " 'μ',\n",
              " 'ν',\n",
              " 'ξ',\n",
              " 'ο',\n",
              " 'π',\n",
              " 'ρ',\n",
              " 'ς',\n",
              " 'σ',\n",
              " 'τ',\n",
              " 'υ',\n",
              " 'χ',\n",
              " 'ω',\n",
              " 'ό',\n",
              " 'ύ',\n",
              " 'ώ',\n",
              " 'ا',\n",
              " 'ب',\n",
              " 'د',\n",
              " 'ر',\n",
              " 'ः',\n",
              " 'क',\n",
              " 'ख',\n",
              " 'द',\n",
              " 'ध',\n",
              " 'न',\n",
              " 'ब',\n",
              " 'म',\n",
              " 'य',\n",
              " 'र',\n",
              " 'ा',\n",
              " 'ि',\n",
              " 'ु',\n",
              " 'ॊ',\n",
              " '्',\n",
              " 'ḍ',\n",
              " 'ḥ',\n",
              " 'ṃ',\n",
              " 'ṅ',\n",
              " 'ṇ',\n",
              " 'ṛ',\n",
              " 'ṣ',\n",
              " 'ṭ',\n",
              " 'ả',\n",
              " 'ấ',\n",
              " 'ế',\n",
              " 'ễ',\n",
              " 'ἀ',\n",
              " 'ἵ',\n",
              " 'ὀ',\n",
              " '\\u200b',\n",
              " '\\u200c',\n",
              " '\\u200d',\n",
              " '–',\n",
              " '—',\n",
              " '‘',\n",
              " '’',\n",
              " '“',\n",
              " '”',\n",
              " '•',\n",
              " '…',\n",
              " '⁄',\n",
              " '€',\n",
              " '−',\n",
              " '❤',\n",
              " '\\u3000',\n",
              " '《',\n",
              " '》',\n",
              " 'の',\n",
              " 'イ',\n",
              " 'ス',\n",
              " 'セ',\n",
              " 'ゼ',\n",
              " 'ダ',\n",
              " 'ト',\n",
              " 'プ',\n",
              " 'ラ',\n",
              " 'リ',\n",
              " 'ル',\n",
              " 'ワ',\n",
              " 'ン',\n",
              " '不',\n",
              " '书',\n",
              " '伝',\n",
              " '俄',\n",
              " '候',\n",
              " '元',\n",
              " '克',\n",
              " '公',\n",
              " '刘',\n",
              " '剑',\n",
              " '力',\n",
              " '口',\n",
              " '后',\n",
              " '国',\n",
              " '國',\n",
              " '土',\n",
              " '地',\n",
              " '坤',\n",
              " '坪',\n",
              " '埠',\n",
              " '复',\n",
              " '大',\n",
              " '奉',\n",
              " '子',\n",
              " '学',\n",
              " '安',\n",
              " '宗',\n",
              " '对',\n",
              " '島',\n",
              " '川',\n",
              " '工',\n",
              " '布',\n",
              " '帥',\n",
              " '師',\n",
              " '庆',\n",
              " '库',\n",
              " '府',\n",
              " '庫',\n",
              " '建',\n",
              " '思',\n",
              " '总',\n",
              " '恢',\n",
              " '息',\n",
              " '愛',\n",
              " '拉',\n",
              " '拿',\n",
              " '援',\n",
              " '支',\n",
              " '方',\n",
              " '族',\n",
              " '曹',\n",
              " '朝',\n",
              " '朱',\n",
              " '林',\n",
              " '校',\n",
              " '案',\n",
              " '業',\n",
              " '樂',\n",
              " '民',\n",
              " '水',\n",
              " '汶',\n",
              " '沐',\n",
              " '法',\n",
              " '洞',\n",
              " '流',\n",
              " '淨',\n",
              " '済',\n",
              " '渣',\n",
              " '灾',\n",
              " '爱',\n",
              " '献',\n",
              " '獻',\n",
              " '王',\n",
              " '理',\n",
              " '的',\n",
              " '盛',\n",
              " '禅',\n",
              " '程',\n",
              " '約',\n",
              " '紐',\n",
              " '紫',\n",
              " '紹',\n",
              " '維',\n",
              " '緣',\n",
              " '縣',\n",
              " '绍',\n",
              " '维',\n",
              " '耿',\n",
              " '腐',\n",
              " '臨',\n",
              " '舍',\n",
              " '英',\n",
              " '華',\n",
              " '説',\n",
              " '让',\n",
              " '豆',\n",
              " '起',\n",
              " '軍',\n",
              " '重',\n",
              " '鋪',\n",
              " '铺',\n",
              " '長',\n",
              " '震',\n",
              " '顯',\n",
              " '騷',\n",
              " '鲁',\n",
              " '鲜',\n",
              " '선',\n",
              " '조',\n",
              " '족']"
            ]
          },
          "metadata": {},
          "execution_count": 9
        }
      ]
    },
    {
      "cell_type": "markdown",
      "metadata": {
        "id": "rNnrKn_lL-IJ"
      },
      "source": [
        "## Process the text"
      ]
    },
    {
      "cell_type": "code",
      "metadata": {
        "execution": {
          "iopub.execute_input": "2021-08-11T18:24:54.216550Z",
          "iopub.status.busy": "2021-08-11T18:24:54.215976Z",
          "iopub.status.idle": "2021-08-11T18:24:54.222826Z",
          "shell.execute_reply": "2021-08-11T18:24:54.223217Z"
        },
        "id": "6GMlCe3qzaL9",
        "colab": {
          "base_uri": "https://localhost:8080/"
        },
        "outputId": "1a66c0dc-2a5b-44f3-b9cd-29e1439b78a7"
      },
      "source": [
        "# Note that we are passing in the vocab from parsing the whole dataset in an \n",
        "# earlier cell. Examine the first argument closely:\n",
        "ids_from_chars = preprocessing.StringLookup(vocabulary=list(vocab), mask_token=None)\n",
        "\n",
        "# Shows the resulting class type and that we now have an instance\n",
        "type(ids_from_chars), isinstance(ids_from_chars, preprocessing.StringLookup)"
      ],
      "execution_count": 10,
      "outputs": [
        {
          "output_type": "execute_result",
          "data": {
            "text/plain": [
              "(keras.layers.preprocessing.string_lookup.StringLookup, True)"
            ]
          },
          "metadata": {},
          "execution_count": 10
        }
      ]
    },
    {
      "cell_type": "markdown",
      "metadata": {
        "id": "tZfqhkYCymwX"
      },
      "source": [
        "Create a reverse lookup using `preprocessing.StringLookup(..., invert=True)`. Note: Make sure to use the get_vocabulary() method of the preprocessing.StringLookup layer so that the [UNK] tokens (if any) are appropriately labeled."
      ]
    },
    {
      "cell_type": "code",
      "metadata": {
        "execution": {
          "iopub.execute_input": "2021-08-11T18:24:54.235659Z",
          "iopub.status.busy": "2021-08-11T18:24:54.235049Z",
          "iopub.status.idle": "2021-08-11T18:24:54.240952Z",
          "shell.execute_reply": "2021-08-11T18:24:54.241336Z"
        },
        "id": "Wd2m3mqkDjRj",
        "colab": {
          "base_uri": "https://localhost:8080/"
        },
        "outputId": "f687df96-e784-44c5-c864-aaa97e6a055e"
      },
      "source": [
        "# This creates an instance of the \"inverter\"\n",
        "chars_from_ids = tf.keras.layers.experimental.preprocessing.StringLookup(\n",
        "    vocabulary=ids_from_chars.get_vocabulary(), invert=True, mask_token=None)\n",
        "\n",
        "# Shows the resulting class type and that we now have an instance\n",
        "type(chars_from_ids), isinstance(chars_from_ids, preprocessing.StringLookup)"
      ],
      "execution_count": 11,
      "outputs": [
        {
          "output_type": "execute_result",
          "data": {
            "text/plain": [
              "(keras.layers.preprocessing.string_lookup.StringLookup, True)"
            ]
          },
          "metadata": {},
          "execution_count": 11
        }
      ]
    },
    {
      "cell_type": "code",
      "metadata": {
        "execution": {
          "iopub.execute_input": "2021-08-11T18:24:54.267710Z",
          "iopub.status.busy": "2021-08-11T18:24:54.267101Z",
          "iopub.status.idle": "2021-08-11T18:24:54.268757Z",
          "shell.execute_reply": "2021-08-11T18:24:54.269127Z"
        },
        "id": "w5apvBDn9Ind"
      },
      "source": [
        "# Create a function that will piece together text\n",
        "def text_from_ids(ids):\n",
        "  return tf.strings.reduce_join(chars_from_ids(ids), axis=-1)"
      ],
      "execution_count": 12,
      "outputs": []
    },
    {
      "cell_type": "markdown",
      "metadata": {
        "id": "bbmsf23Bymwe"
      },
      "source": [
        "### The prediction task"
      ]
    },
    {
      "cell_type": "markdown",
      "metadata": {
        "id": "wssHQ1oGymwe"
      },
      "source": [
        "Given a character, or a sequence of characters, what is the most probable next character? This is the task that our RNN models will perform. The input to the models will be sequences of characters from the text we ingested at the top of the notebook.\n"
      ]
    },
    {
      "cell_type": "markdown",
      "metadata": {
        "id": "hgsVvVxnymwf"
      },
      "source": [
        "### Create training examples and targets\n",
        "\n",
        "Next, we will divide the text into example sequences. Each input sequence will contain `seq_length` characters from the text. For each input sequence, the corresponding targets contain the same length of text, except shifted one character to the right.\n",
        "\n",
        "So break the text into chunks of `seq_length+1`. For example, say `seq_length` is 4 and our text is \"Hello\". The input sequence would be \"Hell\", and the target sequence \"ello\". This ensures that we have tons of training examples and that each training example captures context both around the input string and the output string. This is a somewhat different strategy than the word-based example we examined in class, but it uses the same principle: A input sequence is processed by the RNN to predict a target (in this case a target sequence, rather than just one word).\n",
        "\n",
        "To do this first use the `tf.data.Dataset.from_tensor_slices` function to convert the text vector into a stream of character indices."
      ]
    },
    {
      "cell_type": "code",
      "metadata": {
        "execution": {
          "iopub.execute_input": "2021-08-11T18:24:54.275470Z",
          "iopub.status.busy": "2021-08-11T18:24:54.274838Z",
          "iopub.status.idle": "2021-08-11T18:24:54.760641Z",
          "shell.execute_reply": "2021-08-11T18:24:54.761013Z"
        },
        "id": "UopbsKi88tm5",
        "colab": {
          "base_uri": "https://localhost:8080/"
        },
        "outputId": "8007753a-2a39-4661-85cc-fa08345e809f"
      },
      "source": [
        "# Here's where we process all of the characters from the data, which are stored in text.\n",
        "all_ids = ids_from_chars(tf.strings.unicode_split(text, 'UTF-8'))\n",
        "type(all_ids)"
      ],
      "execution_count": 13,
      "outputs": [
        {
          "output_type": "execute_result",
          "data": {
            "text/plain": [
              "tensorflow.python.framework.ops.EagerTensor"
            ]
          },
          "metadata": {},
          "execution_count": 13
        }
      ]
    },
    {
      "cell_type": "code",
      "metadata": {
        "id": "CnUCkvLa9zgN",
        "colab": {
          "base_uri": "https://localhost:8080/"
        },
        "outputId": "19e83647-1413-4acd-9bb0-7960d127ed12"
      },
      "source": [
        "all_ids.get_shape"
      ],
      "execution_count": 14,
      "outputs": [
        {
          "output_type": "execute_result",
          "data": {
            "text/plain": [
              "<bound method _EagerTensorBase.get_shape of <tf.Tensor: shape=(7312548,), dtype=int64, numpy=array([56, 70, 67, ..., 76, 65, 67])>>"
            ]
          },
          "metadata": {},
          "execution_count": 14
        }
      ]
    },
    {
      "cell_type": "code",
      "metadata": {
        "execution": {
          "iopub.execute_input": "2021-08-11T18:24:54.766177Z",
          "iopub.status.busy": "2021-08-11T18:24:54.765609Z",
          "iopub.status.idle": "2021-08-11T18:24:54.767493Z",
          "shell.execute_reply": "2021-08-11T18:24:54.767862Z"
        },
        "id": "qmxrYDCTy-eL",
        "colab": {
          "base_uri": "https://localhost:8080/"
        },
        "outputId": "944268aa-19df-4637-dd0b-c5879b21019e"
      },
      "source": [
        "# This creates a dataset whose elements are slices from the original tensor.\n",
        "# This would be a great moment to look at the TF documentation for the \n",
        "# from_tensor_slices() method.\n",
        "ids_dataset = tf.data.Dataset.from_tensor_slices(all_ids)\n",
        "type(ids_dataset)"
      ],
      "execution_count": 15,
      "outputs": [
        {
          "output_type": "execute_result",
          "data": {
            "text/plain": [
              "tensorflow.python.data.ops.from_tensor_slices_op.TensorSliceDataset"
            ]
          },
          "metadata": {},
          "execution_count": 15
        }
      ]
    },
    {
      "cell_type": "code",
      "metadata": {
        "execution": {
          "iopub.execute_input": "2021-08-11T18:24:54.793684Z",
          "iopub.status.busy": "2021-08-11T18:24:54.793095Z",
          "iopub.status.idle": "2021-08-11T18:24:54.795288Z",
          "shell.execute_reply": "2021-08-11T18:24:54.795652Z"
        },
        "id": "C-G2oaTxy6km"
      },
      "source": [
        "# While an RNN can theoretically handle a continuous stream of data\n",
        "# here we are considering the data in small groupings whose length\n",
        "# is controlled by seq_length. Leave it at its current value for now, but \n",
        "# in the future you might consider making it either shorter or longer in the\n",
        "# training run.\n",
        "seq_length = 160 # LSTMs and GRUs should be able to handle longer sequences\n",
        "examples_per_epoch = len(text)//(seq_length+1)"
      ],
      "execution_count": 16,
      "outputs": []
    },
    {
      "cell_type": "markdown",
      "metadata": {
        "id": "-ZSYAcQV8OGP"
      },
      "source": [
        "The `batch` method lets you easily convert these individual characters to sequences of the desired size."
      ]
    },
    {
      "cell_type": "code",
      "metadata": {
        "execution": {
          "iopub.execute_input": "2021-08-11T18:24:54.801632Z",
          "iopub.status.busy": "2021-08-11T18:24:54.801025Z",
          "iopub.status.idle": "2021-08-11T18:24:54.809747Z",
          "shell.execute_reply": "2021-08-11T18:24:54.810106Z"
        },
        "id": "BpdjRO2CzOfZ",
        "colab": {
          "base_uri": "https://localhost:8080/"
        },
        "outputId": "d23eda5a-c87b-47f7-f385-ab71e3c2b5c1"
      },
      "source": [
        "#\n",
        "# seq_length+1 accounts for the fact that we will be predicting a set of \n",
        "# characters from an original string that was right-shifted by one.\n",
        "#\n",
        "sequences = ids_dataset.batch(seq_length+1, drop_remainder=True)\n",
        "\n",
        "for seq in sequences.take(2):\n",
        "  print(chars_from_ids(seq))"
      ],
      "execution_count": 17,
      "outputs": [
        {
          "output_type": "stream",
          "name": "stdout",
          "text": [
            "tf.Tensor(\n",
            "[b'W' b'h' b'e' b'n' b' ' b'd' b'i' b'd' b' ' b'B' b'e' b'y' b'o' b'n'\n",
            " b'c' b'e' b' ' b's' b't' b'a' b'r' b't' b' ' b'b' b'e' b'c' b'o' b'm'\n",
            " b'i' b'n' b'g' b' ' b'p' b'o' b'p' b'u' b'l' b'a' b'r' b'?' b' ' b'i'\n",
            " b'n' b' ' b't' b'h' b'e' b' ' b'l' b'a' b't' b'e' b' ' b'1' b'9' b'9'\n",
            " b'0' b's' b':' b' ' b' ' b'B' b'e' b'y' b'o' b'n' b'c' b'\\xc3\\xa9' b' '\n",
            " b'G' b'i' b's' b'e' b'l' b'l' b'e' b' ' b'K' b'n' b'o' b'w' b'l' b'e'\n",
            " b's' b'-' b'C' b'a' b'r' b't' b'e' b'r' b' ' b'(' b'/' b'b' b'i'\n",
            " b'\\xcb\\x90' b'\\xcb\\x88' b'j' b'\\xc9\\x92' b'n' b's' b'e' b'\\xc9\\xaa' b'/'\n",
            " b' ' b'b' b'e' b'e' b'-' b'Y' b'O' b'N' b'-' b's' b'a' b'y' b')' b' '\n",
            " b'(' b'b' b'o' b'r' b'n' b' ' b'S' b'e' b'p' b't' b'e' b'm' b'b' b'e'\n",
            " b'r' b' ' b'4' b',' b' ' b'1' b'9' b'8' b'1' b')' b' ' b'i' b's' b' '\n",
            " b'a' b'n' b' ' b'A' b'm' b'e' b'r' b'i' b'c' b'a' b'n' b' ' b's' b'i'], shape=(161,), dtype=string)\n",
            "tf.Tensor(\n",
            "[b'n' b'g' b'e' b'r' b',' b' ' b's' b'o' b'n' b'g' b'w' b'r' b'i' b't'\n",
            " b'e' b'r' b',' b' ' b'r' b'e' b'c' b'o' b'r' b'd' b' ' b'p' b'r' b'o'\n",
            " b'd' b'u' b'c' b'e' b'r' b' ' b'a' b'n' b'd' b' ' b'a' b'c' b't' b'r'\n",
            " b'e' b's' b's' b'.' b' ' b'B' b'o' b'r' b'n' b' ' b'a' b'n' b'd' b' '\n",
            " b'r' b'a' b'i' b's' b'e' b'd' b' ' b'i' b'n' b' ' b'H' b'o' b'u' b's'\n",
            " b't' b'o' b'n' b',' b' ' b'T' b'e' b'x' b'a' b's' b',' b' ' b's' b'h'\n",
            " b'e' b' ' b'p' b'e' b'r' b'f' b'o' b'r' b'm' b'e' b'd' b' ' b'i' b'n'\n",
            " b' ' b'v' b'a' b'r' b'i' b'o' b'u' b's' b' ' b's' b'i' b'n' b'g' b'i'\n",
            " b'n' b'g' b' ' b'a' b'n' b'd' b' ' b'd' b'a' b'n' b'c' b'i' b'n' b'g'\n",
            " b' ' b'c' b'o' b'm' b'p' b'e' b't' b'i' b't' b'i' b'o' b'n' b's' b' '\n",
            " b'a' b's' b' ' b'a' b' ' b'c' b'h' b'i' b'l' b'd' b',' b' ' b'a' b'n'\n",
            " b'd' b' ' b'r' b'o' b's' b'e' b' '], shape=(161,), dtype=string)\n"
          ]
        }
      ]
    },
    {
      "cell_type": "markdown",
      "metadata": {
        "id": "5PHW902-4oZt"
      },
      "source": [
        "It's easier to see what this is doing if you join the tokens back into strings:"
      ]
    },
    {
      "cell_type": "code",
      "metadata": {
        "execution": {
          "iopub.execute_input": "2021-08-11T18:24:54.814385Z",
          "iopub.status.busy": "2021-08-11T18:24:54.813718Z",
          "iopub.status.idle": "2021-08-11T18:24:54.824355Z",
          "shell.execute_reply": "2021-08-11T18:24:54.824698Z"
        },
        "id": "QO32cMWu4a06",
        "colab": {
          "base_uri": "https://localhost:8080/"
        },
        "outputId": "4387095e-d35b-48f5-e14d-379feeb38ed2"
      },
      "source": [
        "for seq in sequences.take(2):\n",
        "  print(text_from_ids(seq).numpy())"
      ],
      "execution_count": 18,
      "outputs": [
        {
          "output_type": "stream",
          "name": "stdout",
          "text": [
            "b'When did Beyonce start becoming popular? in the late 1990s:  Beyonc\\xc3\\xa9 Giselle Knowles-Carter (/bi\\xcb\\x90\\xcb\\x88j\\xc9\\x92nse\\xc9\\xaa/ bee-YON-say) (born September 4, 1981) is an American si'\n",
            "b'nger, songwriter, record producer and actress. Born and raised in Houston, Texas, she performed in various singing and dancing competitions as a child, and rose '\n"
          ]
        }
      ]
    },
    {
      "cell_type": "markdown",
      "metadata": {
        "id": "UbLcIPBj_mWZ"
      },
      "source": [
        "For training you'll need a dataset of `(input, label)` pairs, where both `input` and `label` are sequences. At each time step the input is the current character and the label is the next character. Here's a function that takes a sequence as input, duplicates it, and shifts it to align the input and label for each timestep:"
      ]
    },
    {
      "cell_type": "code",
      "metadata": {
        "execution": {
          "iopub.execute_input": "2021-08-11T18:24:54.829238Z",
          "iopub.status.busy": "2021-08-11T18:24:54.828497Z",
          "iopub.status.idle": "2021-08-11T18:24:54.830467Z",
          "shell.execute_reply": "2021-08-11T18:24:54.830891Z"
        },
        "id": "9NGu-FkO_kYU"
      },
      "source": [
        "def split_input_target(sequence):\n",
        "    input_text = sequence[:-1]\n",
        "    target_text = sequence[1:]\n",
        "    return input_text, target_text"
      ],
      "execution_count": 19,
      "outputs": []
    },
    {
      "cell_type": "code",
      "metadata": {
        "execution": {
          "iopub.execute_input": "2021-08-11T18:24:54.864027Z",
          "iopub.status.busy": "2021-08-11T18:24:54.841876Z",
          "iopub.status.idle": "2021-08-11T18:24:54.884561Z",
          "shell.execute_reply": "2021-08-11T18:24:54.884061Z"
        },
        "id": "B9iKPXkw5xwa",
        "colab": {
          "base_uri": "https://localhost:8080/"
        },
        "outputId": "a6aac068-13b9-4ac0-c623-6f1ee3370a12"
      },
      "source": [
        "# This is a curious construction - i.e., passing a function into the\n",
        "# sequences.map() bound method:\n",
        "dataset = sequences.map(split_input_target)\n",
        "\n",
        "dataset.take(1)"
      ],
      "execution_count": 20,
      "outputs": [
        {
          "output_type": "execute_result",
          "data": {
            "text/plain": [
              "<TakeDataset element_spec=(TensorSpec(shape=(160,), dtype=tf.int64, name=None), TensorSpec(shape=(160,), dtype=tf.int64, name=None))>"
            ]
          },
          "metadata": {},
          "execution_count": 20
        }
      ]
    },
    {
      "cell_type": "code",
      "metadata": {
        "execution": {
          "iopub.execute_input": "2021-08-11T18:24:54.889080Z",
          "iopub.status.busy": "2021-08-11T18:24:54.888454Z",
          "iopub.status.idle": "2021-08-11T18:24:54.907170Z",
          "shell.execute_reply": "2021-08-11T18:24:54.907541Z"
        },
        "id": "GNbw-iR0ymwj",
        "colab": {
          "base_uri": "https://localhost:8080/"
        },
        "outputId": "8afd23fd-86fe-43da-f5f3-29c7319f15f7"
      },
      "source": [
        "for input_example, target_example in dataset.take(1):\n",
        "    print(\"Input :\", text_from_ids(input_example).numpy())\n",
        "    print(\"Target:\", text_from_ids(target_example).numpy())"
      ],
      "execution_count": 21,
      "outputs": [
        {
          "output_type": "stream",
          "name": "stdout",
          "text": [
            "Input : b'When did Beyonce start becoming popular? in the late 1990s:  Beyonc\\xc3\\xa9 Giselle Knowles-Carter (/bi\\xcb\\x90\\xcb\\x88j\\xc9\\x92nse\\xc9\\xaa/ bee-YON-say) (born September 4, 1981) is an American s'\n",
            "Target: b'hen did Beyonce start becoming popular? in the late 1990s:  Beyonc\\xc3\\xa9 Giselle Knowles-Carter (/bi\\xcb\\x90\\xcb\\x88j\\xc9\\x92nse\\xc9\\xaa/ bee-YON-say) (born September 4, 1981) is an American si'\n"
          ]
        }
      ]
    },
    {
      "cell_type": "markdown",
      "metadata": {
        "id": "MJdfPmdqzf-R"
      },
      "source": [
        "### Create training batches\n",
        "\n",
        "We have used `tf.data` to split the text into manageable sequences. Before using these data to train the model, we need to shuffle the data and pack it into batches. Remember from class that batching, AKA mini-batching, is a method of processing a group of input-output pairs together in the same epoch. Mini-batching facilitates parallelization and can prevent overfitting. Mini-batching also reduces the total number of weight updates that need to occur during a given epoch."
      ]
    },
    {
      "cell_type": "code",
      "metadata": {
        "execution": {
          "iopub.execute_input": "2021-08-11T18:24:54.912261Z",
          "iopub.status.busy": "2021-08-11T18:24:54.911677Z",
          "iopub.status.idle": "2021-08-11T18:24:54.916643Z",
          "shell.execute_reply": "2021-08-11T18:24:54.916978Z"
        },
        "id": "p2pGotuNzf-S",
        "colab": {
          "base_uri": "https://localhost:8080/"
        },
        "outputId": "fb6077f1-2178-459c-91f9-3643fcc09562"
      },
      "source": [
        "# Batch size\n",
        "BATCH_SIZE = 64\n",
        "\n",
        "# Buffer size to shuffle the dataset:\n",
        "# TF data is designed to work with possibly infinite sequences,\n",
        "# so it doesn't attempt to shuffle the entire sequence in memory. Instead,\n",
        "# it maintains a buffer in which it shuffles elements.\n",
        "BUFFER_SIZE = 10000\n",
        "\n",
        "dataset = (\n",
        "    dataset\n",
        "    .shuffle(BUFFER_SIZE)\n",
        "    .batch(BATCH_SIZE, drop_remainder=True)\n",
        "    .prefetch(tf.data.experimental.AUTOTUNE))\n",
        "\n",
        "dataset"
      ],
      "execution_count": 22,
      "outputs": [
        {
          "output_type": "execute_result",
          "data": {
            "text/plain": [
              "<PrefetchDataset element_spec=(TensorSpec(shape=(64, 160), dtype=tf.int64, name=None), TensorSpec(shape=(64, 160), dtype=tf.int64, name=None))>"
            ]
          },
          "metadata": {},
          "execution_count": 22
        }
      ]
    },
    {
      "cell_type": "markdown",
      "metadata": {
        "id": "r6oUuElIMgVx"
      },
      "source": [
        "## Build The Models"
      ]
    },
    {
      "cell_type": "markdown",
      "metadata": {
        "id": "m8gPwEjRzf-Z"
      },
      "source": [
        "This section defines the model as a `keras.Model` subclass (For details see [Making new Layers and Models via subclassing](https://www.tensorflow.org/guide/keras/custom_layers_and_models)). \n",
        "\n",
        "This model has three layers:\n",
        "\n",
        "* `tf.keras.layers.Embedding`: The input layer. A trainable lookup table that will map each character-ID to a vector with `embedding_dim` dimensions;\n",
        "* `tf.keras.layers.SimpleRNN`: A type of RNN with size `units=rnn_units` (You could also use a GRU or LSTM layer here.)\n",
        "* `tf.keras.layers.Dense`: The output layer, with `vocab_size` outputs. It outputs one logit for each character in the vocabulary. These are the log-likelihood of each character according to the model."
      ]
    },
    {
      "cell_type": "code",
      "metadata": {
        "execution": {
          "iopub.execute_input": "2021-08-11T18:24:54.921163Z",
          "iopub.status.busy": "2021-08-11T18:24:54.920603Z",
          "iopub.status.idle": "2021-08-11T18:24:54.922081Z",
          "shell.execute_reply": "2021-08-11T18:24:54.922401Z"
        },
        "id": "zHT8cLh7EAsg",
        "colab": {
          "base_uri": "https://localhost:8080/"
        },
        "outputId": "8817e947-996b-436b-915d-5a1250863421"
      },
      "source": [
        "# Length of the vocabulary in chars\n",
        "vocab_size = len(vocab)\n",
        "\n",
        "# The embedding dimension\n",
        "embedding_dim = 128 # This can probably go lower\n",
        "\n",
        "# Number of RNN units\n",
        "rnn_units = 256 # This is tunable. Remember that each RNN unit has a little\n",
        "# bit of memory for what came before. Here 1024 provides four nodes for every\n",
        "# node in the embedding layer. Later, you might want to experiment with half\n",
        "# as many and twice as many.\n",
        "\n",
        "vocab_size, embedding_dim, rnn_units"
      ],
      "execution_count": 23,
      "outputs": [
        {
          "output_type": "execute_result",
          "data": {
            "text/plain": [
              "(381, 128, 256)"
            ]
          },
          "metadata": {},
          "execution_count": 23
        }
      ]
    },
    {
      "cell_type": "code",
      "metadata": {
        "id": "Q--wMnxH8s4w"
      },
      "source": [
        "# This builds a custom class for instantiating the Keras model\n",
        "# For Vanilla and GRU\n",
        "#\n",
        "class MyModel(tf.keras.Model):\n",
        "  def __init__(self, vocab_size, embedding_dim, rnn_units, rnn_type=\"vanilla\"):\n",
        "    super().__init__(self)\n",
        "\n",
        "    # What's this layer?\n",
        "    self.embedding = tf.keras.layers.Embedding(vocab_size, embedding_dim)\n",
        "    \n",
        "    # What's this layer?\n",
        "    if rnn_type==\"vanilla\":\n",
        "      self.rnn = tf.keras.layers.SimpleRNN(rnn_units, return_sequences=True, return_state=True)\n",
        "    elif rnn_type==\"gru\":\n",
        "      self.rnn = tf.keras.layers.GRU(rnn_units, return_sequences=True, return_state=True)\n",
        "    else:\n",
        "      print(\"Error: Please specify RNN model type.\")\n",
        "      return(None)\n",
        "\n",
        "    # What's this layer?\n",
        "    self.dense = tf.keras.layers.Dense(vocab_size)\n",
        "\n",
        "  def call(self, inputs, states=None, return_state=False, training=False):\n",
        "    x = inputs\n",
        "    x = self.embedding(x, training=training)\n",
        "\n",
        "    if states is None:\n",
        "      states = self.rnn.get_initial_state(x)\n",
        "\n",
        "    x, states = self.rnn(x, initial_state=states, training=training)\n",
        "    x = self.dense(x, training=training)\n",
        "\n",
        "    if return_state:\n",
        "      return x, states\n",
        "    else:\n",
        "      return x"
      ],
      "execution_count": 24,
      "outputs": []
    },
    {
      "cell_type": "code",
      "source": [
        "# For LSTM: Because it returns two internal states, we need a different call\n",
        "class MyLSTM(tf.keras.Model):\n",
        "  def __init__(self, vocab_size, embedding_dim, rnn_units):\n",
        "    super().__init__(self)\n",
        "\n",
        "    # What's this layer?\n",
        "    self.embedding = tf.keras.layers.Embedding(vocab_size, embedding_dim)\n",
        "    \n",
        "    # What's this layer?\n",
        "    self.rnn = tf.keras.layers.LSTM(rnn_units, return_sequences=True, return_state=True)\n",
        "\n",
        "    # What's this layer?\n",
        "    self.dense = tf.keras.layers.Dense(vocab_size)\n",
        "\n",
        "  def call(self, inputs, states=None, return_state=False, training=False):\n",
        "    x = inputs\n",
        "    x = self.embedding(x, training=training)\n",
        "\n",
        "    if states is None:\n",
        "      states = self.rnn.get_initial_state(x)\n",
        "\n",
        "    x, states1, states2 = self.rnn(x, initial_state=states, training=training)\n",
        "    x = self.dense(x, training=training)\n",
        "\n",
        "    if return_state:\n",
        "      return x, states1, states2\n",
        "    else:\n",
        "      return x"
      ],
      "metadata": {
        "id": "MD6rWmrcxZEM"
      },
      "execution_count": 25,
      "outputs": []
    },
    {
      "cell_type": "markdown",
      "metadata": {
        "id": "gz4r3FUMBY9W"
      },
      "source": [
        "We could have used a `keras.Sequential` model here, as these architectures are quite simple. However, to  generate text later we will need to manage the RNN's internal state. The vanilla and GRU have just a single state, whereas the LSTM has two states (h and c) that need to be maintained. It's simpler to include the state input and output options upfront, than it is to rearrange the model architecture later. For more details see the [Keras RNN guide](https://www.tensorflow.org/guide/keras/rnn#rnn_state_reuse)."
      ]
    },
    {
      "cell_type": "code",
      "metadata": {
        "execution": {
          "iopub.execute_input": "2021-08-11T18:24:54.933900Z",
          "iopub.status.busy": "2021-08-11T18:24:54.933342Z",
          "iopub.status.idle": "2021-08-11T18:24:54.945286Z",
          "shell.execute_reply": "2021-08-11T18:24:54.945609Z"
        },
        "id": "IX58Xj9z47Aw"
      },
      "source": [
        "# Now instantiate the classes defined above.\n",
        "\n",
        "vanilla_model = MyModel(\n",
        "    # Be sure the vocabulary size matches the `StringLookup` layers.\n",
        "    vocab_size=len(ids_from_chars.get_vocabulary()),\n",
        "    embedding_dim=embedding_dim,\n",
        "    rnn_units=rnn_units,\n",
        "    rnn_type=\"vanilla\")\n",
        "\n",
        "gru_model = MyModel(\n",
        "    # Be sure the vocabulary size matches the `StringLookup` layers.\n",
        "    vocab_size=len(ids_from_chars.get_vocabulary()),\n",
        "    embedding_dim=embedding_dim,\n",
        "    rnn_units=rnn_units,\n",
        "    rnn_type=\"gru\")\n",
        "\n",
        "lstm_model = MyLSTM(\n",
        "    # Be sure the vocabulary size matches the `StringLookup` layers.\n",
        "    vocab_size=len(ids_from_chars.get_vocabulary()),\n",
        "    embedding_dim=embedding_dim,\n",
        "    rnn_units=rnn_units)\n",
        "\n"
      ],
      "execution_count": 26,
      "outputs": []
    },
    {
      "cell_type": "code",
      "source": [
        "# Send one batch through each model\n",
        "\n",
        "for input_example_batch, target_example_batch in dataset.take(1):\n",
        "    example_batch_predictions1 = vanilla_model(input_example_batch)\n",
        "    print(example_batch_predictions1.shape, \"# (batch_size, sequence_length, vocab_size)\")\n",
        "\n",
        "for input_example_batch, target_example_batch in dataset.take(1):\n",
        "    example_batch_predictions2 = gru_model(input_example_batch)\n",
        "    print(example_batch_predictions2.shape, \"# (batch_size, sequence_length, vocab_size)\")\n",
        "\n",
        "for input_example_batch, target_example_batch in dataset.take(1):\n",
        "    example_batch_predictions3 = lstm_model(input_example_batch)\n",
        "    print(example_batch_predictions3.shape, \"# (batch_size, sequence_length, vocab_size)\")\n",
        "\n"
      ],
      "metadata": {
        "id": "P0dnxfDgZrGO",
        "colab": {
          "base_uri": "https://localhost:8080/"
        },
        "outputId": "c9b951d2-884b-48af-995e-8d083d07e283"
      },
      "execution_count": 27,
      "outputs": [
        {
          "output_type": "stream",
          "name": "stdout",
          "text": [
            "(64, 160, 382) # (batch_size, sequence_length, vocab_size)\n",
            "(64, 160, 382) # (batch_size, sequence_length, vocab_size)\n",
            "(64, 160, 382) # (batch_size, sequence_length, vocab_size)\n"
          ]
        }
      ]
    },
    {
      "cell_type": "code",
      "source": [
        "#\n",
        "# Exercise 10.2 - Show model summaries for each of the models. Make note of the \n",
        "# number of trainable parameters. Comment on the number of extra parameters\n",
        "# needed for GRU and LSTM respectively.\n",
        "#\n",
        "vanilla_model.summary()\n",
        "#Vanilla RNN-Total params: 245,630 - Vanilla model has 1 gate, less time to train\n",
        "#GRU-Total params: 443,518 - GRU has 3 gates, more time to train\n",
        "#LSTM-Total params: 541,310 - LSTM has 4 gates, has about 100,000 more trainable parameters, highest time to train\n"
      ],
      "metadata": {
        "id": "G6eg-oDryZ13",
        "colab": {
          "base_uri": "https://localhost:8080/"
        },
        "outputId": "84705377-cad2-4153-ced7-477bcbd8bfe8"
      },
      "execution_count": 28,
      "outputs": [
        {
          "output_type": "stream",
          "name": "stdout",
          "text": [
            "Model: \"my_model\"\n",
            "_________________________________________________________________\n",
            " Layer (type)                Output Shape              Param #   \n",
            "=================================================================\n",
            " embedding (Embedding)       multiple                  48896     \n",
            "                                                                 \n",
            " simple_rnn (SimpleRNN)      multiple                  98560     \n",
            "                                                                 \n",
            " dense (Dense)               multiple                  98174     \n",
            "                                                                 \n",
            "=================================================================\n",
            "Total params: 245,630\n",
            "Trainable params: 245,630\n",
            "Non-trainable params: 0\n",
            "_________________________________________________________________\n"
          ]
        }
      ]
    },
    {
      "cell_type": "code",
      "source": [
        "gru_model.summary()"
      ],
      "metadata": {
        "colab": {
          "base_uri": "https://localhost:8080/"
        },
        "id": "gMI6NXdlwkMo",
        "outputId": "4680ecc8-71a0-499f-9e30-39d3bc2743d2"
      },
      "execution_count": 29,
      "outputs": [
        {
          "output_type": "stream",
          "name": "stdout",
          "text": [
            "Model: \"my_model_1\"\n",
            "_________________________________________________________________\n",
            " Layer (type)                Output Shape              Param #   \n",
            "=================================================================\n",
            " embedding_1 (Embedding)     multiple                  48896     \n",
            "                                                                 \n",
            " gru (GRU)                   multiple                  296448    \n",
            "                                                                 \n",
            " dense_1 (Dense)             multiple                  98174     \n",
            "                                                                 \n",
            "=================================================================\n",
            "Total params: 443,518\n",
            "Trainable params: 443,518\n",
            "Non-trainable params: 0\n",
            "_________________________________________________________________\n"
          ]
        }
      ]
    },
    {
      "cell_type": "code",
      "source": [
        "lstm_model.summary()"
      ],
      "metadata": {
        "colab": {
          "base_uri": "https://localhost:8080/"
        },
        "id": "TCn259JFwpBF",
        "outputId": "78c3e266-62eb-403c-fb0a-e3db8dc6d570"
      },
      "execution_count": 30,
      "outputs": [
        {
          "output_type": "stream",
          "name": "stdout",
          "text": [
            "Model: \"my_lstm\"\n",
            "_________________________________________________________________\n",
            " Layer (type)                Output Shape              Param #   \n",
            "=================================================================\n",
            " embedding_2 (Embedding)     multiple                  48896     \n",
            "                                                                 \n",
            " lstm (LSTM)                 multiple                  394240    \n",
            "                                                                 \n",
            " dense_2 (Dense)             multiple                  98174     \n",
            "                                                                 \n",
            "=================================================================\n",
            "Total params: 541,310\n",
            "Trainable params: 541,310\n",
            "Non-trainable params: 0\n",
            "_________________________________________________________________\n"
          ]
        }
      ]
    },
    {
      "cell_type": "markdown",
      "source": [
        "Vanilla RNN-Total params: 245,630 - Vanilla model has 1 gate, less time to train<br>\n",
        "GRU-Total params: 443,518 - GRU has 3 gates, more time to train<br>\n",
        "LSTM-Total params: 541,310 - LSTM has 4 gates, has about 100,000 more trainable parameters, highest time to train<br>\n",
        "LSTM has more complexity and can be more expensive to produce its outputs<br>"
      ],
      "metadata": {
        "id": "vMNst0-84YwY"
      }
    },
    {
      "cell_type": "markdown",
      "source": [
        "#Checkpoint! - Write your name and the model size on the board\n",
        "\n",
        "Take note of which of the three models has the greatest number of trainable parameters. Write your name on the board and next to it write the number of trainable parameters for the largest model."
      ],
      "metadata": {
        "id": "v78p5aO5q2BA"
      }
    },
    {
      "cell_type": "markdown",
      "metadata": {
        "id": "uwv0gEkURfx1"
      },
      "source": [
        "##Getting predictions from the models\n",
        "\n",
        "To get actual predictions from the model we should sample from the output nodes. The distribution of output node values for any given input is defined by the logits over the character vocabulary. The TF documentation says that it is important to _sample_ from this distribution as taking the _argmax_ of the distribution because that can easily get the model stuck in a loop. \n",
        "\n",
        "Taking the argmax means that the text generator will make the exact same prediction every time when provided with a particular input. As a result, we could present \"to be\" as the input and get \"to be or not to be or not to be or not to be. . .\" as the output. By sampling from the output instead, we can get a variety of somewhat random (yet high probability) responses each time we present the input, so \"to be\" could generate the response, \"to be or not to be, that is the snorgle.\"\n",
        "\n",
        "Try it for the first example in the batch:"
      ]
    },
    {
      "cell_type": "code",
      "metadata": {
        "execution": {
          "iopub.execute_input": "2021-08-11T18:24:57.959137Z",
          "iopub.status.busy": "2021-08-11T18:24:57.958400Z",
          "iopub.status.idle": "2021-08-11T18:24:57.961128Z",
          "shell.execute_reply": "2021-08-11T18:24:57.961509Z"
        },
        "id": "4V4MfFg0RQJg",
        "colab": {
          "base_uri": "https://localhost:8080/"
        },
        "outputId": "7cff7847-f889-4440-be24-9b96ff5b8bd5"
      },
      "source": [
        "sampled_indices = tf.random.categorical(example_batch_predictions1[0], num_samples=1)\n",
        "sampled_indices = tf.squeeze(sampled_indices, axis=-1).numpy()\n",
        "print(\"Input:\\n\", text_from_ids(input_example_batch[0]).numpy())\n",
        "print()\n",
        "print(\"Next Char Predictions:\\n\", text_from_ids(sampled_indices).numpy())"
      ],
      "execution_count": 31,
      "outputs": [
        {
          "output_type": "stream",
          "name": "stdout",
          "text": [
            "Input:\n",
            " b'lled her \"third child\". In letters to third parties, she vented her impatience, referring to him as a \"child,\" a \"little angel\", a \"sufferer\" and a \"beloved lit'\n",
            "\n",
            "Next Char Predictions:\n",
            " b'\\xe3\\x82\\xbc\\xe7\\xb4\\xb9t\\xe2\\x81\\x84\\xc3\\x96\\xe6\\x97\\x8fo\\xcf\\x85\\xe0\\xa4\\xbe\\xc2\\xb1\\xe7\\xb7\\xa3\\xd8\\xaf:\\xe0\\xa4\\xb0\\n\\xcf\\x87\\xcc\\xafA\\xca\\x8a8\\xe8\\xb5\\xb7\\xe0\\xa4\\x95\\xce\\xbd!E\\xe5\\xb8\\xab\\xe5\\x9c\\x8b\\xc3\\xba\\xe1\\xba\\xbf\\xe6\\xb4\\x9e\\xe0\\xa4\\xac\\xce\\xad\\xe5\\x8f\\xa3V\\xe5\\xba\\xab\\xc3\\xa7\\xe7\\xa6\\x85\\xc3\\xba\\xc3\\xb3\\xc3\\xab\\xce\\xac\\xe5\\xaf\\xb9\\xe3\\x83\\x88\\xce\\xba\\xe6\\x9c\\xb1WRN\\xe5\\xaf\\xb9\\xc5\\x9b:x3\\xe7\\xbb\\x8d\\xcc\\xa9#\\xc3\\x85\\xe9\\x8b\\xaa\\xe5\\xae\\x89\\xc3\\x85\\xce\\xbc\\xce\\xb2\\xca\\x81\\xc4\\xad\\xe9\\xb2\\x81\\xe2\\x82\\xac\\xe7\\x90\\x86\\xe5\\x80\\x99\\xe8\\xaa\\xac-\\xe2\\x80\\x8d0\\xe5\\x89\\x91Ne\\xc9\\xaac\\xe3\\x80\\x80\\xe5\\xba\\xabXYK$\\xce\\xbd\\xce\\x95\\xc4\\xab\\xe0\\xa4\\xa7D\\xe7\\xbb\\xb4\\xe3\\x83\\xb3\\xe6\\x9c\\x9d7 \\xe0\\xa4\\xbeO\\xc3\\xa1E\\xc9\\x90\\xe8\\xbb\\x8d\\xe6\\x80\\x9d\\xc9\\x94\\xcf\\x85\\xe6\\x81\\xaf\\xc5\\x99\\xe6\\xb3\\x95\\xe2\\x9d\\xa4M\\xc2\\xa3\\xe6\\xb0\\x91\\xe0\\xa4\\xae\\xc3\\xa1=/+\\xe1\\xb8\\x8d\\xcf\\x85\\xe7\\x9b\\x9b~\\xe8\\xbb\\x8d\\xc4\\x80\\xec\\x84\\xa0\\xca\\x8f\\xc5\\xbb\\xe7\\xbb\\xb4\\xe1\\xb9\\xad\\xca\\x8c\\xe6\\xa1\\x88\\xe0\\xa4\\xa7\\xc5\\xa9&\\xe5\\x89\\x91\\xce\\xa6\\xe6\\xb5\\x81\\xe0\\xa4\\x95\\xce\\xa4\\xe5\\x9d\\xa4\\xc3\\xb1\\xce\\x91\\xc5\\x8d\\xe7\\xa6\\x85\\xe6\\xb3\\x95\\xe1\\xb9\\xad\\xcf\\x8dD\\xe3\\x83\\xab\\xe6\\x96\\xb9\\xe6\\xb2\\x90\\xe5\\xa4\\xa7\\xc9\\xb9\\xe6\\xa0\\xa1\\xc2\\xb1QI\\xc3\\xb2\\xe8\\xb1\\x86\\xe2\\x82\\xacSM\\xe5\\x89\\x91\\xc3\\xad'\n"
          ]
        }
      ]
    },
    {
      "cell_type": "markdown",
      "metadata": {
        "id": "qD17Y8LP9QkS"
      },
      "source": [
        "Naturally, the predicted text is nonsense because the untrained model essentially makes random predictions."
      ]
    },
    {
      "cell_type": "code",
      "source": [
        "#\n",
        "# Exercise 10.3 - Produce next character predictions for the GRU and LSTM models. \n",
        "# All you need to change is the reference to example_batch_predictions1.\n",
        "#\n",
        "sampled_indices = tf.random.categorical(example_batch_predictions2[0], num_samples=1)\n",
        "sampled_indices = tf.squeeze(sampled_indices, axis=-1).numpy()\n",
        "print(\"Input:\\n\", text_from_ids(input_example_batch[0]).numpy())\n",
        "print()\n",
        "print(\"Next Char Predictions:\\n\", text_from_ids(sampled_indices).numpy())"
      ],
      "metadata": {
        "id": "4Z5MURGQzKRc",
        "colab": {
          "base_uri": "https://localhost:8080/"
        },
        "outputId": "828c5399-c562-4897-fe88-6850c77341c3"
      },
      "execution_count": 35,
      "outputs": [
        {
          "output_type": "stream",
          "name": "stdout",
          "text": [
            "Input:\n",
            " b'lled her \"third child\". In letters to third parties, she vented her impatience, referring to him as a \"child,\" a \"little angel\", a \"sufferer\" and a \"beloved lit'\n",
            "\n",
            "Next Char Predictions:\n",
            " b'\\xe4\\xb8\\x8dH\\xc2\\xb1\\xcf\\x89\\xce\\xa4\\xc3\\xab\\xce\\xb3\\xe7\\xb4\\xabN+b\\xe6\\xa0\\xa1s4\\xe5\\xb7\\x9dnX\\xe3\\x83\\xab\\xc9\\xa1\\xe3\\x83\\x88\\xe4\\xbc\\x9d\\xe5\\xb7\\x9d]\\xe6\\xa5\\xad\\xcf\\x89\\xc5\\x9a\\xc9\\x99\\xce\\xa66\\xcf\\x84\\xc3\\xa9\\xe3\\x82\\xb9\\xe3\\x82\\xbb\\xcf\\x84\\xc3\\xb3\\xe2\\x81\\x84\\xc2\\xa2\\xe6\\x97\\x8f\\xe5\\xb8\\xab\\xe5\\xb7\\x9d\\xe8\\xaa\\xac\\xc3\\xad\\xe5\\xa4\\xa7\\xe3\\x83\\x88\\xe6\\x81\\xaf\\xd8\\xa7\\xd8\\xa8\\xe6\\x80\\x9d\\xc5\\xb5\\xc4\\xab\\xe8\\xaa\\xac\\xc9\\xaa\\xe0\\xa5\\x8a\\xe7\\xb6\\xad\\xe8\\xb1\\x86\\xe6\\x8b\\x89\\xcf\\x80N\\xe7\\x8c\\xae\\xe3\\x83\\xa9\\xc3\\x96\\xce\\xafy\\xe7\\x90\\x86\\xe2\\x80\\x9cQw\\xe6\\xb7\\xa8\\xe2\\x80\\x93\\xe7\\x90\\x86\\xc3\\xb6\\xe2\\x80\\x8b\\xc3\\xba\\xe0\\xa4\\xaf\\xc4\\x90\\xe0\\xa4\\xbf\\xe0\\xa4\\xac\\xe6\\x96\\xb9\\xcf\\x81g\\xe1\\xbd\\x80\\xe8\\xbb\\x8dW\\xc4\\xab\\xe0\\xa4\\xb0J\\xe6\\xa1\\x88\\xc9\\x94\\xce\\xb3\\xe6\\x9c\\x9d\\xc3\\xac)\\xe0\\xa5\\x8a:\\xe4\\xb8\\x8d\\xe9\\xa8\\xb7\\xc3\\x9c[\\xe6\\xb5\\x81Y\\xe1\\xb8\\xa5S\\xce\\xafy>\\xe0\\xa4\\xbf\\xe7\\xb6\\xad\\xe3\\x83\\xab\\xe5\\xb8\\xabj\\xe1\\xb8\\xa5\\xe5\\xa4\\xa72[UNK]\\xe9\\xa1\\xaf\\xc3\\xa78\\xe0\\xa4\\x96\\xe5\\x88\\x98\\xe8\\xaa\\xacR\\xe3\\x81\\xae\\xe5\\x8f\\xa3\\xe8\\x80\\xbf9=\\xe1\\xb9\\x9b\\xce\\xa4\\xe5\\x9c\\x8b\\xe6\\x8b\\x897(\\xe8\\x85\\x90\\xe3\\x83\\xb39\\xe9\\x8b\\xaa\\xe5\\xb8\\x83\\xe1\\xb9\\x9b\\xc3\\xb6\\xe3\\x81\\xaeA\\xe2\\x80\\x8b\\xd8\\xa7\\xe0\\xa4\\xa8\\xe1\\xb8\\x8d\\xc4\\x87\\xe3\\x83\\xa9\\xce\\xbc\\xe3\\x82\\xbb\\xec\\xa1\\xb0!\\xe1\\xb9\\xa3o\\xe3\\x81\\xaeV\\xc2\\xa7\\xe0\\xa4\\x83\\xe1\\xb9\\x85\\xe5\\xba\\x9c\\xce\\xac'\n"
          ]
        }
      ]
    },
    {
      "cell_type": "code",
      "source": [
        "sampled_indices = tf.random.categorical(example_batch_predictions3[0], num_samples=1)\n",
        "sampled_indices = tf.squeeze(sampled_indices, axis=-1).numpy()\n",
        "print(\"Input:\\n\", text_from_ids(input_example_batch[0]).numpy())\n",
        "print()\n",
        "print(\"Next Char Predictions:\\n\", text_from_ids(sampled_indices).numpy())"
      ],
      "metadata": {
        "colab": {
          "base_uri": "https://localhost:8080/"
        },
        "id": "WUCfiyJ22wpM",
        "outputId": "d3788222-c0d0-477c-8d62-697dea4f6b06"
      },
      "execution_count": 36,
      "outputs": [
        {
          "output_type": "stream",
          "name": "stdout",
          "text": [
            "Input:\n",
            " b'lled her \"third child\". In letters to third parties, she vented her impatience, referring to him as a \"child,\" a \"little angel\", a \"sufferer\" and a \"beloved lit'\n",
            "\n",
            "Next Char Predictions:\n",
            " b\"\\xe9\\x95\\xb7\\xe3\\x82\\xbb\\xc2\\xa7\\xe1\\xbc\\x80\\xe6\\xb1\\xb6\\xe6\\x81\\xaf\\xe5\\xa4\\x8d\\xe3\\x82\\xbc<\\xc4\\xb0\\xe3\\x80\\x8b\\xc2\\xb2\\xe9\\x93\\xba7[UNK]\\xc2\\xa5\\xe6\\xa1\\x88\\xc3\\xab\\xd8\\xa7\\xcb\\x88a\\xce\\xbe\\xe1\\xbc\\xb5\\xca\\x8a\\xc9\\x9c\\xe2\\x80\\xa6\\xe9\\xa8\\xb7\\xc3\\xa7\\xcf\\x8c\\xe1\\xb8\\xa5\\xe0\\xa4\\xae\\xe2\\x80\\xa6\\xc5\\xab\\xe6\\x9e\\x97\\xe2\\x80\\x9c\\xc3\\xbc\\xe4\\xbc\\x9d\\xe1\\xba\\xbf\\xce\\xac\\xe8\\x80\\xbf\\xc3\\xa7\\xe6\\x9e\\x97\\xe7\\xb4\\xb9\\xe6\\xb2\\x90\\xe5\\x9f\\xa0U2\\xe2\\x80\\xa6=\\xc3\\xa7\\xe5\\xba\\xab\\xe2\\x81\\x84\\xe5\\x9c\\x9f\\xe9\\xb2\\x81\\xe5\\x9f\\xa0\\xe5\\x9d\\xaa\\xe5\\x8f\\xa3\\xcf\\x83\\xe7\\xa6\\x85\\xe0\\xa4\\x83\\xc9\\xaa\\xe5\\xbb\\xba\\xcf\\x85\\xe5\\x9b\\xbd\\xc5\\xa0\\xcf\\x8e\\xe0\\xa5\\x81\\xe0\\xa5\\x81\\xc2\\xa7\\xe8\\x8f\\xaf\\xe5\\x9c\\x8b!\\xce\\xbc\\xe9\\xa8\\xb7\\xcf\\x8c\\xc5\\x81\\xc5\\x81\\xe0\\xa5\\x81O\\xe2\\x80\\x94\\xe2\\x80\\x8c\\xce\\xad\\xe7\\xbb\\x8d\\xe5\\xb8\\xa5Y\\xe5\\x9c\\x9fI\\xc3\\x9c\\xe7\\xb4\\xb9\\xe7\\xb4\\x84A\\xe5\\xa4\\xa7\\xc9\\x99A\\xca\\x8f\\xe4\\xb8\\x8d\\xc5\\x9aV\\xe5\\xb7\\xa5\\xe7\\xb4\\x84Q\\xe0\\xa4\\xacc\\xca\\x8c\\xe8\\xb5\\xb7\\xc5\\xa9\\xe6\\xa1\\x88\\xc3\\xa8\\xe6\\xb0\\x914\\xc4\\x83\\xe9\\x8b\\xaa\\xe2\\x80\\x99\\xe5\\x8f\\xa3\\xc4\\x87\\xc5\\x99\\xc5\\xa1\\xe2\\x80\\x9c\\xe6\\x81\\xaf-\\xe2\\x80\\x94\\xe6\\xb3\\x95\\xe0\\xa4\\x83\\xe4\\xbf\\x84\\xe7\\xb7\\xa3X\\xe7\\x8d\\xbb\\xc3\\xb1\\xe2\\x80\\x98T\\xe1\\xbc\\xb5\\xca\\x81\\xe8\\xb1\\x86\\xe3\\x83\\x97\\xd8\\xaf\\xe6\\x81\\xa2\\xe8\\xb5\\xb7\\xe5\\x88\\x98\\xce\\xbd\\xc3\\xbc\\xe3\\x83\\xb3\\xc2\\xa2z\\xe1\\xb9\\x83[UNK]\\xe5\\x9d\\xaa\\xc3\\xb2\\xc9\\x94',\\xc2\\xb0\\xc3\\xb3~\\xc4\\xab\\xc5\\x8fy]=\\xcb\\x8c\\xe3\\x83\\xb3\"\n"
          ]
        }
      ]
    },
    {
      "cell_type": "markdown",
      "metadata": {
        "id": "LJL0Q0YPY6Ee"
      },
      "source": [
        "## Train the models"
      ]
    },
    {
      "cell_type": "markdown",
      "metadata": {
        "id": "YCbHQHiaa4Ic"
      },
      "source": [
        "At this point the problem can be treated as a standard classification problem. Given the previous RNN state, and the input this time step, predict the class of the next character."
      ]
    },
    {
      "cell_type": "markdown",
      "metadata": {
        "id": "trpqTWyvk0nr"
      },
      "source": [
        "### Attach an optimizer, and a loss function"
      ]
    },
    {
      "cell_type": "markdown",
      "metadata": {
        "id": "UAjbjY03eiQ4"
      },
      "source": [
        "The standard `tf.keras.losses.sparse_categorical_crossentropy` loss function works in this case because it is applied across the last dimension of the predictions.\n",
        "\n",
        "Because your model returns logits, you need to set the `from_logits` flag.\n"
      ]
    },
    {
      "cell_type": "code",
      "metadata": {
        "execution": {
          "iopub.execute_input": "2021-08-11T18:24:57.984396Z",
          "iopub.status.busy": "2021-08-11T18:24:57.983751Z",
          "iopub.status.idle": "2021-08-11T18:24:57.985611Z",
          "shell.execute_reply": "2021-08-11T18:24:57.985987Z"
        },
        "id": "ZOeWdgxNFDXq"
      },
      "source": [
        "loss = tf.losses.SparseCategoricalCrossentropy(from_logits=True)"
      ],
      "execution_count": 32,
      "outputs": []
    },
    {
      "cell_type": "code",
      "metadata": {
        "execution": {
          "iopub.execute_input": "2021-08-11T18:24:57.991174Z",
          "iopub.status.busy": "2021-08-11T18:24:57.990533Z",
          "iopub.status.idle": "2021-08-11T18:24:57.997194Z",
          "shell.execute_reply": "2021-08-11T18:24:57.996735Z"
        },
        "id": "4HrXTACTdzY-",
        "colab": {
          "base_uri": "https://localhost:8080/"
        },
        "outputId": "29b10b6b-79c4-4519-82c3-5f42c54208c9"
      },
      "source": [
        "example_batch_loss = loss(target_example_batch, example_batch_predictions1)\n",
        "mean_loss = example_batch_loss.numpy().mean()\n",
        "print(\"Prediction shape: \", example_batch_predictions1.shape, \" # (batch_size, sequence_length, vocab_size)\")\n",
        "print(\"Mean loss:        \", mean_loss)"
      ],
      "execution_count": 33,
      "outputs": [
        {
          "output_type": "stream",
          "name": "stdout",
          "text": [
            "Prediction shape:  (64, 160, 382)  # (batch_size, sequence_length, vocab_size)\n",
            "Mean loss:         5.9434166\n"
          ]
        }
      ]
    },
    {
      "cell_type": "markdown",
      "metadata": {
        "id": "vkvUIneTFiow"
      },
      "source": [
        "A newly initialized model shouldn't be too sure of itself, the output logits should all have similar magnitudes. To confirm this you can check that the exponential of the mean loss is approximately equal to the vocabulary size. A much higher loss means the model is sure of its wrong answers, and is badly initialized:"
      ]
    },
    {
      "cell_type": "code",
      "metadata": {
        "execution": {
          "iopub.execute_input": "2021-08-11T18:24:58.001780Z",
          "iopub.status.busy": "2021-08-11T18:24:58.001138Z",
          "iopub.status.idle": "2021-08-11T18:24:58.005003Z",
          "shell.execute_reply": "2021-08-11T18:24:58.004544Z"
        },
        "id": "MAJfS5YoFiHf",
        "colab": {
          "base_uri": "https://localhost:8080/"
        },
        "outputId": "977ec111-81b2-476d-adb0-0e6cbd203168"
      },
      "source": [
        "tf.exp(mean_loss).numpy()"
      ],
      "execution_count": 34,
      "outputs": [
        {
          "output_type": "execute_result",
          "data": {
            "text/plain": [
              "381.23523"
            ]
          },
          "metadata": {},
          "execution_count": 34
        }
      ]
    },
    {
      "cell_type": "code",
      "metadata": {
        "id": "FTP3PpO5W6JU",
        "colab": {
          "base_uri": "https://localhost:8080/"
        },
        "outputId": "156f59d2-5e2b-489c-abac-9092fb6120d6"
      },
      "source": [
        "#\n",
        "# Exercise 10.4 - Show the exponentiated mean loss for the other two untrained models.\n",
        "# Comment on whether these seem appropriate.\n",
        "#\n",
        "example_batch_loss = loss(target_example_batch, example_batch_predictions2)\n",
        "mean_loss2 = example_batch_loss.numpy().mean()\n",
        "print(\"Prediction shape: \", example_batch_predictions2.shape, \" # (batch_size, sequence_length, vocab_size)\")\n",
        "print(\"Mean loss:        \", mean_loss2)\n",
        "tf.exp(mean_loss2).numpy()\n",
        "#Mean loss is 382.1, which is lesser than vanilla RNN"
      ],
      "execution_count": 37,
      "outputs": [
        {
          "output_type": "stream",
          "name": "stdout",
          "text": [
            "Prediction shape:  (64, 160, 382)  # (batch_size, sequence_length, vocab_size)\n",
            "Mean loss:         5.9457016\n"
          ]
        },
        {
          "output_type": "execute_result",
          "data": {
            "text/plain": [
              "382.10733"
            ]
          },
          "metadata": {},
          "execution_count": 37
        }
      ]
    },
    {
      "cell_type": "code",
      "source": [
        "example_batch_loss = loss(target_example_batch, example_batch_predictions3)\n",
        "mean_loss3 = example_batch_loss.numpy().mean()\n",
        "print(\"Prediction shape: \", example_batch_predictions3.shape, \" # (batch_size, sequence_length, vocab_size)\")\n",
        "print(\"Mean loss:        \", mean_loss3)\n",
        "tf.exp(mean_loss3).numpy()\n",
        "#Mean loss is 381.6\n",
        "#Loss is lesser than vanilla RNN and GRU for LSTM"
      ],
      "metadata": {
        "colab": {
          "base_uri": "https://localhost:8080/"
        },
        "id": "p3Y3EFPk3fgW",
        "outputId": "176f298f-31a9-4f04-f9bb-18978eea1b4c"
      },
      "execution_count": 38,
      "outputs": [
        {
          "output_type": "stream",
          "name": "stdout",
          "text": [
            "Prediction shape:  (64, 160, 382)  # (batch_size, sequence_length, vocab_size)\n",
            "Mean loss:         5.9444413\n"
          ]
        },
        {
          "output_type": "execute_result",
          "data": {
            "text/plain": [
              "381.6261"
            ]
          },
          "metadata": {},
          "execution_count": 38
        }
      ]
    },
    {
      "cell_type": "markdown",
      "metadata": {
        "id": "jeOXriLcymww"
      },
      "source": [
        "Configure the training procedure using the `tf.keras.Model.compile` method. Use `tf.keras.optimizers.Adam` with default arguments and the loss function."
      ]
    },
    {
      "cell_type": "code",
      "metadata": {
        "execution": {
          "iopub.execute_input": "2021-08-11T18:24:58.013648Z",
          "iopub.status.busy": "2021-08-11T18:24:58.012966Z",
          "iopub.status.idle": "2021-08-11T18:24:58.019077Z",
          "shell.execute_reply": "2021-08-11T18:24:58.018481Z"
        },
        "id": "DDl1_Een6rL0"
      },
      "source": [
        "vanilla_model.compile(optimizer='adam', loss=loss)\n",
        "gru_model.compile(optimizer='adam', loss=loss)\n",
        "lstm_model.compile(optimizer='adam', loss=loss)"
      ],
      "execution_count": null,
      "outputs": []
    },
    {
      "cell_type": "markdown",
      "metadata": {
        "id": "ieSJdchZggUj"
      },
      "source": [
        "### Configure checkpoints"
      ]
    },
    {
      "cell_type": "markdown",
      "metadata": {
        "id": "C6XBUUavgF56"
      },
      "source": [
        "Use a `tf.keras.callbacks.ModelCheckpoint` to ensure that checkpoints are saved during training:"
      ]
    },
    {
      "cell_type": "code",
      "metadata": {
        "execution": {
          "iopub.execute_input": "2021-08-11T18:24:58.024393Z",
          "iopub.status.busy": "2021-08-11T18:24:58.023777Z",
          "iopub.status.idle": "2021-08-11T18:24:58.025672Z",
          "shell.execute_reply": "2021-08-11T18:24:58.026012Z"
        },
        "id": "W6fWTriUZP-n"
      },
      "source": [
        "# Directory where the checkpoints will be saved\n",
        "checkpoint_dir = './training_checkpoints'\n",
        "# Name of the checkpoint files\n",
        "checkpoint_prefix = os.path.join(checkpoint_dir, \"ckpt_{epoch}\")\n",
        "\n",
        "checkpoint_callback = tf.keras.callbacks.ModelCheckpoint(\n",
        "    filepath=checkpoint_prefix,\n",
        "    save_weights_only=True)"
      ],
      "execution_count": null,
      "outputs": []
    },
    {
      "cell_type": "markdown",
      "metadata": {
        "id": "3Ky3F_BhgkTW"
      },
      "source": [
        "### Execute the training"
      ]
    },
    {
      "cell_type": "markdown",
      "metadata": {
        "id": "IxdOA-rgyGvs"
      },
      "source": [
        "Because we are focusing on comparing training time, start with just two epochs to train the model. In Colab, set the runtime to GPU for faster training. Make a prediction in advance about which model will train most quickly and why. Take note of any differences you observe in model training time and think of an explanation for them. "
      ]
    },
    {
      "cell_type": "code",
      "source": [
        "import time\n",
        "EPOCHS = 2"
      ],
      "metadata": {
        "id": "6_lXtXgd2SPB"
      },
      "execution_count": null,
      "outputs": []
    },
    {
      "cell_type": "code",
      "metadata": {
        "execution": {
          "iopub.execute_input": "2021-08-11T18:24:58.036492Z",
          "iopub.status.busy": "2021-08-11T18:24:58.035869Z",
          "iopub.status.idle": "2021-08-11T18:26:49.222172Z",
          "shell.execute_reply": "2021-08-11T18:26:49.222645Z"
        },
        "id": "UK-hmKjYVoll"
      },
      "source": [
        "# Time each of the models on a a small number of epochs\n",
        "\n",
        "t0 = time.perf_counter() # Time epochs: Capture the start time\n",
        "history1 = vanilla_model.fit(dataset, epochs=EPOCHS, callbacks=[checkpoint_callback])\n",
        "print(\"Vanilla, elapsed time:\", time.perf_counter() - t0, \"seconds.\")\n",
        "print()\n",
        "\n",
        "t0 = time.perf_counter() # Time epochs: Capture the start time\n",
        "history2 = gru_model.fit(dataset, epochs=EPOCHS, callbacks=[checkpoint_callback])\n",
        "print(\"GRU, elapsed time:\", time.perf_counter() - t0, \"seconds.\")\n",
        "print()\n",
        "\n",
        "t0 = time.perf_counter() # Time epochs: Capture the start time\n",
        "history3 = lstm_model.fit(dataset, epochs=EPOCHS, callbacks=[checkpoint_callback])\n",
        "print(\"LSTM, elapsed time:\", time.perf_counter() - t0, \"seconds.\")\n",
        "\n"
      ],
      "execution_count": null,
      "outputs": []
    },
    {
      "cell_type": "markdown",
      "source": [
        "#Discuss with Your Partner\n",
        "\n",
        "Examine the total training time for each of the three models above. Was there anything surprising? Can you infer why certain models ran faster than others? Here's a hint: When there are a lot of weights to process in parallel, the GPU is the way to get things done fast. Which tensorflow layers have been optimized for use with a GPU?"
      ],
      "metadata": {
        "id": "aHpkFVuxs1cL"
      }
    },
    {
      "cell_type": "code",
      "source": [
        "#\n",
        "# Exercise 10.5 - Comment on the training time for each of the models.\n",
        "# Also comment on the ending value of the loss function. From efforts in\n",
        "# Week 9, a loss value below 1.4 starts to look promising in terms of \n",
        "# generating morphologically correct character sequences.\n",
        "#"
      ],
      "metadata": {
        "id": "fyLgP73g288_"
      },
      "execution_count": null,
      "outputs": []
    },
    {
      "cell_type": "code",
      "source": [
        "history1.history, history2.history, history3.history,"
      ],
      "metadata": {
        "id": "APNtBwXA2u1-"
      },
      "execution_count": null,
      "outputs": []
    },
    {
      "cell_type": "code",
      "source": [
        "#\n",
        "# Exercise 10.6 - Compare the final loss status of each model.\n",
        "# Compute the difference between the initial loss and the final loss.\n",
        "#\n"
      ],
      "metadata": {
        "id": "-0HWjN_Y3KGF"
      },
      "execution_count": null,
      "outputs": []
    },
    {
      "cell_type": "code",
      "source": [
        "#\n",
        "# Exercise 10.7 - Plot the loss history for each model.\n",
        "#"
      ],
      "metadata": {
        "id": "2m-76xt9Bl3A"
      },
      "execution_count": null,
      "outputs": []
    },
    {
      "cell_type": "markdown",
      "metadata": {
        "id": "kKkD5M6eoSiN"
      },
      "source": [
        "## Generate text"
      ]
    },
    {
      "cell_type": "markdown",
      "metadata": {
        "id": "oIdQ8c8NvMzV"
      },
      "source": [
        "The simplest way to generate text with this model is to run a set of predictions in a loop, while keeping track of the model's internal state as it runs. Each time we call the model we pass in a slice of text and an internal state. \n",
        "\n",
        "The model returns a prediction for the next character as well as its new state. Pass the prediction and state back in to continue generating text. The class defined below accomplishes one step in this chain of model runs. When the generate_one_step() bound method is called, it makes a single step prediction. Note the temperature argument on the class initializer.\n"
      ]
    },
    {
      "cell_type": "code",
      "metadata": {
        "execution": {
          "iopub.execute_input": "2021-08-11T18:26:49.231962Z",
          "iopub.status.busy": "2021-08-11T18:26:49.231408Z",
          "iopub.status.idle": "2021-08-11T18:26:49.233437Z",
          "shell.execute_reply": "2021-08-11T18:26:49.232954Z"
        },
        "id": "iSBU1tHmlUSs"
      },
      "source": [
        "class OneStep(tf.keras.Model):\n",
        "  def __init__(self, model, chars_from_ids, ids_from_chars, temperature=0.3):\n",
        "    super().__init__()\n",
        "    self.temperature = temperature\n",
        "    self.model = model\n",
        "    self.chars_from_ids = chars_from_ids\n",
        "    self.ids_from_chars = ids_from_chars\n",
        "\n",
        "    # Create a mask to prevent \"[UNK]\" from being generated.\n",
        "    skip_ids = self.ids_from_chars(['[UNK]'])[:, None]\n",
        "    sparse_mask = tf.SparseTensor(\n",
        "        # Put a -inf at each bad index.\n",
        "        values=[-float('inf')]*len(skip_ids),\n",
        "        indices=skip_ids,\n",
        "        # Match the shape to the vocabulary\n",
        "        dense_shape=[len(ids_from_chars.get_vocabulary())])\n",
        "    self.prediction_mask = tf.sparse.to_dense(sparse_mask)\n",
        "\n",
        "  @tf.function\n",
        "  def generate_one_step(self, inputs, states=None):\n",
        "    # Convert strings to token IDs.\n",
        "    input_chars = tf.strings.unicode_split(inputs, 'UTF-8')\n",
        "    input_ids = self.ids_from_chars(input_chars).to_tensor()\n",
        "\n",
        "    # Run the model.\n",
        "    # predicted_logits.shape is [batch, char, next_char_logits]\n",
        "    # The model also returns its internal state so that we can use that\n",
        "    # the next time around the loop.\n",
        "    predicted_logits, states = self.model(inputs=input_ids, states=states,\n",
        "                                          return_state=True)\n",
        "    # Only use the last prediction.\n",
        "    predicted_logits = predicted_logits[:, -1, :]\n",
        "    predicted_logits = predicted_logits/self.temperature\n",
        "    # Apply the prediction mask: prevent \"[UNK]\" from being generated.\n",
        "    predicted_logits = predicted_logits + self.prediction_mask\n",
        "\n",
        "    # Sample the output logits to generate token IDs.\n",
        "    predicted_ids = tf.random.categorical(predicted_logits, num_samples=1)\n",
        "    predicted_ids = tf.squeeze(predicted_ids, axis=-1)\n",
        "\n",
        "    # Convert from token ids to characters\n",
        "    predicted_chars = self.chars_from_ids(predicted_ids)\n",
        "\n",
        "    # Return the characters and model state.\n",
        "    return predicted_chars, states"
      ],
      "execution_count": null,
      "outputs": []
    },
    {
      "cell_type": "code",
      "source": [
        "class OneStepLSTM(tf.keras.Model):\n",
        "  def __init__(self, model, chars_from_ids, ids_from_chars, temperature=0.3):\n",
        "    super().__init__()\n",
        "    self.temperature = temperature\n",
        "    self.model = model\n",
        "    self.chars_from_ids = chars_from_ids\n",
        "    self.ids_from_chars = ids_from_chars\n",
        "\n",
        "    # Create a mask to prevent \"[UNK]\" from being generated.\n",
        "    skip_ids = self.ids_from_chars(['[UNK]'])[:, None]\n",
        "    sparse_mask = tf.SparseTensor(\n",
        "        # Put a -inf at each bad index.\n",
        "        values=[-float('inf')]*len(skip_ids),\n",
        "        indices=skip_ids,\n",
        "        # Match the shape to the vocabulary\n",
        "        dense_shape=[len(ids_from_chars.get_vocabulary())])\n",
        "    self.prediction_mask = tf.sparse.to_dense(sparse_mask)\n",
        "\n",
        "  @tf.function\n",
        "  def generate_one_step(self, inputs, states1=None, states2=None):\n",
        "    # Convert strings to token IDs.\n",
        "    input_chars = tf.strings.unicode_split(inputs, 'UTF-8')\n",
        "    input_ids = self.ids_from_chars(input_chars).to_tensor()\n",
        "\n",
        "    # Run the model.\n",
        "    # predicted_logits.shape is [batch, char, next_char_logits]\n",
        "    # The model also returns its internal state so that we can use that\n",
        "    # the next time around the loop.\n",
        "    if states1 == None:\n",
        "      predicted_logits, states1, states2 = self.model(inputs=input_ids, states=None, return_state=True)\n",
        "    else:\n",
        "      predicted_logits, states1, states2 = self.model(inputs=input_ids, states=[states1, states2], return_state=True)\n",
        "    \n",
        "    # Only use the last prediction.\n",
        "    predicted_logits = predicted_logits[:, -1, :]\n",
        "    predicted_logits = predicted_logits/self.temperature\n",
        "    # Apply the prediction mask: prevent \"[UNK]\" from being generated.\n",
        "    predicted_logits = predicted_logits + self.prediction_mask\n",
        "\n",
        "    # Sample the output logits to generate token IDs.\n",
        "    predicted_ids = tf.random.categorical(predicted_logits, num_samples=1)\n",
        "    predicted_ids = tf.squeeze(predicted_ids, axis=-1)\n",
        "\n",
        "    # Convert from token ids to characters\n",
        "    predicted_chars = self.chars_from_ids(predicted_ids)\n",
        "\n",
        "    # Return the characters and model state.\n",
        "    return predicted_chars, states1, states2"
      ],
      "metadata": {
        "id": "cidR65H85cC1"
      },
      "execution_count": null,
      "outputs": []
    },
    {
      "cell_type": "code",
      "metadata": {
        "execution": {
          "iopub.execute_input": "2021-08-11T18:26:49.238176Z",
          "iopub.status.busy": "2021-08-11T18:26:49.237539Z",
          "iopub.status.idle": "2021-08-11T18:26:49.244921Z",
          "shell.execute_reply": "2021-08-11T18:26:49.245283Z"
        },
        "id": "fqMOuDutnOxK"
      },
      "source": [
        "# Now we can instantiate the vanilla class. Take note of the arguments we are \n",
        "# passing in. What do the last two arguments do?\n",
        "one_step_model1 = OneStep(vanilla_model, chars_from_ids, ids_from_chars)"
      ],
      "execution_count": null,
      "outputs": []
    },
    {
      "cell_type": "markdown",
      "metadata": {
        "id": "p9yDoa0G3IgQ"
      },
      "source": [
        "Run it in a loop to generate some text. Looking at the generated text, you'll see the model knows when to capitalize, make sentences and imitates the vocabulary seen in the training data. With the small number of training epochs, it has not yet learned to form coherent sentences."
      ]
    },
    {
      "cell_type": "code",
      "metadata": {
        "execution": {
          "iopub.execute_input": "2021-08-11T18:26:49.251455Z",
          "iopub.status.busy": "2021-08-11T18:26:49.250898Z",
          "iopub.status.idle": "2021-08-11T18:26:51.562788Z",
          "shell.execute_reply": "2021-08-11T18:26:51.562298Z"
        },
        "id": "ST7PSyk9t1mT"
      },
      "source": [
        "start = time.time()\n",
        "states = None\n",
        "next_char = tf.constant(['When did Beyoncé start to get famous?'])\n",
        "result = [next_char]\n",
        "\n",
        "for n in range(160):\n",
        "  next_char, states = one_step_model1.generate_one_step(next_char, states=states)\n",
        "  result.append(next_char)\n",
        "\n",
        "result = tf.strings.join(result)\n",
        "end = time.time()\n",
        "print(result[0].numpy().decode('utf-8'), '\\n\\n' + '_'*80)\n",
        "print('\\nRun time:', end - start)"
      ],
      "execution_count": null,
      "outputs": []
    },
    {
      "cell_type": "code",
      "source": [
        "# Now we can instantiate the GRU class. Take note of the arguments we are \n",
        "# passing in. What do the last two arguments do?\n",
        "one_step_model2 = OneStep(gru_model, chars_from_ids, ids_from_chars)"
      ],
      "metadata": {
        "id": "GwtDVKob4p2h"
      },
      "execution_count": null,
      "outputs": []
    },
    {
      "cell_type": "code",
      "source": [
        "start = time.time()\n",
        "states = None\n",
        "next_char = tf.constant(['When did Beyoncé start to get famous?'])\n",
        "result = [next_char]\n",
        "\n",
        "for n in range(160):\n",
        "  next_char, states = one_step_model2.generate_one_step(next_char, states=states)\n",
        "  result.append(next_char)\n",
        "\n",
        "result = tf.strings.join(result)\n",
        "end = time.time()\n",
        "print(result[0].numpy().decode('utf-8'), '\\n\\n' + '_'*80)\n",
        "print('\\nRun time:', end - start)"
      ],
      "metadata": {
        "id": "AqsD16KM4y0a"
      },
      "execution_count": null,
      "outputs": []
    },
    {
      "cell_type": "code",
      "source": [
        "# Now we can instantiate the LSTM class. Take note of the arguments we are \n",
        "# passing in. What do the last two arguments do?\n",
        "one_step_model3 = OneStepLSTM(lstm_model, chars_from_ids, ids_from_chars)"
      ],
      "metadata": {
        "id": "vd5QirWY5MmP"
      },
      "execution_count": null,
      "outputs": []
    },
    {
      "cell_type": "code",
      "source": [
        "start = time.time()\n",
        "states1 = None\n",
        "states2 = None\n",
        "next_char = tf.constant(['When did Beyoncé start to get famous?'])\n",
        "result = [next_char]\n",
        "\n",
        "for n in range(160):\n",
        "  next_char, states1, states2 = one_step_model3.generate_one_step(next_char, states1=states1, states2=states2)\n",
        "  result.append(next_char)\n",
        "\n",
        "result = tf.strings.join(result)\n",
        "end = time.time()\n",
        "print(result[0].numpy().decode('utf-8'), '\\n\\n' + '_'*80)\n",
        "print('\\nRun time:', end - start)"
      ],
      "metadata": {
        "id": "dhMV9T5M5RJA"
      },
      "execution_count": null,
      "outputs": []
    },
    {
      "cell_type": "markdown",
      "metadata": {
        "id": "AM2Uma_-yVIq"
      },
      "source": [
        "Examine the processing time for each of the generation steps above - i.e.by comparing the three models. Which model generates inferences most quickly? Which is the slowest? Can you explain why?\n",
        "\n",
        "If you want the model to generate text faster the easiest thing you can do is batch the text generation. In the example below the model generates three texts in about the same time it took to generate just one above."
      ]
    },
    {
      "cell_type": "code",
      "metadata": {
        "execution": {
          "iopub.execute_input": "2021-08-11T18:26:51.568807Z",
          "iopub.status.busy": "2021-08-11T18:26:51.568077Z",
          "iopub.status.idle": "2021-08-11T18:26:53.770322Z",
          "shell.execute_reply": "2021-08-11T18:26:53.770785Z"
        },
        "id": "ZkLu7Y8UCMT7"
      },
      "source": [
        "start = time.time()\n",
        "states = None\n",
        "next_char = tf.constant(['When did Beyoncé start to get famous?', 'Where is the Amazon?', 'Who won the world cup in 2019?'])\n",
        "result = [next_char]\n",
        "\n",
        "for n in range(160):\n",
        "  next_char, states = one_step_model1.generate_one_step(next_char, states=states)\n",
        "  result.append(next_char)\n",
        "\n",
        "result = tf.strings.join(result)\n",
        "end = time.time()\n",
        "print(result, '\\n\\n' + '_'*80)\n",
        "print('\\nRun time:', end - start)"
      ],
      "execution_count": null,
      "outputs": []
    },
    {
      "cell_type": "code",
      "metadata": {
        "id": "sVqwkgl2b65d"
      },
      "source": [
        "#\n",
        "# Exercise 10.8 - Add timed loops for doing multiple predictions (as shown\n",
        "# above) for GRU and LSTM models.\n",
        "#\n"
      ],
      "execution_count": null,
      "outputs": []
    },
    {
      "cell_type": "markdown",
      "metadata": {
        "id": "WVGQ33Tqe_s1"
      },
      "source": [
        "**Improving the LSTM and GRU Models**\n",
        "\n",
        "Focus on improving the GRU and the LSTM. In particular, train more epochs for each and compare the progress of the loss function.\n",
        "\n",
        "There are several additional strategies that might improve the performance of the models. Try them in the following order:\n",
        "\n",
        "* Change the temperature in the initialization of the OneStep class to adjust the randomness in generation of new character sequences (note that the default value is already set quite low)\n",
        "* Increase the number of nodes in the LSTM and GRU layers to give the model more \"intelligence\"\n",
        "* Add a new dense layer after the LSTM or GRU layer to improve the model's ability to process the output of the RNN\n",
        "\n",
        "Try at least one of these techniques during the remaining time in the lab. For the moment we don't have a way of documenting model quality other than the final loss value and your own read of the generated text to see whether it is creating real words and sensible sentences. But those are reasonable criteria for now. Make sure to add comments documenting what you find out."
      ]
    },
    {
      "cell_type": "code",
      "metadata": {
        "id": "hHefPZi-gWHx"
      },
      "source": [
        "#\n",
        "# Exercise 10.9 - Plot the loss history for a few additional GRU training epochs.\n",
        "#\n",
        "\n"
      ],
      "execution_count": null,
      "outputs": []
    },
    {
      "cell_type": "code",
      "source": [
        "#\n",
        "# Exercise 10.10 - Conduct additional predictions using a prompt to the GRU model.\n",
        "#\n"
      ],
      "metadata": {
        "id": "BKF0y_oHWs73"
      },
      "execution_count": null,
      "outputs": []
    },
    {
      "cell_type": "code",
      "source": [
        "#\n",
        "# Exercise 10.11 - Plot the loss history for a few additional LSTM training epochs.\n",
        "#\n"
      ],
      "metadata": {
        "id": "VzzsN0VnCQcj"
      },
      "execution_count": null,
      "outputs": []
    },
    {
      "cell_type": "code",
      "source": [
        "#\n",
        "# Exercise 10.12 - Conduct additional predictions using a prompt to the LSTM model.\n",
        "#\n"
      ],
      "metadata": {
        "id": "laSVbi9-W41w"
      },
      "execution_count": null,
      "outputs": []
    },
    {
      "cell_type": "code",
      "source": [
        "#\n",
        "# Exercise 10.13 - Try one additional technique for improving the GRU.\n",
        "#\n"
      ],
      "metadata": {
        "id": "B9RDdQtCCVcT"
      },
      "execution_count": null,
      "outputs": []
    },
    {
      "cell_type": "code",
      "source": [
        "#\n",
        "# Exercise 10.14 - Use the same improvement technique on the LSTM.\n",
        "#\n"
      ],
      "metadata": {
        "id": "V96n2sU-CbEx"
      },
      "execution_count": null,
      "outputs": []
    }
  ]
}