{
  "nbformat": 4,
  "nbformat_minor": 0,
  "metadata": {
    "colab": {
      "provenance": []
    },
    "kernelspec": {
      "display_name": "Python 3",
      "language": "python",
      "name": "python3"
    },
    "language_info": {
      "codemirror_mode": {
        "name": "ipython",
        "version": 3
      },
      "file_extension": ".py",
      "mimetype": "text/x-python",
      "name": "python",
      "nbconvert_exporter": "python",
      "pygments_lexer": "ipython3",
      "version": "3.7.0"
    },
    "accelerator": "GPU"
  },
  "cells": [
    {
      "cell_type": "markdown",
      "metadata": {
        "id": "YBhkM8XUAai_"
      },
      "source": [
        "# Lab 11: Sequence-to-sequence Character-Level Machine Translation\n",
        "\n",
        "This notebook was modified from an example developed in 2017 and updated in 2020 by Francis Chollet, a Google AI engineer and author. The notebook uses a paired database of short English and French phrases to create character-level translations. Although this is a workable approach, note that most machine translation solutions (whether deep learning or not) work at the word level.\n",
        "\n",
        "*Important:*\n",
        "Make sure to turn on GPU acceleration for your notebook runtime: This speeds up the training by a factor of ten.\n"
      ]
    },
    {
      "cell_type": "markdown",
      "metadata": {
        "id": "7P2hJEA5AajC"
      },
      "source": [
        "## Introduction\n",
        "\n",
        "**Summary of the algorithm**\n",
        "\n",
        "- We start with input sequences from a domain (e.g. English sentences)\n",
        "    and corresponding target sequences from another domain\n",
        "    (e.g. French sentences).\n",
        "- An encoder LSTM turns input sequences to 2 state vectors\n",
        "    \n",
        "- A decoder LSTM is trained to turn the target sequences into\n",
        "    the same sequence but offset by one timestep in the future,\n",
        "    a training process called \"teacher forcing\" in this context.\n",
        "    It uses as initial state the state vectors from the encoder.\n",
        "    Effectively, the decoder learns to generate `targets[t+1...]`\n",
        "    given `targets[...t]`, conditioned on the input sequence.\n",
        "- In inference mode, when we want to decode unknown input sequences, we:\n",
        "    - Encode the input sequence into state vectors\n",
        "    - Start with a target sequence of size 1\n",
        "        (just the start-of-sequence character)\n",
        "    - Feed the state vectors and 1-char target sequence\n",
        "        to the decoder to produce predictions for the next character\n",
        "    - Sample the next character using these predictions\n",
        "        (we simply use argmax).\n",
        "    - Append the sampled character to the target sequence\n",
        "    - Repeat until we generate the end-of-sequence character or we\n",
        "        hit the character limit.\n"
      ]
    },
    {
      "cell_type": "markdown",
      "metadata": {
        "id": "q8iSNu6yAajD"
      },
      "source": [
        "## Setup\n"
      ]
    },
    {
      "cell_type": "code",
      "metadata": {
        "id": "3ysDHQpVAajE",
        "colab": {
          "base_uri": "https://localhost:8080/",
          "height": 35
        },
        "outputId": "cf91d58a-ef8c-4c86-d419-4e1645398f2c"
      },
      "source": [
        "import time\n",
        "import numpy as np\n",
        "import tensorflow as tf\n",
        "from tensorflow import keras\n",
        "\n",
        "tf.__version__"
      ],
      "execution_count": 1,
      "outputs": [
        {
          "output_type": "execute_result",
          "data": {
            "text/plain": [
              "'2.12.0'"
            ],
            "application/vnd.google.colaboratory.intrinsic+json": {
              "type": "string"
            }
          },
          "metadata": {},
          "execution_count": 1
        }
      ]
    },
    {
      "cell_type": "markdown",
      "metadata": {
        "id": "YzWkvVriAajF"
      },
      "source": [
        "## Download the data\n"
      ]
    },
    {
      "cell_type": "code",
      "metadata": {
        "id": "J0mS-ez8AajF",
        "colab": {
          "base_uri": "https://localhost:8080/"
        },
        "outputId": "8d73ec45-c0d5-4758-afe7-c12645ea6069"
      },
      "source": [
        "# We have previously used wget for this task, but curl is quite similar.\n",
        "# curl supports more protocols, but here we are simply using it to get\n",
        "# a file from the web with https.\n",
        "!curl -O https://www.manythings.org/anki/fra-eng.zip\n",
        "!unzip fra-eng.zip\n",
        "# If you run this more than once, you will be asked if you want to replace\n",
        "# the first copy of the file(s).\n",
        "\n",
        "data_path = \"fra.txt\" # Path to the data txt file on disk."
      ],
      "execution_count": 2,
      "outputs": [
        {
          "output_type": "stream",
          "name": "stdout",
          "text": [
            "  % Total    % Received % Xferd  Average Speed   Time    Time     Time  Current\n",
            "                                 Dload  Upload   Total   Spent    Left  Speed\n",
            "100 7246k  100 7246k    0     0  4467k      0  0:00:01  0:00:01 --:--:-- 4464k\n",
            "Archive:  fra-eng.zip\n",
            "  inflating: _about.txt              \n",
            "  inflating: fra.txt                 \n"
          ]
        }
      ]
    },
    {
      "cell_type": "markdown",
      "metadata": {
        "id": "FiBLA5N6AajG"
      },
      "source": [
        "## Configuration\n"
      ]
    },
    {
      "cell_type": "code",
      "metadata": {
        "id": "voXdAGfwAajG"
      },
      "source": [
        "batch_size = 64  # Batch size for training.\n",
        "epochs = 15  # Number of epochs to train for. We'll raise this later.\n",
        "latent_dim = 256  # Latent dimensionality of the thought vector encoding space.\n",
        "\n",
        "# The French-English file contains about 56,000 phrase pairs\n",
        "# We probably cannot fit all of the input data into memory.\n",
        "num_samples = 28000  # How big a subset of the dataset to use"
      ],
      "execution_count": 3,
      "outputs": []
    },
    {
      "cell_type": "markdown",
      "metadata": {
        "id": "xZMeWULRAajG"
      },
      "source": [
        "## Prepare the data\n"
      ]
    },
    {
      "cell_type": "code",
      "metadata": {
        "id": "8BtCXoSeAajG",
        "colab": {
          "base_uri": "https://localhost:8080/"
        },
        "outputId": "3d16ec1f-d78a-47d5-c9b7-3ae4fa0651aa"
      },
      "source": [
        "# Read the data from the file, line by line\n",
        "input_texts = []\n",
        "target_texts = []\n",
        "input_characters = set()\n",
        "target_characters = set()\n",
        "\n",
        "# The *with* statement is a handy way of managing file I/O. It ensures that\n",
        "# the file gets closed once we are done with it.\n",
        "with open(data_path, \"r\", encoding=\"utf-8\") as f:\n",
        "    lines = f.read().split(\"\\n\")\n",
        "\n",
        "for line in lines[: min(num_samples, len(lines) - 1)]:\n",
        "    input_text, target_text, _ = line.split(\"\\t\")\n",
        "    # We use \"tab\" as the \"start sequence\" character\n",
        "    # for the targets, and \"\\n\" as \"end sequence\" character.\n",
        "    target_text = \"\\t\" + target_text + \"\\n\"\n",
        "    input_texts.append(input_text)\n",
        "    target_texts.append(target_text)\n",
        "    for char in input_text:\n",
        "        if char not in input_characters:\n",
        "            input_characters.add(char)\n",
        "    for char in target_text:\n",
        "        if char not in target_characters:\n",
        "            target_characters.add(char)\n",
        "\n",
        "len(input_texts), len(target_texts) # These should match:\n",
        "# The length of each should match the num_samples configuration option above."
      ],
      "execution_count": 4,
      "outputs": [
        {
          "output_type": "execute_result",
          "data": {
            "text/plain": [
              "(28000, 28000)"
            ]
          },
          "metadata": {},
          "execution_count": 4
        }
      ]
    },
    {
      "cell_type": "code",
      "source": [
        "# Randomize the order of the texts\n",
        "arr = np.arange(num_samples)\n",
        "np.random.shuffle(arr)\n",
        "\n",
        "input_texts = [input_texts[i] for i in arr]\n",
        "target_texts = [target_texts[i] for i in arr]"
      ],
      "metadata": {
        "id": "1te_E7UsoUGg"
      },
      "execution_count": 5,
      "outputs": []
    },
    {
      "cell_type": "code",
      "metadata": {
        "id": "ve5dr83z0biB",
        "colab": {
          "base_uri": "https://localhost:8080/"
        },
        "outputId": "73a132ec-4e78-43b1-dab4-d7f6c5d73975"
      },
      "source": [
        "print(type(f)) # f is still a valid object\n",
        "\n",
        "try:\n",
        "  f.tell() # For an open file, this would give the read position\n",
        "except ValueError: # But the file is closed, thanks to the with: statement\n",
        "    print(\"File is closed.\")"
      ],
      "execution_count": 6,
      "outputs": [
        {
          "output_type": "stream",
          "name": "stdout",
          "text": [
            "<class '_io.TextIOWrapper'>\n",
            "File is closed.\n"
          ]
        }
      ]
    },
    {
      "cell_type": "code",
      "metadata": {
        "id": "BVTYR-hI1uDQ",
        "colab": {
          "base_uri": "https://localhost:8080/"
        },
        "outputId": "9d959878-b1ac-45e9-9f26-dc157e3da6c4"
      },
      "source": [
        "# Take a peek at the first few pairs of input and target texts\n",
        "[ (i, t) for i, t in enumerate(zip(input_texts[:15], target_texts[:15]))]"
      ],
      "execution_count": 7,
      "outputs": [
        {
          "output_type": "execute_result",
          "data": {
            "text/plain": [
              "[(0, ('Cows give milk.', '\\tLes vaches donnent du lait.\\n')),\n",
              " (1, ('I felt naked.', '\\tJe me suis senti nue.\\n')),\n",
              " (2, (\"I'll tell you.\", '\\tJe te dirai.\\n')),\n",
              " (3, ('I love bananas.', \"\\tJ'adore les bananes.\\n\")),\n",
              " (4, ('I had a seizure.', \"\\tJ'ai eu une attaque cardiaque.\\n\")),\n",
              " (5, (\"You're funny.\", \"\\tT'es marrante.\\n\")),\n",
              " (6, ('Dreams come true.', '\\tLes rêves deviennent réalité.\\n')),\n",
              " (7, ('Tom cried again.', '\\tTom a de nouveau pleuré.\\n')),\n",
              " (8, ('I was speechless.', '\\tJ’étais sans voix.\\n')),\n",
              " (9, ('Now help me.', '\\tAide-moi là.\\n')),\n",
              " (10, ('He is foolish.', '\\tIl est idiot.\\n')),\n",
              " (11, ('You smashed it.', \"\\tTu l'as détruit.\\n\")),\n",
              " (12, (\"It'll be tricky.\", '\\tÇa sera délicat.\\n')),\n",
              " (13, (\"You're clever.\", '\\tVous êtes malin.\\n')),\n",
              " (14, ('Tom loved us.', '\\tTom nous aimait.\\n'))]"
            ]
          },
          "metadata": {},
          "execution_count": 7
        }
      ]
    },
    {
      "cell_type": "markdown",
      "metadata": {
        "id": "IXu2WGhE_0S0"
      },
      "source": [
        "Note how the parsing of the target data from the text file has naturally led to the creation of a start of sequence token (i.e., \\t) and an end of sequence token (i.e., \\n). As long as they each have a unique encoding value, these tokens could be anything you want. Later on in this notebook, we will define a utility function called decode_sequence(). This function will issue a \\t to prompt the decoder to start emitting characters. The function also has a test to see when a sequence has ended, and that test looks for a \\n as a signal from the decoder that a target sequence is done."
      ]
    },
    {
      "cell_type": "code",
      "metadata": {
        "id": "cuzg8OeV29HM",
        "colab": {
          "base_uri": "https://localhost:8080/"
        },
        "outputId": "7097131e-85b7-4a50-8d28-d6e44858b5e3"
      },
      "source": [
        "#\n",
        "# Exercise 11.1: Display the list of input characters\n",
        "#\n",
        "input_characters\n",
        "#We can see input characters starting from symbols, numbers, upper characters, lower characters"
      ],
      "execution_count": 11,
      "outputs": [
        {
          "output_type": "execute_result",
          "data": {
            "text/plain": [
              "{' ',\n",
              " '!',\n",
              " '\"',\n",
              " '$',\n",
              " '%',\n",
              " '&',\n",
              " \"'\",\n",
              " ',',\n",
              " '-',\n",
              " '.',\n",
              " '/',\n",
              " '0',\n",
              " '1',\n",
              " '2',\n",
              " '3',\n",
              " '4',\n",
              " '5',\n",
              " '6',\n",
              " '7',\n",
              " '8',\n",
              " '9',\n",
              " ':',\n",
              " '?',\n",
              " 'A',\n",
              " 'B',\n",
              " 'C',\n",
              " 'D',\n",
              " 'E',\n",
              " 'F',\n",
              " 'G',\n",
              " 'H',\n",
              " 'I',\n",
              " 'J',\n",
              " 'K',\n",
              " 'L',\n",
              " 'M',\n",
              " 'N',\n",
              " 'O',\n",
              " 'P',\n",
              " 'Q',\n",
              " 'R',\n",
              " 'S',\n",
              " 'T',\n",
              " 'U',\n",
              " 'V',\n",
              " 'W',\n",
              " 'X',\n",
              " 'Y',\n",
              " 'Z',\n",
              " 'a',\n",
              " 'b',\n",
              " 'c',\n",
              " 'd',\n",
              " 'e',\n",
              " 'f',\n",
              " 'g',\n",
              " 'h',\n",
              " 'i',\n",
              " 'j',\n",
              " 'k',\n",
              " 'l',\n",
              " 'm',\n",
              " 'n',\n",
              " 'o',\n",
              " 'p',\n",
              " 'q',\n",
              " 'r',\n",
              " 's',\n",
              " 't',\n",
              " 'u',\n",
              " 'v',\n",
              " 'w',\n",
              " 'x',\n",
              " 'y',\n",
              " 'z',\n",
              " 'é'}"
            ]
          },
          "metadata": {},
          "execution_count": 11
        }
      ]
    },
    {
      "cell_type": "code",
      "metadata": {
        "id": "qkYW5xIn3EEK",
        "colab": {
          "base_uri": "https://localhost:8080/"
        },
        "outputId": "43d32ca5-431e-4a9b-ec56-8a83dde72dff"
      },
      "source": [
        "#\n",
        "# Exercise 11.2: Display the list of target characters\n",
        "#\n",
        "target_characters\n",
        "\n",
        "#The target charcacters are similar with addition of \\t and \\n\n",
        "#Then followed by symbols, numbers, characters"
      ],
      "execution_count": 12,
      "outputs": [
        {
          "output_type": "execute_result",
          "data": {
            "text/plain": [
              "{'\\t',\n",
              " '\\n',\n",
              " ' ',\n",
              " '!',\n",
              " '\"',\n",
              " '$',\n",
              " '%',\n",
              " '&',\n",
              " \"'\",\n",
              " '(',\n",
              " ')',\n",
              " ',',\n",
              " '-',\n",
              " '.',\n",
              " '0',\n",
              " '1',\n",
              " '2',\n",
              " '3',\n",
              " '4',\n",
              " '5',\n",
              " '6',\n",
              " '7',\n",
              " '8',\n",
              " '9',\n",
              " ':',\n",
              " '?',\n",
              " 'A',\n",
              " 'B',\n",
              " 'C',\n",
              " 'D',\n",
              " 'E',\n",
              " 'F',\n",
              " 'G',\n",
              " 'H',\n",
              " 'I',\n",
              " 'J',\n",
              " 'K',\n",
              " 'L',\n",
              " 'M',\n",
              " 'N',\n",
              " 'O',\n",
              " 'P',\n",
              " 'Q',\n",
              " 'R',\n",
              " 'S',\n",
              " 'T',\n",
              " 'U',\n",
              " 'V',\n",
              " 'W',\n",
              " 'X',\n",
              " 'Y',\n",
              " 'a',\n",
              " 'b',\n",
              " 'c',\n",
              " 'd',\n",
              " 'e',\n",
              " 'f',\n",
              " 'g',\n",
              " 'h',\n",
              " 'i',\n",
              " 'j',\n",
              " 'k',\n",
              " 'l',\n",
              " 'm',\n",
              " 'n',\n",
              " 'o',\n",
              " 'p',\n",
              " 'q',\n",
              " 'r',\n",
              " 's',\n",
              " 't',\n",
              " 'u',\n",
              " 'v',\n",
              " 'w',\n",
              " 'x',\n",
              " 'y',\n",
              " 'z',\n",
              " '\\xa0',\n",
              " '«',\n",
              " '»',\n",
              " 'À',\n",
              " 'Ç',\n",
              " 'É',\n",
              " 'Ê',\n",
              " 'Ô',\n",
              " 'à',\n",
              " 'â',\n",
              " 'ç',\n",
              " 'è',\n",
              " 'é',\n",
              " 'ê',\n",
              " 'ë',\n",
              " 'î',\n",
              " 'ï',\n",
              " 'ô',\n",
              " 'ù',\n",
              " 'û',\n",
              " 'œ',\n",
              " '\\u2009',\n",
              " '‘',\n",
              " '’',\n",
              " '\\u202f'}"
            ]
          },
          "metadata": {},
          "execution_count": 12
        }
      ]
    },
    {
      "cell_type": "code",
      "metadata": {
        "id": "5wUWMjc5WQ3s",
        "colab": {
          "base_uri": "https://localhost:8080/"
        },
        "outputId": "fc2d78a6-cc1e-4d89-a2e3-1e24ab125c74"
      },
      "source": [
        "# Because this is a character-level model, the vocab for both the encoder\n",
        "# side and the decoder side is the list of unique characters in each set.\n",
        "input_characters = sorted(list(input_characters))\n",
        "target_characters = sorted(list(target_characters))\n",
        "num_encoder_tokens = len(input_characters)\n",
        "num_decoder_tokens = len(target_characters)\n",
        "\n",
        "# These need not match\n",
        "print(\"Number of unique input tokens:\", num_encoder_tokens)\n",
        "print(\"Number of unique output tokens:\", num_decoder_tokens)"
      ],
      "execution_count": 13,
      "outputs": [
        {
          "output_type": "stream",
          "name": "stdout",
          "text": [
            "Number of unique input tokens: 76\n",
            "Number of unique output tokens: 102\n"
          ]
        }
      ]
    },
    {
      "cell_type": "markdown",
      "metadata": {
        "id": "6gQO0SyacY-7"
      },
      "source": [
        "Linguistic curiosity question: Why would the character list be larger for French than for English?"
      ]
    },
    {
      "cell_type": "code",
      "metadata": {
        "id": "t9LuTbSlcwSe",
        "colab": {
          "base_uri": "https://localhost:8080/"
        },
        "outputId": "9ffe4f8b-12fa-4c26-b2a3-3e260bea23a5"
      },
      "source": [
        "# These are the \"message lengths\" calibrated in the number of characters.\n",
        "# Because we are doing a character-level model these values define how far\n",
        "# the encoder LSTM and the decoder LSTM (respectively) need to be \"unrolled\"\n",
        "# in order to do the training. \n",
        "#\n",
        "# Also remember that shorter sequences will need to be padded.\n",
        "max_encoder_seq_length = max([len(txt) for txt in input_texts])\n",
        "max_decoder_seq_length = max([len(txt) for txt in target_texts])\n",
        "\n",
        "print(\"Max sequence length for inputs:\", max_encoder_seq_length)\n",
        "print(\"Max sequence length for outputs:\", max_decoder_seq_length)"
      ],
      "execution_count": 14,
      "outputs": [
        {
          "output_type": "stream",
          "name": "stdout",
          "text": [
            "Max sequence length for inputs: 18\n",
            "Max sequence length for outputs: 59\n"
          ]
        }
      ]
    },
    {
      "cell_type": "code",
      "metadata": {
        "id": "ka9yrXPNVvzZ"
      },
      "source": [
        "# Next we will vectorize all of the input and target messages using one hot encoding\n",
        "\n",
        "# First, make Python dictionaries for the input and target messages\n",
        "input_token_index = dict([(char, i) for i, char in enumerate(input_characters)])\n",
        "target_token_index = dict([(char, i) for i, char in enumerate(target_characters)])\n",
        "\n",
        "# Remember that the seq2seq data is actually a 3-tuple. The encoder takes \n",
        "# input messages as input but creates no output except for the hidden state.\n",
        "# The decoder has both inputs and targets. These three lines fill vectors\n",
        "# with zeroes to initialize them.\n",
        "\n",
        "# The encoder inputs - will hold character sequences for short English phrases\n",
        "encoder_input_data = np.zeros((len(input_texts), max_encoder_seq_length, num_encoder_tokens), dtype=\"float32\")\n",
        "\n",
        "# The decoder inputs - will hold character sequences for short French phrases\n",
        "decoder_input_data = np.zeros((len(input_texts), max_decoder_seq_length, num_decoder_tokens), dtype=\"float32\")\n",
        "\n",
        "# Same size numpy array for the decoder targets\n",
        "decoder_target_data = np.zeros((len(input_texts), max_decoder_seq_length, num_decoder_tokens), dtype=\"float32\")\n",
        "\n"
      ],
      "execution_count": 15,
      "outputs": []
    },
    {
      "cell_type": "code",
      "metadata": {
        "id": "ncN76exU_rVm",
        "colab": {
          "base_uri": "https://localhost:8080/"
        },
        "outputId": "19b41e21-5026-4343-d482-b582fd9a64f5"
      },
      "source": [
        "#\n",
        "# Exercise 11.3: Display the contents of input_token_index\n",
        "#\n",
        "input_token_index\n",
        "#We can see the input list with index"
      ],
      "execution_count": 16,
      "outputs": [
        {
          "output_type": "execute_result",
          "data": {
            "text/plain": [
              "{' ': 0,\n",
              " '!': 1,\n",
              " '\"': 2,\n",
              " '$': 3,\n",
              " '%': 4,\n",
              " '&': 5,\n",
              " \"'\": 6,\n",
              " ',': 7,\n",
              " '-': 8,\n",
              " '.': 9,\n",
              " '/': 10,\n",
              " '0': 11,\n",
              " '1': 12,\n",
              " '2': 13,\n",
              " '3': 14,\n",
              " '4': 15,\n",
              " '5': 16,\n",
              " '6': 17,\n",
              " '7': 18,\n",
              " '8': 19,\n",
              " '9': 20,\n",
              " ':': 21,\n",
              " '?': 22,\n",
              " 'A': 23,\n",
              " 'B': 24,\n",
              " 'C': 25,\n",
              " 'D': 26,\n",
              " 'E': 27,\n",
              " 'F': 28,\n",
              " 'G': 29,\n",
              " 'H': 30,\n",
              " 'I': 31,\n",
              " 'J': 32,\n",
              " 'K': 33,\n",
              " 'L': 34,\n",
              " 'M': 35,\n",
              " 'N': 36,\n",
              " 'O': 37,\n",
              " 'P': 38,\n",
              " 'Q': 39,\n",
              " 'R': 40,\n",
              " 'S': 41,\n",
              " 'T': 42,\n",
              " 'U': 43,\n",
              " 'V': 44,\n",
              " 'W': 45,\n",
              " 'X': 46,\n",
              " 'Y': 47,\n",
              " 'Z': 48,\n",
              " 'a': 49,\n",
              " 'b': 50,\n",
              " 'c': 51,\n",
              " 'd': 52,\n",
              " 'e': 53,\n",
              " 'f': 54,\n",
              " 'g': 55,\n",
              " 'h': 56,\n",
              " 'i': 57,\n",
              " 'j': 58,\n",
              " 'k': 59,\n",
              " 'l': 60,\n",
              " 'm': 61,\n",
              " 'n': 62,\n",
              " 'o': 63,\n",
              " 'p': 64,\n",
              " 'q': 65,\n",
              " 'r': 66,\n",
              " 's': 67,\n",
              " 't': 68,\n",
              " 'u': 69,\n",
              " 'v': 70,\n",
              " 'w': 71,\n",
              " 'x': 72,\n",
              " 'y': 73,\n",
              " 'z': 74,\n",
              " 'é': 75}"
            ]
          },
          "metadata": {},
          "execution_count": 16
        }
      ]
    },
    {
      "cell_type": "code",
      "metadata": {
        "id": "8dK2jTkB_-1I",
        "colab": {
          "base_uri": "https://localhost:8080/"
        },
        "outputId": "0a905720-bef9-45f6-ce39-5a8288670e2f"
      },
      "source": [
        "#\n",
        "# Exercise 11.4: Compare the contents of input_token_index and target_token_index\n",
        "# Write a comment noting what you find.\n",
        "#\n",
        "[ (i, t) for i, t in enumerate(zip(input_token_index, target_token_index))]\n",
        "#Comparing the input and target we see \\t and \\n additional in target tokens\n",
        "#\\t represents the start and \\n represent the end\n",
        "#We see how the encoder compresses to lower, and the same signals are passed to decoder\n",
        "#with start and end additionally to predict"
      ],
      "execution_count": 18,
      "outputs": [
        {
          "output_type": "execute_result",
          "data": {
            "text/plain": [
              "[(0, (' ', '\\t')),\n",
              " (1, ('!', '\\n')),\n",
              " (2, ('\"', ' ')),\n",
              " (3, ('$', '!')),\n",
              " (4, ('%', '\"')),\n",
              " (5, ('&', '$')),\n",
              " (6, (\"'\", '%')),\n",
              " (7, (',', '&')),\n",
              " (8, ('-', \"'\")),\n",
              " (9, ('.', '(')),\n",
              " (10, ('/', ')')),\n",
              " (11, ('0', ',')),\n",
              " (12, ('1', '-')),\n",
              " (13, ('2', '.')),\n",
              " (14, ('3', '0')),\n",
              " (15, ('4', '1')),\n",
              " (16, ('5', '2')),\n",
              " (17, ('6', '3')),\n",
              " (18, ('7', '4')),\n",
              " (19, ('8', '5')),\n",
              " (20, ('9', '6')),\n",
              " (21, (':', '7')),\n",
              " (22, ('?', '8')),\n",
              " (23, ('A', '9')),\n",
              " (24, ('B', ':')),\n",
              " (25, ('C', '?')),\n",
              " (26, ('D', 'A')),\n",
              " (27, ('E', 'B')),\n",
              " (28, ('F', 'C')),\n",
              " (29, ('G', 'D')),\n",
              " (30, ('H', 'E')),\n",
              " (31, ('I', 'F')),\n",
              " (32, ('J', 'G')),\n",
              " (33, ('K', 'H')),\n",
              " (34, ('L', 'I')),\n",
              " (35, ('M', 'J')),\n",
              " (36, ('N', 'K')),\n",
              " (37, ('O', 'L')),\n",
              " (38, ('P', 'M')),\n",
              " (39, ('Q', 'N')),\n",
              " (40, ('R', 'O')),\n",
              " (41, ('S', 'P')),\n",
              " (42, ('T', 'Q')),\n",
              " (43, ('U', 'R')),\n",
              " (44, ('V', 'S')),\n",
              " (45, ('W', 'T')),\n",
              " (46, ('X', 'U')),\n",
              " (47, ('Y', 'V')),\n",
              " (48, ('Z', 'W')),\n",
              " (49, ('a', 'X')),\n",
              " (50, ('b', 'Y')),\n",
              " (51, ('c', 'a')),\n",
              " (52, ('d', 'b')),\n",
              " (53, ('e', 'c')),\n",
              " (54, ('f', 'd')),\n",
              " (55, ('g', 'e')),\n",
              " (56, ('h', 'f')),\n",
              " (57, ('i', 'g')),\n",
              " (58, ('j', 'h')),\n",
              " (59, ('k', 'i')),\n",
              " (60, ('l', 'j')),\n",
              " (61, ('m', 'k')),\n",
              " (62, ('n', 'l')),\n",
              " (63, ('o', 'm')),\n",
              " (64, ('p', 'n')),\n",
              " (65, ('q', 'o')),\n",
              " (66, ('r', 'p')),\n",
              " (67, ('s', 'q')),\n",
              " (68, ('t', 'r')),\n",
              " (69, ('u', 's')),\n",
              " (70, ('v', 't')),\n",
              " (71, ('w', 'u')),\n",
              " (72, ('x', 'v')),\n",
              " (73, ('y', 'w')),\n",
              " (74, ('z', 'x')),\n",
              " (75, ('é', 'y'))]"
            ]
          },
          "metadata": {},
          "execution_count": 18
        }
      ]
    },
    {
      "cell_type": "code",
      "metadata": {
        "id": "dfxDvkjs-gMn"
      },
      "source": [
        "# Now fill the vectors with one hot encoded sequences\n",
        "\n",
        "# Iterate over all of our phrase pairs\n",
        "for i, (input_text, target_text) in enumerate(zip(input_texts, target_texts)):\n",
        "    \n",
        "    # Iterate over all of the characters in the input phrase\n",
        "    for t, char in enumerate(input_text):\n",
        "        encoder_input_data[i, t, input_token_index[char]] = 1.0\n",
        "\n",
        "    # This adds padding with spaces\n",
        "    encoder_input_data[i, t + 1 :, input_token_index[\" \"]] = 1.0\n",
        "\n",
        "    # Iterate over all of the characters in the target phrase. Here we are\n",
        "    # filling two vectors \n",
        "    for t, char in enumerate(target_text):\n",
        "        # decoder_target_data is ahead of decoder_input_data by one timestep\n",
        "        decoder_input_data[i, t, target_token_index[char]] = 1.0\n",
        "        if t > 0:\n",
        "            # decoder_target_data will be ahead by one timestep\n",
        "            # and will not include the start character.\n",
        "            decoder_target_data[i, t - 1, target_token_index[char]] = 1.0\n",
        "    \n",
        "    # This adds padding with spaces\n",
        "    decoder_input_data[i, t + 1 :, target_token_index[\" \"]] = 1.0\n",
        "    decoder_target_data[i, t:, target_token_index[\" \"]] = 1.0"
      ],
      "execution_count": 19,
      "outputs": []
    },
    {
      "cell_type": "code",
      "metadata": {
        "id": "IQGzC2B-h691",
        "colab": {
          "base_uri": "https://localhost:8080/"
        },
        "outputId": "4162a162-b3f0-462d-e47c-5ec1772ccbc0"
      },
      "source": [
        "len(encoder_input_data), len(decoder_input_data), len(decoder_target_data)"
      ],
      "execution_count": 20,
      "outputs": [
        {
          "output_type": "execute_result",
          "data": {
            "text/plain": [
              "(28000, 28000, 28000)"
            ]
          },
          "metadata": {},
          "execution_count": 20
        }
      ]
    },
    {
      "cell_type": "code",
      "metadata": {
        "id": "CQWqgx9KAmtL",
        "colab": {
          "base_uri": "https://localhost:8080/"
        },
        "outputId": "54671b8d-9fc3-4615-e382-7c7358064f4c"
      },
      "source": [
        "#\n",
        "# Exercise 11.5: Display the first few elements of each of the data vectors.\n",
        "# Explain what you see in a comment.\n",
        "#\n",
        "print(encoder_input_data[1][2])\n",
        "#Encoder input data iterates over the encoder representation\n",
        "#Here we iterate over all the input characters\n",
        "#Here we can see the padding added to the input encoder representation"
      ],
      "execution_count": 48,
      "outputs": [
        {
          "output_type": "stream",
          "name": "stdout",
          "text": [
            "[0. 0. 0. 0. 0. 0. 0. 0. 0. 0. 0. 0. 0. 0. 0. 0. 0. 0. 0. 0. 0. 0. 0. 0.\n",
            " 0. 0. 0. 0. 0. 0. 0. 0. 0. 0. 0. 0. 0. 0. 0. 0. 0. 0. 0. 0. 0. 0. 0. 0.\n",
            " 0. 0. 0. 0. 0. 0. 1. 0. 0. 0. 0. 0. 0. 0. 0. 0. 0. 0. 0. 0. 0. 0. 0. 0.\n",
            " 0. 0. 0. 0.]\n"
          ]
        }
      ]
    },
    {
      "cell_type": "code",
      "source": [
        "print(decoder_input_data[1][2])\n",
        "#Here we are iterating over character phrases in the target\n",
        "#Here we are filling two vectors - start and end"
      ],
      "metadata": {
        "colab": {
          "base_uri": "https://localhost:8080/"
        },
        "id": "cs_qlE1J3Rk2",
        "outputId": "f67f311c-86f8-472f-9ba4-ec3cb7ff5e08"
      },
      "execution_count": 49,
      "outputs": [
        {
          "output_type": "stream",
          "name": "stdout",
          "text": [
            "[0. 0. 0. 0. 0. 0. 0. 0. 0. 0. 0. 0. 0. 0. 0. 0. 0. 0. 0. 0. 0. 0. 0. 0.\n",
            " 0. 0. 0. 0. 0. 0. 0. 0. 0. 0. 0. 0. 0. 0. 0. 0. 0. 0. 0. 0. 0. 0. 0. 0.\n",
            " 0. 0. 0. 0. 0. 0. 0. 1. 0. 0. 0. 0. 0. 0. 0. 0. 0. 0. 0. 0. 0. 0. 0. 0.\n",
            " 0. 0. 0. 0. 0. 0. 0. 0. 0. 0. 0. 0. 0. 0. 0. 0. 0. 0. 0. 0. 0. 0. 0. 0.\n",
            " 0. 0. 0. 0. 0. 0.]\n"
          ]
        }
      ]
    },
    {
      "cell_type": "code",
      "source": [
        "print(decoder_target_data[1][2])\n",
        "#decoder_target_data is ahead of decoder_input_data by one timestep\n",
        "#Because it will not include the start character"
      ],
      "metadata": {
        "colab": {
          "base_uri": "https://localhost:8080/"
        },
        "id": "dZ0-EtWu3UC7",
        "outputId": "bdcd87b2-76f6-470f-91db-29c89f50a3f1"
      },
      "execution_count": 50,
      "outputs": [
        {
          "output_type": "stream",
          "name": "stdout",
          "text": [
            "[0. 0. 1. 0. 0. 0. 0. 0. 0. 0. 0. 0. 0. 0. 0. 0. 0. 0. 0. 0. 0. 0. 0. 0.\n",
            " 0. 0. 0. 0. 0. 0. 0. 0. 0. 0. 0. 0. 0. 0. 0. 0. 0. 0. 0. 0. 0. 0. 0. 0.\n",
            " 0. 0. 0. 0. 0. 0. 0. 0. 0. 0. 0. 0. 0. 0. 0. 0. 0. 0. 0. 0. 0. 0. 0. 0.\n",
            " 0. 0. 0. 0. 0. 0. 0. 0. 0. 0. 0. 0. 0. 0. 0. 0. 0. 0. 0. 0. 0. 0. 0. 0.\n",
            " 0. 0. 0. 0. 0. 0.]\n"
          ]
        }
      ]
    },
    {
      "cell_type": "markdown",
      "source": [
        "Augment this text block with an explanation of why we need a \"triplet\" of data. What's the difference between decoder_input_data and decoder_target_data? Make sure you examine at least one instance of each to understand what is happening with the decoder data."
      ],
      "metadata": {
        "id": "c6LkVxfAkDyi"
      }
    },
    {
      "cell_type": "markdown",
      "metadata": {
        "id": "5pcEoGhUAajH"
      },
      "source": [
        "## Build the model for training\n",
        "\n",
        "Note that we are going to create a single model for training that joins the encoder module with the decoder module via the thought vector. We need to use the functional interface to keras, rather than Sequential() because of the triplet of data.\n"
      ]
    },
    {
      "cell_type": "code",
      "metadata": {
        "id": "fcHgNBX9jM0C"
      },
      "source": [
        "# Build the encoder portion of the sequence to sequence model.\n",
        "\n",
        "# 1. Define an input sequence and process it.\n",
        "encoder_inputs = keras.Input(shape=(None, num_encoder_tokens))\n",
        "\n",
        "# 2. Use a LSTM layer to process the input vectors. After today's lecture\n",
        "# you should know what return_state does.\n",
        "encoder = keras.layers.LSTM(latent_dim, return_state=True)\n",
        "\n",
        "# 3. Save the output from the encoder, but see step 4. Note the use of \n",
        "# the functional programming interface here. For deep learning models that\n",
        "# are not simple seqiential layers, this interface provides a stratightforward\n",
        "# way of connecting one element of a model to the element that it should \n",
        "# feed into. Look how we get both state_h and state_c from this LSTM.\n",
        "encoder_outputs, state_h, state_c = encoder(encoder_inputs)\n",
        "\n",
        "# 4. We discard `encoder_outputs` and only keep the states.\n",
        "encoder_states = [state_h, state_c] # Keep an eye on this: We are about to use it\n"
      ],
      "execution_count": 24,
      "outputs": []
    },
    {
      "cell_type": "markdown",
      "metadata": {
        "id": "29Nopbo9kFO8"
      },
      "source": [
        "We set up our decoder to return full output sequences, and to return internal states as well. We don't use the return states in the training model, but we will use them in inference."
      ]
    },
    {
      "cell_type": "code",
      "metadata": {
        "id": "DWpRFozdAajH"
      },
      "source": [
        "# Set up the decoder, using `encoder_states` as initial state.\n",
        "\n",
        "# This takes the target tokens as the input.\n",
        "decoder_inputs = keras.Input(shape=(None, num_decoder_tokens))\n",
        "\n",
        "# The LSTM layer has the same internal dimensionality as for the encoder.\n",
        "decoder_lstm = keras.layers.LSTM(latent_dim, return_sequences=True, return_state=True)\n",
        "\n",
        "# Save the decoder output: Note that this uses decoder_inputs and encoder states\n",
        "decoder_outputs, _, _ = decoder_lstm(decoder_inputs, initial_state=encoder_states)\n",
        "# Look at this line of code; here we are using the encoder state ^^^^^^^^^^^^^^^^\n",
        "\n",
        "# Dense with softmax allows us to predict categorical output (our list of French characters)\n",
        "decoder_dense = keras.layers.Dense(num_decoder_tokens, activation=\"softmax\")\n",
        "# Our softmax layer will have 100 nodes - enough to account for the full size of \n",
        "# the output vocabulary. We will use argmax() to grab the most likely token \n",
        "# from each step.\n",
        "\n",
        "# Output layer\n",
        "decoder_outputs = decoder_dense(decoder_outputs)\n",
        "\n",
        "# Define the overall model. This binds the encoder and decoder and will turn\n",
        "# `encoder_input_data` & `decoder_input_data` into `decoder_target_data`\n",
        "model = keras.Model([encoder_inputs, decoder_inputs], decoder_outputs)\n"
      ],
      "execution_count": 25,
      "outputs": []
    },
    {
      "cell_type": "code",
      "metadata": {
        "id": "2YEdWLNYkc4I",
        "colab": {
          "base_uri": "https://localhost:8080/"
        },
        "outputId": "484f3ab3-5a57-4563-c7cd-50f60ae9a785"
      },
      "source": [
        "# We use categorical_crossentropy because our prediction is multinomial: we\n",
        "# are trying to predict which is the most likely character for the next time step.\n",
        "model.compile(optimizer=\"rmsprop\", loss=\"categorical_crossentropy\", metrics=[\"categorical_accuracy\"])\n",
        "\n",
        "model.summary()"
      ],
      "execution_count": 26,
      "outputs": [
        {
          "output_type": "stream",
          "name": "stdout",
          "text": [
            "Model: \"model\"\n",
            "__________________________________________________________________________________________________\n",
            " Layer (type)                   Output Shape         Param #     Connected to                     \n",
            "==================================================================================================\n",
            " input_1 (InputLayer)           [(None, None, 76)]   0           []                               \n",
            "                                                                                                  \n",
            " input_2 (InputLayer)           [(None, None, 102)]  0           []                               \n",
            "                                                                                                  \n",
            " lstm (LSTM)                    [(None, 256),        340992      ['input_1[0][0]']                \n",
            "                                 (None, 256),                                                     \n",
            "                                 (None, 256)]                                                     \n",
            "                                                                                                  \n",
            " lstm_1 (LSTM)                  [(None, None, 256),  367616      ['input_2[0][0]',                \n",
            "                                 (None, 256),                     'lstm[0][1]',                   \n",
            "                                 (None, 256)]                     'lstm[0][2]']                   \n",
            "                                                                                                  \n",
            " dense (Dense)                  (None, None, 102)    26214       ['lstm_1[0][0]']                 \n",
            "                                                                                                  \n",
            "==================================================================================================\n",
            "Total params: 734,822\n",
            "Trainable params: 734,822\n",
            "Non-trainable params: 0\n",
            "__________________________________________________________________________________________________\n"
          ]
        }
      ]
    },
    {
      "cell_type": "code",
      "source": [
        "# Try plotting\n",
        "keras.utils.plot_model(model)"
      ],
      "metadata": {
        "id": "22Bo5CBhv60i",
        "colab": {
          "base_uri": "https://localhost:8080/",
          "height": 369
        },
        "outputId": "2fb3089f-11c3-4b89-ed07-f67ceeaa71fe"
      },
      "execution_count": 27,
      "outputs": [
        {
          "output_type": "execute_result",
          "data": {
            "image/png": "[encoded data removed]",
            "text/plain": [
              "<IPython.core.display.Image object>"
            ]
          },
          "metadata": {},
          "execution_count": 27
        }
      ]
    },
    {
      "cell_type": "markdown",
      "metadata": {
        "id": "G1bmy2vdnclz"
      },
      "source": [
        "Make sure to examine the rightmost column of the model summary  as well as the plot of the model. These diagnostics show the results of using the functional interface to Keras where we can connect a layer to another layer in a way that goes beyond the simple sequential addition of layers. In the plot, the second LSTM receives input from both the thought vector (the final h and C state of the first LSTM) as well as the decoder input data with its start and end tokens."
      ]
    },
    {
      "cell_type": "markdown",
      "metadata": {
        "id": "0Diwq35QAajI"
      },
      "source": [
        "## Train the model\n"
      ]
    },
    {
      "cell_type": "code",
      "metadata": {
        "id": "Xh-yLekUAajI",
        "colab": {
          "base_uri": "https://localhost:8080/"
        },
        "outputId": "1aa23df3-b769-44e4-e276-f76a93367782"
      },
      "source": [
        "# With GPU on and 28,000 instances, each epoch after the first one should take\n",
        "# about five seconds, for a total training time of under two minutes.\n",
        "history = model.fit(\n",
        "    [encoder_input_data, decoder_input_data],\n",
        "    decoder_target_data,\n",
        "    batch_size=batch_size,\n",
        "    epochs=epochs,\n",
        "    validation_split=0.2,\n",
        ")\n",
        "\n"
      ],
      "execution_count": 28,
      "outputs": [
        {
          "output_type": "stream",
          "name": "stdout",
          "text": [
            "Epoch 1/15\n",
            "350/350 [==============================] - 14s 15ms/step - loss: 1.1706 - categorical_accuracy: 0.7056 - val_loss: 0.9538 - val_categorical_accuracy: 0.7336\n",
            "Epoch 2/15\n",
            "350/350 [==============================] - 4s 12ms/step - loss: 0.8300 - categorical_accuracy: 0.7629 - val_loss: 0.7518 - val_categorical_accuracy: 0.7822\n",
            "Epoch 3/15\n",
            "350/350 [==============================] - 4s 11ms/step - loss: 0.7094 - categorical_accuracy: 0.7927 - val_loss: 0.6768 - val_categorical_accuracy: 0.8014\n",
            "Epoch 4/15\n",
            "350/350 [==============================] - 4s 11ms/step - loss: 0.6507 - categorical_accuracy: 0.8084 - val_loss: 0.6277 - val_categorical_accuracy: 0.8147\n",
            "Epoch 5/15\n",
            "350/350 [==============================] - 4s 12ms/step - loss: 0.6078 - categorical_accuracy: 0.8208 - val_loss: 0.5872 - val_categorical_accuracy: 0.8270\n",
            "Epoch 6/15\n",
            "350/350 [==============================] - 4s 11ms/step - loss: 0.5745 - categorical_accuracy: 0.8300 - val_loss: 0.5635 - val_categorical_accuracy: 0.8339\n",
            "Epoch 7/15\n",
            "350/350 [==============================] - 4s 11ms/step - loss: 0.5456 - categorical_accuracy: 0.8384 - val_loss: 0.5350 - val_categorical_accuracy: 0.8405\n",
            "Epoch 8/15\n",
            "350/350 [==============================] - 4s 12ms/step - loss: 0.5213 - categorical_accuracy: 0.8450 - val_loss: 0.5128 - val_categorical_accuracy: 0.8483\n",
            "Epoch 9/15\n",
            "350/350 [==============================] - 4s 12ms/step - loss: 0.5005 - categorical_accuracy: 0.8507 - val_loss: 0.4973 - val_categorical_accuracy: 0.8523\n",
            "Epoch 10/15\n",
            "350/350 [==============================] - 4s 11ms/step - loss: 0.4830 - categorical_accuracy: 0.8557 - val_loss: 0.4799 - val_categorical_accuracy: 0.8573\n",
            "Epoch 11/15\n",
            "350/350 [==============================] - 5s 14ms/step - loss: 0.4681 - categorical_accuracy: 0.8601 - val_loss: 0.4696 - val_categorical_accuracy: 0.8602\n",
            "Epoch 12/15\n",
            "350/350 [==============================] - 4s 11ms/step - loss: 0.4538 - categorical_accuracy: 0.8644 - val_loss: 0.4543 - val_categorical_accuracy: 0.8658\n",
            "Epoch 13/15\n",
            "350/350 [==============================] - 4s 11ms/step - loss: 0.4415 - categorical_accuracy: 0.8680 - val_loss: 0.4451 - val_categorical_accuracy: 0.8668\n",
            "Epoch 14/15\n",
            "350/350 [==============================] - 4s 12ms/step - loss: 0.4297 - categorical_accuracy: 0.8718 - val_loss: 0.4350 - val_categorical_accuracy: 0.8704\n",
            "Epoch 15/15\n",
            "350/350 [==============================] - 4s 11ms/step - loss: 0.4193 - categorical_accuracy: 0.8747 - val_loss: 0.4267 - val_categorical_accuracy: 0.8732\n"
          ]
        }
      ]
    },
    {
      "cell_type": "code",
      "metadata": {
        "id": "7A3H1NBsCc89",
        "colab": {
          "base_uri": "https://localhost:8080/",
          "height": 472
        },
        "outputId": "c5914145-ca46-468b-cf64-a7b4c04a23c2"
      },
      "source": [
        "# Graphing code fragment modified from Rahul Verma on Stackoverflow\n",
        "from matplotlib import pyplot as plt\n",
        "\n",
        "plt.plot(history.history['categorical_accuracy'])\n",
        "plt.title('Model History')\n",
        "plt.ylabel('Categorical Accuracy')\n",
        "plt.xlabel('Epoch')\n",
        "plt.legend(['Accuracy'], loc='upper right')\n",
        "plt.show()"
      ],
      "execution_count": 29,
      "outputs": [
        {
          "output_type": "display_data",
          "data": {
            "text/plain": [
              "<Figure size 640x480 with 1 Axes>"
            ],
            "image/png": "[encoded data removed]"
          },
          "metadata": {}
        }
      ]
    },
    {
      "cell_type": "markdown",
      "source": [
        "#Checkpoint! - Write your final accuracy on the white board\n",
        "\n",
        "Locate the value of categorical accuracy from the final epoch reported just above. Write your name on the board with the accuracy value."
      ],
      "metadata": {
        "id": "Fpz8VLTJDWCx"
      }
    },
    {
      "cell_type": "code",
      "metadata": {
        "id": "AWO6qnjFDxnO",
        "colab": {
          "base_uri": "https://localhost:8080/"
        },
        "outputId": "1d0e0171-4136-4678-9a43-99fcfb9d0def"
      },
      "source": [
        "#\n",
        "# Exercise 11.6: Based on the training curve above, does the model need\n",
        "# more training epochs? If so, run additional training epochs.\n",
        "#\n",
        "#Yes the model can get more accuracy with more epochs.\n",
        "\n",
        "history = model.fit(\n",
        "    [encoder_input_data, decoder_input_data],\n",
        "    decoder_target_data,\n",
        "    batch_size=batch_size,\n",
        "    epochs=epochs,\n",
        "    validation_split=0.2,\n",
        ")\n",
        "\n",
        "#The accuracy is increasing by 4% with more training, but it could also overfit."
      ],
      "execution_count": 30,
      "outputs": [
        {
          "output_type": "stream",
          "name": "stdout",
          "text": [
            "Epoch 1/15\n",
            "350/350 [==============================] - 5s 15ms/step - loss: 0.4094 - categorical_accuracy: 0.8777 - val_loss: 0.4191 - val_categorical_accuracy: 0.8747\n",
            "Epoch 2/15\n",
            "350/350 [==============================] - 4s 11ms/step - loss: 0.4004 - categorical_accuracy: 0.8802 - val_loss: 0.4095 - val_categorical_accuracy: 0.8780\n",
            "Epoch 3/15\n",
            "350/350 [==============================] - 4s 11ms/step - loss: 0.3922 - categorical_accuracy: 0.8826 - val_loss: 0.4057 - val_categorical_accuracy: 0.8784\n",
            "Epoch 4/15\n",
            "350/350 [==============================] - 4s 12ms/step - loss: 0.3843 - categorical_accuracy: 0.8847 - val_loss: 0.3991 - val_categorical_accuracy: 0.8811\n",
            "Epoch 5/15\n",
            "350/350 [==============================] - 4s 11ms/step - loss: 0.3771 - categorical_accuracy: 0.8872 - val_loss: 0.3937 - val_categorical_accuracy: 0.8829\n",
            "Epoch 6/15\n",
            "350/350 [==============================] - 4s 11ms/step - loss: 0.3701 - categorical_accuracy: 0.8890 - val_loss: 0.3885 - val_categorical_accuracy: 0.8841\n",
            "Epoch 7/15\n",
            "350/350 [==============================] - 5s 14ms/step - loss: 0.3636 - categorical_accuracy: 0.8909 - val_loss: 0.3829 - val_categorical_accuracy: 0.8864\n",
            "Epoch 8/15\n",
            "350/350 [==============================] - 4s 11ms/step - loss: 0.3572 - categorical_accuracy: 0.8926 - val_loss: 0.3801 - val_categorical_accuracy: 0.8865\n",
            "Epoch 9/15\n",
            "350/350 [==============================] - 4s 11ms/step - loss: 0.3516 - categorical_accuracy: 0.8943 - val_loss: 0.3743 - val_categorical_accuracy: 0.8885\n",
            "Epoch 10/15\n",
            "350/350 [==============================] - 4s 12ms/step - loss: 0.3460 - categorical_accuracy: 0.8958 - val_loss: 0.3718 - val_categorical_accuracy: 0.8892\n",
            "Epoch 11/15\n",
            "350/350 [==============================] - 4s 11ms/step - loss: 0.3407 - categorical_accuracy: 0.8976 - val_loss: 0.3677 - val_categorical_accuracy: 0.8904\n",
            "Epoch 12/15\n",
            "350/350 [==============================] - 4s 11ms/step - loss: 0.3354 - categorical_accuracy: 0.8989 - val_loss: 0.3670 - val_categorical_accuracy: 0.8906\n",
            "Epoch 13/15\n",
            "350/350 [==============================] - 4s 12ms/step - loss: 0.3306 - categorical_accuracy: 0.9005 - val_loss: 0.3609 - val_categorical_accuracy: 0.8924\n",
            "Epoch 14/15\n",
            "350/350 [==============================] - 4s 11ms/step - loss: 0.3256 - categorical_accuracy: 0.9020 - val_loss: 0.3571 - val_categorical_accuracy: 0.8936\n",
            "Epoch 15/15\n",
            "350/350 [==============================] - 4s 11ms/step - loss: 0.3212 - categorical_accuracy: 0.9032 - val_loss: 0.3552 - val_categorical_accuracy: 0.8944\n"
          ]
        }
      ]
    },
    {
      "cell_type": "code",
      "metadata": {
        "id": "c3CsLt8DCDl_"
      },
      "source": [
        "# Optionally save the model to the VM disk\n",
        "\n",
        "save_and_restore = False # Change this to true if you want to save your model\n",
        "\n",
        "if save_and_restore:\n",
        "  model.save(\"s2s\")"
      ],
      "execution_count": null,
      "outputs": []
    },
    {
      "cell_type": "code",
      "metadata": {
        "id": "V0zb2Z_cs-3q"
      },
      "source": [
        "# Optionally zip the s2s directory so that it can be downloaded to your local\n",
        "# machine. This would make it possible to restore the model.\n",
        "# !zip -r s2s.zip s2s # Uncomment this to save zip file\n",
        "# This zips down to about a few MB, depending upon the size of the LSTM layers.\n",
        "\n",
        "# If you later upload the zip file to the file area for this VM, you can unzip \n",
        "# the s2s.zip file into the corresponding directory of model data:\n",
        "# !unzip s2s.zip"
      ],
      "execution_count": null,
      "outputs": []
    },
    {
      "cell_type": "markdown",
      "metadata": {
        "id": "lSTAqzSaAajI"
      },
      "source": [
        "## Run inference (sampling)\n",
        "\n",
        "1. Encode input and retrieve initial decoder state\n",
        "2. Run one step of decoder with this initial state\n",
        "and a \"start of sequence\" token as target.\n",
        "Output will be the next target token.\n",
        "3. Repeat with the current target token and current states\n"
      ]
    },
    {
      "cell_type": "code",
      "metadata": {
        "id": "-IBEYqweCQmT"
      },
      "source": [
        "# Optionally restore the model from disk.\n",
        "if save_and_restore:\n",
        "  model = keras.models.load_model(\"s2s\")\n"
      ],
      "execution_count": null,
      "outputs": []
    },
    {
      "cell_type": "markdown",
      "source": [
        "We're now going to construct the inference modules. Note that this construction process grabs weights from the trained model. That means that anytime you do more training or make other changes that would impact the weights in the trained model, you must rerun this next block to get the weights into the inference modules."
      ],
      "metadata": {
        "id": "38ImzeH2pHMv"
      }
    },
    {
      "cell_type": "code",
      "metadata": {
        "id": "dvUgvtbbAajJ"
      },
      "source": [
        "# Construct the encoder and decoder inference modules: Unlike the training\n",
        "# model, these are completely separate from one another. The encoder will be\n",
        "# used to create an initial thought vector and then the decoder will do all\n",
        "# the work of generating translated phrases.\n",
        "\n",
        "encoder_inputs = model.input[0]  # Encoder input layer: Get weights from the trained model\n",
        "encoder_outputs, state_h_enc, state_c_enc = model.layers[2].output  # First LSTM\n",
        "\n",
        "# This is the \"thought vector\" the hidden state that is used to start the decoder\n",
        "encoder_states = [state_h_enc, state_c_enc]\n",
        "encoder_model = keras.Model(encoder_inputs, encoder_states)\n",
        "\n",
        "decoder_inputs = model.input[1]  # This is the second/decoder input layer: Get weights from the trained model\n",
        "decoder_state_input_h = keras.Input(shape=(latent_dim,))\n",
        "decoder_state_input_c = keras.Input(shape=(latent_dim,))\n",
        "decoder_states_inputs = [decoder_state_input_h, decoder_state_input_c]\n",
        "\n",
        "decoder_lstm = model.layers[3] # Second LSTM: Get weights from the trained model \n",
        "\n",
        "decoder_outputs, state_h_dec, state_c_dec = decoder_lstm(\n",
        "    decoder_inputs, initial_state=decoder_states_inputs\n",
        ")\n",
        "decoder_states = [state_h_dec, state_c_dec]\n",
        "\n",
        "decoder_dense = model.layers[4] # Dense output layer: Get weights from the trained model\n",
        "\n",
        "decoder_outputs = decoder_dense(decoder_outputs)\n",
        "\n",
        "decoder_model = keras.Model(\n",
        "    [decoder_inputs] + decoder_states_inputs, [decoder_outputs] + decoder_states\n",
        ")\n"
      ],
      "execution_count": null,
      "outputs": []
    },
    {
      "cell_type": "code",
      "metadata": {
        "id": "na3gKyjZeKlu"
      },
      "source": [
        "encoder_model.summary() # Very simple!"
      ],
      "execution_count": null,
      "outputs": []
    },
    {
      "cell_type": "code",
      "metadata": {
        "id": "JFwQuDjGcm4S"
      },
      "source": [
        "decoder_model.summary() # Looks like three sources of input, but really only two.\n",
        "# The first is the decoder input data: start and end tokens and French phrase characters.\n",
        "# The latter two are the h and C components of the thought vector."
      ],
      "execution_count": null,
      "outputs": []
    },
    {
      "cell_type": "code",
      "metadata": {
        "id": "HZxkKa-sB9sU"
      },
      "source": [
        "#\n",
        "# Exercise 11.7: Examine the type and shape of the model objects created in\n",
        "# the previous block. Explain what you see in a comment.\n",
        "#"
      ],
      "execution_count": null,
      "outputs": []
    },
    {
      "cell_type": "code",
      "metadata": {
        "id": "DmU_h_lkECp_"
      },
      "source": [
        "# Reverse-lookup token index to decode sequences back to\n",
        "# something readable.\n",
        "reverse_input_char_index = dict((i, char) for char, i in input_token_index.items())\n",
        "reverse_target_char_index = dict((i, char) for char, i in target_token_index.items())\n"
      ],
      "execution_count": null,
      "outputs": []
    },
    {
      "cell_type": "code",
      "metadata": {
        "id": "ih1AWQk1CKjN"
      },
      "source": [
        "#\n",
        "# Exercise 11.8: Examine the two reverse target indices created in the \n",
        "# previous block to confirm the nature of the keys and values. Write a \n",
        "# comment explaining what you see. \n",
        "#\n"
      ],
      "execution_count": null,
      "outputs": []
    },
    {
      "cell_type": "code",
      "metadata": {
        "id": "RQFdvJXuEGMr"
      },
      "source": [
        "# Create a function to decode the sequences. This takes a one-hot encoded \n",
        "# input sequence as the input. It runs the encoder model with that input to\n",
        "# generate the \"thought vector.\" The thought vector is fed to the decoder\n",
        "# model and a \\t is issued to the decoder to start producing a sequence.\n",
        "\n",
        "def decode_sequence(input_seq):\n",
        "    # Encode the input as state vectors.\n",
        "    #start = time.process_time()\n",
        "    states_value = encoder_model.predict(input_seq)\n",
        "    #print(\"Encoding:\", time.process_time() - start)\n",
        "\n",
        "    # Generate empty target sequence of length 1.\n",
        "    target_seq = np.zeros((1, 1, num_decoder_tokens))\n",
        "    \n",
        "    # Populate the first character of target sequence with the start character.\n",
        "    target_seq[0, 0, target_token_index[\"\\t\"]] = 1.0\n",
        "\n",
        "    # Sampling loop for a batch of sequences\n",
        "    stop_condition = False\n",
        "    decoded_sentence = \"\"\n",
        "    \n",
        "    # Always a little risky to use a while loop, but we don't know what \n",
        "    # length of sentence the decoder will issue - that's pretty much the \n",
        "    # whole point of a sequence-to-sequence model, right?\n",
        "    while not stop_condition:\n",
        "        #start = time.process_time()\n",
        "        output_tokens, h, c = decoder_model.predict([target_seq] + states_value, verbose=False)\n",
        "        #print(\"Decoding:\", time.process_time() - start)\n",
        "        \n",
        "        # Sample a token: Find the index of the most probable output character\n",
        "        sampled_token_index = np.argmax(output_tokens[0, -1, :])\n",
        "\n",
        "        # Use our reversing dictionary to decode the predicted character\n",
        "        sampled_char = reverse_target_char_index[sampled_token_index]\n",
        "        decoded_sentence += sampled_char\n",
        "\n",
        "        # Exit condition: either hit max length of a decoder output sequence\n",
        "        # or find that the decoder has issued a stop character.\n",
        "        if sampled_char == \"\\n\" or len(decoded_sentence) > max_decoder_seq_length:\n",
        "            stop_condition = True\n",
        "\n",
        "        # Update the target sequence (of length 1).\n",
        "        target_seq = np.zeros((1, 1, num_decoder_tokens))\n",
        "\n",
        "        # This one-hot encodes the current character to use as input for the next iteration\n",
        "        target_seq[0, 0, sampled_token_index] = 1.0\n",
        "\n",
        "        # Update states\n",
        "        states_value = [h, c]\n",
        "    \n",
        "    return decoded_sentence\n"
      ],
      "execution_count": null,
      "outputs": []
    },
    {
      "cell_type": "markdown",
      "source": [
        "#Discuss With Your Partner\n",
        "\n",
        "Examine the loop in the function described above. Why is the encoder only run one time? What does that one call to the encoder produce?\n",
        "\n",
        "How does the loop known when to stop? As the loop is concluding its first iteration and preparing to start its next iteration, what information is saved or created to guide the next iteration?\n",
        "\n",
        "In other words, at time t+1 in the decoder loop, what does the decoder model need to know about what happened at time t?"
      ],
      "metadata": {
        "id": "0WJ40sEzF_Of"
      }
    },
    {
      "cell_type": "markdown",
      "metadata": {
        "id": "nTkrMilIAajJ"
      },
      "source": [
        "For this first test, we will simply grab a few of the training sequences and push them through the model to see what gets predicted. Presumably an ideal model would largely reproduce the input->target pairs that appeared in the training, but there are two things to keep in mind. First, we have multiple instances where the same English sentence translates to different French sentences. That means the model can never really learn one correct answer for mapping an input sequence to a target sequence. Second, the thought vector, by nature of the fact that it is a low dimensional \"bottleneck\" in the model, represents a set of compromises on what should be produced. Various inputs could produce thought vectors with high cosine similarity and these will generally produce similar target sequences. Third, the model may not be sufficiently trained yet to produce good outputs."
      ]
    },
    {
      "cell_type": "code",
      "metadata": {
        "id": "5xqkhnyEAajJ"
      },
      "source": [
        "# The range() call controls how many input sequences we will test.\n",
        "for seq_index in range(20):\n",
        "    # Take one sequence (part of the training set)\n",
        "    # for trying out decoding.\n",
        "    input_seq = encoder_input_data[seq_index : seq_index + 1]\n",
        "\n",
        "    # Here's where we call our custom function\n",
        "    decoded_sentence = decode_sequence(input_seq)\n",
        "\n",
        "    print(\"Input sentence:\", input_texts[seq_index], \"Decoded sentence:\", decoded_sentence)\n",
        "    "
      ],
      "execution_count": null,
      "outputs": []
    },
    {
      "cell_type": "code",
      "metadata": {
        "id": "LwzNGI_qE9H4"
      },
      "source": [
        "#\n",
        "# Exercise 11.9: Try some different ranges of input sentences, such as \n",
        "# range(50,56) to examine translations from various sections of the training\n",
        "# data. Do two or three examples to get a feel for different kinds of input\n",
        "# and output sentences.\n",
        "#"
      ],
      "execution_count": null,
      "outputs": []
    },
    {
      "cell_type": "code",
      "metadata": {
        "id": "wYGOESI6ErDo"
      },
      "source": [
        "# Next we will write an encoder so we can take an arbitrary\n",
        "# English phrase, one-hot encode it, and then translate it to French.\n",
        "\n",
        "my_phrase = \"Find help.\"\n",
        "\n",
        "if len(my_phrase) <= max_encoder_seq_length:\n",
        "    # Fill up a single one-hot encodign vector with zeroes\n",
        "    my_input_data =  np.zeros((1, max_encoder_seq_length, num_encoder_tokens), dtype=\"float32\")\n",
        "\n",
        "    # Iterate over all of the characters in the input phrase\n",
        "    for t, char in enumerate(my_phrase):\n",
        "        my_input_data[0, t, input_token_index[char]] = 1.0\n",
        "\n",
        "    # This adds padding with spaces\n",
        "    my_input_data[0, t + 1 :, input_token_index[\" \"]] = 1.0\n",
        "\n",
        "else:\n",
        "    print(\"Input phrase is longer than the maximum encoder sequence length.\")"
      ],
      "execution_count": null,
      "outputs": []
    },
    {
      "cell_type": "code",
      "metadata": {
        "id": "Yrf5sHSPGFpA"
      },
      "source": [
        "# This should show that the object we created above is one-hot encoded.\n",
        "my_input_data.shape "
      ],
      "execution_count": null,
      "outputs": []
    },
    {
      "cell_type": "code",
      "metadata": {
        "id": "RyLyRM8KFexX"
      },
      "source": [
        "#\n",
        "# Exercise 11.10: Use the code above to write a user-defined function that you\n",
        "# can call with a string variable as its input. The function should\n",
        "# return a one-hot encoded vector that can be used to call decode_sequence(). \n",
        "# Here's an example of the first line: def en2french(my_phrase):\n",
        "#"
      ],
      "execution_count": null,
      "outputs": []
    },
    {
      "cell_type": "code",
      "metadata": {
        "id": "tvvdt0oiXetI"
      },
      "source": [
        "# This call to decode_sequence() uses the one-hot coded input data we \n",
        "# created above for our new sample phrase. \n",
        "decoded_sentence = decode_sequence(my_input_data)\n",
        "print(\"Input sentence:\", my_phrase)\n",
        "print(\"Decoded sentence:\", decoded_sentence)"
      ],
      "execution_count": null,
      "outputs": []
    },
    {
      "cell_type": "code",
      "metadata": {
        "id": "MFvahQ_WF9Wt"
      },
      "source": [
        "#\n",
        "# Exercise 11.11: Update your new custom function so that it includes the call\n",
        "# to decode_sequence() and returns the output string. \n",
        "#"
      ],
      "execution_count": null,
      "outputs": []
    },
    {
      "cell_type": "code",
      "metadata": {
        "id": "-4wqJnNYGvmy"
      },
      "source": [
        "#\n",
        "# Exercise 11.12: What can you do to improve the validation accuaracy of the\n",
        "# seq2seq model you trained? You could add more LSTM layers. You could change \n",
        "# the batch size. You could change the proportion of validation samples. You\n",
        "# could change the learning rate or implement a dynamic learning rate. Based \n",
        "# on what you have learned in class, try at least two of these changes \n",
        "# (one at a time) to see if you can improve model validation quality.\n",
        "#\n",
        "#"
      ],
      "execution_count": null,
      "outputs": []
    },
    {
      "cell_type": "code",
      "metadata": {
        "id": "gNBG8cPkH1b_"
      },
      "source": [
        "#\n",
        "# Exercise 11.13: Go to http://www.manythings.org/anki/ and examine some of the\n",
        "# other language pairs that are available. Add a comment describing one\n",
        "# of the files you see.\n",
        "#"
      ],
      "execution_count": null,
      "outputs": []
    },
    {
      "cell_type": "code",
      "source": [
        "#\n",
        "# Exercise 11.14: Use Google translate in a loop to produce translations of the \n",
        "# model output that you can compare to the input you used.\n",
        "#\n",
        "# !pip install googletrans==3.1.0a0 # Uncomment this to get Google translate\n",
        "# \n",
        "# from googletrans import Translator, constants # Uncomment this to get Google translate\n",
        "#\n",
        "# translator = Translator() # Uncomment this to instantiate the Google API translator\n",
        "#\n",
        "# translation = translator.translate(my_text, dest=\"en\") # Uncomment this to do a translation\n",
        "# translation.text # Uncomment this to view the results"
      ],
      "metadata": {
        "id": "upubbs22qBv6"
      },
      "execution_count": null,
      "outputs": []
    },
    {
      "cell_type": "code",
      "source": [
        "#\n",
        "# Exercise 11.15: Put five short English test sentences into a list. Write a loop\n",
        "# that translates each sentence into French and then uses Google translate to \n",
        "# show the English \"back translation\" of the French model output.\n",
        "#"
      ],
      "metadata": {
        "id": "DuugW9zsEu-R"
      },
      "execution_count": null,
      "outputs": []
    }
  ]
}