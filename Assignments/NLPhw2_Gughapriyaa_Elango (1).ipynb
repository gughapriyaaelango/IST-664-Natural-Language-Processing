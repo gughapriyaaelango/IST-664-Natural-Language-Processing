{
  "nbformat": 4,
  "nbformat_minor": 0,
  "metadata": {
    "colab": {
      "provenance": []
    },
    "kernelspec": {
      "name": "python3",
      "display_name": "Python 3"
    },
    "language_info": {
      "name": "python"
    }
  },
  "cells": [
    {
      "cell_type": "markdown",
      "source": [
        "##IST664/CIS668 - Homework 2 (assigned in Week 4)\n",
        "\n",
        "Originality assertion: All of the text and comments in this file are my original work (except for template items written by the instructor). All of the code in this file is my work, except where I give credit to another source. By adding my name below, I affirm this originality assertion.\n",
        "\n",
        "##My name: Gughapriyaa Elango #\n",
        "\n",
        "\n",
        "Note to students: You may freely use code from the labs for this class without the need for attributions. "
      ],
      "metadata": {
        "id": "UBy_JaSAGpux"
      }
    },
    {
      "cell_type": "markdown",
      "source": [
        "**Task 1: Use Beautiful Soup**"
      ],
      "metadata": {
        "id": "E-5bH_hGrh87"
      }
    },
    {
      "cell_type": "code",
      "source": [
        "# Import Beautiful Soup for its web scraping capabilities\n",
        "import bs4 as bs\n",
        "import urllib.request # For retrieving from web pages\n",
        "import re # Regular expressions\n",
        "import spacy"
      ],
      "metadata": {
        "id": "59PlhSnpfyBz"
      },
      "execution_count": null,
      "outputs": []
    },
    {
      "cell_type": "code",
      "source": [
        "# Change this URL to a Wikipedia article of your choice\n",
        "#Changed to a wikipedia page response to my last name - \"Elango\"\n",
        "wiki_url_1 = 'https://en.wikipedia.org/wiki/Elango_Kumaravel'\n",
        "\n",
        "scraped_data = urllib.request.urlopen(wiki_url_1)\n",
        "\n",
        "type(scraped_data) # A response object for a web page\n"
      ],
      "metadata": {
        "id": "UE-rzMPPgU7g",
        "colab": {
          "base_uri": "https://localhost:8080/"
        },
        "outputId": "d87257da-9954-46f6-fb7a-1b32cec1a4df"
      },
      "execution_count": null,
      "outputs": [
        {
          "output_type": "execute_result",
          "data": {
            "text/plain": [
              "http.client.HTTPResponse"
            ]
          },
          "metadata": {},
          "execution_count": 162
        }
      ]
    },
    {
      "cell_type": "code",
      "source": [
        "# Now extract the text from the article and organize into paragraphs\n",
        "article = scraped_data.read() # Extract the data from the response object\n",
        "\n",
        "parsed_article = bs.BeautifulSoup(article,'lxml') # Use lxml as the back end parser\n",
        "\n",
        "paragraphs = parsed_article.find_all('p')\n",
        "\n",
        "article_text = \"\"\n",
        "\n",
        "for p in paragraphs:\n",
        "    article_text += p.text\n",
        "\n",
        "len(article_text)"
      ],
      "metadata": {
        "id": "0qYFJ9H6ghJ2",
        "colab": {
          "base_uri": "https://localhost:8080/"
        },
        "outputId": "f6a39ad2-ccf0-4bc0-8914-855679b86847"
      },
      "execution_count": null,
      "outputs": [
        {
          "output_type": "execute_result",
          "data": {
            "text/plain": [
              "1074"
            ]
          },
          "metadata": {},
          "execution_count": 163
        }
      ]
    },
    {
      "cell_type": "markdown",
      "source": [
        "**Task 2: Use RegEx to remove Wikipedia References and Extra Space**"
      ],
      "metadata": {
        "id": "8QLzQzoprosC"
      }
    },
    {
      "cell_type": "code",
      "source": [
        "# Put your code for task 2 here\n",
        "\n",
        "article_text=re.sub(r'\\[[0-9]*\\]','',article_text)\n",
        "article_text=re.sub(r'\\s{2,}',' ',article_text)\n",
        "print(article_text)"
      ],
      "metadata": {
        "id": "Asq8U8utrewp",
        "colab": {
          "base_uri": "https://localhost:8080/"
        },
        "outputId": "913f754d-e748-417c-f0ab-db3e34fa0e8e"
      },
      "execution_count": null,
      "outputs": [
        {
          "output_type": "stream",
          "name": "stdout",
          "text": [
            " Pages for logged out editors learn more Elango Kumaravel (born 27 August 1965) is an Indian theatre actor and writer. He is also a co-founder of the Chennai based theatre group \"Magic Lantern\". He is an alumnus of Pondicherry University's Sankaradas Swamigal School of Performing Arts and the Chennai-based theatre workshop koothuppattarai. He has also worked as a casting assistant for the 2007 film Loins of Punjab Presents and wrote the script for the 2008 film Kattradhu Kalavu. He was involved in the production of \"Ey Aa O!\" a musical fusion work of collaboration between Indian folk and classical musicians.\n",
            "When Kumaravel was staging Kalki's Ponniyin Selvan, he was spotted by Nassar and approached to star in his film Maayan. While Vishwanathan met Kumaravel on the sets of the play Minnal Ravi (Virtuous Burglar), he was introduced to Radha Mohan and starred in Azhagiya Theeye. Kumaravel became a regular in Radha Mohan's films. He garnered acclaim for his role in Abhiyum Naanum as a beggar named Ravi Shastri.\n",
            "\n"
          ]
        }
      ]
    },
    {
      "cell_type": "markdown",
      "source": [
        "**Task 3: Tokenize with spaCy**"
      ],
      "metadata": {
        "id": "RThJS8kysDxs"
      }
    },
    {
      "cell_type": "code",
      "source": [
        "from spacy import displacy\n",
        "\n",
        "nlp = spacy.load(\"en_core_web_sm\")\n",
        "\n",
        "my_article = nlp(article_text)\n",
        "\n",
        "len(my_article) # Length in tokens"
      ],
      "metadata": {
        "id": "veH-mI2uhoBe",
        "colab": {
          "base_uri": "https://localhost:8080/"
        },
        "outputId": "8c171246-f1dd-448a-d1c9-060387aa826a"
      },
      "execution_count": null,
      "outputs": [
        {
          "output_type": "execute_result",
          "data": {
            "text/plain": [
              "198"
            ]
          },
          "metadata": {},
          "execution_count": 165
        }
      ]
    },
    {
      "cell_type": "code",
      "source": [
        "# Here's one way to work with individual sentences:\n",
        "my_spans = list(my_article.sents)\n",
        "\n",
        "my_spans[1] # Let's view just the first sentence"
      ],
      "metadata": {
        "id": "xOgtdrMbjXF3",
        "colab": {
          "base_uri": "https://localhost:8080/"
        },
        "outputId": "511e2f2e-cf94-4090-d932-fce2852f4eeb"
      },
      "execution_count": null,
      "outputs": [
        {
          "output_type": "execute_result",
          "data": {
            "text/plain": [
              "He is also a co-founder of the Chennai based theatre group \"Magic Lantern\"."
            ]
          },
          "metadata": {},
          "execution_count": 166
        }
      ]
    },
    {
      "cell_type": "markdown",
      "source": [
        "**Task 4: Use displaCy to show named entities for an early sentence**"
      ],
      "metadata": {
        "id": "bMaeWB7GsNrB"
      }
    },
    {
      "cell_type": "code",
      "source": [
        "# Put your code for task 4 here\n",
        "displacy.render(my_spans[2], style=\"ent\", jupyter=True)"
      ],
      "metadata": {
        "id": "G6a--F6EsXNo",
        "colab": {
          "base_uri": "https://localhost:8080/",
          "height": 52
        },
        "outputId": "a4bf50a7-a473-49dd-db8c-991b79dab994"
      },
      "execution_count": null,
      "outputs": [
        {
          "output_type": "display_data",
          "data": {
            "text/plain": [
              "<IPython.core.display.HTML object>"
            ],
            "text/html": [
              "<span class=\"tex2jax_ignore\"><div class=\"entities\" style=\"line-height: 2.5; direction: ltr\">He is an alumnus of \n",
              "<mark class=\"entity\" style=\"background: #7aecec; padding: 0.45em 0.6em; margin: 0 0.25em; line-height: 1; border-radius: 0.35em;\">\n",
              "    Pondicherry University's\n",
              "    <span style=\"font-size: 0.8em; font-weight: bold; line-height: 1; border-radius: 0.35em; vertical-align: middle; margin-left: 0.5rem\">ORG</span>\n",
              "</mark>\n",
              " \n",
              "<mark class=\"entity\" style=\"background: #7aecec; padding: 0.45em 0.6em; margin: 0 0.25em; line-height: 1; border-radius: 0.35em;\">\n",
              "    Sankaradas Swamigal School of Performing Arts\n",
              "    <span style=\"font-size: 0.8em; font-weight: bold; line-height: 1; border-radius: 0.35em; vertical-align: middle; margin-left: 0.5rem\">ORG</span>\n",
              "</mark>\n",
              " and the \n",
              "<mark class=\"entity\" style=\"background: #7aecec; padding: 0.45em 0.6em; margin: 0 0.25em; line-height: 1; border-radius: 0.35em;\">\n",
              "    Chennai\n",
              "    <span style=\"font-size: 0.8em; font-weight: bold; line-height: 1; border-radius: 0.35em; vertical-align: middle; margin-left: 0.5rem\">ORG</span>\n",
              "</mark>\n",
              "-based theatre workshop koothuppattarai. </div></span>"
            ]
          },
          "metadata": {}
        }
      ]
    },
    {
      "cell_type": "code",
      "source": [
        "displacy.render(my_spans[3], style=\"ent\", jupyter=True)"
      ],
      "metadata": {
        "colab": {
          "base_uri": "https://localhost:8080/",
          "height": 52
        },
        "id": "_I1SXen0cBGc",
        "outputId": "a1d50d0b-c3d7-41b5-c237-d710c42b2499"
      },
      "execution_count": null,
      "outputs": [
        {
          "output_type": "display_data",
          "data": {
            "text/plain": [
              "<IPython.core.display.HTML object>"
            ],
            "text/html": [
              "<span class=\"tex2jax_ignore\"><div class=\"entities\" style=\"line-height: 2.5; direction: ltr\">He has also worked as a casting assistant for the \n",
              "<mark class=\"entity\" style=\"background: #bfe1d9; padding: 0.45em 0.6em; margin: 0 0.25em; line-height: 1; border-radius: 0.35em;\">\n",
              "    2007\n",
              "    <span style=\"font-size: 0.8em; font-weight: bold; line-height: 1; border-radius: 0.35em; vertical-align: middle; margin-left: 0.5rem\">DATE</span>\n",
              "</mark>\n",
              " film \n",
              "<mark class=\"entity\" style=\"background: #7aecec; padding: 0.45em 0.6em; margin: 0 0.25em; line-height: 1; border-radius: 0.35em;\">\n",
              "    Loins of Punjab Presents\n",
              "    <span style=\"font-size: 0.8em; font-weight: bold; line-height: 1; border-radius: 0.35em; vertical-align: middle; margin-left: 0.5rem\">ORG</span>\n",
              "</mark>\n",
              " and wrote the script for the \n",
              "<mark class=\"entity\" style=\"background: #bfe1d9; padding: 0.45em 0.6em; margin: 0 0.25em; line-height: 1; border-radius: 0.35em;\">\n",
              "    2008\n",
              "    <span style=\"font-size: 0.8em; font-weight: bold; line-height: 1; border-radius: 0.35em; vertical-align: middle; margin-left: 0.5rem\">DATE</span>\n",
              "</mark>\n",
              " film \n",
              "<mark class=\"entity\" style=\"background: #aa9cfc; padding: 0.45em 0.6em; margin: 0 0.25em; line-height: 1; border-radius: 0.35em;\">\n",
              "    Kattradhu Kalavu\n",
              "    <span style=\"font-size: 0.8em; font-weight: bold; line-height: 1; border-radius: 0.35em; vertical-align: middle; margin-left: 0.5rem\">PERSON</span>\n",
              "</mark>\n",
              ". </div></span>"
            ]
          },
          "metadata": {}
        }
      ]
    },
    {
      "cell_type": "markdown",
      "source": [
        "For the following tasks, create a pandas dataframe and store each disovered token in an appropriately-named column.\n",
        "\n",
        "**Task 5: Find the Root Verbs for each span**\n",
        "\n",
        "Make a sentence by sentence list of all of the root verbs."
      ],
      "metadata": {
        "id": "xXRenemVsgXe"
      }
    },
    {
      "cell_type": "code",
      "source": [
        "#Creating pandas dataframe\n",
        "\n",
        "root_verb = [(string.root) for string in my_spans]\n",
        "x = pd.DataFrame(root_verb, columns=['root_verb'])\n",
        "print(x)\n",
        "\n",
        "#9 root verbs captured"
      ],
      "metadata": {
        "colab": {
          "base_uri": "https://localhost:8080/"
        },
        "id": "OJYVU6TsMKOg",
        "outputId": "131867e2-6e6c-48d6-b7de-f171dad189af"
      },
      "execution_count": null,
      "outputs": [
        {
          "output_type": "stream",
          "name": "stdout",
          "text": [
            "    root_verb\n",
            "0       learn\n",
            "1          is\n",
            "2          is\n",
            "3      worked\n",
            "4    involved\n",
            "5        work\n",
            "6     spotted\n",
            "7  introduced\n",
            "8      became\n",
            "9    garnered\n"
          ]
        }
      ]
    },
    {
      "cell_type": "code",
      "source": [
        "my_spans[1].root # The span object has an attribute that points to the root token"
      ],
      "metadata": {
        "id": "C30DWtsJlnl6",
        "colab": {
          "base_uri": "https://localhost:8080/"
        },
        "outputId": "4151336e-23df-4e20-c81b-0769310cdaec"
      },
      "execution_count": null,
      "outputs": [
        {
          "output_type": "execute_result",
          "data": {
            "text/plain": [
              "is"
            ]
          },
          "metadata": {},
          "execution_count": 170
        }
      ]
    },
    {
      "cell_type": "markdown",
      "source": [
        "**Task 6: Find the Subjects of Each Span**\n",
        "\n",
        "Put a column in your pandas dataframe and fill it with the subjects from each span."
      ],
      "metadata": {
        "id": "qe6YjDHgue92"
      }
    },
    {
      "cell_type": "code",
      "source": [
        "# Here's one simple way to find the subject of a sentence\n",
        "for tok in my_spans[1]:\n",
        "  if tok.dep_ == \"nsubj\":\n",
        "    print(tok)"
      ],
      "metadata": {
        "id": "NBV00QBrt_ho",
        "colab": {
          "base_uri": "https://localhost:8080/"
        },
        "outputId": "7201dea1-646e-49f9-bd67-fbf3c1085a01"
      },
      "execution_count": null,
      "outputs": [
        {
          "output_type": "stream",
          "name": "stdout",
          "text": [
            "He\n"
          ]
        }
      ]
    },
    {
      "cell_type": "code",
      "source": [
        "nsubj_list = []\n",
        "for s in my_spans:\n",
        "    for tok1 in s:\n",
        "        if tok1.dep_ == \"nsubj\":\n",
        "            nsubj_list.append(tok1.text)\n",
        "\n",
        "y = pd.DataFrame({'Nsubj': nsubj_list})\n",
        "print(y)\n",
        "\n",
        "#7 nominal subjects captured"
      ],
      "metadata": {
        "colab": {
          "base_uri": "https://localhost:8080/"
        },
        "id": "kVYvIDrrFltk",
        "outputId": "0ea47851-c926-4a2c-de64-a47736e9db93"
      },
      "execution_count": null,
      "outputs": [
        {
          "output_type": "stream",
          "name": "stdout",
          "text": [
            "          Nsubj\n",
            "0         Pages\n",
            "1            He\n",
            "2            He\n",
            "3            He\n",
            "4     Kumaravel\n",
            "5  Vishwanathan\n",
            "6     Kumaravel\n",
            "7            He\n"
          ]
        }
      ]
    },
    {
      "cell_type": "markdown",
      "source": [
        "**Task 7: Find the Direct Objects of Each Span**\n",
        "\n",
        "Put a column in your pandas dataframe and fill it with the direct objects from each span."
      ],
      "metadata": {
        "id": "lbcLn8S_yzD0"
      }
    },
    {
      "cell_type": "code",
      "source": [
        "for tok in my_spans[1]:\n",
        "  if tok.dep_ == \"dobj\":\n",
        "    print(tok)"
      ],
      "metadata": {
        "id": "u4bzZeqExrUs"
      },
      "execution_count": null,
      "outputs": []
    },
    {
      "cell_type": "code",
      "source": [
        "dobj_list = []\n",
        "for s in my_spans:\n",
        "    for tok2 in s:\n",
        "        if tok2.dep_ == \"dobj\":\n",
        "            dobj_list.append(tok2.text)\n",
        "\n",
        "z = pd.DataFrame({'Dobj': dobj_list})\n",
        "print(z)\n",
        "\n",
        "#4 Direct objects captured"
      ],
      "metadata": {
        "colab": {
          "base_uri": "https://localhost:8080/"
        },
        "id": "JiLRJgm7PWs1",
        "outputId": "701c6ddb-82ad-4ca8-8ed2-56a995edc603"
      },
      "execution_count": null,
      "outputs": [
        {
          "output_type": "stream",
          "name": "stdout",
          "text": [
            "        Dobj\n",
            "0  Kumaravel\n",
            "1     script\n",
            "2     Selvan\n",
            "3  Kumaravel\n",
            "4    acclaim\n"
          ]
        }
      ]
    },
    {
      "cell_type": "markdown",
      "source": [
        "**Task 8: Find the first Named Entity (if any) from Each Span**\n",
        "\n",
        "Put two columns in your pandas dataframe. Find the first named entity in a span (if any) and record the ent_type_ and the corresponding token in those two columns. "
      ],
      "metadata": {
        "id": "fZv0ySyIzbeu"
      }
    },
    {
      "cell_type": "code",
      "source": [
        "for tok in my_spans[1]:\n",
        "  if len(tok.ent_type_) > 0:\n",
        "    print(tok.ent_type_, tok)"
      ],
      "metadata": {
        "id": "bsoag1zizmVR",
        "colab": {
          "base_uri": "https://localhost:8080/"
        },
        "outputId": "46d3cc1b-7aba-4716-a486-f23b29922e88"
      },
      "execution_count": null,
      "outputs": [
        {
          "output_type": "stream",
          "name": "stdout",
          "text": [
            "ORG Chennai\n",
            "PRODUCT Magic\n",
            "PRODUCT Lantern\n"
          ]
        }
      ]
    },
    {
      "cell_type": "code",
      "source": [
        "ent_type=[]\n",
        "ent_token=[]\n",
        "for s in my_spans:\n",
        "    for ent in s.ents:\n",
        "        ent_type.append(ent.label_)\n",
        "        ent_token.append(\" \".join([i.text for i in ent]))\n",
        "        break\n",
        "\n",
        "ent_list = pd.DataFrame({'ent_type': ent_type, 'ent_token': ent_token})\n",
        "print(ent_list)\n",
        "\n"
      ],
      "metadata": {
        "colab": {
          "base_uri": "https://localhost:8080/"
        },
        "id": "-biXGwDxP0cG",
        "outputId": "96930ffc-697d-427a-9107-55544e4be0cf"
      },
      "execution_count": null,
      "outputs": [
        {
          "output_type": "stream",
          "name": "stdout",
          "text": [
            "      ent_type                  ent_token\n",
            "0       PERSON           Elango Kumaravel\n",
            "1          ORG                    Chennai\n",
            "2          ORG  Pondicherry University 's\n",
            "3         DATE                       2007\n",
            "4  WORK_OF_ART                    Ey Aa O\n",
            "5         NORP                     Indian\n",
            "6       PERSON                  Kumaravel\n",
            "7          GPE               Vishwanathan\n",
            "8          GPE                  Kumaravel\n",
            "9          FAC             Abhiyum Naanum\n"
          ]
        }
      ]
    },
    {
      "cell_type": "markdown",
      "source": [
        "**Task 9: Show the shape of your data frame**"
      ],
      "metadata": {
        "id": "8K0V9mxQ2kXw"
      }
    },
    {
      "cell_type": "code",
      "source": [
        "# Add code to show the shape of your data frame\n",
        "#Combining all dataframes into one\n",
        "total_df = pd.concat([x,y,z,ent_list], axis=1)\n",
        "total_df.shape\n",
        "\n",
        "#10 rows 5 columns"
      ],
      "metadata": {
        "id": "EnhgSJjz23kF",
        "colab": {
          "base_uri": "https://localhost:8080/"
        },
        "outputId": "95299381-f45f-4f7c-97d7-1c9f6dc5ed98"
      },
      "execution_count": null,
      "outputs": [
        {
          "output_type": "execute_result",
          "data": {
            "text/plain": [
              "(10, 5)"
            ]
          },
          "metadata": {},
          "execution_count": 177
        }
      ]
    },
    {
      "cell_type": "markdown",
      "source": [
        "**Task 10: Show the unique set of elements from each column in the data frame**"
      ],
      "metadata": {
        "id": "uEjXykYi26TG"
      }
    },
    {
      "cell_type": "code",
      "source": [
        "# Use set() on the data in each column to show the list of unique elements\n",
        "for df in total_df.columns:\n",
        "    print(\"'{}': {}\".format(df, set(total_df[df])))"
      ],
      "metadata": {
        "id": "DIzQ-Vi13E2R",
        "colab": {
          "base_uri": "https://localhost:8080/"
        },
        "outputId": "57a77169-9122-4297-f24f-79dc2fdb4310"
      },
      "execution_count": null,
      "outputs": [
        {
          "output_type": "stream",
          "name": "stdout",
          "text": [
            "'root_verb': {involved, introduced, worked, learn, is, garnered, work, spotted, became, is}\n",
            "'Nsubj': {nan, 'Kumaravel', 'Vishwanathan', 'He', 'Pages'}\n",
            "'Dobj': {nan, 'Kumaravel', 'acclaim', 'script', 'Selvan'}\n",
            "'ent_type': {'WORK_OF_ART', 'DATE', 'FAC', 'PERSON', 'ORG', 'GPE', 'NORP'}\n",
            "'ent_token': {'Kumaravel', 'Indian', '2007', 'Vishwanathan', 'Elango Kumaravel', \"Pondicherry University 's\", 'Ey Aa O', 'Abhiyum Naanum', 'Chennai'}\n"
          ]
        }
      ]
    },
    {
      "cell_type": "markdown",
      "source": [
        "**Task 11: Show your data frame**"
      ],
      "metadata": {
        "id": "xyyjJ-3K3OML"
      }
    },
    {
      "cell_type": "code",
      "source": [
        "# Type the name of your data frame on a line by itself to display it\n",
        "total_df"
      ],
      "metadata": {
        "id": "tKLzB2q93R1c",
        "colab": {
          "base_uri": "https://localhost:8080/",
          "height": 363
        },
        "outputId": "e98bfa98-943c-4c91-f8aa-c8c1625bf4a0"
      },
      "execution_count": null,
      "outputs": [
        {
          "output_type": "execute_result",
          "data": {
            "text/plain": [
              "    root_verb         Nsubj       Dobj     ent_type                  ent_token\n",
              "0       learn         Pages  Kumaravel       PERSON           Elango Kumaravel\n",
              "1          is            He     script          ORG                    Chennai\n",
              "2          is            He     Selvan          ORG  Pondicherry University 's\n",
              "3      worked            He  Kumaravel         DATE                       2007\n",
              "4    involved     Kumaravel    acclaim  WORK_OF_ART                    Ey Aa O\n",
              "5        work  Vishwanathan        NaN         NORP                     Indian\n",
              "6     spotted     Kumaravel        NaN       PERSON                  Kumaravel\n",
              "7  introduced            He        NaN          GPE               Vishwanathan\n",
              "8      became           NaN        NaN          GPE                  Kumaravel\n",
              "9    garnered           NaN        NaN          FAC             Abhiyum Naanum"
            ],
            "text/html": [
              "\n",
              "  <div id=\"df-4748d0d3-bb1c-46cd-98e9-c146d733ac07\">\n",
              "    <div class=\"colab-df-container\">\n",
              "      <div>\n",
              "<style scoped>\n",
              "    .dataframe tbody tr th:only-of-type {\n",
              "        vertical-align: middle;\n",
              "    }\n",
              "\n",
              "    .dataframe tbody tr th {\n",
              "        vertical-align: top;\n",
              "    }\n",
              "\n",
              "    .dataframe thead th {\n",
              "        text-align: right;\n",
              "    }\n",
              "</style>\n",
              "<table border=\"1\" class=\"dataframe\">\n",
              "  <thead>\n",
              "    <tr style=\"text-align: right;\">\n",
              "      <th></th>\n",
              "      <th>root_verb</th>\n",
              "      <th>Nsubj</th>\n",
              "      <th>Dobj</th>\n",
              "      <th>ent_type</th>\n",
              "      <th>ent_token</th>\n",
              "    </tr>\n",
              "  </thead>\n",
              "  <tbody>\n",
              "    <tr>\n",
              "      <th>0</th>\n",
              "      <td>learn</td>\n",
              "      <td>Pages</td>\n",
              "      <td>Kumaravel</td>\n",
              "      <td>PERSON</td>\n",
              "      <td>Elango Kumaravel</td>\n",
              "    </tr>\n",
              "    <tr>\n",
              "      <th>1</th>\n",
              "      <td>is</td>\n",
              "      <td>He</td>\n",
              "      <td>script</td>\n",
              "      <td>ORG</td>\n",
              "      <td>Chennai</td>\n",
              "    </tr>\n",
              "    <tr>\n",
              "      <th>2</th>\n",
              "      <td>is</td>\n",
              "      <td>He</td>\n",
              "      <td>Selvan</td>\n",
              "      <td>ORG</td>\n",
              "      <td>Pondicherry University 's</td>\n",
              "    </tr>\n",
              "    <tr>\n",
              "      <th>3</th>\n",
              "      <td>worked</td>\n",
              "      <td>He</td>\n",
              "      <td>Kumaravel</td>\n",
              "      <td>DATE</td>\n",
              "      <td>2007</td>\n",
              "    </tr>\n",
              "    <tr>\n",
              "      <th>4</th>\n",
              "      <td>involved</td>\n",
              "      <td>Kumaravel</td>\n",
              "      <td>acclaim</td>\n",
              "      <td>WORK_OF_ART</td>\n",
              "      <td>Ey Aa O</td>\n",
              "    </tr>\n",
              "    <tr>\n",
              "      <th>5</th>\n",
              "      <td>work</td>\n",
              "      <td>Vishwanathan</td>\n",
              "      <td>NaN</td>\n",
              "      <td>NORP</td>\n",
              "      <td>Indian</td>\n",
              "    </tr>\n",
              "    <tr>\n",
              "      <th>6</th>\n",
              "      <td>spotted</td>\n",
              "      <td>Kumaravel</td>\n",
              "      <td>NaN</td>\n",
              "      <td>PERSON</td>\n",
              "      <td>Kumaravel</td>\n",
              "    </tr>\n",
              "    <tr>\n",
              "      <th>7</th>\n",
              "      <td>introduced</td>\n",
              "      <td>He</td>\n",
              "      <td>NaN</td>\n",
              "      <td>GPE</td>\n",
              "      <td>Vishwanathan</td>\n",
              "    </tr>\n",
              "    <tr>\n",
              "      <th>8</th>\n",
              "      <td>became</td>\n",
              "      <td>NaN</td>\n",
              "      <td>NaN</td>\n",
              "      <td>GPE</td>\n",
              "      <td>Kumaravel</td>\n",
              "    </tr>\n",
              "    <tr>\n",
              "      <th>9</th>\n",
              "      <td>garnered</td>\n",
              "      <td>NaN</td>\n",
              "      <td>NaN</td>\n",
              "      <td>FAC</td>\n",
              "      <td>Abhiyum Naanum</td>\n",
              "    </tr>\n",
              "  </tbody>\n",
              "</table>\n",
              "</div>\n",
              "      <button class=\"colab-df-convert\" onclick=\"convertToInteractive('df-4748d0d3-bb1c-46cd-98e9-c146d733ac07')\"\n",
              "              title=\"Convert this dataframe to an interactive table.\"\n",
              "              style=\"display:none;\">\n",
              "        \n",
              "  <svg xmlns=\"http://www.w3.org/2000/svg\" height=\"24px\"viewBox=\"0 0 24 24\"\n",
              "       width=\"24px\">\n",
              "    <path d=\"M0 0h24v24H0V0z\" fill=\"none\"/>\n",
              "    <path d=\"M18.56 5.44l.94 2.06.94-2.06 2.06-.94-2.06-.94-.94-2.06-.94 2.06-2.06.94zm-11 1L8.5 8.5l.94-2.06 2.06-.94-2.06-.94L8.5 2.5l-.94 2.06-2.06.94zm10 10l.94 2.06.94-2.06 2.06-.94-2.06-.94-.94-2.06-.94 2.06-2.06.94z\"/><path d=\"M17.41 7.96l-1.37-1.37c-.4-.4-.92-.59-1.43-.59-.52 0-1.04.2-1.43.59L10.3 9.45l-7.72 7.72c-.78.78-.78 2.05 0 2.83L4 21.41c.39.39.9.59 1.41.59.51 0 1.02-.2 1.41-.59l7.78-7.78 2.81-2.81c.8-.78.8-2.07 0-2.86zM5.41 20L4 18.59l7.72-7.72 1.47 1.35L5.41 20z\"/>\n",
              "  </svg>\n",
              "      </button>\n",
              "      \n",
              "  <style>\n",
              "    .colab-df-container {\n",
              "      display:flex;\n",
              "      flex-wrap:wrap;\n",
              "      gap: 12px;\n",
              "    }\n",
              "\n",
              "    .colab-df-convert {\n",
              "      background-color: #E8F0FE;\n",
              "      border: none;\n",
              "      border-radius: 50%;\n",
              "      cursor: pointer;\n",
              "      display: none;\n",
              "      fill: #1967D2;\n",
              "      height: 32px;\n",
              "      padding: 0 0 0 0;\n",
              "      width: 32px;\n",
              "    }\n",
              "\n",
              "    .colab-df-convert:hover {\n",
              "      background-color: #E2EBFA;\n",
              "      box-shadow: 0px 1px 2px rgba(60, 64, 67, 0.3), 0px 1px 3px 1px rgba(60, 64, 67, 0.15);\n",
              "      fill: #174EA6;\n",
              "    }\n",
              "\n",
              "    [theme=dark] .colab-df-convert {\n",
              "      background-color: #3B4455;\n",
              "      fill: #D2E3FC;\n",
              "    }\n",
              "\n",
              "    [theme=dark] .colab-df-convert:hover {\n",
              "      background-color: #434B5C;\n",
              "      box-shadow: 0px 1px 3px 1px rgba(0, 0, 0, 0.15);\n",
              "      filter: drop-shadow(0px 1px 2px rgba(0, 0, 0, 0.3));\n",
              "      fill: #FFFFFF;\n",
              "    }\n",
              "  </style>\n",
              "\n",
              "      <script>\n",
              "        const buttonEl =\n",
              "          document.querySelector('#df-4748d0d3-bb1c-46cd-98e9-c146d733ac07 button.colab-df-convert');\n",
              "        buttonEl.style.display =\n",
              "          google.colab.kernel.accessAllowed ? 'block' : 'none';\n",
              "\n",
              "        async function convertToInteractive(key) {\n",
              "          const element = document.querySelector('#df-4748d0d3-bb1c-46cd-98e9-c146d733ac07');\n",
              "          const dataTable =\n",
              "            await google.colab.kernel.invokeFunction('convertToInteractive',\n",
              "                                                     [key], {});\n",
              "          if (!dataTable) return;\n",
              "\n",
              "          const docLinkHtml = 'Like what you see? Visit the ' +\n",
              "            '<a target=\"_blank\" href=https://colab.research.google.com/notebooks/data_table.ipynb>data table notebook</a>'\n",
              "            + ' to learn more about interactive tables.';\n",
              "          element.innerHTML = '';\n",
              "          dataTable['output_type'] = 'display_data';\n",
              "          await google.colab.output.renderOutput(dataTable, element);\n",
              "          const docLink = document.createElement('div');\n",
              "          docLink.innerHTML = docLinkHtml;\n",
              "          element.appendChild(docLink);\n",
              "        }\n",
              "      </script>\n",
              "    </div>\n",
              "  </div>\n",
              "  "
            ]
          },
          "metadata": {},
          "execution_count": 179
        }
      ]
    },
    {
      "cell_type": "markdown",
      "source": [
        "Don't forget to also process your second article in the same fashion as you did for the first one. "
      ],
      "metadata": {
        "id": "ktxbt8_fxyB5"
      }
    },
    {
      "cell_type": "code",
      "source": [
        "# Code for processing the second article starts here\n",
        "#It is hard to find wikipedia articles in my name, I have used an article that has my name occurring many times\n",
        "\n",
        "wiki_url_1 = 'https://en.wikipedia.org/wiki/Ponniyin_Selvan:_I'\n",
        "\n",
        "scraped_data = urllib.request.urlopen(wiki_url_1)\n",
        "\n",
        "type(scraped_data) # A response object for a web page"
      ],
      "metadata": {
        "id": "zOTJFJ_n3aIG",
        "colab": {
          "base_uri": "https://localhost:8080/"
        },
        "outputId": "5bc8c206-85c3-4b71-f77e-d81d42a826b6"
      },
      "execution_count": null,
      "outputs": [
        {
          "output_type": "execute_result",
          "data": {
            "text/plain": [
              "http.client.HTTPResponse"
            ]
          },
          "metadata": {},
          "execution_count": 180
        }
      ]
    },
    {
      "cell_type": "code",
      "source": [
        "article = scraped_data.read() # Extract the data from the response object\n",
        "\n",
        "parsed_article = bs.BeautifulSoup(article,'lxml') # Use lxml as the back end parser\n",
        "\n",
        "paragraphs = parsed_article.find_all('p')\n",
        "\n",
        "article_text = \"\"\n",
        "\n",
        "for p in paragraphs:\n",
        "    article_text += p.text\n",
        "\n",
        "len(article_text)"
      ],
      "metadata": {
        "colab": {
          "base_uri": "https://localhost:8080/"
        },
        "id": "0Uz0XFzFdPgg",
        "outputId": "9d5f0c27-20dc-40f2-eef0-4b07aaf5d958"
      },
      "execution_count": null,
      "outputs": [
        {
          "output_type": "execute_result",
          "data": {
            "text/plain": [
              "34286"
            ]
          },
          "metadata": {},
          "execution_count": 181
        }
      ]
    },
    {
      "cell_type": "code",
      "source": [
        "article_text=re.sub(r'\\[[0-9]*\\]','',article_text)\n",
        "article_text=re.sub(r'\\s{2,}',' ',article_text)\n",
        "print(article_text)"
      ],
      "metadata": {
        "colab": {
          "base_uri": "https://localhost:8080/"
        },
        "id": "-l1fm4N1dQcL",
        "outputId": "013196f1-6fba-47bb-ebcb-9e210e1a3ab2"
      },
      "execution_count": null,
      "outputs": [
        {
          "output_type": "stream",
          "name": "stdout",
          "text": [
            " Pages for logged out editors learn more Ponniyin Selvan: I (transl. The Son of Ponni) is a 2022 Indian Tamil-language epic historical action adventure film directed by Mani Ratnam, who co-wrote it with Elango Kumaravel and B. Jeyamohan. Produced by Ratnam and Subaskaran Allirajah under Madras Talkies and Lyca Productions, it is the first of two cinematic parts based on Kalki Krishnamurthy's 1955 novel, Ponniyin Selvan. The film stars an ensemble cast including Vikram, Aishwarya Rai Bachchan, Jayam Ravi, Karthi, Trisha, Jayaram, Aishwarya Lekshmi, Sobhita Dhulipala, Prabhu, R. Sarathkumar, Vikram Prabhu, Prakash Raj, Rahman, R. Parthiban and Lal. The music was composed by A. R. Rahman, with cinematography by Ravi Varman, editing by A. Sreekar Prasad, and production design by Thota Tharani. Ponniyin Selvan: I dramatizes the early life of Chola prince Arulmozhi Varman, who would become the renowned emperor Rajaraja I (947–1014).\n",
            "Ever since its publication, a film adaptation of Ponniyin Selvan had been explored by several Tamil filmmakers, including an attempt by M. G. Ramachandran in the late 1950s; however, it never materialized due to financial constraints. Decades later, Ratnam attempted to adapt the novel in the late-1980s and early-2010s but was unsuccessful. Calling it his \"dream project\", Ratnam revived the effort in January 2019, after Lyca agreed to fund the film. Following several changes in cast and crew, production of Ponniyin Selvan began in December 2019 and concluded in September 2021, halting twice due to the COVID-19 pandemic. The film was shot in various locations across India, with a few sequences in Thailand. It was originally intended to be a single film but was split into two parts.\n",
            "Ponniyin Selvan: I was released in theatres worldwide on 30 September 2022 in standard and IMAX formats, where it received acclaim from film critics, who praised the direction, cast performances, musical score, visuals and faithfulness to the novel. Breaking several box-office records, the film grossed more than ₹500 crore (US$63 million) and became the highest-grossing Tamil film of 2022, the fourth-highest-grossing Tamil film of all time and the 15th highest-grossing Indian film of all time. It received six nominations at the 16th Asian Film Awards, including Best Film.\n",
            "During 10th century in Thanjavur, the Chola dynasty rules prosperously in South India, under the reign of Emperor Sundara Chozhar, whose sons Aditha Karikalan and Arulmozhi Varman aka Ponniyin Selvan are heading their conquests of Kanchi and Lanka, respectively for the empire. Sensing something is amiss with the courtiers, Aditha Karikalan sends his friend, the Vaanar Clan's prince, Vallavaraiyan Vandiyadevan to investigate and relay the news to his sister Princess Kundavai and Sundara Chozhar subsequently. Vandiyadevan reaches the fortress of Kadamboor and overhears the conspiracy devised by the treasurer and minister of finance, Periya Pazhuvettaraiyar and other ministers to stop Aditha Karikalan from ascending the throne and install his uncle Madurantaka Chola on it.\n",
            "Vandiyadevan had frequent meetings with a Vaishnavite Azhwarkadiyan Nambi, whom he spots at the fortress spying on the meeting. After escaping from the fortress, Vandiyadevan confronts Nambi on a boat, who reveals that he was in the fortress to meet his foster sister Nandini, who mysteriously disappeared from the house during his absence and later married Periya Pazhuvettaraiyar, who is much older than her. After learning this, Vandiyedavan meets Pazhuvettaraiyar's wife Nandini, who tells him to meet her at her building and gives her ring to him for entry into the royal palace when he expresses that he wants to deliver Nambi's message to her. Vandiyedavan meets the fort's chief-in-charge Chinna Pazhuvettaraiyar and reveals to Sundara Chozhar about the conspirators, but Chinna Pazhuvettaraiyar, who is Pazhuvettaraiyar's younger brother intervenes and tries to capture Vandiyedavan, who manages to escape from them and meets Aditha Karikalan's sister Kundavai through Nandini, who orders him to bring her reply first to her before reaching Aditha Karikalan.\n",
            "After learning about the conspiracy, Kundavai (on whom Vandiyadevan begins to develop feelings) tells him to bring Ponniyin Selvan from Lanka. After winning the battle in Kanchi, Aditha Karikalan is told to return to Thanjavur but refuses as Nandini is present in Thanjavur. It is revealed that Aditha Karikalan was in love with Nandini, but the royalty refused to accept a poor orphan as the prospective queen of the Chola empire and banished her from the city. After years, Aditha Karikalan met Nandini tending to his enemy Veerapandiyan, who was the king of Pandya dynasty with whom she fell in love after being banished. In a fit of rage, Aditha Karikalan beheaded Veerapandiyan causing a depressed Nandini to swear vengeance against his family. Presently, Aditha Karikalan knows that Nandini married Periya Pazhuvettaraiyar just to avenge her past.\n",
            "After winning the war against Raja Mahinda in Lanka, Ponniyin Selvan meets Vandiyadevan, who relays messages for him from Kundavai and Vanathi (Ponniyin Selvan's love interest and Princess of Kodumbalur) by reaching Lanka with the help of a rowing woman Poonguzhali. Nambi also arrives in Lanka and is revealed to be a spy of the Prime minister Aniruddha Brahmarayar. After a face-off with Nandini in Thanjavur, Kundavai then meets Sundara Chozhar and tells him about Periya Pazhuvettaraiyar's conspiracies. The next day, Pazhuvettaraiyar and the ministers manipulate Sundara Chozhar to order a convoy to bring Ponniyin Selvan back to Thanjavur. Meanwhile, Kundavai is asked by Sundara Chozhar to bring Aditha Karikalan to Thanjavur, as it would not be appropriate for the crown prince to be far away from the capital.\n",
            "In Lanka, Ponniyin Selvan and Vandiyadevan are attacked by Pandya Aabathudavigal (a group of devout soldiers in the Pandya dynasty), which is headed by Ravi Dasan, but are rescued by a veiled woman Oomai Rani (who had saved Ponniyin Selvan from drowning in the Ponni river at a young age, thus giving the name). Kundavai meets Aditha Karikalan and tells him to arrive back at the kingdom by arguing that her decision to have Nandini banished was right as she took that decision as a princess, but Aditha Karikalan still adamantly refuses. Meanwhile, Pandya Aabuthudavigal's member meets Mahinda and receives soldiers as help from him in the group's plan to assassinate Ponniyin Selvan. Poonguzhali, realizing that the convoy is sent to apprehend Ponniyin Selvan for political reasons reveals about it to Ponniyin Selvan, Vandiyadevan, Nambi, and others. Ponniyin Selvan makes Vandiyadevan disguise himself as Ponniyin Selvan, and leaves with Poonguzhali to meet the convoy when his well-wishers prevent him from doing so, fearing threat for his life from Pazhuvettaraiyar.\n",
            "On the way toward shore, Ponniyin Selvan and Poonguzhali discover that the convoy has been ambushed by Pandya Aabuthudavigal, who apprehends Vandiyadevan, misinterpreting him to be Ponniyin Selvan. Ponniyin Selvan heads towards Pandya Aabuthudavigal's ship to rescue Vandiyadevan and they drown in the sea due to a storm and are consequently, presumed to be dead. The news of Ponniyin Selvan's death reaches Sundara Chozhar, Kundavai, and Aditha Karikalan who are all devastated. Aditha Karikalan swears vengeance against Nandini for his brother's death and heads towards the kingdom to destroy her. Meanwhile, Oomai Rani, revealed to be a lookalike of Nandini, is shown swimming in the sea to find Ponniyin Selvan, to rescue him.\n",
            "The film's narration was voiced by Kamal Haasan, Anil Kapoor, Rana Daggubati, Prithviraj Sukumaran and Jayanth Kaikini in the Tamil, Hindi, Telugu, Malayalam, and Kannada languages respectively.\n",
            "In 1958, M. G. Ramachandran announced Ponniyin Selvan, a film adaptation of Kalki Krishnamurthy's historical novel of the same name. Ramachandran bought the film rights to the novel for ₹10,000 (equivalent to ₹810,000 or US$10,000 in 2020), and would produce, direct and star in the adaptation, which would feature an ensemble cast including Vyjayanthimala, Gemini Ganesan, Padmini, Savitri, B. Saroja Devi, M. N. Rajam, T. S. Balaiah, M. N. Nambiar, O. A. K. Thevar and V. Nagayya. Before shooting could begin, Ramachandran met with an accident, and the wound took six months to heal; Ramachandran was unable to continue with the film even after renewing the rights four years later.\n",
            "In the late 1980s, actor Kamal Haasan and Mani Ratnam worked together on adopting the novel into a film. Composer Ilaiyaraaja and cinematographer P. C. Sreeram became attached to the project, while actors including Sathyaraj and Prabhu were cast in pivotal roles. Ratnam revealed that he worked on a first draft of the film alongside Kamal Haasan, who had bought the rights of the novel from Ramachandran, but the pair shelved their plan as the project did not make financial sense at the time. In an interview with Filmfare in January 1994, Ratnam stated that it remained one of his \"dream projects\" and that he had hoped to work on during his career. Kamal Haasan then attempted to make the story into a forty-part television series, and worked with writer Ra. Ki. Rangarajan on the screenplay, but the project was later stalled.\n",
            "In late 2010, Ratnam renewed his interest in the project and worked alongside writer Jeyamohan to finalise the script for the film adaptation of Ponniyin Selvan. Expected to be made in the Tamil at a cost of ₹100 crores, Ratnam planned to produce the film himself initially, with the intention of teaming up with a bigger production house later on in the film-making process. Technicians including composer A. R. Rahman, cinematographer Santosh Sivan, editor A. Sreekar Prasad and art director Sabu Cyril were soon after attached to the project.\n",
            "Ratnam cast Vijay in the leading role of Vallavaraiyan Vandiyadevan. After signing the film, Vijay called it a \"privilege\" and a \"dream come true\" to be working with Ratnam for the second time after Nerrukku Ner (1997). Mahesh Babu was cast as Arulmozhi Varman, who later becomes the Chola emperor Rajaraja I in the project, and also expressed his delight at being selected by Ratnam. Arya also joined the project to play a third leading male role after the script was narrated to him. Meanwhile, Sathyaraj was signed to play a supporting role in the film. During the course of the casting process, Ratnam had also considered other actors including Vikram, Suriya and Vishal but they eventually did not make the final cast. For the leading female roles, after considering Jyothika, the team finalised Anushka Shetty for a role and held discussions with Priyanka Chopra in regard to other characters.\n",
            "Seven days before the scheduled start of the shoot, a photoshoot for the film was held in Chennai featuring Vijay and Mahesh Babu. For the shoot, the team sought permission from the officials of Mysore Palace and Lalitha Mahal to film sequences. However, their requests were denied with palace officials keen to keep film crews away from the historic locations. The film was later shelved before the start of the filming stage, as the expected cost of production escalated. Jeyamohan stated that the film did not materialise as the team struggled to find available locations to shoot the film. He revealed that temple officials in Tamil Nadu refused to allow the team to film scenes on the premises and that the expensive cost of producing replica sets meant that it would not be a viable solution.\n",
            "In January 2019, Ratnam decided to revive Ponniyin Selvan after Lyca Productions, who earlier collaborated with him in Chekka Chivantha Vaanam (2018), agreed to fund the film. While Vikram, Vijay Sethupathi and Jayam Ravi decided to play the lead roles, along with Silambarasan in a crucial role, Amitabh Bachchan and Aishwarya Rai Bachchan too assigned the project; the former playing the role of Sundara Chola in the film. Composer A. R. Rahman, screenwriter Jeyamohan and editor Sreekar Prasad, were retained in the new version. In April 2019, a major change in the film's cast took place, with Sethupathi opting out of the project due to schedule conflicts, thus being replaced by Karthi, and Anushka Shetty was included in the film's cast, working with Ratnam for the first time. Aishwarya Rai, later herself confirmed her inclusion in the project, at the Cannes Film Festival. Anushka Shetty, who has been part of the film's old version, officially signed the project. Actress Amala Paul, too confirmed being a part of the film. Vikram, who is one of the principal characters in the film, too confirmed his part. Veteran actors R. Parthiban and Jayaram were also reported to join the film's cast. Rajinikanth wanted to portray Periya Pazhuvettaraiyar, but Ratnam refused since it would upset the actor's fans; the role went to Sarathkumar.\n",
            "In June 2019, Elango Kumaravel announced that he will co-write the screenplay for this version with Ratnam and Jeyamohan. Ratnam decided to retain cinematographer Santhosh Sivan for this project. However, his unavailability made the director to sign on Ravi Varman. Varman, was working for Indian 2, directed by S. Shankar, before signing the film's project. But the latter's delay made Varman to quit the film, making him available for Ponniyin Selvan. In September 2019, Ratnam confirmed that he will be working with the composer and lyricist duo Rahman and Vairamuthu, who were a part of Ratnam's frequent collaborations since Roja (1992). However, it received huge displeasure from netizens, as the latter was accused of sexual misconduct and harassment by several women singers and artists from the Tamil film industry. This also resulted in Anushka Shetty opting out of the project. Art director Thota Tharani signed the new version of the project, thus replacing Sabu Cyril, who worked in the old version. Costume designer Eka Lakhani travelled to Thanjavur temples to study sculptures, meet weavers, and understand the heritage before starting the process of designing.\n",
            "Ratnam announced that the film's shoot will take place across Tamil Nadu and Thailand, and as per his advice, several actors from the film including Vikram, Jayam Ravi, Karthi grew their hair long for their roles in the film. In October 2019, Ashwin Kakumanu announced his inclusion in the project. Actor Lal, shared a picture of him along with Ratnam, raising expectations about the film. He further confirmed his inclusion, stating that he will play the role of an aged warrior in the film. Prior to the film's shoot, Ratnam went on a location recce across Thailand, and a few reports stated on choosing Thailand as the primary spot, since its rich forests and the temples there resemble the 10th-century feel in which the story is set. Another major change in the film's cast happened, with Amala Paul and Keerthy Suresh opting out of the film. While the former, stated call sheet issues as the reason, the latter cited the she was roped in for Annaatthe. However, a few addition in the film's cast took place, with Trisha, Aishwarya Lekshmi and Vikram Prabhu were reportedly signed in the film.\n",
            "The story thread of Ponniyin Selvan spans years and more than 50 characters, with 15 principal roles. The older version of Ratnam's film adaptation had Vijay playing Vallavaraiyan Vandiyadevan one of the two protagonists and Mahesh Babu playing the other protagonist role of Arulmozhivarman alias Rajaraja I alias Ponniyin Selvan, after whom the novel is named. After the project was revived, the roles went to Karthi and Jayam Ravi respectively. It was later reported that Aishwarya Rai Bachchan will play dual roles in the film, as Nandini, the main antagonist of the novel, and her mute mother, queen Mandakini Devi. For his role as Azhwarkadiyan Nambi, Jayaram was sported a bald look in the film. Trisha would essay the role of Kundavai alias Illaiya Piratti. For the role of Poonguzhali, Aishwarya Lekshmi learnt rowing, as the character Poonguzhali is a boat woman in the novel. Post shooting being suspended due to lockdown, Trisha trained in horseriding at the Madras School of Equitation, where she was enrolled for a special course on 26 October 2020, and completed within 14 November 2020. Both Jayam Ravi and Karthi, confirmed their characters playing in the film.\n",
            "Ponniyin Selvan was originally planned as a single film with a budget of ₹500 crore. Later, it was split into two parts that were to be shot back-to-back, with some sources reporting that budget of ₹500 crore is spread across two parts.\n",
            "Principal photography began on 11 December 2019 at Krabi, Kanchanaburi and other places in Thailand, where the crew planned its shooting schedule for 40 days. After completing the first schedule in January 2020, the team planned to shoot the second schedule in Chennai, but later moved to Puducherry. The second schedule of shooting took place on 3 February 2020 in Puducherry, and completed within six days. Then the team moved to Hyderabad for the next schedule, on 10 February, where the entire team planned to shoot at Ramoji Film City. The second schedule was wrapped up on 26 February 2020. It was reported that, Karthi faced an accident while he was shooting in Hyderabad, where he was thrown up in the air, while riding a horse, however he faced only minor injuries. As of March 2020, the makers shot the major portion of the film for 90 days before shooting being interrupted due to the COVID-19 pandemic. In January 2020, it was reported that the film would be split into two parts, which was confirmed by Mani Ratnam in April 2020.\n",
            "In September 2020, Ratnam eventually planned to resume the shooting at Sri Lanka, but due to restrictions on international travel, it was difficult for the team to get permission from the officials to resume filming, and therefore decided to shoot major portions of the film in India. Ratnam wanted to shoot major portions in Hyderabad, Jaisalmer, Jaipur, Madhya Pradesh and many prominent locations across India. Although the team eventually planned for filming in mid-November, he decided against doing so, lamenting that despite government allowing permission for film shootings, it was advised that the film's shooting must have minimal crew members, with not more than 75 people working on the film. Mani Ratnam stated that since 500 people will be featured in the film's shoot, it is difficult for shooting in mid-2020. On 10 December 2020, a minor schedule of the film took place in Pollachi, featuring the lead actors. The team stated that the major schedule of the film will take place in January 2021, and was touted to be the biggest schedule, which will be wrapped up in a single stretch. Vikram was reported to be present in the schedule, after completing the shoot for Cobra. After a nine-month long hiatus, the shooting for the film resumed on 6 January 2021 at Ramoji Film City, Hyderabad. The major schedule featured the attendance of Sarathkumar, Aishwarya Rai Bachchan, Trisha, Rahman, Prakash Raj, Parthiban and Mohan Raman.\n",
            "On 3 February 2021, the makers shot for a special number featuring Trisha and 250 other artists at a huge set constructed at Ramoji Film City. The art direction team, supervised by Thotta Tharani, had constructed five huge sets in the shooting location. According to the executive producer Siva Ananth, the lead cast members began shooting for the portions in Hyderabad, excluding Vikram, who earlier shot for the portions in January, and was reported to join the sets in between a brief break during the schedule. After filming for a schedule ended in March, the next schedule was to start in May; by 23 April, it was delayed to June due to a spike in COVID-19 cases. Plans to shoot in North Indian states during that time was changed to instead shoot in Chennai and Hyderabad. In mid-June 2021, it was announced that shooting would only resume once there were fewer COVID-19 cases.\n",
            "Filming resumed in July 2021 at Puducherry. In August, the team went to Madhya Pradesh for location scouting, so that they can shoot the pending portions, and later resumed the shoot in Orchha and Gwalior. Within late-August 2021, Jayam Ravi and Vikram had completed his portions for both the parts in the film. The team later moved to Maheshwar for another schedule which majorly focuses on Karthi and Trisha. On 4 September 2021, Rahman confirmed that he completed his portions. The team had begun shooting in Pollachi for a song sequence, in the middle of the month. The team moved to Pollachi and then to Mysore to shoot some sequences. It was reported that Karthi joined shooting in Pollachi and Ashwin Kakamanu joined shooting in Mysore. Karthi finished shooting for his portions on 16 September 2021. On 18 September, Mani Ratnam confirmed that the entire shooting of the first part has been wrapped, except for few sequences in the second part. However, in March 2022 Jayam Ravi, Karthi and Aishwarya Rai Bacchhan wrapped up a small patchwork left which was fully completed in 7 days.[citation needed]\n",
            "The dubbing for the film started on 27 September 2021. Vikram has dubbed for himself for five languages for the film, in Tamil, Hindi, Telugu, Malayalam and Kannada, but only in the trailer. Both Jayam Ravi and Karthi dubbed for the Tamil and the Telugu versions of the film.\n",
            "In September 2021, the Animal Welfare Board of India (AWBI) filed a lawsuit against Mani Ratnam in connection with the death of a horse allegedly during the film's shooting in Hyderabad in August 2021. An official from the People for the Ethical Treatment of Animals (PETA) India, complained to the local officials against Ratnam, his production house Madras Talkies and the owner of the horse under the Prevention of Cruelty to Animals (PCA) Act and Indian Penal Code (IPC), saying that several horses were continuously used for hours at the film set due to which the animals were tired and dehydrated. Khushboo Gupta, the Indian Chief Advocatory Officer from PETA raised objections against Mani Ratnam saying that \"In the age of computer-generated imagery (CGI), production companies have no excuse for forcing exhausted horses to play at war until one of them drops dead\" and felt that \"Compassionate, forward-thinking filmmakers would never dream of hauling sensitive animals to a chaotic movie set and forcing them to 'act'\".\n",
            "The film score and soundtrack were composed by Mani Ratnam's regular collaborator A. R. Rahman. The audio rights of the film were purchased by Tips.\n",
            "The soundtrack consists of six original songs composed by A.R.Rahman, namely, \"Ponni Nadhi\", \"Chola Chola\", \"Ratchasa Maamaney\", \"Sol\", \"Alaikadal\" and \"Devaralan Aattam\". Lyrics were written by Ilango Krishnan, Kabilan, Krithika Nelson and Siva Ananth in the Tamil version and Mehboob Kotwal, Ananta Sriram, Rafeeq Ahamed and Jayanth Kaikini wrote the song lyrics in Hindi, Telugu, Malayalam and Kannada respectively.\n",
            "Promotional campaign for the film was supposed to begin in July 2022, with the film's teaser trailer planned to be launched at the Brihadisvara Temple in Thanjavur, the city which served as the capital for the Chola dynasty. Following the launch event, the team also planned a promotional tour for the film. However, in mid-June 2022, the film's teaser launch was cancelled due to security reasons and post-production delays. The movie team later on decided to have a grand teaser trailer launch event in Chennai as per their previous schedule on 8 July 2022. The film's teaser trailer was released on 8 July 2022 in Tamil and dubbed versions of Hindi, Telugu, Malayalam and Kannada languages.\n",
            "The film's trailer and songs were released by the chief guests Rajinikanth and Kamal Haasan on 6 September 2022 at the Nehru indoor stadium in Tamil and dubbed versions of Hindi, Telugu, Malayalam and Kannada languages. The trailer featured Kamal Haasan voice-over in the Tamil version and Anil Kapoor, Rana Daggubati, Prithviraj Sukumaran and Jayanth Kaikini voice-overs in Hindi, Telugu, Malayalam and Kannada version of the trailer respectively. Posters featuring Sarathkumar, Parthiban, Aishwarya Lekshmi, Sobhita Dhulipala, Prakash Raj, Jayachithra, Rahman, Vikram Prabhu, Prabhu, Lal and Jayaram were released before the trailer launch event.\n",
            "Ponniyin Selvan: I released on 30 September 2022 worldwide. It was released in Tamil along with the dubbed versions of Hindi, Kannada, Telugu and Malayalam languages. It was previously scheduled to release on summer (May–July) 2022, but was postponed due to production works. It became the first Tamil film to release in IMAX format.\n",
            "The film's release across Canada was disrupted after large theatre chains Cineplex and Landmark Cinemas refused to exhibit due to ongoing anonymous threats of vandalism if Tamil films were released in their locations. The attacks, which have happened during screenings of Theri (2016) and Kurup (2021), are alleged to have been conducted by owners of Woodside Cinemas and York Cinemas, a local theatre chain in Toronto attempting to hold monopoly of screening Tamil films. Ponniyin Selvan: I had a limited Canadian release in select private theatres, including TIFF Bell Lightbox (a first for a Tamil film premier), amidst protection from law enforcement.\n",
            "The distribution rights of the film in Tamil Nadu were acquired by\n",
            "Red Giant Movies. The Andhra Pradesh and Telangana distribution rights were bagged by Sri Venkateswara Creations and Dil Raju. The Kerala distribution rights of the film was bagged by Gokulam Gopalan's Sree Gokulam Movies. The overseas theatrical rights of the film were acquired by TentKotta. The North India distribution rights were acquired by Pen India Limited.\n",
            "The digital streaming rights for the film were purchased by Amazon Prime Video for ₹125 crore (US$16 million). Similarly, the satellite rights have been sold to Sun TV. The film was digitally premiered on Amazon Prime Video from 4 November 2022 in Tamil and dubbed versions of Telugu, Malayalam and Kannada languages. The Hindi dubbed version was released on 26 November 2022 on the platform.\n",
            "Ponniyin Selvan: I currently has a worldwide gross of over ₹500 crore (US$63 million), with more than ₹334.7 crore (US$42 million) from India, ₹230 crore (US$29 million) from Tamil Nadu alone, becoming the first film to do so, and over ₹169 crore (US$21 million) from the rest of the world. The film became the highest-grossing Tamil film of the year 2022, the fourth-highest-grossing Tamil film of all time and the 15th highest-grossing Indian film of all time\n",
            "The film earned around ₹80 crore (US$10 million) on its opening day worldwide and debuted no.1 in countries like Singapore, Malaysia, Sri Lanka, Australia and reached the top 3 in the USA. By its third day, the film earned around ₹80 crore (US$10 million) taking its first weekend worldwide collection to ₹230 crore (US$29 million). The film performed exceptionally well in Tamil Nadu, Kerala and overseas market, but performed average in the Kannada, Telugu and Hindi belt. The dubbed Hindi version grossed ₹22 crore (US$2.8 million) at the domestic box office. Nonetheless, the film emerged as the highest grossing Tamil movie in Malaysia, Singapore, USA, Australia and the 5th highest grossing Indian movie in the US behind Baahubali: The Beginning, Baahubali 2: The Conclusion, RRR and K.G.F: Chapter 2.\n",
            "Ponniyin Selvan: I met with critical acclaim, with emphasis on the direction, score, and the cast's performance with some reviews praising Vikram, Karthi, Jayam Ravi, Aishwarya Rai, Trisha, Jayaram and entire cast performances especially. On the review aggregator website Rotten Tomatoes, 91% of 11 critics' reviews are positive.\n",
            "Kirubhakar Purushothaman of The Indian Express rated the film 4 out of 5 stars and wrote \"Mani Ratnam understands Kalki's novel is a mainstream page-turner, so he retains its flavour and neither intellectualises it nor dumbs it down\". Sonil Dedhia of News 18 rated the film 4 out of 5 stars and wrote \"Ponniyan Selvan 1 is an engaging, involving movie-going experience, and proves once again why Mani Ratnam is one of India's finest filmmakers\". Sowmya Rajendran of The News Minute rated the film 4 out of 5 stars and wrote \"The film does not try to amplify any aspect of the novel unnecessarily to fit a narrative that might be the flavour of the season. In fact, it downplays the praise that Kalki lavished on the Chola dynasty\". Stutee Ghosh of The Quint rated the film 4 out of 5 stars and wrote \"Ponniyin Selvan 1 is grand and royal but unlike the bombastic, hyper-masculine world we are used to seeing these days with overwhelming VFX and CGI, here Mani Ratnam's hold on the narrative never slips\". Sukanya Verma of Rediff rated the film 4 out of 5 stars and wrote \"Mani Ratnam's eye for intimacy, enigma, humour and menace bring out the glory of its source and all the imagination in store. One seldom thinks of Mani Ratnam's excellence in terms of VFX but Ponniyin Selvan: 1 goes full steam\". Ritika Handoo of Zee News rated the film 4 out of 5 stars and wrote \"The beauty of Part one of the two-part film lies in the fact that Mani Ratnam has not only made the story concise but has managed to do so carefully, taking adequate care not to dilute the essence of the novel or its charm\". Sudhir Srinivasan of Cinema Express rated the film 4 out of 5 stars and wrote \"Perhaps the foremost pleasure of a Mani Ratnam film is in experiencing his wizardry over the medium. We see plenty of evidence of this in Ponniyin Selvan 1\". Saibal Chatterjee of NDTV rated the film 4 out of 5 stars and wrote \"The sprawling, spectacularly mounted film is an ambitious, near-flawless adaptation of a much-loved literary work\". Devesh Sharma of Filmfare rated the film 4 out of 5 stars and wrote \"Watch the film for its visual grandeur, epic action sequences and some sublime acting by the entire cast\". Sanjana Deshpande of The Free Press Journal rated the film 4 out of 5 stars and wrote \"the cherry on top of the cake was the cinematography by Ravi Varman. He catches the attention of the audience and never lets it go. Each shot is carefully placed and executed. There's so much nuance in the film that is hard to put down in words, it is best experienced!\".\n",
            "IANS rated the film 4 out of 5 stars and wrote \"Mani Ratnam's 'Ponniyin Selvan – Part I' is a masterpiece that deserves all your adulation and love\".\n",
            "M. Suganth of The Times of India rated the film 3.5 out of 5 stars and wrote \"Mani Ratnam's adaptation of Kalki's Ponniyin Selvan is spectacular\", adding \"Mani Ratnam finally brings the dream alive with this spectacular adaptation that superbly captures the intrigue, thrills and page-turning quality of the books.\" Soumyabrata Gupta of Zoom rated the film 3.5 out of 5 stars and wrote \"Perhaps not a film for the masses, Ponniyin Selvan 1 will ultimately be a cult classic, in time\". Vivek M V of Deccan Herald rated the film 3.5 out of 5 stars and wrote \"Ponniyin Selvan is a winner because Ratnam shows a new way to make epic films\". Priyanka Sundar of Firstpost rated the film 3.5 out of 5 stars and termed it as a \"brilliant experience\" which doesn't chase the same high as other recent commercial films did. The spectacle lies in the setting and the story of the film that unravels beautifully. Bharathi Pradhan of Lehren rated the film 3.5 out of 5 stars and termed the film as \"Royal and Spectacular\". Anupama Subramanian of Deccan Chronicle rated the film 3.5 out of 5 stars and wrote \"Ponniyin Selvan is a bit like Game of Thrones without as much grisly violence. The polished cast and crew will keep you engaged\". Movie Herald's Felix said 'Glorious attempt which was effective but too delicate'\n",
            "Janani K of India Today rated the film 3 out of 5 stars and wrote \"Technically, Ponniyin Selvan is top-notch. Be it Ravi Varman's brilliant cinematography or AR Rahman's excellent score, the film sucks us into the world that Mani Ratnam has created with so much detailing.\" The Hans India rated the film 3 out of 5 stars and wrote \"PS 1 is a fascinating drama narrating an epic historical story. Mani Ratnam brought the best of everything on screen for his dream project. The casting and AR Rahman's background score stand as the main highlights of the film. PS 1 is more about drama and less about action\" Lakshmi Subramanian of The Week rated the film 2.5 out of 5 stars and wrote \"Kalki's book gets Mani Ratnam's royal cinematic touch but lacks powerful storytelling\". Haricharan Pudipeddi of Hindustan Times stated \"Mani Ratnam has managed the unthinkable--adapt the literary classic with finesse and impact. All actors do their parts well but Aishwarya Rai is a revelation\". Likewise, Srinivasa Ramanujam of The Hindu gave the film a positive review, noting that an \"epic story gets Mani Ratnam's royal treatment\", while adding \"Kalki's source material of PS:1 is rich with myriad characters, and Mani Ratnam gleefully picks them all up to give it a cinematic touch, thanks to some powerhouse performances from his all-star cast\".\n",
            "On 17 September 2022, Mani Ratnam in a press meet, confirmed that Ponniyin Selvan: II (PS:2) would be released in six to nine months after the theatrical release of Ponniyin Selvan: I. On 28 December 2022, it was revealed by the unit that PS:2 would be releasing on 28 April 2023.\n",
            "\n"
          ]
        }
      ]
    },
    {
      "cell_type": "code",
      "source": [
        "from spacy import displacy\n",
        "\n",
        "nlp = spacy.load(\"en_core_web_sm\")\n",
        "\n",
        "my_article = nlp(article_text)\n",
        "\n",
        "len(my_article) # Length in tokens"
      ],
      "metadata": {
        "colab": {
          "base_uri": "https://localhost:8080/"
        },
        "id": "oj1xegNedSKq",
        "outputId": "51354ff2-b79a-42a1-ed8a-864132e7a9a7"
      },
      "execution_count": null,
      "outputs": [
        {
          "output_type": "execute_result",
          "data": {
            "text/plain": [
              "6449"
            ]
          },
          "metadata": {},
          "execution_count": 183
        }
      ]
    },
    {
      "cell_type": "code",
      "source": [
        "my_spans = list(my_article.sents)\n",
        "\n",
        "my_spans[1] # Let's view just the first sentence"
      ],
      "metadata": {
        "colab": {
          "base_uri": "https://localhost:8080/"
        },
        "id": "9QVTDoXadSCQ",
        "outputId": "0db63606-f4f3-4297-f848-c687ff1c1b6d"
      },
      "execution_count": null,
      "outputs": [
        {
          "output_type": "execute_result",
          "data": {
            "text/plain": [
              "The Son of Ponni) is a 2022 Indian Tamil-language epic historical action adventure film directed by Mani Ratnam, who co-wrote it with Elango Kumaravel and B. Jeyamohan."
            ]
          },
          "metadata": {},
          "execution_count": 184
        }
      ]
    },
    {
      "cell_type": "code",
      "source": [
        "displacy.render(my_spans[2], style=\"ent\", jupyter=True)"
      ],
      "metadata": {
        "colab": {
          "base_uri": "https://localhost:8080/",
          "height": 87
        },
        "id": "-Z3bzCXodR6I",
        "outputId": "361cb0d6-0522-499a-da15-12ce552b86f4"
      },
      "execution_count": null,
      "outputs": [
        {
          "output_type": "display_data",
          "data": {
            "text/plain": [
              "<IPython.core.display.HTML object>"
            ],
            "text/html": [
              "<span class=\"tex2jax_ignore\"><div class=\"entities\" style=\"line-height: 2.5; direction: ltr\">Produced by \n",
              "<mark class=\"entity\" style=\"background: #bfeeb7; padding: 0.45em 0.6em; margin: 0 0.25em; line-height: 1; border-radius: 0.35em;\">\n",
              "    Ratnam\n",
              "    <span style=\"font-size: 0.8em; font-weight: bold; line-height: 1; border-radius: 0.35em; vertical-align: middle; margin-left: 0.5rem\">PRODUCT</span>\n",
              "</mark>\n",
              " and \n",
              "<mark class=\"entity\" style=\"background: #feca74; padding: 0.45em 0.6em; margin: 0 0.25em; line-height: 1; border-radius: 0.35em;\">\n",
              "    Subaskaran Allirajah\n",
              "    <span style=\"font-size: 0.8em; font-weight: bold; line-height: 1; border-radius: 0.35em; vertical-align: middle; margin-left: 0.5rem\">GPE</span>\n",
              "</mark>\n",
              " under \n",
              "<mark class=\"entity\" style=\"background: #7aecec; padding: 0.45em 0.6em; margin: 0 0.25em; line-height: 1; border-radius: 0.35em;\">\n",
              "    Madras Talkies\n",
              "    <span style=\"font-size: 0.8em; font-weight: bold; line-height: 1; border-radius: 0.35em; vertical-align: middle; margin-left: 0.5rem\">ORG</span>\n",
              "</mark>\n",
              " and \n",
              "<mark class=\"entity\" style=\"background: #7aecec; padding: 0.45em 0.6em; margin: 0 0.25em; line-height: 1; border-radius: 0.35em;\">\n",
              "    Lyca Productions\n",
              "    <span style=\"font-size: 0.8em; font-weight: bold; line-height: 1; border-radius: 0.35em; vertical-align: middle; margin-left: 0.5rem\">ORG</span>\n",
              "</mark>\n",
              ", it is the \n",
              "<mark class=\"entity\" style=\"background: #e4e7d2; padding: 0.45em 0.6em; margin: 0 0.25em; line-height: 1; border-radius: 0.35em;\">\n",
              "    first\n",
              "    <span style=\"font-size: 0.8em; font-weight: bold; line-height: 1; border-radius: 0.35em; vertical-align: middle; margin-left: 0.5rem\">ORDINAL</span>\n",
              "</mark>\n",
              " of \n",
              "<mark class=\"entity\" style=\"background: #e4e7d2; padding: 0.45em 0.6em; margin: 0 0.25em; line-height: 1; border-radius: 0.35em;\">\n",
              "    two\n",
              "    <span style=\"font-size: 0.8em; font-weight: bold; line-height: 1; border-radius: 0.35em; vertical-align: middle; margin-left: 0.5rem\">CARDINAL</span>\n",
              "</mark>\n",
              " cinematic parts based on \n",
              "<mark class=\"entity\" style=\"background: #aa9cfc; padding: 0.45em 0.6em; margin: 0 0.25em; line-height: 1; border-radius: 0.35em;\">\n",
              "    Kalki Krishnamurthy's\n",
              "    <span style=\"font-size: 0.8em; font-weight: bold; line-height: 1; border-radius: 0.35em; vertical-align: middle; margin-left: 0.5rem\">PERSON</span>\n",
              "</mark>\n",
              " \n",
              "<mark class=\"entity\" style=\"background: #bfe1d9; padding: 0.45em 0.6em; margin: 0 0.25em; line-height: 1; border-radius: 0.35em;\">\n",
              "    1955\n",
              "    <span style=\"font-size: 0.8em; font-weight: bold; line-height: 1; border-radius: 0.35em; vertical-align: middle; margin-left: 0.5rem\">DATE</span>\n",
              "</mark>\n",
              " novel, \n",
              "<mark class=\"entity\" style=\"background: #aa9cfc; padding: 0.45em 0.6em; margin: 0 0.25em; line-height: 1; border-radius: 0.35em;\">\n",
              "    Ponniyin Selvan\n",
              "    <span style=\"font-size: 0.8em; font-weight: bold; line-height: 1; border-radius: 0.35em; vertical-align: middle; margin-left: 0.5rem\">PERSON</span>\n",
              "</mark>\n",
              ". </div></span>"
            ]
          },
          "metadata": {}
        }
      ]
    },
    {
      "cell_type": "code",
      "source": [
        "displacy.render(my_spans[3], style=\"ent\", jupyter=True)"
      ],
      "metadata": {
        "colab": {
          "base_uri": "https://localhost:8080/",
          "height": 87
        },
        "id": "hpNWrc1sdRqN",
        "outputId": "b30ef2f5-f32a-43f9-c347-058506bb4284"
      },
      "execution_count": null,
      "outputs": [
        {
          "output_type": "display_data",
          "data": {
            "text/plain": [
              "<IPython.core.display.HTML object>"
            ],
            "text/html": [
              "<span class=\"tex2jax_ignore\"><div class=\"entities\" style=\"line-height: 2.5; direction: ltr\">The film stars an ensemble cast including \n",
              "<mark class=\"entity\" style=\"background: #7aecec; padding: 0.45em 0.6em; margin: 0 0.25em; line-height: 1; border-radius: 0.35em;\">\n",
              "    Vikram\n",
              "    <span style=\"font-size: 0.8em; font-weight: bold; line-height: 1; border-radius: 0.35em; vertical-align: middle; margin-left: 0.5rem\">ORG</span>\n",
              "</mark>\n",
              ", \n",
              "<mark class=\"entity\" style=\"background: #aa9cfc; padding: 0.45em 0.6em; margin: 0 0.25em; line-height: 1; border-radius: 0.35em;\">\n",
              "    Aishwarya Rai Bachchan\n",
              "    <span style=\"font-size: 0.8em; font-weight: bold; line-height: 1; border-radius: 0.35em; vertical-align: middle; margin-left: 0.5rem\">PERSON</span>\n",
              "</mark>\n",
              ", \n",
              "<mark class=\"entity\" style=\"background: #aa9cfc; padding: 0.45em 0.6em; margin: 0 0.25em; line-height: 1; border-radius: 0.35em;\">\n",
              "    Jayam Ravi\n",
              "    <span style=\"font-size: 0.8em; font-weight: bold; line-height: 1; border-radius: 0.35em; vertical-align: middle; margin-left: 0.5rem\">PERSON</span>\n",
              "</mark>\n",
              ", \n",
              "<mark class=\"entity\" style=\"background: #7aecec; padding: 0.45em 0.6em; margin: 0 0.25em; line-height: 1; border-radius: 0.35em;\">\n",
              "    Karthi, Trisha, Jayaram\n",
              "    <span style=\"font-size: 0.8em; font-weight: bold; line-height: 1; border-radius: 0.35em; vertical-align: middle; margin-left: 0.5rem\">ORG</span>\n",
              "</mark>\n",
              ", \n",
              "<mark class=\"entity\" style=\"background: #aa9cfc; padding: 0.45em 0.6em; margin: 0 0.25em; line-height: 1; border-radius: 0.35em;\">\n",
              "    Aishwarya Lekshmi\n",
              "    <span style=\"font-size: 0.8em; font-weight: bold; line-height: 1; border-radius: 0.35em; vertical-align: middle; margin-left: 0.5rem\">PERSON</span>\n",
              "</mark>\n",
              ", \n",
              "<mark class=\"entity\" style=\"background: #feca74; padding: 0.45em 0.6em; margin: 0 0.25em; line-height: 1; border-radius: 0.35em;\">\n",
              "    Sobhita Dhulipala\n",
              "    <span style=\"font-size: 0.8em; font-weight: bold; line-height: 1; border-radius: 0.35em; vertical-align: middle; margin-left: 0.5rem\">GPE</span>\n",
              "</mark>\n",
              ", \n",
              "<mark class=\"entity\" style=\"background: #feca74; padding: 0.45em 0.6em; margin: 0 0.25em; line-height: 1; border-radius: 0.35em;\">\n",
              "    Prabhu\n",
              "    <span style=\"font-size: 0.8em; font-weight: bold; line-height: 1; border-radius: 0.35em; vertical-align: middle; margin-left: 0.5rem\">GPE</span>\n",
              "</mark>\n",
              ", \n",
              "<mark class=\"entity\" style=\"background: #aa9cfc; padding: 0.45em 0.6em; margin: 0 0.25em; line-height: 1; border-radius: 0.35em;\">\n",
              "    R. Sarathkumar\n",
              "    <span style=\"font-size: 0.8em; font-weight: bold; line-height: 1; border-radius: 0.35em; vertical-align: middle; margin-left: 0.5rem\">PERSON</span>\n",
              "</mark>\n",
              ", \n",
              "<mark class=\"entity\" style=\"background: #aa9cfc; padding: 0.45em 0.6em; margin: 0 0.25em; line-height: 1; border-radius: 0.35em;\">\n",
              "    Vikram Prabhu\n",
              "    <span style=\"font-size: 0.8em; font-weight: bold; line-height: 1; border-radius: 0.35em; vertical-align: middle; margin-left: 0.5rem\">PERSON</span>\n",
              "</mark>\n",
              ", \n",
              "<mark class=\"entity\" style=\"background: #7aecec; padding: 0.45em 0.6em; margin: 0 0.25em; line-height: 1; border-radius: 0.35em;\">\n",
              "    Prakash Raj\n",
              "    <span style=\"font-size: 0.8em; font-weight: bold; line-height: 1; border-radius: 0.35em; vertical-align: middle; margin-left: 0.5rem\">ORG</span>\n",
              "</mark>\n",
              ", \n",
              "<mark class=\"entity\" style=\"background: #aa9cfc; padding: 0.45em 0.6em; margin: 0 0.25em; line-height: 1; border-radius: 0.35em;\">\n",
              "    Rahman\n",
              "    <span style=\"font-size: 0.8em; font-weight: bold; line-height: 1; border-radius: 0.35em; vertical-align: middle; margin-left: 0.5rem\">PERSON</span>\n",
              "</mark>\n",
              ", \n",
              "<mark class=\"entity\" style=\"background: #c887fb; padding: 0.45em 0.6em; margin: 0 0.25em; line-height: 1; border-radius: 0.35em;\">\n",
              "    R. Parthiban\n",
              "    <span style=\"font-size: 0.8em; font-weight: bold; line-height: 1; border-radius: 0.35em; vertical-align: middle; margin-left: 0.5rem\">NORP</span>\n",
              "</mark>\n",
              " and \n",
              "<mark class=\"entity\" style=\"background: #aa9cfc; padding: 0.45em 0.6em; margin: 0 0.25em; line-height: 1; border-radius: 0.35em;\">\n",
              "    Lal\n",
              "    <span style=\"font-size: 0.8em; font-weight: bold; line-height: 1; border-radius: 0.35em; vertical-align: middle; margin-left: 0.5rem\">PERSON</span>\n",
              "</mark>\n",
              ". </div></span>"
            ]
          },
          "metadata": {}
        }
      ]
    },
    {
      "cell_type": "code",
      "source": [
        "root_verb = [(string.root) for string in my_spans]\n",
        "x = pd.DataFrame(root_verb, columns=['root_verb'])\n",
        "print(x)\n",
        "\n",
        "#224 rows of root verbs"
      ],
      "metadata": {
        "colab": {
          "base_uri": "https://localhost:8080/"
        },
        "id": "qbRZwFD7dRd_",
        "outputId": "c0805d92-f6f6-402b-c6a9-51cb22c6f536"
      },
      "execution_count": null,
      "outputs": [
        {
          "output_type": "stream",
          "name": "stdout",
          "text": [
            "     root_verb\n",
            "0        learn\n",
            "1           is\n",
            "2           is\n",
            "3        stars\n",
            "4     composed\n",
            "..         ...\n",
            "219         is\n",
            "220     stated\n",
            "221         do\n",
            "222       gave\n",
            "223  confirmed\n",
            "\n",
            "[224 rows x 1 columns]\n"
          ]
        }
      ]
    },
    {
      "cell_type": "code",
      "source": [
        "nsubj_list = []\n",
        "for s in my_spans:\n",
        "    for tok1 in s:\n",
        "        if tok1.dep_ == \"nsubj\":\n",
        "            nsubj_list.append(tok1.text)\n",
        "\n",
        "y = pd.DataFrame({'Nsubj': nsubj_list})\n",
        "print(y)\n",
        "\n",
        "#327 nominal subjects captured"
      ],
      "metadata": {
        "colab": {
          "base_uri": "https://localhost:8080/"
        },
        "id": "81fCnLNhd1bb",
        "outputId": "045b54eb-e628-4414-9cca-3f9e41ab53bf"
      },
      "execution_count": null,
      "outputs": [
        {
          "output_type": "stream",
          "name": "stdout",
          "text": [
            "         Nsubj\n",
            "0        Pages\n",
            "1          Son\n",
            "2          who\n",
            "3           it\n",
            "4         film\n",
            "..         ...\n",
            "322  Ramanujam\n",
            "323      story\n",
            "324     Ratnam\n",
            "325     Ratnam\n",
            "326       PS:2\n",
            "\n",
            "[327 rows x 1 columns]\n"
          ]
        }
      ]
    },
    {
      "cell_type": "code",
      "source": [
        "dobj_list = []\n",
        "for s in my_spans:\n",
        "    for tok2 in s:\n",
        "        if tok2.dep_ == \"dobj\":\n",
        "            dobj_list.append(tok2.text)\n",
        "\n",
        "z = pd.DataFrame({'Dobj': dobj_list})\n",
        "print(z)\n",
        "\n",
        "#275 Direct objects captured"
      ],
      "metadata": {
        "colab": {
          "base_uri": "https://localhost:8080/"
        },
        "id": "QeDYT6_Pd1T5",
        "outputId": "c918c47f-cb9b-4fc5-850e-e070f5fff1ef"
      },
      "execution_count": null,
      "outputs": [
        {
          "output_type": "stream",
          "name": "stdout",
          "text": [
            "          Dobj\n",
            "0       Selvan\n",
            "1            I\n",
            "2           it\n",
            "3         cast\n",
            "4         life\n",
            "..         ...\n",
            "275  treatment\n",
            "276   material\n",
            "277       them\n",
            "278      touch\n",
            "279       that\n",
            "\n",
            "[280 rows x 1 columns]\n"
          ]
        }
      ]
    },
    {
      "cell_type": "code",
      "source": [
        "ent_type=[]\n",
        "ent_token=[]\n",
        "for s in my_spans:\n",
        "    for ent in s.ents:\n",
        "        ent_type.append(ent.label_)\n",
        "        ent_token.append(\" \".join([i.text for i in ent]))\n",
        "        break\n",
        "\n",
        "ent_list = pd.DataFrame({'ent_type': ent_type, 'ent_token': ent_token})\n",
        "print(ent_list)"
      ],
      "metadata": {
        "colab": {
          "base_uri": "https://localhost:8080/"
        },
        "id": "IMQ-WHJvd1Mp",
        "outputId": "6180edab-fcfc-4e36-ef67-6aa64c730e1a"
      },
      "execution_count": null,
      "outputs": [
        {
          "output_type": "stream",
          "name": "stdout",
          "text": [
            "        ent_type             ent_token\n",
            "0            ORG       Ponniyin Selvan\n",
            "1    WORK_OF_ART      The Son of Ponni\n",
            "2        PRODUCT                Ratnam\n",
            "3            ORG                Vikram\n",
            "4         PERSON          A. R. Rahman\n",
            "..           ...                   ...\n",
            "204          ORG                  PS 1\n",
            "205       PERSON  Haricharan Pudipeddi\n",
            "206       PERSON         Aishwarya Rai\n",
            "207       PERSON   Srinivasa Ramanujam\n",
            "208         DATE     17 September 2022\n",
            "\n",
            "[209 rows x 2 columns]\n"
          ]
        }
      ]
    },
    {
      "cell_type": "code",
      "source": [
        "total_df = pd.concat([x,y,z,ent_list], axis=1)\n",
        "total_df.shape\n",
        "\n",
        "#327 rows 5 columns"
      ],
      "metadata": {
        "colab": {
          "base_uri": "https://localhost:8080/"
        },
        "id": "NJKEXjWmd07o",
        "outputId": "94d20a74-07d0-4fb3-a87b-842ee3ed3b74"
      },
      "execution_count": null,
      "outputs": [
        {
          "output_type": "execute_result",
          "data": {
            "text/plain": [
              "(327, 5)"
            ]
          },
          "metadata": {},
          "execution_count": 191
        }
      ]
    },
    {
      "cell_type": "code",
      "source": [
        "for df in total_df.columns:\n",
        "    print(\"'{}': {}\".format(df, set(total_df[df])))"
      ],
      "metadata": {
        "colab": {
          "base_uri": "https://localhost:8080/"
        },
        "id": "qU3bAgxmd03A",
        "outputId": "4870d60d-7271-4de7-8abd-2a16025907a2"
      },
      "execution_count": null,
      "outputs": [
        {
          "output_type": "stream",
          "name": "stdout",
          "text": [
            "'root_verb': {nan, is, took, released, arrives, moved, revived, confirmed, meets, filed, stated, confirmed, began, held, resulted, keep, stated, rated, knows, learn, planned, resumed, planned, meets, gave, announced, released, rated, assigned, announced, finalised, confirmed, delayed, rated, is, revealed, asked, scheduled, rated, thinks, slips, spans, supposed, rated, released, decided, tells, went, earned, are, announced, received, wanted, received, begun, had, confirmed, Ki, decided, shot, dubbed, meets, bagged, performed, cancelled, confirmed, sought, rated, said, is, finished, composed, worked, trained, changed, made, stated, rated, Selvan, shelved, met, composed, revealed, stated, reported, decided, made, released, shot, reported, released, acquired, dubbed, discover, do, intended, travelled, downplays, makes, went, meets, essay, written, materialized, roped, beheaded, resumed, moved, manipulate, crore, reveals, Selvan, raised, retained, swears, has, released, went, had, constructed, took, became, According, moved, retains, rated, signed, attacked, confirmed, rated, acquired, took, attempted, consists, complained, reaches, happened, planned, sends, is, featured, Rangarajan, planned, completed, reported, released, Selvan, lies, revealed, renewed, confirmed, began, disrupted, rated, purchased, rated, bagged, denied, cast, see, split, placed, wrapped, dramatizes, alleged, reported, joined, took, rated, Rajaraja, voiced, catches, sported, reported, wanted, rules, rated, called, shared, shot, advised, confronts, purchased, is, met, bought, confirmed, planned, confirmed, featured, grossed, revealed, cast, brought, attempted, acquired, working, signed, reported, meets, wrapped, rated, signed, met, told, stars, attached, is, became, announced, rated, considered, Selvan, became, heads, sold, stated, rated, announced, premiered, meets, sucks, stand, had, reaches}\n",
            "'Nsubj': {'he', 'Part', 'news', 'One', 'Kalki', 'He', 'Kakumanu', 'characters', 'dynasty', 'Pudipeddi', 'spectacle', 'Son', 'Dedhia', 'Karikalan', 'version', 'Vandiyedavan', 'Verma', 'official', 'Ramachandran', 'it', 'pair', 'crew', 'Rai', 'Felix', 'I', 'Handoo', 'Varman', 'hold', 'Lal', 'project', 'royalty', 'prince', 'actors', 'Pradhan', 'Vandiyadevan', 'who', 'Srinivasan', 'Kumaravel', 'Sharma', 'Purushothaman', 'role', 'dream', 'cast', 'V', 'director', 'thread', 'Vikram', 'change', 'Kundavai', 'one', 'wound', 'Tharani', 'decision', 'This', 'people', 'Filming', 'dubbing', 'roles', 'Nandini', 'Ghosh', 'PS', 'cherry', 'film', 'unavailability', 'Gupta', 'companies', 'Tomatoes', 'India', 'which', 'Board', '1', 'Ilaiyaraaja', 'Karthi', 'she', 'Selvan', 'filmmakers', 'Shetty', 'trailer', 'Ramanujam', 'delay', 'animals', 'him', 'casting', 'they', 'shooting', 'Trisha', 'reports', 'cost', 'officials', 'films', 'book', 'Pazhuvettaraiyar', 'Subramanian', 'photography', 'Ravi', 'Ratnam', 'herself', 'story', 'attempt', 'pleasure', 'novel', 'It', 'Haasan', 'Bachchan', 'Chatterjee', 'Sundar', 'Rajinikanth', 'wishers', 'emperor', 'Jeyamohan', 'Suganth', 'latter', 'forests', 'members', 'member', 'Cineplex', 'beauty', 'Lakhani', 'Sivan', 'Rajendran', 'Poonguzhali', 'Rahman', 'Deshpande', 'Paul', 'Pages', 'adaptation', 'Technicians', 'IANS', 'schedule', 'makers', 'We', 'shoot', 'production', 'team', 'Sethupathi', 'Rani', 'addition', 'Arya', 'that', 'PS:2', 'sources', 'soundtrack', 'Lyca', 'Nambi', 'Vijay'}\n",
            "'Dobj': {'friend', nan, 'hair', 'displeasure', 'news', 'attention', 'inclusion', 'the', 'Thailand', 'objections', 'interest', 'Karikalan', 'unthinkable', 'version', 'Vandiyedavan', 'rights', 'something', 'locations', 'ring', 'material', 'it', 'days', 'past', 'attendance', 'I', 'orphan', 'reply', 'classic', 'conspiracy', 'Sarathkumar', 'project', 'actors', 'gross', 'aspect', 'fans', 'Veerapandiyan', 'glory', 'Vandiyadevan', 'sculptures', 'narrative', 'collection', 'Mahinda', 'uncle', 'patchwork', 'role', 'steam', 'dream', 'lyrics', 'fortress', 'portions', 'flavour', 'way', 'cast', 'monopoly', 'direction', 'treatment', 'Vikram', 'one', 'decision', 'them', 'horses', 'event', 'wizardry', 'parts', 'crews', 'roles', 'high', 'Nandini', 'average', 'message', 'release', 'name', 'film', 'Chozhar', 'Lanka', 'permission', 'no.1', 'expectations', 'plenty', 'sister', 'accident', 'tour', 'storytelling', 'Selvan', 'sequences', 'Shetty', 'intrigue', 'care', 'animals', 'him', 'picture', 'life', 'screenplay', 'eye', 'war', '3', 'touch', 'shooting', 'Trisha', 'lawsuit', 'films', '4', 'Pazhuvettaraiyar', 'Talkies', 'scenes', 'story', 'novel', 'months', 'acclaim', 'meetings', 'process', 'adulation', 'Cyril', 'injuries', 'threat', 'messages', 'filming', 'convoy', 'Jyothika', 'delight', 'place', 'experience', 'effort', 'versions', 'himself', 'script', 'portion', 'essence', 'weavers', 'review', 'part', 'nominations', 'excuse', 'whom', 'Sivan', 'this', 'feel', 'discussions', 'us', 'plan', 'schedule', 'records', 'crore', 'years', 'conquests', 'shoot', 'you', 'best', 'sense', 'vengeance', 'throne', 'look', 'soldiers', 'movie', 'feelings', 'battle', 'sets', 'praise', 'that', 'horse', 'members', 'heritage', 'Nambi', 'her', 'Vijay'}\n",
            "'ent_type': {nan, 'WORK_OF_ART', 'DATE', 'FAC', 'PERSON', 'CARDINAL', 'MONEY', 'ORDINAL', 'ORG', 'LOC', 'GPE', 'PRODUCT', 'NORP'}\n",
            "'ent_token': {nan, 'August', 'September 2021', 'Composer A. R. Rahman', 'Canadian', 'first', 'One', 'Tamil', 'Kalki', 'the late 1980s', 'Vivek M', '3 February 2021', 'Ravi Varman', 'March', 'Amazon Prime Video', 'Bharathi Pradhan', '3.5', 'Mani Ratnam', 'The Andhra Pradesh', 'Vandiyedavan', 'January 2019', 'Soumyabrata Gupta of Zoom', 'second', 'June 2019', 'Promotional', 'Ramachandran', 'Devesh Sharma', 'Canada', \"Pandya Aabuthudavigal 's\", 'The Son of Ponni', 'Hyderabad', 'Santhosh Sivan', 'Varman', \"Movie Herald 's Felix\", 'Azhwarkadiyan Nambi', 'Lal', 'March 2022', 'Sarathkumar', 'Anupama Subramanian', 'netizens', 'mid - June 2022', 'Vandiyadevan', 'more than ₹ 500', 'Ritika Handoo', 'summer', 'Sun TV', 'two', 'Hans', 'Aishwarya Rai', 'its third day', 'Kirubhakar Purushothaman', 'Tamil Nadu', 'Jayam Ravi', 'North Indian', 'The next day', 'January 2021', 'Khushboo Gupta', 'Chennai', 'Vikram', 'Kundavai', '4 September 2021', 'late 2010', 'six', 'Hindi', 'Oomai Rani', 'Rotten Tomatoes', 'Filmfare', 'Sathyaraj', '1958', 'nine - month', 'Kamal Haasan', 'PS 1', 'Thota Tharani', 'Theri', 'Saibal Chatterjee', 'September 2020', 'Nandini', 'Seven days', \"Ravi Varman 's\", 'Raja Mahinda', 'R. Parthiban', 'Kerala', 'Haricharan Pudipeddi', '17 September 2022', 'Sudhir Srinivasan', 'India', 'Chinna Pazhuvettaraiyar', 'Ponniyin Selvan', 'Lanka', '30 September 2022', 'October 2019', 'January 2020', 'Karthi', 'July 2021', 'Sukanya Verma', 'Mahesh Babu', 'September 2019', '18 September', 'Aditha Karikalan', 'April 2019', 'mid - June 2021', '8 July 2022', 'third', \"AR Rahman 's\", 'Trisha', '4', 'Ratnam', 'Srinivasa Ramanujam', \"Ponniyin Selvan 's\", 'Pollachi', 'Rajinikanth', 'Jyothika', 'Jeyamohan', 'Anushka Shetty', 'Thotta Tharani', 'The Times of India', '10 December 2020', 'Composer Ilaiyaraaja', 'A. R. Rahman', 'The Free Press Journal', 'March 2020', 'Aishwarya Rai Bachchan', 'Actress Amala Paul', 'Poonguzhali', 'S. Shankar', 'TentKotta', 'Maheshwar', 'Ilango Krishnan', 'the People for the Ethical Treatment of Animals', 'Eka Lakhani', 'Kanchi', 'mid - November', 'Mysore Palace', 'Rajaraja', \"Mani Ratnam 's\", 'years', 'Siva Ananth', 'North India', 'The News Minute', 'over ₹ 500', 'Amala Paul', 'Decades later', '10th century', 'late - August 2021', 'Sonil Dedhia', '11 December 2019', 'Nambi', 'Vijay'}\n"
          ]
        }
      ]
    },
    {
      "cell_type": "code",
      "source": [
        "total_df"
      ],
      "metadata": {
        "colab": {
          "base_uri": "https://localhost:8080/",
          "height": 424
        },
        "id": "fhnKO5NUd0xm",
        "outputId": "ab00dcbc-5ee1-4616-91c1-e2170a98ad1c"
      },
      "execution_count": null,
      "outputs": [
        {
          "output_type": "execute_result",
          "data": {
            "text/plain": [
              "    root_verb      Nsubj    Dobj     ent_type         ent_token\n",
              "0       learn      Pages  Selvan          ORG   Ponniyin Selvan\n",
              "1          is        Son       I  WORK_OF_ART  The Son of Ponni\n",
              "2          is        who      it      PRODUCT            Ratnam\n",
              "3       stars         it    cast          ORG            Vikram\n",
              "4    composed       film    life       PERSON      A. R. Rahman\n",
              "..        ...        ...     ...          ...               ...\n",
              "322       NaN  Ramanujam     NaN          NaN               NaN\n",
              "323       NaN      story     NaN          NaN               NaN\n",
              "324       NaN     Ratnam     NaN          NaN               NaN\n",
              "325       NaN     Ratnam     NaN          NaN               NaN\n",
              "326       NaN       PS:2     NaN          NaN               NaN\n",
              "\n",
              "[327 rows x 5 columns]"
            ],
            "text/html": [
              "\n",
              "  <div id=\"df-07c9c878-a4da-47db-b17b-50c6eb5e5db5\">\n",
              "    <div class=\"colab-df-container\">\n",
              "      <div>\n",
              "<style scoped>\n",
              "    .dataframe tbody tr th:only-of-type {\n",
              "        vertical-align: middle;\n",
              "    }\n",
              "\n",
              "    .dataframe tbody tr th {\n",
              "        vertical-align: top;\n",
              "    }\n",
              "\n",
              "    .dataframe thead th {\n",
              "        text-align: right;\n",
              "    }\n",
              "</style>\n",
              "<table border=\"1\" class=\"dataframe\">\n",
              "  <thead>\n",
              "    <tr style=\"text-align: right;\">\n",
              "      <th></th>\n",
              "      <th>root_verb</th>\n",
              "      <th>Nsubj</th>\n",
              "      <th>Dobj</th>\n",
              "      <th>ent_type</th>\n",
              "      <th>ent_token</th>\n",
              "    </tr>\n",
              "  </thead>\n",
              "  <tbody>\n",
              "    <tr>\n",
              "      <th>0</th>\n",
              "      <td>learn</td>\n",
              "      <td>Pages</td>\n",
              "      <td>Selvan</td>\n",
              "      <td>ORG</td>\n",
              "      <td>Ponniyin Selvan</td>\n",
              "    </tr>\n",
              "    <tr>\n",
              "      <th>1</th>\n",
              "      <td>is</td>\n",
              "      <td>Son</td>\n",
              "      <td>I</td>\n",
              "      <td>WORK_OF_ART</td>\n",
              "      <td>The Son of Ponni</td>\n",
              "    </tr>\n",
              "    <tr>\n",
              "      <th>2</th>\n",
              "      <td>is</td>\n",
              "      <td>who</td>\n",
              "      <td>it</td>\n",
              "      <td>PRODUCT</td>\n",
              "      <td>Ratnam</td>\n",
              "    </tr>\n",
              "    <tr>\n",
              "      <th>3</th>\n",
              "      <td>stars</td>\n",
              "      <td>it</td>\n",
              "      <td>cast</td>\n",
              "      <td>ORG</td>\n",
              "      <td>Vikram</td>\n",
              "    </tr>\n",
              "    <tr>\n",
              "      <th>4</th>\n",
              "      <td>composed</td>\n",
              "      <td>film</td>\n",
              "      <td>life</td>\n",
              "      <td>PERSON</td>\n",
              "      <td>A. R. Rahman</td>\n",
              "    </tr>\n",
              "    <tr>\n",
              "      <th>...</th>\n",
              "      <td>...</td>\n",
              "      <td>...</td>\n",
              "      <td>...</td>\n",
              "      <td>...</td>\n",
              "      <td>...</td>\n",
              "    </tr>\n",
              "    <tr>\n",
              "      <th>322</th>\n",
              "      <td>NaN</td>\n",
              "      <td>Ramanujam</td>\n",
              "      <td>NaN</td>\n",
              "      <td>NaN</td>\n",
              "      <td>NaN</td>\n",
              "    </tr>\n",
              "    <tr>\n",
              "      <th>323</th>\n",
              "      <td>NaN</td>\n",
              "      <td>story</td>\n",
              "      <td>NaN</td>\n",
              "      <td>NaN</td>\n",
              "      <td>NaN</td>\n",
              "    </tr>\n",
              "    <tr>\n",
              "      <th>324</th>\n",
              "      <td>NaN</td>\n",
              "      <td>Ratnam</td>\n",
              "      <td>NaN</td>\n",
              "      <td>NaN</td>\n",
              "      <td>NaN</td>\n",
              "    </tr>\n",
              "    <tr>\n",
              "      <th>325</th>\n",
              "      <td>NaN</td>\n",
              "      <td>Ratnam</td>\n",
              "      <td>NaN</td>\n",
              "      <td>NaN</td>\n",
              "      <td>NaN</td>\n",
              "    </tr>\n",
              "    <tr>\n",
              "      <th>326</th>\n",
              "      <td>NaN</td>\n",
              "      <td>PS:2</td>\n",
              "      <td>NaN</td>\n",
              "      <td>NaN</td>\n",
              "      <td>NaN</td>\n",
              "    </tr>\n",
              "  </tbody>\n",
              "</table>\n",
              "<p>327 rows × 5 columns</p>\n",
              "</div>\n",
              "      <button class=\"colab-df-convert\" onclick=\"convertToInteractive('df-07c9c878-a4da-47db-b17b-50c6eb5e5db5')\"\n",
              "              title=\"Convert this dataframe to an interactive table.\"\n",
              "              style=\"display:none;\">\n",
              "        \n",
              "  <svg xmlns=\"http://www.w3.org/2000/svg\" height=\"24px\"viewBox=\"0 0 24 24\"\n",
              "       width=\"24px\">\n",
              "    <path d=\"M0 0h24v24H0V0z\" fill=\"none\"/>\n",
              "    <path d=\"M18.56 5.44l.94 2.06.94-2.06 2.06-.94-2.06-.94-.94-2.06-.94 2.06-2.06.94zm-11 1L8.5 8.5l.94-2.06 2.06-.94-2.06-.94L8.5 2.5l-.94 2.06-2.06.94zm10 10l.94 2.06.94-2.06 2.06-.94-2.06-.94-.94-2.06-.94 2.06-2.06.94z\"/><path d=\"M17.41 7.96l-1.37-1.37c-.4-.4-.92-.59-1.43-.59-.52 0-1.04.2-1.43.59L10.3 9.45l-7.72 7.72c-.78.78-.78 2.05 0 2.83L4 21.41c.39.39.9.59 1.41.59.51 0 1.02-.2 1.41-.59l7.78-7.78 2.81-2.81c.8-.78.8-2.07 0-2.86zM5.41 20L4 18.59l7.72-7.72 1.47 1.35L5.41 20z\"/>\n",
              "  </svg>\n",
              "      </button>\n",
              "      \n",
              "  <style>\n",
              "    .colab-df-container {\n",
              "      display:flex;\n",
              "      flex-wrap:wrap;\n",
              "      gap: 12px;\n",
              "    }\n",
              "\n",
              "    .colab-df-convert {\n",
              "      background-color: #E8F0FE;\n",
              "      border: none;\n",
              "      border-radius: 50%;\n",
              "      cursor: pointer;\n",
              "      display: none;\n",
              "      fill: #1967D2;\n",
              "      height: 32px;\n",
              "      padding: 0 0 0 0;\n",
              "      width: 32px;\n",
              "    }\n",
              "\n",
              "    .colab-df-convert:hover {\n",
              "      background-color: #E2EBFA;\n",
              "      box-shadow: 0px 1px 2px rgba(60, 64, 67, 0.3), 0px 1px 3px 1px rgba(60, 64, 67, 0.15);\n",
              "      fill: #174EA6;\n",
              "    }\n",
              "\n",
              "    [theme=dark] .colab-df-convert {\n",
              "      background-color: #3B4455;\n",
              "      fill: #D2E3FC;\n",
              "    }\n",
              "\n",
              "    [theme=dark] .colab-df-convert:hover {\n",
              "      background-color: #434B5C;\n",
              "      box-shadow: 0px 1px 3px 1px rgba(0, 0, 0, 0.15);\n",
              "      filter: drop-shadow(0px 1px 2px rgba(0, 0, 0, 0.3));\n",
              "      fill: #FFFFFF;\n",
              "    }\n",
              "  </style>\n",
              "\n",
              "      <script>\n",
              "        const buttonEl =\n",
              "          document.querySelector('#df-07c9c878-a4da-47db-b17b-50c6eb5e5db5 button.colab-df-convert');\n",
              "        buttonEl.style.display =\n",
              "          google.colab.kernel.accessAllowed ? 'block' : 'none';\n",
              "\n",
              "        async function convertToInteractive(key) {\n",
              "          const element = document.querySelector('#df-07c9c878-a4da-47db-b17b-50c6eb5e5db5');\n",
              "          const dataTable =\n",
              "            await google.colab.kernel.invokeFunction('convertToInteractive',\n",
              "                                                     [key], {});\n",
              "          if (!dataTable) return;\n",
              "\n",
              "          const docLinkHtml = 'Like what you see? Visit the ' +\n",
              "            '<a target=\"_blank\" href=https://colab.research.google.com/notebooks/data_table.ipynb>data table notebook</a>'\n",
              "            + ' to learn more about interactive tables.';\n",
              "          element.innerHTML = '';\n",
              "          dataTable['output_type'] = 'display_data';\n",
              "          await google.colab.output.renderOutput(dataTable, element);\n",
              "          const docLink = document.createElement('div');\n",
              "          docLink.innerHTML = docLinkHtml;\n",
              "          element.appendChild(docLink);\n",
              "        }\n",
              "      </script>\n",
              "    </div>\n",
              "  </div>\n",
              "  "
            ]
          },
          "metadata": {},
          "execution_count": 193
        }
      ]
    },
    {
      "cell_type": "markdown",
      "source": [
        "Conclusion :\n",
        "\n",
        "The two articles differed greatly in token length. \n",
        "While the first article was about a person and the second article was about a movie, I could see many differing Named Entity Recognition when using spacy. I identified lot more \"ORG\" NER in the second article.\n",
        "The root verbs and nominal subjects differ greatly to their respective contexts. While the first article referred to the person in the nominal subject a lot, the second article had different nominal subjects according to the movie plot. Direct objects too relateed to a lot of the casts and movie plot in the second article. \n",
        "\n",
        "While looking at the pandas dataframe, we can get a clear idea that the first one is about a person, and the second involves a movie plot. Using this dataframe, we can create sparse matrix using one hot encoding. Since we have the different named entities, and the relationship between them, we can group semantically similar words together. \n",
        "This can then be used to do further topic modelling or clustering to do more NLP tasks like summarisation, sentiment analysis, etc.\n"
      ],
      "metadata": {
        "id": "SPy3kdRNSeUC"
      }
    },
    {
      "cell_type": "markdown",
      "source": [
        "Don't forget to put in a concluding paragraph with your observations comparing the two articles."
      ],
      "metadata": {
        "id": "Wx_kzT_R3aie"
      }
    }
  ]
}