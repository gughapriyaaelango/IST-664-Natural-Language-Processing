{
  "nbformat": 4,
  "nbformat_minor": 0,
  "metadata": {
    "colab": {
      "provenance": []
    },
    "kernelspec": {
      "name": "python3",
      "display_name": "Python 3"
    },
    "language_info": {
      "name": "python"
    }
  },
  "cells": [
    {
      "cell_type": "markdown",
      "source": [
        "##IST664/CIS668 - Homework 2 (assigned in Week 4)\n",
        "\n",
        "Originality assertion: All of the text and comments in this file are my original work (except for template items written by the instructor). All of the code in this file is my work, except where I give credit to another source. By adding my name below, I affirm this originality assertion.\n",
        "\n",
        "##My name: _________ #\n",
        "\n",
        "\n",
        "Note to students: You may freely use code from the labs for this class without the need for attributions. "
      ],
      "metadata": {
        "id": "UBy_JaSAGpux"
      }
    },
    {
      "cell_type": "markdown",
      "source": [
        "**Task 1: Use Beautiful Soup**"
      ],
      "metadata": {
        "id": "E-5bH_hGrh87"
      }
    },
    {
      "cell_type": "code",
      "source": [
        "# Import Beautiful Soup for its web scraping capabilities\n",
        "import bs4 as bs\n",
        "import urllib.request # For retrieving from web pages\n",
        "import re # Regular expressions\n",
        "import spacy"
      ],
      "metadata": {
        "id": "59PlhSnpfyBz"
      },
      "execution_count": null,
      "outputs": []
    },
    {
      "cell_type": "code",
      "source": [
        "# Change this URL to a Wikipedia article of your choice\n",
        "wiki_url_1 = 'https://en.wikipedia.org/wiki/Jeff_Beck'\n",
        "\n",
        "scraped_data = urllib.request.urlopen(wiki_url_1)\n",
        "\n",
        "type(scraped_data) # A response object for a web page\n"
      ],
      "metadata": {
        "id": "UE-rzMPPgU7g"
      },
      "execution_count": null,
      "outputs": []
    },
    {
      "cell_type": "code",
      "source": [
        "# Now extract the text from the article and organize into paragraphs\n",
        "article = scraped_data.read() # Extract the data from the response object\n",
        "\n",
        "parsed_article = bs.BeautifulSoup(article,'lxml') # Use lxml as the back end parser\n",
        "\n",
        "paragraphs = parsed_article.find_all('p')\n",
        "\n",
        "article_text = \"\"\n",
        "\n",
        "for p in paragraphs:\n",
        "    article_text += p.text\n",
        "\n",
        "len(article_text)"
      ],
      "metadata": {
        "id": "0qYFJ9H6ghJ2"
      },
      "execution_count": null,
      "outputs": []
    },
    {
      "cell_type": "markdown",
      "source": [
        "**Task 2: Use RegEx to remove Wikipedia References and Extra Space**"
      ],
      "metadata": {
        "id": "8QLzQzoprosC"
      }
    },
    {
      "cell_type": "code",
      "source": [
        "# Put your code for task 2 here"
      ],
      "metadata": {
        "id": "Asq8U8utrewp"
      },
      "execution_count": null,
      "outputs": []
    },
    {
      "cell_type": "markdown",
      "source": [
        "**Task 3: Tokenize with spaCy**"
      ],
      "metadata": {
        "id": "RThJS8kysDxs"
      }
    },
    {
      "cell_type": "code",
      "source": [
        "from spacy import displacy\n",
        "\n",
        "nlp = spacy.load(\"en_core_web_sm\")\n",
        "\n",
        "my_article = nlp(article_text)\n",
        "\n",
        "len(my_article) # Length in tokens"
      ],
      "metadata": {
        "id": "veH-mI2uhoBe"
      },
      "execution_count": null,
      "outputs": []
    },
    {
      "cell_type": "code",
      "source": [
        "# Here's one way to work with individual sentences:\n",
        "my_spans = list(my_article.sents)\n",
        "\n",
        "my_spans[1] # Let's view just the first sentence"
      ],
      "metadata": {
        "id": "xOgtdrMbjXF3"
      },
      "execution_count": null,
      "outputs": []
    },
    {
      "cell_type": "markdown",
      "source": [
        "**Task 4: Use displaCy to show named entities for an early sentence**"
      ],
      "metadata": {
        "id": "bMaeWB7GsNrB"
      }
    },
    {
      "cell_type": "code",
      "source": [
        "# Put your code for task 4 here"
      ],
      "metadata": {
        "id": "G6a--F6EsXNo"
      },
      "execution_count": null,
      "outputs": []
    },
    {
      "cell_type": "markdown",
      "source": [
        "For the following tasks, create a pandas dataframe and store each disovered token in an appropriately-named column.\n",
        "\n",
        "**Task 5: Find the Root Verbs for each span**\n",
        "\n",
        "Make a sentence by sentence list of all of the root verbs."
      ],
      "metadata": {
        "id": "xXRenemVsgXe"
      }
    },
    {
      "cell_type": "code",
      "source": [
        "my_spans[1].root # The span object has an attribute that points to the root token"
      ],
      "metadata": {
        "id": "C30DWtsJlnl6"
      },
      "execution_count": null,
      "outputs": []
    },
    {
      "cell_type": "markdown",
      "source": [
        "**Task 6: Find the Subjects of Each Span**\n",
        "\n",
        "Put a column in your pandas dataframe and fill it with the subjects from each span."
      ],
      "metadata": {
        "id": "qe6YjDHgue92"
      }
    },
    {
      "cell_type": "code",
      "source": [
        "# Here's one simple way to find the subject of a sentence\n",
        "for tok in my_spans[1]:\n",
        "  if tok.dep_ == \"nsubj\":\n",
        "    print(tok)"
      ],
      "metadata": {
        "id": "NBV00QBrt_ho"
      },
      "execution_count": null,
      "outputs": []
    },
    {
      "cell_type": "markdown",
      "source": [
        "**Task 7: Find the Direct Objects of Each Span**\n",
        "\n",
        "Put a column in your pandas dataframe and fill it with the direct objects from each span."
      ],
      "metadata": {
        "id": "lbcLn8S_yzD0"
      }
    },
    {
      "cell_type": "code",
      "source": [
        "for tok in my_spans[1]:\n",
        "  if tok.dep_ == \"dobj\":\n",
        "    print(tok)"
      ],
      "metadata": {
        "id": "u4bzZeqExrUs"
      },
      "execution_count": null,
      "outputs": []
    },
    {
      "cell_type": "markdown",
      "source": [
        "**Task 8: Find the first Named Entity (if any) from Each Span**\n",
        "\n",
        "Put two columns in your pandas dataframe. Find the first named entity in a span (if any) and record the ent_type_ and the corresponding token in those two columns. "
      ],
      "metadata": {
        "id": "fZv0ySyIzbeu"
      }
    },
    {
      "cell_type": "code",
      "source": [
        "for tok in my_spans[1]:\n",
        "  if len(tok.ent_type_) > 0:\n",
        "    print(tok.ent_type_, tok)"
      ],
      "metadata": {
        "id": "bsoag1zizmVR"
      },
      "execution_count": null,
      "outputs": []
    },
    {
      "cell_type": "markdown",
      "source": [
        "**Task 9: Show the shape of your data frame**"
      ],
      "metadata": {
        "id": "8K0V9mxQ2kXw"
      }
    },
    {
      "cell_type": "code",
      "source": [
        "# Add code to show the shape of your data frame"
      ],
      "metadata": {
        "id": "EnhgSJjz23kF"
      },
      "execution_count": null,
      "outputs": []
    },
    {
      "cell_type": "markdown",
      "source": [
        "**Task 10: Show the unique set of elements from each column in the data frame**"
      ],
      "metadata": {
        "id": "uEjXykYi26TG"
      }
    },
    {
      "cell_type": "code",
      "source": [
        "# Use set() on the data in each column to show the list of unique elements"
      ],
      "metadata": {
        "id": "DIzQ-Vi13E2R"
      },
      "execution_count": null,
      "outputs": []
    },
    {
      "cell_type": "markdown",
      "source": [
        "**Task 11: Show your data frame**"
      ],
      "metadata": {
        "id": "xyyjJ-3K3OML"
      }
    },
    {
      "cell_type": "code",
      "source": [
        "# Type the name of your data frame on a line by itself to display it"
      ],
      "metadata": {
        "id": "tKLzB2q93R1c"
      },
      "execution_count": null,
      "outputs": []
    },
    {
      "cell_type": "markdown",
      "source": [
        "Don't forget to also process your second article in the same fashion as you did for the first one. "
      ],
      "metadata": {
        "id": "ktxbt8_fxyB5"
      }
    },
    {
      "cell_type": "code",
      "source": [
        "# Code for processing the second article starts here"
      ],
      "metadata": {
        "id": "zOTJFJ_n3aIG"
      },
      "execution_count": null,
      "outputs": []
    },
    {
      "cell_type": "markdown",
      "source": [
        "Don't forget to put in a concluding paragraph with your observations comparing the two articles."
      ],
      "metadata": {
        "id": "Wx_kzT_R3aie"
      }
    }
  ]
}